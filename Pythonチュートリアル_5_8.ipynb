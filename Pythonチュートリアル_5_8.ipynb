{
 "cells": [
  {
   "cell_type": "markdown",
   "metadata": {
    "deletable": false,
    "editable": false,
    "run_control": {
     "frozen": true
    }
   },
   "source": [
    "# <span style=\"color: blue; \">Python チュートリアル</span>  \n",
    "  \n",
    "このテキストは、[Pythonチュートリアル(3.9.1)のHP](https://docs.python.org/ja/3.9/tutorial/index.html)をjupyter Notebookで学習できるように編集したものです。 \n",
    "  \n",
    "2021年2月現在、最新のPythonのバージョンは3.9.1になります。  \n",
    "    　　　　本書で記載の範囲であれば3.8以下でも基本的に差はありません（差分がある場合は極力補足しています）。\n",
    "  \n",
    "操作に対する補足  \n",
    "1. テキスト部分は「↓」ボタンでスクロール、各コマンドラインは「shift」+「retutn」キーで順番に実行してください。   \n",
    "2. テキスト画面を編集で開いた場合は「shift]+「retutn」で閉じてください。  \n",
    "3. 誤ってテキストを編集した場合は、「Ctrl」+「z」で取り消すことができます。  \n",
    "4. 途中自分でいろいろ試したい場合は、メニューバーにある「Insert（挿入）」から、「Insert Cell Above(上にセルを挿入）」、または「Insert Cell Below(下にセルを挿入）」してください。挿入したセルは、メニューバーにある「Edit（編集）」- 「Delete Cell（セルを削除）」で削除することができます</span>\n",
    "\n",
    "  \n",
    "【免責事項】\n",
    "  \n",
    "1. 本ソフトウェア（及びその複写物）を使用することで生じるリスクは、利用者が負うものとします。NPO法人AI開発推進協会（以下「本法人」といいます）では、明示的な瑕疵担保責任または保証を一切行いません。\n",
    "2. 本法人は、利用者に対し、本ソフトウェア（及びその複写物）に関して、その動作、商品性、特定用途への適合性その他一切の保証を行いません。\n",
    "3. 本法人は、利用者及び第三者が本ソフトウェアに関連して直接又は間接的に被ったいかなる損害についても、一切の責任を負いません。利用者は、本ソフトウェアの使用に関して第三者からされた請求に関する損害、損失あるいは責任より本法人を免責するものとします。  \n",
    "  \n",
    "©️ 2021 NPO法人AI開発推進協会  \n",
    "This software is released under the MIT License. http://opensource.org/licenses/mit-license.php  \n",
    "  \n",
    "***  \n",
    "Python は強力で、学びやすいプログラミング言語です。効率的な高レベルデータ構造と、シンプルで効果的なオブジェクト指向プログラミング機構を備えています。 Python は、洗練された文法・動的なデータ型付け・インタープリタであることなどから、スクリプティングや高速アプリケーション開発(Rapid Application Development: RAD)に理想的なプログラミング言語となっています。\n",
    "\n",
    "[Python Web サイト](https://www.python.org) は、 Python インタープリタと標準ライブラリのソースコードと、主要プラットフォームごとにコンパイル済みのバイナリファイルを無料で配布しています。また、Python Web サイトには、無料のサードパーティモジュールやプログラム、ツール、ドキュメントなども紹介しています。\n",
    "\n",
    "Python インタプリタは、簡単に C/C++ 言語などで実装された関数やデータ型を組み込み、拡張できます。また、アプリケーションのカスタマイズを行う、拡張言語としても適しています。\n",
    "\n",
    "このチュートリアルは、Python 言語の基本的な概念と機能を、形式ばらずに紹介します。読むだけではなく、Pythonインタープリタで実際にサンプルを実行すると理解が深まりますが、サンプルはそれぞれ独立していますので、ただ読むだけでも良いでしょう。\n",
    "\n",
    "標準オブジェクトやモジュールの詳細は、[Python 標準ライブラリ](https://docs.python.org/ja/3.9/library/index.html#library-index) を参照してください。 また、正式な言語定義は、 [Python 言語リファレンス](https://docs.python.org/ja/3.9/reference/index.html#reference-index) にあります。 C 言語や C++ 言語で拡張モジュールを書くなら、 [Python インタプリタの拡張と埋め込み](https://docs.python.org/ja/3.9/extending/index.html#extending-index) や [Python/C API リファレンスマニュアル](https://docs.python.org/ja/3.9/c-api/index.html#c-api-index) を参照してください。Python の解説書も販売されています。\n",
    "\n",
    "<span style=\"color: red; \">このチュートリアルは、Python全体を対象とした、包括的な解説書ではありません。よく使われる機能に限っても、全ては紹介していません。その代わり、このチュートリアルでは、Pythonのもっとも特徴的な機能を中心に紹介して、この言語の持ち味や、スタイルを感じられるようにしています。このチュートリアルを読み終えると、Python のモジュールやプログラムを読み書きできるようになっているでしょう</span>。また、[Python 標準ライブラリ](https://docs.python.org/ja/3.9/library/index.html#library-index) のさまざまな Python ライブラリモジュールを、詳しく調べられるようになっているはずです。\n",
    "  \n",
    "[<span style=\"color: red; \">用語集</span>](https://docs.python.org/ja/3.9/glossary.html#glossary) にも目を通しておくと良いでしょう。"
   ]
  },
  {
   "cell_type": "markdown",
   "metadata": {
    "deletable": false,
    "editable": false,
    "run_control": {
     "frozen": true
    }
   },
   "source": [
    "# 目次\n",
    "公式のチュートリアルを下記の構成に分けて学習できるようにしています。   \n",
    "本プログラムでは下記の5～8章を対象にしています。  \n",
    "  \n",
    "<span style=\"color: gray; \">**1.やる気を高めよう**  \n",
    "**2.Pythonインタプリタを使う** \n",
    "**3.形式ばらない Python の紹介** \n",
    "**4.その他の制御フローツール**</span>    \n",
    "***\n",
    "**5.[データ構造](#anchor5)**  \n",
    "**6.[モジュール](#anchor6)**  \n",
    "**7.[入力と出力](#anchor7)**  \n",
    "**8.[エラーと例外](#anchor8)**  \n",
    "***\n",
    "<span style=\"color: gray; \">**9.クラス**  \n",
    "**10.標準ライブラリミニツアー**  \n",
    "**11.標準ライブラリミニツアー --- その 2**  \n",
    "**12.仮想環境とパッケージ**  \n",
    "**13.さあ何を？**  \n",
    "**14.対話入力編集と履歴置換**  \n",
    "**15.浮動小数点演算、その問題と制限**  \n",
    "**16.付録**  </span>"
   ]
  },
  {
   "cell_type": "markdown",
   "metadata": {
    "deletable": false,
    "editable": false,
    "run_control": {
     "frozen": true
    }
   },
   "source": [
    "# <span style=\"color: blue; \">5. データ構造<a id='anchor5'></span>\n",
    "この章では、すでに学んだことについてより詳しく説明するとともに、いくつか新しいことを追加します。  \n",
    "\n",
    "## <span style=\"color: blue; \">5.1. リスト型についてもう少し</span>  \n",
    "   <span style=\"color: red; \">リストデータ型には、他にもいくつかメソッドがあります</span>。リストオブジェクトのすべてのメソッドを以下に示します:  \n",
    "  \n",
    "list.**append**(x)  \n",
    "リストの末尾に要素を一つ追加します。`a[len(a):] = [x]` と等価です。  \n",
    "  \n",
    "list.**extend**(iterable)  \n",
    "イテラブルのすべての要素を対象のリストに追加し、リストを拡張します。`a[len(a):] = iterable` と等価です。  \n",
    "  \n",
    "list.**insert**(i, x)  \n",
    "指定した位置に要素を挿入します。第 1 引数は、リストのインデクスで、そのインデクスを持つ要素の直前に挿入が行われます。従って、 `a.insert(0, x)` はリストの先頭に挿入を行います。また `a.insert(len(a), x)` は `a.append(x)` と等価です。  \n",
    "  \n",
    "list.**remove**(x)  \n",
    "リスト中で x と等しい値を持つ最初の要素を削除します。該当する要素がなければ [ValueError](https://docs.python.org/ja/3.9/library/exceptions.html#ValueError) が送出されます。  \n",
    "  \n",
    "list.**pop**([i])  \n",
    "リスト中の指定された位置にある要素をリストから削除して、その要素を返します。インデクスが指定されなければ、 `a.pop()` はリストの末尾の要素を削除して返します。この場合も要素は削除されます。 (メソッドの用法 (signature) で i の両側にある角括弧は、この引数がオプションであることを表しているだけなので、角括弧を入力する必要はありません。この表記法は Python Library Reference の中で頻繁に見ることになるでしょう。)  \n",
    "  \n",
    "list.**clear**()  \n",
    "リスト中の全ての要素を削除します。`del a[:]` と等価です。  \n",
    "  \n",
    "list.**index**(x[, start[, end]])  \n",
    "リスト中で x と等しい値を持つ最初の要素の位置をゼロから始まる添字で返します。 該当する要素がなければ [ValueError](https://docs.python.org/ja/3.9/library/exceptions.html#ValueError) が送出されます。  \n",
    "  \n",
    "任意の引数である start と end はスライス記法として解釈され、リストの探索範囲を指定できます。返される添字は、start 引数からの相対位置ではなく、リスト全体の先頭からの位置になります。  \n",
    "  \n",
    "list.**count**(x)  \n",
    "リストでの x の出現回数を返します。  \n",
    "  \n",
    "list.**sort**(*, key=None, reverse=False)  \n",
    "リストの項目を、インプレース演算 (in place、元のデータを演算結果で置き換えるやりかた) でソートします。引数はソート方法のカスタマイズに使えます。 [sorted()](https://docs.python.org/ja/3.9/library/functions.html#sorted) の説明を参照してください。  \n",
    "  \n",
    "list.**reverse**()  \n",
    "リストの要素を、インプレース演算で逆順にします。  \n",
    "  \n",
    "list.**copy**()  \n",
    "リストの浅い (shallow) コピーを返します。`a[:]` と等価です。  \n",
    "  \n",
    "以下にリストのメソッドをほぼ全て使った例を示します:  "
   ]
  },
  {
   "cell_type": "code",
   "execution_count": null,
   "metadata": {
    "deletable": false,
    "editable": false
   },
   "outputs": [],
   "source": [
    "fruits = ['orange', 'apple', 'pear', 'banana', 'kiwi', 'apple', 'banana']"
   ]
  },
  {
   "cell_type": "code",
   "execution_count": null,
   "metadata": {
    "deletable": false,
    "editable": false
   },
   "outputs": [],
   "source": [
    "fruits.count('apple')    # = 2"
   ]
  },
  {
   "cell_type": "code",
   "execution_count": null,
   "metadata": {
    "deletable": false,
    "editable": false
   },
   "outputs": [],
   "source": [
    "fruits.count('tangerine')  # = 0"
   ]
  },
  {
   "cell_type": "code",
   "execution_count": null,
   "metadata": {
    "deletable": false,
    "editable": false
   },
   "outputs": [],
   "source": [
    "fruits.index('banana')   # = 3"
   ]
  },
  {
   "cell_type": "code",
   "execution_count": null,
   "metadata": {
    "deletable": false,
    "editable": false
   },
   "outputs": [],
   "source": [
    "fruits.index('banana', 4)  # Find next banana starting a position 4, = 6fruits"
   ]
  },
  {
   "cell_type": "code",
   "execution_count": null,
   "metadata": {
    "deletable": false,
    "editable": false
   },
   "outputs": [],
   "source": [
    "fruits.reverse()          # このコマンドを実行する度に逆になります\n",
    "fruits"
   ]
  },
  {
   "cell_type": "code",
   "execution_count": null,
   "metadata": {
    "deletable": false,
    "editable": false
   },
   "outputs": [],
   "source": [
    "fruits.append('grape')\n",
    "fruits"
   ]
  },
  {
   "cell_type": "code",
   "execution_count": null,
   "metadata": {
    "deletable": false,
    "editable": false
   },
   "outputs": [],
   "source": [
    "fruits.sort()\n",
    "fruits"
   ]
  },
  {
   "cell_type": "code",
   "execution_count": null,
   "metadata": {
    "deletable": false,
    "editable": false
   },
   "outputs": [],
   "source": [
    "fruits.pop()"
   ]
  },
  {
   "cell_type": "markdown",
   "metadata": {
    "deletable": false,
    "editable": false,
    "run_control": {
     "frozen": true
    }
   },
   "source": [
    "insert, remove, sort などのリストを操作するメソッドの戻り値が表示されていないことに気が付いたかもしれません。これらのメソッドは None を返しています。[[1]](https://docs.python.org/ja/3.9/tutorial/datastructures.html#id2) これは Python の変更可能なデータ構造全てについての設計上の原則となっています。\n",
    "\n",
    "気がつくかもしれないもう一つのことは、すべてのデータをソートまたは比較できるわけではないということです。例えば、整数は文字列と比較できず、 None は他の型と比較できないため、 [None, 'hello', 10] はソートされません。また、定義された順序関係を持たないタイプもあります。たとえば、 `3+4j < 5+7j` は有効な比較ではありません。"
   ]
  },
  {
   "cell_type": "markdown",
   "metadata": {
    "deletable": false,
    "editable": false,
    "run_control": {
     "frozen": true
    }
   },
   "source": [
    "### <span style=\"color: blue; \">5.1.1. リストをスタックとして使う</span>\n",
    "<span style=\"color: red; \">リスト型のメソッドのおかげで、簡単にリストをスタックとして使えます</span>。スタックでは、最後に追加された要素が最初に取り出されます (\"last-in, first-out\")。スタックの一番上に要素を追加するには append() を使います。スタックの一番上から要素を取り出すには pop() をインデクスを指定せずに使います。例えば以下のようにします:"
   ]
  },
  {
   "cell_type": "code",
   "execution_count": null,
   "metadata": {
    "deletable": false,
    "editable": false
   },
   "outputs": [],
   "source": [
    "stack = [3, 4, 5]\n",
    "stack.append(6)\n",
    "stack.append(7)\n",
    "stack            # = [3, 4, 5, 6, 7]"
   ]
  },
  {
   "cell_type": "code",
   "execution_count": null,
   "metadata": {
    "deletable": false,
    "editable": false
   },
   "outputs": [],
   "source": [
    "stack.pop()"
   ]
  },
  {
   "cell_type": "code",
   "execution_count": null,
   "metadata": {
    "deletable": false,
    "editable": false
   },
   "outputs": [],
   "source": [
    "stack        # = [3, 4, 5, 6]     "
   ]
  },
  {
   "cell_type": "code",
   "execution_count": null,
   "metadata": {
    "deletable": false,
    "editable": false
   },
   "outputs": [],
   "source": [
    "stack.pop()  "
   ]
  },
  {
   "cell_type": "code",
   "execution_count": null,
   "metadata": {
    "deletable": false,
    "editable": false
   },
   "outputs": [],
   "source": [
    "stack        # = [3, 4, 5]     "
   ]
  },
  {
   "cell_type": "code",
   "execution_count": null,
   "metadata": {
    "deletable": false,
    "editable": false
   },
   "outputs": [],
   "source": [
    "stack.pop()"
   ]
  },
  {
   "cell_type": "code",
   "execution_count": null,
   "metadata": {
    "deletable": false,
    "editable": false
   },
   "outputs": [],
   "source": [
    "stack        # = [3, 4]    "
   ]
  },
  {
   "cell_type": "markdown",
   "metadata": {
    "deletable": false,
    "editable": false,
    "run_control": {
     "frozen": true
    }
   },
   "source": [
    "### <span style=\"color: blue; \">5.1.2. リストをキューとして使う</span>\n",
    "<span style=\"color: red; \">リストをキュー (queue) として使うことも可能です</span>。この場合、最初に追加した要素を最初に取り出します (\"first-in, first-out\")。しかし、リストでは効率的にこの目的を達成することが出来ません。追加（append）や取り出し（pop）をリストの末尾に対して行うと速いのですが、挿入（insert）や取り出し（pop）をリストの先頭に対して行うと遅くなってしまいます（他の要素をひとつずつずらす必要があるからです）。\n",
    "\n",
    "<span style=\"color: red; \">キューの実装には、 [<span style=\"color: red; \">collections.deque</span>](https://docs.python.org/ja/3.9/library/collections.html#collections.deque) を使うと良いでしょう</span>。このクラスは良く設計されていて、高速な追加（append）と取り出し（pop）を両端に対して実現しています。例えば以下のようにします:"
   ]
  },
  {
   "cell_type": "code",
   "execution_count": null,
   "metadata": {
    "deletable": false,
    "editable": false
   },
   "outputs": [],
   "source": [
    "from collections import deque\n",
    "queue = deque([\"Eric\", \"John\", \"Michael\"])\n",
    "queue.append(\"Terry\")           # Terry arrives\n",
    "queue.append(\"Graham\")          # Graham arrives\n",
    "queue.popleft()                 # The first to arrive now leaves, 'Eric'"
   ]
  },
  {
   "cell_type": "code",
   "execution_count": null,
   "metadata": {
    "deletable": false,
    "editable": false
   },
   "outputs": [],
   "source": [
    "queue.popleft() "
   ]
  },
  {
   "cell_type": "code",
   "execution_count": null,
   "metadata": {
    "deletable": false,
    "editable": false
   },
   "outputs": [],
   "source": [
    "queue "
   ]
  },
  {
   "cell_type": "markdown",
   "metadata": {
    "deletable": false,
    "editable": false,
    "run_control": {
     "frozen": true
    }
   },
   "source": [
    "### <span style=\"color: blue; \">5.1.3. リストの内包表記</span>\n",
    "<span style=\"color: red; \">リスト内包表記は</span>リストを生成する簡潔な手段を提供しています。主な利用場面は、<span style=\"color: red; \">あるシーケンスや iterable (イテレート可能オブジェクト) のそれぞれの要素に対してある操作を行った結果を要素にしたリストを作ったり、ある条件を満たす要素だけからなる部分シーケンスを作成することです</span>。\n",
    "\n",
    "例えば、次のような平方のリストを作りたいとします:"
   ]
  },
  {
   "cell_type": "code",
   "execution_count": null,
   "metadata": {
    "deletable": false,
    "editable": false
   },
   "outputs": [],
   "source": [
    "squares = []\n",
    "for x in range(10):\n",
    "    squares.append(x**2)\n",
    "squares       # = [0, 1, 4, 9, 16, 25, 36, 49, 64, 81]"
   ]
  },
  {
   "cell_type": "markdown",
   "metadata": {
    "deletable": false,
    "editable": false,
    "run_control": {
     "frozen": true
    }
   },
   "source": [
    "これはループが終了した後にも存在する x という名前の変数を作る (または上書きする) ことに注意してください。以下のようにして平方のリストをいかなる副作用もなく計算することができます:"
   ]
  },
  {
   "cell_type": "code",
   "execution_count": null,
   "metadata": {
    "deletable": false,
    "editable": false
   },
   "outputs": [],
   "source": [
    "squares = list(map(lambda x: x**2, range(10)))"
   ]
  },
  {
   "cell_type": "markdown",
   "metadata": {
    "deletable": false,
    "editable": false,
    "run_control": {
     "frozen": true
    }
   },
   "source": [
    "もしくは、以下でも同じです:"
   ]
  },
  {
   "cell_type": "code",
   "execution_count": null,
   "metadata": {
    "deletable": false,
    "editable": false
   },
   "outputs": [],
   "source": [
    "squares = [x**2 for x in range(10)]"
   ]
  },
  {
   "cell_type": "markdown",
   "metadata": {
    "deletable": false,
    "editable": false,
    "run_control": {
     "frozen": true
    }
   },
   "source": [
    "これはより簡潔で読みやすいです。\n",
    "\n",
    "リスト内包表記は、括弧の中の 式、 for 句、そして0個以上の for か if 句で構成されます。 リスト内包表記の実行結果は、 for と if 句のコンテキスト中で式を評価した結果からなる新しいリストです。 例えば、次のリスト内包表記は2つのリストの要素から、違うもの同士をペアにします。"
   ]
  },
  {
   "cell_type": "code",
   "execution_count": null,
   "metadata": {
    "deletable": false,
    "editable": false
   },
   "outputs": [],
   "source": [
    "[(x, y) for x in [1,2,3] for y in [3,1,4] if x != y]"
   ]
  },
  {
   "cell_type": "markdown",
   "metadata": {
    "deletable": false,
    "editable": false,
    "run_control": {
     "frozen": true
    }
   },
   "source": [
    "これは次のコードと等価です:"
   ]
  },
  {
   "cell_type": "code",
   "execution_count": null,
   "metadata": {
    "deletable": false,
    "editable": false
   },
   "outputs": [],
   "source": [
    "combs = []\n",
    "for x in [1,2,3]:\n",
    "    for y in [3,1,4]:\n",
    "        if x != y:\n",
    "            combs.append((x, y))\n",
    "\n",
    "combs"
   ]
  },
  {
   "cell_type": "markdown",
   "metadata": {
    "deletable": false,
    "editable": false,
    "run_control": {
     "frozen": true
    }
   },
   "source": [
    "[for](https://docs.python.org/ja/3.9/reference/compound_stmts.html#for) と [if](https://docs.python.org/ja/3.9/reference/compound_stmts.html#if) 文が両方のコードで同じ順序になっていることに注目してください。\n",
    "\n",
    "式がタプルの場合 (例: 上の例で式が (x, y) の場合) は、タプルに円括弧が必要です。"
   ]
  },
  {
   "cell_type": "code",
   "execution_count": null,
   "metadata": {
    "deletable": false,
    "editable": false
   },
   "outputs": [],
   "source": [
    "vec = [-4, -2, 0, 2, 4]\n",
    "# create a new list with the values doubled\n",
    "[x*2 for x in vec]      # [-8, -4, 0, 4, 8]"
   ]
  },
  {
   "cell_type": "code",
   "execution_count": null,
   "metadata": {
    "deletable": false,
    "editable": false
   },
   "outputs": [],
   "source": [
    "# filter the list to exclude negative numbers\n",
    "[x for x in vec if x >= 0]    # [0, 2, 4]"
   ]
  },
  {
   "cell_type": "code",
   "execution_count": null,
   "metadata": {
    "deletable": false,
    "editable": false
   },
   "outputs": [],
   "source": [
    "# apply a function to all the elements\n",
    "[abs(x) for x in vec]         # [4, 2, 0, 2, 4]"
   ]
  },
  {
   "cell_type": "code",
   "execution_count": null,
   "metadata": {
    "deletable": false,
    "editable": false
   },
   "outputs": [],
   "source": [
    "# call a method on each element\n",
    "freshfruit = ['  banana', '  loganberry ', 'passion fruit  ']\n",
    "[weapon.strip() for weapon in freshfruit]"
   ]
  },
  {
   "cell_type": "code",
   "execution_count": null,
   "metadata": {
    "deletable": false,
    "editable": false
   },
   "outputs": [],
   "source": [
    "# create a list of 2-tuples like (number, square)\n",
    "[(x, x**2) for x in range(6)]   # [(0, 0), (1, 1), (2, 4), (3, 9), (4, 16), (5, 25)]"
   ]
  },
  {
   "cell_type": "code",
   "execution_count": null,
   "metadata": {
    "deletable": false,
    "editable": false
   },
   "outputs": [],
   "source": [
    "# the tuple must be parenthesized, otherwise an error is raised\n",
    "[x, x**2 for x in range(6)]      #  SyntaxError"
   ]
  },
  {
   "cell_type": "code",
   "execution_count": null,
   "metadata": {
    "deletable": false,
    "editable": false
   },
   "outputs": [],
   "source": [
    "# flatten a list using a listcomp with two 'for'\n",
    "vec = [[1,2,3], [4,5,6], [7,8,9]]\n",
    "[num for elem in vec for num in elem]   # [1, 2, 3, 4, 5, 6, 7, 8, 9]"
   ]
  },
  {
   "cell_type": "markdown",
   "metadata": {
    "deletable": false,
    "editable": false,
    "run_control": {
     "frozen": true
    }
   },
   "source": [
    "リスト内包表記の式には、複雑な式や関数呼び出しのネストができます:"
   ]
  },
  {
   "cell_type": "code",
   "execution_count": null,
   "metadata": {
    "deletable": false,
    "editable": false
   },
   "outputs": [],
   "source": [
    "from math import pi\n",
    "[str(round(pi, i)) for i in range(1, 6)]  # ['3.1', '3.14', '3.142', '3.1416', '3.14159']"
   ]
  },
  {
   "cell_type": "markdown",
   "metadata": {
    "deletable": false,
    "editable": false,
    "run_control": {
     "frozen": true
    }
   },
   "source": [
    "### <span style=\"color: blue; \">5.1.4. ネストしたリストの内包表記</span>\n",
    "リスト内包表記中の最初の式は任意の式なので、そこに他のリスト内包表記を書くこともできます。\n",
    "\n",
    "次の、長さ4のリスト3つからなる、3x4 の matrix について考えます:"
   ]
  },
  {
   "cell_type": "code",
   "execution_count": null,
   "metadata": {
    "deletable": false,
    "editable": false
   },
   "outputs": [],
   "source": [
    "matrix = [\n",
    "    [1, 2, 3, 4],\n",
    "    [5, 6, 7, 8],\n",
    "    [9, 10, 11, 12],\n",
    "]"
   ]
  },
  {
   "cell_type": "markdown",
   "metadata": {
    "deletable": false,
    "editable": false,
    "run_control": {
     "frozen": true
    }
   },
   "source": [
    "次のリスト内包表記は、matrix の行と列を入れ替えます:  \n",
    "  \n",
    "<span style=\"color: gray; \">［補足］①row in matrixで１行づつ取り出され、②row[i]で準備0列目が取り出されれ[1, 5, 9]、③iが0〜3まで①、②を繰り返す</span>"
   ]
  },
  {
   "cell_type": "code",
   "execution_count": null,
   "metadata": {
    "deletable": false,
    "editable": false
   },
   "outputs": [],
   "source": [
    "[[row[i] for row in matrix] for i in range(4)] # [[1, 5, 9], [2, 6, 10], [3, 7, 11], [4, 8, 12]]"
   ]
  },
  {
   "cell_type": "markdown",
   "metadata": {
    "deletable": false,
    "editable": false,
    "run_control": {
     "frozen": true
    }
   },
   "source": [
    "前の節で見たように、ネストしたリスト内包表記は、続く for のコンテキストの中で評価されます。なので、この例は次のコードと等価です:"
   ]
  },
  {
   "cell_type": "code",
   "execution_count": null,
   "metadata": {
    "deletable": false,
    "editable": false
   },
   "outputs": [],
   "source": [
    "transposed = []\n",
    "for i in range(4):\n",
    "    transposed.append([row[i] for row in matrix])\n",
    "transposed"
   ]
  },
  {
   "cell_type": "markdown",
   "metadata": {
    "deletable": false,
    "editable": false,
    "run_control": {
     "frozen": true
    }
   },
   "source": [
    "これをもう一度変換すると、次のコードと等価になります:"
   ]
  },
  {
   "cell_type": "code",
   "execution_count": null,
   "metadata": {
    "deletable": false,
    "editable": false
   },
   "outputs": [],
   "source": [
    "transposed = []\n",
    "for i in range(4):\n",
    "    # the following 3 lines implement the nested listcomp\n",
    "    transposed_row = []\n",
    "    for row in matrix:\n",
    "        transposed_row.append(row[i])\n",
    "    transposed.append(transposed_row)\n",
    "\n",
    "transposed"
   ]
  },
  {
   "cell_type": "markdown",
   "metadata": {
    "deletable": false,
    "editable": false,
    "run_control": {
     "frozen": true
    }
   },
   "source": [
    "実際には複雑な流れの式よりも組み込み関数を使う方が良いです。この場合 [zip()](https://docs.python.org/ja/3.9/library/functions.html#zip) 関数が良い仕事をしてくれるでしょう:"
   ]
  },
  {
   "cell_type": "code",
   "execution_count": null,
   "metadata": {
    "deletable": false,
    "editable": false
   },
   "outputs": [],
   "source": [
    "list(zip(*matrix))"
   ]
  },
  {
   "cell_type": "markdown",
   "metadata": {
    "deletable": false,
    "editable": false,
    "run_control": {
     "frozen": true
    }
   },
   "source": [
    "この行にあるアスタリスクの詳細については [引数リストのアンパック](https://docs.python.org/ja/3.9/tutorial/controlflow.html#tut-unpacking-arguments) を参照してください。"
   ]
  },
  {
   "cell_type": "markdown",
   "metadata": {
    "deletable": false,
    "editable": false,
    "run_control": {
     "frozen": true
    }
   },
   "source": [
    "## <span style=\"color: blue; \">5.2. del 文</span>\n",
    "<span style=\"color: red; \">リストから要素を削除する際、値を指定する代わりにインデックスを指定する方法があります。それが del 文です</span>。これは pop() メソッドと違い、値を返しません。 del 文はリストからスライスを除去したり、リスト全体を削除することもできます(以前はスライスに空のリストを代入して行っていました)。例えば以下のようにします:"
   ]
  },
  {
   "cell_type": "code",
   "execution_count": null,
   "metadata": {
    "deletable": false,
    "editable": false
   },
   "outputs": [],
   "source": [
    "a = [-1, 1, 66.25, 333, 333, 1234.5]\n",
    "del a[0]\n",
    "a           # = [1, 66.25, 333, 333, 1234.5]"
   ]
  },
  {
   "cell_type": "code",
   "execution_count": null,
   "metadata": {
    "deletable": false,
    "editable": false
   },
   "outputs": [],
   "source": [
    "del a[2:4]\n",
    "a           # = [1, 66.25, 1234.5]"
   ]
  },
  {
   "cell_type": "code",
   "execution_count": null,
   "metadata": {
    "deletable": false,
    "editable": false
   },
   "outputs": [],
   "source": [
    "del a[:]\n",
    "a           # = []"
   ]
  },
  {
   "cell_type": "markdown",
   "metadata": {
    "deletable": false,
    "editable": false,
    "run_control": {
     "frozen": true
    }
   },
   "source": [
    "[del](https://docs.python.org/ja/3.9/reference/simple_stmts.html#del) は変数全体の削除にも使えます:"
   ]
  },
  {
   "cell_type": "markdown",
   "metadata": {
    "deletable": false,
    "editable": false,
    "run_control": {
     "frozen": true
    }
   },
   "source": [
    "この文の後で名前 a を参照すると、(別の値を a に代入するまで) エラーになります。 del の別の用途についてはまた後で取り上げます。"
   ]
  },
  {
   "cell_type": "markdown",
   "metadata": {
    "deletable": false,
    "editable": false,
    "run_control": {
     "frozen": true
    }
   },
   "source": [
    "## <span style=\"color: blue; \">5.3. タプルとシーケンス</span>\n",
    "リストや文字列には、インデクスやスライスを使った演算のように、数多くの共通の性質があることを見てきました。これらは シーケンス (sequence) データ型 ([シーケンス型 --- list, tuple, range](https://docs.python.org/ja/3.9/library/stdtypes.html#typesseq) を参照) の二つの例です。 Python はまだ進歩の過程にある言語なので、他のシーケンスデータ型が追加されるかもしれません。<span style=\"color: red; \">標準のシーケンス型はもう一つあります: タプル (tuple) 型です</span>。\n",
    "\n",
    "<span style=\"color: red; \">タプルはコンマで区切られたいくつかの値からなります</span>。例えば以下のように書きます:"
   ]
  },
  {
   "cell_type": "code",
   "execution_count": null,
   "metadata": {
    "deletable": false,
    "editable": false
   },
   "outputs": [],
   "source": [
    "t = 12345, 54321, 'hello!'\n",
    "t[0]          # = 12345"
   ]
  },
  {
   "cell_type": "code",
   "execution_count": null,
   "metadata": {
    "deletable": false,
    "editable": false
   },
   "outputs": [],
   "source": [
    "t        # = (12345, 54321, 'hello!')"
   ]
  },
  {
   "cell_type": "code",
   "execution_count": null,
   "metadata": {
    "deletable": false,
    "editable": false
   },
   "outputs": [],
   "source": [
    "# Tuples may be nested:\n",
    "u = t, (1, 2, 3, 4, 5)\n",
    "u                        # = ((12345, 54321, 'hello!'), (1, 2, 3, 4, 5))"
   ]
  },
  {
   "cell_type": "code",
   "execution_count": null,
   "metadata": {
    "deletable": false,
    "editable": false
   },
   "outputs": [],
   "source": [
    "# Tuples are immutable:\n",
    "t[0] = 88888         # タプルは変更できないのでTypeError"
   ]
  },
  {
   "cell_type": "code",
   "execution_count": null,
   "metadata": {
    "deletable": false,
    "editable": false
   },
   "outputs": [],
   "source": [
    "# but they can contain mutable objects:\n",
    "v = ([1, 2, 3], [3, 2, 1])\n",
    "v"
   ]
  },
  {
   "cell_type": "markdown",
   "metadata": {
    "deletable": false,
    "editable": false,
    "run_control": {
     "frozen": true
    }
   },
   "source": [
    "ご覧のとおり、<span style=\"color: red; \">タプルの表示には常に丸括弧がついていて</span>、タプルのネストが正しく解釈されるようになっています。タプルを書くときは必ずしも丸括弧で囲まなくてもいいですが、(タプルが大きな式の一部だった場合は) 丸括弧が必要な場合もあります。<span style=\"color: red; \">タプルの要素を代入することはできません。しかし、タプルにリストのような変更可能型を含めることはできます</span>。\n",
    "\n",
    "タプルはリストと似ていますが、たいてい異なる場面と異なる目的で利用されます。<span style=\"color: red; \">タプルは [<span style=\"color: red; \">不変</span>](https://docs.python.org/ja/3.9/glossary.html#term-immutable) </span>で、複数の型の要素からなることもあり、要素はアンパック(この節の後半に出てきます)操作やインデックス (あるいは [namedtuples](https://docs.python.org/ja/3.9/library/collections.html#collections.namedtuple) の場合は属性)でアクセスすることが多いです。一方、<span style=\"color: red; \">リストは [<span style=\"color: red; \">可変</span>](https://docs.python.org/ja/3.9/glossary.html#term-mutable) </span>で、要素はたいてい同じ型のオブジェクトであり、たいていイテレートによってアクセスします。\n",
    "\n",
    "問題は 0 個または 1 個の項目からなるタプルの構築です。これらの操作を行うため、構文には特別な細工がされています。空のタプルは空の丸括弧ペアで構築できます。<span style=\"color: red; \">一つの要素を持つタプルは、値の後ろにコンマを続ける (単一の値を丸括弧で囲むだけでは不十分です) ことで構築できます</span>。美しくはないけれども、効果的です。例えば以下のようにします:"
   ]
  },
  {
   "cell_type": "code",
   "execution_count": null,
   "metadata": {
    "deletable": false,
    "editable": false
   },
   "outputs": [],
   "source": [
    "empty = ()\n",
    "singleton = 'hello',    # <-- note trailing comma\n",
    "len(empty)              # = 0"
   ]
  },
  {
   "cell_type": "code",
   "execution_count": null,
   "metadata": {
    "deletable": false,
    "editable": false
   },
   "outputs": [],
   "source": [
    "len(singleton)          # = 1"
   ]
  },
  {
   "cell_type": "code",
   "execution_count": null,
   "metadata": {
    "deletable": false,
    "editable": false
   },
   "outputs": [],
   "source": [
    "singleton"
   ]
  },
  {
   "cell_type": "markdown",
   "metadata": {
    "deletable": false,
    "editable": false,
    "run_control": {
     "frozen": true
    }
   },
   "source": [
    "文 `t = 12345, 54321, 'hello!'` は <span style=\"color: red; \">タプルのパック (tuple packing)</span> の例です。値 `12345`, `54321`, `'hello!'` が一つのタプルにパックされます。逆の演算も可能です:"
   ]
  },
  {
   "cell_type": "code",
   "execution_count": null,
   "metadata": {
    "deletable": false,
    "editable": false
   },
   "outputs": [],
   "source": [
    "x, y, z = t"
   ]
  },
  {
   "cell_type": "markdown",
   "metadata": {
    "deletable": false,
    "editable": false,
    "run_control": {
     "frozen": true
    }
   },
   "source": [
    "この操作は、シーケンスの<span style=\"color: red; \">アンパック (sequence unpacking)</span> とでも呼ぶべきもので、右辺には全てのシーケンス型を使うことができます。シーケンスのアンパックでは、等号の左辺に列挙されている変数が、右辺のシーケンスの長さと同じ数だけあることが要求されます。複数同時の代入が実はタプルのパックとシーケンスのアンパックを組み合わせたものに過ぎないことに注意してください。"
   ]
  },
  {
   "cell_type": "markdown",
   "metadata": {
    "deletable": false,
    "editable": false,
    "run_control": {
     "frozen": true
    }
   },
   "source": [
    "## <span style=\"color: blue; \">5.4. 集合型</span>\n",
    "Python には、 <span style=\"color: red; \">集合 (set) を扱うためのデータ型もあります。集合とは、重複する要素をもたない、順序づけられていない要素の集まりです</span>。 Set オブジェクトは、和 (union)、積 (intersection)、差 (difference)、対称差 (symmetric difference)といった数学的な演算もサポートしています。\n",
    "\n",
    "中括弧、または [set()](https://docs.python.org/ja/3.9/library/stdtypes.html#set) 関数は `set` を生成するために使用することができます。注: 空集合を作成するためには set() を使用しなければなりません (`{}` ではなく)。後者は空の辞書を作成します。辞書は次のセクションで議論するデータ構造です。\n",
    "\n",
    "簡単なデモンストレーションを示します:"
   ]
  },
  {
   "cell_type": "code",
   "execution_count": null,
   "metadata": {
    "deletable": false,
    "editable": false
   },
   "outputs": [],
   "source": [
    "basket = {'apple', 'orange', 'apple', 'pear', 'orange', 'banana'}"
   ]
  },
  {
   "cell_type": "code",
   "execution_count": null,
   "metadata": {
    "deletable": false,
    "editable": false
   },
   "outputs": [],
   "source": [
    "print(basket)                      # show that duplicates have been removed"
   ]
  },
  {
   "cell_type": "code",
   "execution_count": null,
   "metadata": {
    "deletable": false,
    "editable": false
   },
   "outputs": [],
   "source": [
    "'orange' in basket                 # fast membership testing,  True"
   ]
  },
  {
   "cell_type": "code",
   "execution_count": null,
   "metadata": {
    "deletable": false,
    "editable": false
   },
   "outputs": [],
   "source": [
    "'crabgrass' in basket"
   ]
  },
  {
   "cell_type": "code",
   "execution_count": null,
   "metadata": {
    "deletable": false,
    "editable": false
   },
   "outputs": [],
   "source": [
    "# Demonstrate set operations on unique letters from two words\n",
    "a = set('abracadabra')\n",
    "b = set('alacazam')"
   ]
  },
  {
   "cell_type": "code",
   "execution_count": null,
   "metadata": {
    "deletable": false,
    "editable": false
   },
   "outputs": [],
   "source": [
    "a                                  # unique letters in a, {'a', 'b', 'c', 'd', 'r'}"
   ]
  },
  {
   "cell_type": "code",
   "execution_count": null,
   "metadata": {
    "deletable": false,
    "editable": false
   },
   "outputs": [],
   "source": [
    "a - b                              # letters in a but not in b, {'b', 'd', 'r'}"
   ]
  },
  {
   "cell_type": "code",
   "execution_count": null,
   "metadata": {
    "deletable": false,
    "editable": false
   },
   "outputs": [],
   "source": [
    "a | b                              # letters in a or b or both, {'a', 'b', 'c', 'd', 'l', 'm', 'r', 'z'}"
   ]
  },
  {
   "cell_type": "code",
   "execution_count": null,
   "metadata": {
    "deletable": false,
    "editable": false
   },
   "outputs": [],
   "source": [
    "a & b                              # letters in both a and b, {'a', 'c'}"
   ]
  },
  {
   "cell_type": "code",
   "execution_count": null,
   "metadata": {
    "deletable": false,
    "editable": false
   },
   "outputs": [],
   "source": [
    "a ^ b                              # letters in a or b but not both, {'b', 'd', 'l', 'm', 'r', 'z'}"
   ]
  },
  {
   "cell_type": "markdown",
   "metadata": {
    "deletable": false,
    "editable": false,
    "run_control": {
     "frozen": true
    }
   },
   "source": [
    "[リスト内包](https://docs.python.org/ja/3.9/tutorial/datastructures.html#tut-listcomps) と同様に、 set 内包もサポートされています:"
   ]
  },
  {
   "cell_type": "code",
   "execution_count": null,
   "metadata": {
    "deletable": false,
    "editable": false
   },
   "outputs": [],
   "source": [
    "a = {x for x in 'abracadabra' if x not in 'abc'}\n",
    "a           # {'d', 'r'}"
   ]
  },
  {
   "cell_type": "markdown",
   "metadata": {
    "deletable": false,
    "editable": false,
    "run_control": {
     "frozen": true
    }
   },
   "source": [
    "## <span style=\"color: blue; \">5.5. 辞書型 (dictionary)</span>\n",
    "もう一つ、有用な型が Python に組み込まれています。それは 辞書 (dictionary) ([マッピング型 --- dict](https://docs.python.org/ja/3.9/library/stdtypes.html#typesmapping) を参照)です。辞書は他の言語にも \"連想記憶 (associated memory)\" や \"連想配列 (associative array)\" という名前で存在することがあります。ある範囲の数でインデクス化されているシーケンスと異なり、<span style=\"color: red; \">辞書は キー (key) でインデクス化されています。このキーは何らかの変更不能な型になります。文字列、数値は常にキーにすることができます。タプルは、文字列、数値、その他のタプルのみを含む場合はキーにすることができます。直接、あるいは間接的に変更可能なオブジェクトを含むタプルはキーにできません。リストをキーとして使うことはできません</span>。これは、リストにスライスやインデクス指定の代入を行ったり、 append() や extend() のようなメソッドを使うと、インプレースで変更することができるためです。\n",
    "\n",
    "<span style=\"color: red; \">辞書は キー(key): 値(value) のペアの集合であり、キーが (辞書の中で)一意でなければならない</span>、と考えるとよいでしょう。波括弧 (brace) のペア: `{}` は空の辞書を生成します。カンマで区切られた key: value のペアを波括弧ペアの間に入れると、辞書の初期値となる key: value が追加されます; この表現方法は出力時に辞書が書き出されるのと同じ方法です。\n",
    "\n",
    "辞書での主な操作は、ある値を何らかのキーを付けて記憶することと、キーを指定して値を取り出すことです。 del で key: value のペアを削除することもできます。すでに使われているキーを使って値を記憶すると、以前そのキーに関連づけられていた値は忘れ去られてしまいます。存在しないキーを使って値を取り出そうとするとエラーになります。\n",
    "\n",
    "辞書オブジェクトに対し `list(d)` を実行すると、辞書で使われている全てのキーからなるリストをキーが挿入された順番で返します (<span style=\"color: red; \">ソートされたリストが欲しい場合は、代わりに `sorted(d)` を使ってください</span>)。<span style=\"color: red; \">ある単一のキーが辞書にあるかどうか調べるには、 [in](https://docs.python.org/ja/3.9/reference/expressions.html#in) キーワードを使います</span>。\n",
    "\n",
    "以下に、辞書を使った簡単な例を示します:"
   ]
  },
  {
   "cell_type": "code",
   "execution_count": null,
   "metadata": {
    "deletable": false,
    "editable": false
   },
   "outputs": [],
   "source": [
    "tel = {'jack': 4098, 'sape': 4139}\n",
    "tel['guido'] = 4127\n",
    "tel                     # {'jack': 4098, 'sape': 4139, 'guido': 4127}"
   ]
  },
  {
   "cell_type": "code",
   "execution_count": null,
   "metadata": {
    "deletable": false,
    "editable": false
   },
   "outputs": [],
   "source": [
    "tel['jack']"
   ]
  },
  {
   "cell_type": "code",
   "execution_count": null,
   "metadata": {
    "deletable": false,
    "editable": false
   },
   "outputs": [],
   "source": [
    "del tel['sape']"
   ]
  },
  {
   "cell_type": "code",
   "execution_count": null,
   "metadata": {
    "deletable": false,
    "editable": false
   },
   "outputs": [],
   "source": [
    "tel['irv'] = 4127\n",
    "tel                     # {'jack': 4098, 'guido': 4127, 'irv': 4127}"
   ]
  },
  {
   "cell_type": "code",
   "execution_count": null,
   "metadata": {
    "deletable": false,
    "editable": false
   },
   "outputs": [],
   "source": [
    "list(tel)               # ['jack', 'guido', 'irv']"
   ]
  },
  {
   "cell_type": "code",
   "execution_count": null,
   "metadata": {
    "deletable": false,
    "editable": false
   },
   "outputs": [],
   "source": [
    "sorted(tel)"
   ]
  },
  {
   "cell_type": "code",
   "execution_count": null,
   "metadata": {
    "deletable": false,
    "editable": false
   },
   "outputs": [],
   "source": [
    "'guido' in tel          # True"
   ]
  },
  {
   "cell_type": "code",
   "execution_count": null,
   "metadata": {
    "deletable": false,
    "editable": false
   },
   "outputs": [],
   "source": [
    "'jack' not in tel        # False"
   ]
  },
  {
   "cell_type": "markdown",
   "metadata": {
    "deletable": false,
    "editable": false,
    "run_control": {
     "frozen": true
    }
   },
   "source": [
    "[dict()](https://docs.python.org/ja/3.9/library/stdtypes.html#dict) コンストラクタは、キーと値のペアのタプルを含むリストから辞書を生成します:"
   ]
  },
  {
   "cell_type": "code",
   "execution_count": null,
   "metadata": {
    "deletable": false,
    "editable": false
   },
   "outputs": [],
   "source": [
    "dict([('sape', 4139), ('guido', 4127), ('jack', 4098)])   # {'sape': 4139, 'guido': 4127, 'jack': 4098}"
   ]
  },
  {
   "cell_type": "markdown",
   "metadata": {
    "deletable": false,
    "editable": false,
    "run_control": {
     "frozen": true
    }
   },
   "source": [
    "さらに、辞書内包表現を使って、任意のキーと値のペアから辞書を作れます:"
   ]
  },
  {
   "cell_type": "code",
   "execution_count": null,
   "metadata": {
    "deletable": false,
    "editable": false
   },
   "outputs": [],
   "source": [
    "{x: x**2 for x in (2, 4, 6)}    # {2: 4, 4: 16, 6: 36}"
   ]
  },
  {
   "cell_type": "markdown",
   "metadata": {
    "deletable": false,
    "editable": false,
    "run_control": {
     "frozen": true
    }
   },
   "source": [
    "キーが単純な文字列の場合、キーワード引数を使って定義する方が単純な場合もあります:"
   ]
  },
  {
   "cell_type": "code",
   "execution_count": null,
   "metadata": {
    "deletable": false,
    "editable": false
   },
   "outputs": [],
   "source": [
    "dict(sape=4139, guido=4127, jack=4098)  # {'sape': 4139, 'guido': 4127, 'jack': 4098}"
   ]
  },
  {
   "cell_type": "markdown",
   "metadata": {
    "deletable": false,
    "editable": false,
    "run_control": {
     "frozen": true
    }
   },
   "source": [
    "## <span style=\"color: blue; \">5.6. ループのテクニック</span>\n",
    "<span style=\"color: red; \">辞書に対してループを行う際、 items() メソッドを使うと、キーとそれに対応する値を同時に取り出せます</span>。"
   ]
  },
  {
   "cell_type": "code",
   "execution_count": null,
   "metadata": {
    "deletable": false,
    "editable": false
   },
   "outputs": [],
   "source": [
    "knights = {'gallahad': 'the pure', 'robin': 'the brave'}\n",
    "for k, v in knights.items():\n",
    "    print(k, v)"
   ]
  },
  {
   "cell_type": "markdown",
   "metadata": {
    "deletable": false,
    "editable": false,
    "run_control": {
     "frozen": true
    }
   },
   "source": [
    "<span style=\"color: red; \">シーケンスにわたるループを行う際、 [<span style=\"color: red; \">enumerate()</span>](https://docs.python.org/ja/3.9/library/functions.html#enumerate) 関数を使うと、要素のインデックスと要素を同時に取り出すことができます</span>。"
   ]
  },
  {
   "cell_type": "code",
   "execution_count": null,
   "metadata": {
    "deletable": false,
    "editable": false
   },
   "outputs": [],
   "source": [
    "for i, v in enumerate(['tic', 'tac', 'toe']):\n",
    "    print(i, v)"
   ]
  },
  {
   "cell_type": "markdown",
   "metadata": {
    "deletable": false,
    "editable": false,
    "run_control": {
     "frozen": true
    }
   },
   "source": [
    "二つまたはそれ以上のシーケンス型を同時にループするために、関数 [zip()](https://docs.python.org/ja/3.9/library/functions.html#zip) を使って各要素をひと組みにすることができます。"
   ]
  },
  {
   "cell_type": "code",
   "execution_count": null,
   "metadata": {
    "deletable": false,
    "editable": false
   },
   "outputs": [],
   "source": [
    "questions = ['name', 'quest', 'favorite color']\n",
    "answers = ['lancelot', 'the holy grail', 'blue']\n",
    "for q, a in zip(questions, answers):\n",
    "    print('What is your {0}?  It is {1}.'.format(q, a))"
   ]
  },
  {
   "cell_type": "markdown",
   "metadata": {
    "deletable": false,
    "editable": false,
    "run_control": {
     "frozen": true
    }
   },
   "source": [
    "シーケンスを逆方向に渡ってループするには、まずシーケンスの範囲を順方向に指定し、次いで関数 [reversed()](https://docs.python.org/ja/3.9/library/functions.html#reversed) を呼び出します。"
   ]
  },
  {
   "cell_type": "code",
   "execution_count": null,
   "metadata": {
    "deletable": false,
    "editable": false
   },
   "outputs": [],
   "source": [
    "for i in reversed(range(1, 10, 2)):\n",
    "    print(i)                          # 9 7 5 3 1"
   ]
  },
  {
   "cell_type": "markdown",
   "metadata": {
    "deletable": false,
    "editable": false,
    "run_control": {
     "frozen": true
    }
   },
   "source": [
    "シーケンスをソートされた順序でループするには、 [sorted()](https://docs.python.org/ja/3.9/library/functions.html#sorted) 関数を使います。この関数は元の配列を変更せず、ソート済みの新たな配列を返します。"
   ]
  },
  {
   "cell_type": "code",
   "execution_count": null,
   "metadata": {
    "deletable": false,
    "editable": false
   },
   "outputs": [],
   "source": [
    "basket = ['apple', 'orange', 'apple', 'pear', 'orange', 'banana']\n",
    "for i in sorted(basket):\n",
    "    print(i)"
   ]
  },
  {
   "cell_type": "markdown",
   "metadata": {
    "deletable": false,
    "editable": false,
    "run_control": {
     "frozen": true
    }
   },
   "source": [
    "シーケンスに [set()](https://docs.python.org/ja/3.9/library/stdtypes.html#set) を使うと、重複要素が除去されます。 <span style=\"color: red; \">シーケンスに [<span style=\"color: red; \">set()</span>](https://docs.python.org/ja/3.9/library/stdtypes.html#set) を使った上で、 [<span style=\"color: red; \">sorted()</span>](https://docs.python.org/ja/3.9/library/functions.html#sorted) を使うという組み合わせ方は、順番が整列されているシーケンスで、同一要素に 1 度のみループでアクセスする慣用的な方法です</span>。"
   ]
  },
  {
   "cell_type": "code",
   "execution_count": null,
   "metadata": {
    "deletable": false,
    "editable": false
   },
   "outputs": [],
   "source": [
    "basket = ['apple', 'orange', 'apple', 'pear', 'orange', 'banana']\n",
    "for f in sorted(set(basket)):\n",
    "    print(f)"
   ]
  },
  {
   "cell_type": "markdown",
   "metadata": {
    "deletable": false,
    "editable": false,
    "run_control": {
     "frozen": true
    }
   },
   "source": [
    "ときどきループ内でリストを変更したい誘惑に駆られるでしょうが、代わりに新しいリストを作ってしまうほうがより簡単で安全なことが、ままあります"
   ]
  },
  {
   "cell_type": "code",
   "execution_count": null,
   "metadata": {
    "deletable": false,
    "editable": false
   },
   "outputs": [],
   "source": [
    "import math\n",
    "raw_data = [56.2, float('NaN'), 51.7, 55.3, 52.5, float('NaN'), 47.8]\n",
    "filtered_data = []\n",
    "for value in raw_data:\n",
    "    if not math.isnan(value):\n",
    "        filtered_data.append(value)\n",
    "filtered_data"
   ]
  },
  {
   "cell_type": "markdown",
   "metadata": {
    "deletable": false,
    "editable": false,
    "run_control": {
     "frozen": true
    }
   },
   "source": [
    "  "
   ]
  },
  {
   "cell_type": "markdown",
   "metadata": {
    "deletable": false,
    "editable": false,
    "run_control": {
     "frozen": true
    }
   },
   "source": [
    "## <span style=\"color: blue; \">5.7. 条件についてもう少し</span>\n",
    "`while` や `if` 文で使った条件 (condition) には、値の比較だけでなく、他の演算子も使うことができます。\n",
    "\n",
    "比較演算子 in および not in は、ある値があるシーケンス中に存在するか (または存在しないか) どうかを調べます。演算子 `is` および `is not` は、二つのオブジェクトが実際に同じオブジェクトであるかどうかを調べます。この比較は、リストのような変更可能なオブジェクトにだけ意味があります。全ての比較演算子は同じ優先順位を持っており、ともに数値演算子よりも低い優先順位となります。(訳注: `is` は、 `is None` のように、シングルトンの変更不能オブジェクトとの比較に用いる場合もあります。(「変更可能なオブジェクトにだけ意味があります」の部分を削除することを Doc-SIG に提案中。))\n",
    "\n",
    "比較は連結させることができます。例えば、 `a < b == c` は、 `a` が `b` より小さく、かつ `b` と `c` が等しいかどうかをテストします。\n",
    "\n",
    "ブール演算子 `and` や `or` で比較演算を組み合わせることができます。そして、比較演算 (あるいは何らかのブール式) の結果の否定は `not` でとれます。これらの演算子は全て、比較演算子よりも低い優先順位になっています。 `A and not B or C` と `(A and (not B)) or C` が等価になるように、ブール演算子の中で、 `not` の優先順位が最も高く、 `or` が最も低くなっています。もちろん、丸括弧を使えば望みの組み合わせを表現できます。\n",
    "\n",
    "ブール演算子 `and` と `or` は、いわゆる 短絡 (short-circuit) 演算子です。これらの演算子の引数は左から右へと順に評価され、結果が確定した時点で評価を止めます。例えば、 `A` と `C` は真で `B` が偽のとき、 `A and B and C` は式 `C` を評価しません。一般に、短絡演算子の戻り値をブール値ではなくて一般的な値として用いると、値は最後に評価された引数になります。\n",
    "\n",
    "比較や他のブール式の結果を変数に代入することもできます。例えば、"
   ]
  },
  {
   "cell_type": "code",
   "execution_count": null,
   "metadata": {
    "deletable": false,
    "editable": false
   },
   "outputs": [],
   "source": [
    "string1, string2, string3 = '', 'Trondheim', 'Hammer Dance'\n",
    "non_null = string1 or string2 or string3\n",
    "non_null                    # = 'Trondheim'"
   ]
  },
  {
   "cell_type": "markdown",
   "metadata": {
    "deletable": false,
    "editable": false,
    "run_control": {
     "frozen": true
    }
   },
   "source": [
    "Pythonでは、Cとは異なり、式の中での代入は [セイウチ演算子](https://docs.python.org/ja/3.9/faq/design.html#why-can-t-i-use-an-assignment-in-an-expression) `:=` を使用して明示的に行う必要があることに注意してください。これにより、 `==` が意図されていたところに `=` を入力してしまうという、Cプログラムで発生する一般的なクラスの問題を回避できます。"
   ]
  },
  {
   "cell_type": "markdown",
   "metadata": {
    "deletable": false,
    "editable": false,
    "run_control": {
     "frozen": true
    }
   },
   "source": [
    "## <span style=\"color: blue; \">5.8. シーケンスとその他の型の比較</span>\n",
    "概して、シーケンスオブジェクトは、同じシーケンス型の他のオブジェクトと比較できます。比較には 辞書的な (lexicographical) 順序が用いられます。まず、最初の二つの要素を比較し、その値が等しくなければその時点で比較結果が決まります。等しければ次の二つの要素を比較し、以降シーケンスの要素が尽きるまで続けます。比較しようとする二つの要素がいずれも同じシーケンス型であれば、そのシーケンス間での辞書比較を再帰的に行います。二つのシーケンスの全ての要素の比較結果が等しくなれば、シーケンスは等しいとみなされます。片方のシーケンスがもう一方の先頭部分にあたる部分シーケンスならば、短い方のシーケンスが小さいシーケンスとみなされます。文字列に対する辞書的な順序づけには、個々の文字ごとに ASCII 順序を用います。以下に、同じ型のオブジェクトを持つシーケンス間での比較を行った例を示します:  \n",
    "***\n",
    "`  \n",
    "(1, 2, 3)              < (1, 2, 4)\n",
    "[1, 2, 3]              < [1, 2, 4]\n",
    "'ABC' < 'C' < 'Pascal' < 'Python'\n",
    "(1, 2, 3, 4)           < (1, 2, 4)\n",
    "(1, 2)                 < (1, 2, -1)\n",
    "(1, 2, 3)             == (1.0, 2.0, 3.0)\n",
    "(1, 2, ('aa', 'ab'))   < (1, 2, ('abc', 'a'), 4)`\n",
    "***"
   ]
  },
  {
   "cell_type": "markdown",
   "metadata": {
    "deletable": false,
    "editable": false,
    "run_control": {
     "frozen": true
    }
   },
   "source": [
    "違う型のオブジェクト同士を `<` や `>` で比較することも、それらのオブジェクトが適切な比較メソッドを提供しているのであれば許可されます。例えば、異なる数値型同士の比較では、その数値によって比較が行われます。例えば、 0 と 0.0 は等価です。一方、適切な比較順序がない場合は、インタープリターは [TypeError](https://docs.python.org/ja/3.9/library/exceptions.html#TypeError) 例外を発生させます。"
   ]
  },
  {
   "cell_type": "markdown",
   "metadata": {
    "deletable": false,
    "editable": false,
    "run_control": {
     "frozen": true
    }
   },
   "source": [
    "# <span style=\"color: blue; \">6. モジュール<a id='anchor6'></span>\n",
    "Python インタプリタを終了させ、再び起動すると、これまでに行ってきた定義 (関数や変数) は失われています。ですから、より長いプログラムを書きたいなら、テキストエディタを使ってインタプリタへの入力を用意しておき、手作業の代わりにファイルを入力に使って動作させるとよいでしょう。この作業を スクリプト (script) の作成と言います。プログラムが長くなるにつれ、メンテナンスを楽にするために、スクリプトをいくつかのファイルに分割したくなるかもしれません。また、いくつかのプログラムで書いてきた便利な関数について、その定義をコピーすることなく個々のプログラムで使いたいと思うかもしれません。\n",
    "\n",
    "こういった要求をサポートするために、<span style=\"color: red; \">Python では定義をファイルに書いておき、スクリプトの中やインタプリタの対話インスタンス上で使う方法があります。このファイルを モジュール (module) と呼びます。モジュールにある定義は、他のモジュールや main モジュール (実行のトップレベルや電卓モードでアクセスできる変数の集まりを指します) に import (取り込み) することができます</span>。\n",
    "\n",
    "モジュールは Python の定義や文が入ったファイルです。ファイル名はモジュール名に接尾語 `.py` がついたものになります。モジュールの中では、(文字列の) モジュール名をグローバル変数 `__name__` で取得できます。例えば、お気に入りのテキストエディタを使って、現在のディレクトリに以下の内容のファイル `fibo.py` を作成してみましょう:  \n",
    "***\n",
    "`#Fibonacci numbers module` \n",
    "  \n",
    "`def fib(n):    # write Fibonacci series up to n`  \n",
    "&nbsp;&nbsp;&nbsp;&nbsp;&nbsp;&nbsp;&nbsp;&nbsp;`a, b = 0, 1`  \n",
    "&nbsp;&nbsp;&nbsp;&nbsp;&nbsp;&nbsp;&nbsp;&nbsp;`while a < n:`    \n",
    "&nbsp;&nbsp;&nbsp;&nbsp;&nbsp;&nbsp;&nbsp;&nbsp;&nbsp;&nbsp;&nbsp;&nbsp;&nbsp;&nbsp;&nbsp;&nbsp;`print(a, end=' ')`    \n",
    "&nbsp;&nbsp;&nbsp;&nbsp;&nbsp;&nbsp;&nbsp;&nbsp;&nbsp;&nbsp;&nbsp;&nbsp;&nbsp;&nbsp;&nbsp;&nbsp;`a, b = b, a+b`    \n",
    "&nbsp;&nbsp;&nbsp;&nbsp;&nbsp;&nbsp;&nbsp;&nbsp;`print()`    \n",
    "  \n",
    "`def fib2(n):   # return Fibonacci series up to n`  \n",
    "&nbsp;&nbsp;&nbsp;&nbsp;&nbsp;&nbsp;&nbsp;&nbsp;`result = []`    \n",
    "&nbsp;&nbsp;&nbsp;&nbsp;&nbsp;&nbsp;&nbsp;&nbsp;`a, b = 0, 1`    \n",
    "&nbsp;&nbsp;&nbsp;&nbsp;&nbsp;&nbsp;&nbsp;&nbsp;`while a < n:`    \n",
    "&nbsp;&nbsp;&nbsp;&nbsp;&nbsp;&nbsp;&nbsp;&nbsp;&nbsp;&nbsp;&nbsp;&nbsp;&nbsp;&nbsp;&nbsp;&nbsp;`result.append(a)`    \n",
    "&nbsp;&nbsp;&nbsp;&nbsp;&nbsp;&nbsp;&nbsp;&nbsp;&nbsp;&nbsp;&nbsp;&nbsp;&nbsp;&nbsp;&nbsp;&nbsp;`a, b = b, a+b`    \n",
    "&nbsp;&nbsp;&nbsp;&nbsp;&nbsp;&nbsp;&nbsp;&nbsp;`return result`    \n",
    "***    \n",
    "<span style=\"color: gray; \">［補足］本学習環境(DeepAelurus）では下記のセルで `fibo.py` をカレントディレクトリに生成し、以降のセルで使用します。</span> "
   ]
  },
  {
   "cell_type": "code",
   "execution_count": null,
   "metadata": {
    "deletable": false,
    "editable": false
   },
   "outputs": [],
   "source": [
    "with open('fibo.py', 'w') as f:\n",
    "    \n",
    "    f.write(\"# Fibonacci numbers module\\n\")\n",
    "    f.write(\"def fib(n):    # write Fibonacci series up to n\\n\")\n",
    "    f.write(\"    a, b = 0, 1\\n\")\n",
    "    f.write(\"    while a < n:\\n\")\n",
    "    f.write(\"        print(a, end=' ')\\n\")\n",
    "    f.write(\"        a, b = b, a+b\\n\")\n",
    "    f.write(\"    print()\\n\")\n",
    "    f.write(\"\\n\")\n",
    "        \n",
    "    f.write(\"def fib2(n):   # return Fibonacci series up to n\\n\")        \n",
    "    f.write(\"    result = []\\n\")\n",
    "    f.write(\"    a, b = 0, 1\\n\")\n",
    "    f.write(\"    while a < n:\\n\")\n",
    "    f.write(\"        result.append(a)\\n\")\n",
    "    f.write(\"        a, b = b, a+b\\n\")\n",
    "    f.write(\"    return result\\n\")\n",
    "f.close"
   ]
  },
  {
   "cell_type": "markdown",
   "metadata": {
    "deletable": false,
    "editable": false,
    "run_control": {
     "frozen": true
    }
   },
   "source": [
    "次に Python インタプリタに入り、モジュールを以下のコマンドで import しましょう:"
   ]
  },
  {
   "cell_type": "code",
   "execution_count": null,
   "metadata": {
    "deletable": false,
    "editable": false
   },
   "outputs": [],
   "source": [
    "import fibo"
   ]
  },
  {
   "cell_type": "markdown",
   "metadata": {
    "deletable": false,
    "editable": false,
    "run_control": {
     "frozen": true
    }
   },
   "source": [
    "この操作では、`fibo` で定義された関数の名前を直接現在のシンボルテーブルに入力することはありません。単にモジュール名 `fibo` だけをシンボルテーブルに入れます。関数にはモジュール名を使ってアクセスします:"
   ]
  },
  {
   "cell_type": "code",
   "execution_count": null,
   "metadata": {
    "deletable": false,
    "editable": false
   },
   "outputs": [],
   "source": [
    "fibo.fib(1000)    # 0 1 1 2 3 5 8 13 21 34 55 89 144 233 377 610 987 "
   ]
  },
  {
   "cell_type": "code",
   "execution_count": null,
   "metadata": {
    "deletable": false,
    "editable": false
   },
   "outputs": [],
   "source": [
    "fibo.fib2(100)    # [0, 1, 1, 2, 3, 5, 8, 13, 21, 34, 55, 89]"
   ]
  },
  {
   "cell_type": "code",
   "execution_count": null,
   "metadata": {
    "deletable": false,
    "editable": false
   },
   "outputs": [],
   "source": [
    "fibo.__name__     # 'fibo'"
   ]
  },
  {
   "cell_type": "markdown",
   "metadata": {
    "deletable": false,
    "editable": false,
    "run_control": {
     "frozen": true
    }
   },
   "source": [
    "関数を度々使うのなら、ローカルな名前に代入できます:"
   ]
  },
  {
   "cell_type": "code",
   "execution_count": null,
   "metadata": {
    "deletable": false,
    "editable": false
   },
   "outputs": [],
   "source": [
    "fib = fibo.fib\n",
    "fib(500)           #0 1 1 2 3 5 8 13 21 34 55 89 144 233 377 "
   ]
  },
  {
   "cell_type": "markdown",
   "metadata": {
    "deletable": false,
    "editable": false,
    "run_control": {
     "frozen": true
    }
   },
   "source": [
    "## <span style=\"color: blue; \">6.1. モジュールについてもうすこし</span>\n",
    "モジュールには、関数定義に加えて実行文を入れることができます。これらの実行文はモジュールを初期化するためのものです。これらの実行文は、インポート文の中で 最初に モジュール名が見つかったときにだけ実行されます。[[1]](https://docs.python.org/ja/3.9/tutorial/modules.html#id2) (ファイルがスクリプトとして実行される場合も実行されます。)  \n",
    "  \n",
    "各々のモジュールは、自分のプライベートなシンボルテーブルを持っていて、モジュールで定義されている関数はこのテーブルをグローバルなシンボルテーブルとして使います。したがって、モジュールの作者は、ユーザのグローバル変数と偶然的な衝突が起こる心配をせずに、グローバルな変数をモジュールで使うことができます。一方、自分が行っている操作をきちんと理解していれば、モジュール内の関数を参照するのと同じ表記法 `modname.itemname` で、モジュールのグローバル変数をいじることもできます。  \n",
    "  \n",
    "モジュールが他のモジュールを import することもできます。 [import](https://docs.python.org/ja/3.9/reference/simple_stmts.html#import) 文は全てモジュールの(さらに言えばスクリプトでも)先頭に置きますが、これは慣習であって必須ではありません。 import されたモジュール名は import を行っているモジュールのグローバルなシンボルテーブルに置かれます。  \n",
    "  \n",
    "[import](https://docs.python.org/ja/3.9/reference/simple_stmts.html#import) 文には、あるモジュール内の名前を、import を実行しているモジュールのシンボルテーブル内に直接取り込むという変型があります。例えば:"
   ]
  },
  {
   "cell_type": "code",
   "execution_count": null,
   "metadata": {
    "deletable": false,
    "editable": false
   },
   "outputs": [],
   "source": [
    "from fibo import fib, fib2\n",
    "fib(500)         #  0 1 1 2 3 5 8 13 21 34 55 89 144 233 377 "
   ]
  },
  {
   "cell_type": "markdown",
   "metadata": {
    "deletable": false,
    "editable": false,
    "run_control": {
     "frozen": true
    }
   },
   "source": [
    "この操作は、import の対象となるモジュール名をローカルなシンボルテーブル内に取り入れることはありません (従って上の例では、 `fibo` は定義されません)。\n",
    "\n",
    "モジュールで定義されている名前を全て import するという変型もあります:"
   ]
  },
  {
   "cell_type": "code",
   "execution_count": null,
   "metadata": {
    "deletable": false,
    "editable": false
   },
   "outputs": [],
   "source": [
    "from fibo import *\n",
    "fib(500)          # 0 1 1 2 3 5 8 13 21 34 55 89 144 233 377 "
   ]
  },
  {
   "cell_type": "markdown",
   "metadata": {
    "deletable": false,
    "editable": false,
    "run_control": {
     "frozen": true
    }
   },
   "source": [
    "この書き方ではアンダースコア (`_`) で始まるものを除いてすべての名前をインポートします。殆どの場面で、Python プログラマーはこの書き方を使いません。未知の名前がインタープリターに読み込まれ、定義済みの名前を上書きしてしまう可能性があるからです。\n",
    "\n",
    "一般的には、モジュールやパッケージから `*` を import するというやり方には賛同できません。というのは、この操作を行うとしばしば可読性に乏しいコードになるからです。しかし、対話セッションでキータイプの量を減らすために使うのは構わないでしょう。\n",
    "\n",
    "<span style=\"color: red; \">モジュール名の後に as が続いていた場合は、 as の後ろの名前を直接、インポートされたモジュールが束縛します</span>。"
   ]
  },
  {
   "cell_type": "code",
   "execution_count": null,
   "metadata": {
    "deletable": false,
    "editable": false,
    "scrolled": true
   },
   "outputs": [],
   "source": [
    "import fibo as fib\n",
    "fib.fib(500)       # 0 1 1 2 3 5 8 13 21 34 55 89 144 233 377"
   ]
  },
  {
   "cell_type": "markdown",
   "metadata": {
    "deletable": false,
    "editable": false,
    "run_control": {
     "frozen": true
    }
   },
   "source": [
    "これは実質的には `import fibo` と同じ方法でモジュールをインポートしていて、唯一の違いはインポートしたモジュールが `fib` という名前で取り扱えるようになっていることです。\n",
    "\n",
    "このインポート方法は [from](https://docs.python.org/ja/3.9/reference/simple_stmts.html#from) が付いていても使え、同じ効果が得られます:"
   ]
  },
  {
   "cell_type": "code",
   "execution_count": null,
   "metadata": {
    "deletable": false,
    "editable": false
   },
   "outputs": [],
   "source": [
    "from fibo import fib as fibonacci\n",
    "fibonacci(500)     # 0 1 1 2 3 5 8 13 21 34 55 89 144 233 377"
   ]
  },
  {
   "cell_type": "markdown",
   "metadata": {
    "deletable": false,
    "editable": false,
    "run_control": {
     "frozen": true
    }
   },
   "source": [
    "***注釈:*** 実行効率上の理由で、各モジュールはインタープリタの 1 セッションごとに 1 回だけ import されます。従って、モジュールを修正した場合には、インタープリタを再起動させなければなりません -- もしくは、その場で手直ししてテストしたいモジュールが 1 つだった場合には、例えば `import importlib;` `importlib.reload(modulename)` のように [importlib.reload()](https://docs.python.org/ja/3.9/library/importlib.html#importlib.reload) を使ってください。"
   ]
  },
  {
   "cell_type": "markdown",
   "metadata": {
    "deletable": false,
    "editable": false,
    "run_control": {
     "frozen": true
    }
   },
   "source": [
    "### <span style=\"color: blue; \">6.1.1. モジュールをスクリプトとして実行する</span>  \n",
    "Python モジュールを  \n",
    "***\n",
    "`python fibo.py <arguments>`\n",
    "***\n",
    "と実行すると、__name__ に __main__ が設定されている点を除いて import したときと同じようにモジュール内のコードが実行されます。<span style=\"color: red; \">つまりモジュールの末尾に</span>:  \n",
    "  \n",
    "  `if __name__ == \"__main__\":\n",
    "    import sys\n",
    "    fib(int(sys.argv[1]))`\n",
    "  \n",
    "<span style=\"color: red; \">このコードを追加することで、このファイルが import できるモジュールであると同時にスクリプトとしても使えるようになります</span>。なぜならモジュールが \"main\" ファイルとして起動されたときだけ、コマンドラインを解釈するコードが実行されるからです:"
   ]
  },
  {
   "cell_type": "markdown",
   "metadata": {
    "deletable": false,
    "editable": false,
    "run_control": {
     "frozen": true
    }
   },
   "source": [
    "<span style=\"color: gray; \">［補足］本学習環境(DeepAelurus）では下記のセルで `fibo.py` に上記コード(`if __name__ == \"__main__\" …` )を追加して再作成します。</span> "
   ]
  },
  {
   "cell_type": "code",
   "execution_count": null,
   "metadata": {
    "deletable": false,
    "editable": false
   },
   "outputs": [],
   "source": [
    "with open('fibo.py', 'w') as f:\n",
    "    f.write(\"# Fibonacci numbers module\\n\")\n",
    "    f.write(\"def fib(n):    # write Fibonacci series up to n\\n\")\n",
    "    f.write(\"    a, b = 0, 1\\n\")\n",
    "    f.write(\"    while a < n:\\n\")\n",
    "    f.write(\"        print(a, end=' ')\\n\")\n",
    "    f.write(\"        a, b = b, a+b\\n\")\n",
    "    f.write(\"    print()\\n\")\n",
    "  \n",
    "    f.write(\"def fib2(n):   # return Fibonacci series up to n\\n\")        \n",
    "    f.write(\"    result = []\\n\")\n",
    "    f.write(\"    a, b = 0, 1\\n\")\n",
    "    f.write(\"    while a < n:\\n\")\n",
    "    f.write(\"        result.append(a)\\n\")\n",
    "    f.write(\"        a, b = b, a+b\\n\")\n",
    "    f.write(\"    return result\\n\")\n",
    "    \n",
    "    # 今回追加\n",
    "    f.write('if __name__ == \"__main__\":\\n')\n",
    "    f.write(\"    import sys\\n\")\n",
    "    f.write(\"    fib(int(sys.argv[1]))\\n\")\n",
    "f.close\n",
    "\n",
    "with open('fibo.py', 'r') as f:\n",
    "    for line in f:\n",
    "        print(line)\n",
    "f.close"
   ]
  },
  {
   "cell_type": "code",
   "execution_count": null,
   "metadata": {
    "deletable": false,
    "editable": false
   },
   "outputs": [],
   "source": [
    "# $ python fibo.py 50   オリジナルコード\n",
    "# 本環境ではipythonのため、%runで外部のpythonコードを起動します\n",
    "\n",
    "%run -i fibo.py 50　　  # 0 1 1 2 3 5 8 13 21 34"
   ]
  },
  {
   "cell_type": "markdown",
   "metadata": {
    "deletable": false,
    "editable": false,
    "run_control": {
     "frozen": true
    }
   },
   "source": [
    "モジュールが import された場合は、そのコードは実行されません:"
   ]
  },
  {
   "cell_type": "code",
   "execution_count": null,
   "metadata": {
    "deletable": false,
    "editable": false
   },
   "outputs": [],
   "source": [
    "import fibo     # 何も起こらない"
   ]
  },
  {
   "cell_type": "markdown",
   "metadata": {
    "deletable": false,
    "editable": false,
    "run_control": {
     "frozen": true
    }
   },
   "source": [
    "この方法はモジュールに便利なユーザインターフェースを提供したり、テストのために (スクリプトをモジュールとして起動しテストスイートを実行して) 使われます。"
   ]
  },
  {
   "cell_type": "markdown",
   "metadata": {
    "deletable": false,
    "editable": false,
    "run_control": {
     "frozen": true
    }
   },
   "source": [
    "### <span style=\"color: blue; \">6.1.2. モジュール検索パス</span>\n",
    "spam という名前の<span style=\"color: red; \">モジュールをインポートするとき、インタープリターはまずその名前のビルトインモジュールを探します。見つからなかった場合は、 `spam.py` という名前のファイルを [<span style=\"color: red; \">sys.path</span>](https://docs.python.org/ja/3.9/library/sys.html#sys.path) にあるディレクトリのリストから探します</span>。 [sys.path](https://docs.python.org/ja/3.9/library/sys.html#sys.path) は以下の場所に初期化されます:\n",
    "\n",
    "入力されたスクリプトのあるディレクトリ (あるいはファイルが指定されなかったときはカレントディレクトリ)。\n",
    "[PYTHONPATH](https://docs.python.org/ja/3.9/using/cmdline.html#envvar-PYTHONPATH) (ディレクトリ名のリスト。シェル変数の PATH と同じ構文)。\n",
    "インストールごとのデフォルト。"
   ]
  },
  {
   "cell_type": "markdown",
   "metadata": {
    "deletable": false,
    "editable": false,
    "run_control": {
     "frozen": true
    }
   },
   "source": [
    "***注釈：*** シンボリックリンクをサポートするファイルシステム上では、入力されたスクリプトのあるディレクトリはシンボリックリンクをたどった後に計算されます。言い換えるとシンボリックリンクを含むディレクトリはモジュール検索パスに追加 ***されません***。"
   ]
  },
  {
   "cell_type": "markdown",
   "metadata": {
    "deletable": false,
    "editable": false,
    "run_control": {
     "frozen": true
    }
   },
   "source": [
    "初期化された後、 Python プログラムは [sys.path](https://docs.python.org/ja/3.9/library/sys.html#sys.path) を修正することができます。スクリプトファイルを含むディレクトリが検索パスの先頭、標準ライブラリパスよりも前に追加されます。なので、ライブラリのディレクトリにあるファイルよりも、そのディレクトリにある同じ名前のスクリプトが優先してインポートされます。これは、標準ライブラリを意図して置き換えているのでない限りは間違いのもとです。より詳しい情報は [標準モジュール](https://docs.python.org/ja/3.9/tutorial/modules.html#tut-standardmodules) を参照してください。\n",
    "\n"
   ]
  },
  {
   "cell_type": "markdown",
   "metadata": {
    "deletable": false,
    "editable": false,
    "run_control": {
     "frozen": true
    }
   },
   "source": [
    "### <span style=\"color: blue; \">6.1.3. \"コンパイル\" された Python ファイル</span>\n",
    "<span style=\"color: red; \">モジュールの読み込みを高速化するため、Python はコンパイル済みの各モジュールを `__pycache__` ディレクトリの `module.version.pyc` ファイルとしてキャッシュします</span>。ここで version はコンパイルされたファイルのフォーマットを表すもので、一般的には Python のバージョン番号です。例えば、CPython のリリース 3.3 の、コンパイル済みの spam.py は `__pycache__/spam.cpython-33.pyc` としてキャッシュされるでしょう。この命名の慣習により、Python の異なる複数のリリースやバージョンのコンパイル済みモジュールが共存できます。\n",
    "\n",
    "<span style=\"color: red; \">Python はソースの変更日時をコンパイル済みのものと比較し、コンパイル済みのものが最新でなくなり再コンパイルが必要になっていないかを確認します</span>。これは完全に自動で処理されます。また、<span style=\"color: red; \">コンパイル済みモジュールはプラットフォーム非依存なため、アーキテクチャの異なるシステム間で同一のライブラリを共有することもできます</span>。\n",
    "\n",
    "Python は2つの場合にキャッシュのチェックを行いません。ひとつは、コマンドラインから直接モジュールが読み込まれた場合で、常に再コンパイルされ、結果を保存することはありません。2つめは、ソース・モジュールのない場合で、キャッシュの確認を行いません。ソースのない (コンパイル済みのもののみの) 配布をサポートするには、コンパイル済みモジュールはソース・ディレクトリになくてはならず、ソース・ディレクトリにソース・モジュールがあってはいけません。"
   ]
  },
  {
   "cell_type": "markdown",
   "metadata": {
    "deletable": false,
    "editable": false,
    "run_control": {
     "frozen": true
    }
   },
   "source": [
    "エキスパート向けのTips:\n",
    "\n",
    "+ コンパイル済みモジュールのサイズを小さくするために、Python コマンドに [-O](https://docs.python.org/ja/3.9/using/cmdline.html#cmdoption-o) または [-OO](https://docs.python.org/ja/3.9/using/cmdline.html#cmdoption-oo) スイッチを使うことができます。`-O` スイッチは assert ステートメントを除去し、`-OO` スイッチは assert ステートメントと \\_\\_doc\\_\\_ 文字列を除去します。いくつかのプログラムはこれらの除去されるものに依存している可能性があるため、自分が何をしているかを理解しているときに限ってこれらのオプションを使うべきです。\"最適化\" されたモジュールは `opt-` タグを持ち、通常のコンパイル済みモジュールよりサイズが小さくなります。将来のリリースでは最適化の影響が変わる可能性があります。\n",
    "+ `.pyc` ファイルや `.pyo` ファイルから読み出されたとしても、プログラムは `.py` ファイルから読み出されたときより何ら高速に動作するわけではありません。`.pyc` ファイルで高速化されるのは、読み込みにかかる時間だけです。\n",
    "+ [compileall](https://docs.python.org/ja/3.9/library/compileall.html#module-compileall) モジュールを使ってディレクトリ内の全てのモジュールに対して .pyc ファイルを作ることができます。\n",
    "この処理に関する詳細は、判定のフローチャートを含めて、[PEP 3147](https://www.python.org/dev/peps/pep-3147/) に記載されています。"
   ]
  },
  {
   "cell_type": "markdown",
   "metadata": {
    "deletable": false,
    "editable": false,
    "run_control": {
     "frozen": true
    }
   },
   "source": [
    "## <span style=\"color: blue; \">6.2. 標準モジュール</span>\n",
    "Python は標準モジュールライブラリを同梱していて、別の Python ライブラリリファレンスというドキュメントで解説しています。幾つかのモジュールは言語のコアにはアクセスしないものの、効率や、システムコールなどOSの機能を利用するために、インタープリター内部にビルトインされています。そういったモジュールセットはまたプラットフォームに依存した構成オプションです。例えば、 [winreg](https://docs.python.org/ja/3.9/library/winreg.html#module-winreg) モジュールは Windows システムでのみ提供されています。 1つ注目に値するモジュールとして、 [sys](https://docs.python.org/ja/3.9/library/sys.html#module-sys) モジュールは、全ての Python インタープリターにビルトインされています。 `sys.ps1` と `sys.ps2` という変数は一次プロンプトと二次プロンプトに表示する文字列を定義しています:"
   ]
  },
  {
   "cell_type": "code",
   "execution_count": null,
   "metadata": {
    "deletable": false,
    "editable": false
   },
   "outputs": [],
   "source": [
    "import sys\n",
    "sys.ps1      #コマンドラインでは'>>> 'となりますが、本環境では'In : 'となります"
   ]
  },
  {
   "cell_type": "code",
   "execution_count": null,
   "metadata": {
    "deletable": false,
    "editable": false
   },
   "outputs": [],
   "source": [
    "sys.ps2      #コマンドラインでは'... 'となりますが、本環境では'...: 'となります"
   ]
  },
  {
   "cell_type": "code",
   "execution_count": null,
   "metadata": {
    "deletable": false,
    "editable": false
   },
   "outputs": [],
   "source": [
    "sys.ps1 = 'C> '      #コマンドラインでは入力が'C> 'に変わりますが、本環境では変更されません\n",
    "print('Yuck!')       "
   ]
  },
  {
   "cell_type": "markdown",
   "metadata": {
    "deletable": false,
    "editable": false,
    "run_control": {
     "frozen": true
    }
   },
   "source": [
    "これらの二つの変数は、インタプリタが対話モードにあるときだけ定義されています。"
   ]
  },
  {
   "cell_type": "markdown",
   "metadata": {
    "deletable": false,
    "editable": false,
    "run_control": {
     "frozen": true
    }
   },
   "source": [
    "変数 `sys.path` は文字列からなるリストで、インタプリタがモジュールを検索するときのパスを決定します。 `sys.path` は環境変数 [PYTHONPATH](https://docs.python.org/ja/3.9/using/cmdline.html#envvar-PYTHONPATH) から得たデフォルトパスに、 [PYTHONPATH](https://docs.python.org/ja/3.9/using/cmdline.html#envvar-PYTHONPATH) が設定されていなければ組み込みのデフォルト値に設定されます。標準的なリスト操作で変更することができます:"
   ]
  },
  {
   "cell_type": "code",
   "execution_count": null,
   "metadata": {
    "deletable": false,
    "editable": false
   },
   "outputs": [],
   "source": [
    "import sys\n",
    "sys.path.append('/ufs/guido/lib/python')\n",
    "print(sys.path)"
   ]
  },
  {
   "cell_type": "markdown",
   "metadata": {
    "deletable": false,
    "editable": false,
    "run_control": {
     "frozen": true
    }
   },
   "source": [
    "## <span style=\"color: blue; \">6.3. dir() 関数</span>\n",
    "組込み関数 [dir()](https://docs.python.org/ja/3.9/library/functions.html#dir) は、あるモジュールがどんな名前を定義しているか調べるために使われます。 [dir()](https://docs.python.org/ja/3.9/library/functions.html#dir) はソートされた文字列のリストを返します:"
   ]
  },
  {
   "cell_type": "code",
   "execution_count": null,
   "metadata": {
    "deletable": false,
    "editable": false
   },
   "outputs": [],
   "source": [
    "import fibo, sys\n",
    "dir(fibo)"
   ]
  },
  {
   "cell_type": "code",
   "execution_count": null,
   "metadata": {
    "deletable": false,
    "editable": false
   },
   "outputs": [],
   "source": [
    "dir(sys)"
   ]
  },
  {
   "cell_type": "markdown",
   "metadata": {
    "deletable": false,
    "editable": false,
    "run_control": {
     "frozen": true
    }
   },
   "source": [
    "引数がなければ、 dir() は現在定義している名前を列挙します:"
   ]
  },
  {
   "cell_type": "code",
   "execution_count": null,
   "metadata": {
    "deletable": false,
    "editable": false
   },
   "outputs": [],
   "source": [
    "a = [1, 2, 3, 4, 5]\n",
    "import fibo\n",
    "ib = fibo.fib\n",
    "# dir()             #本環境ではこれまで実行してきた定義が全て表示されてしまうので（大量に表示）\n",
    "                    # コメントアウトしています\n",
    "                    #６.３章から始めたのであれば、\n",
    "                    #  ['__builtins__', '__name__', 'a', 'fib', 'fibo', 'sys']　となります　　　　　　　　　　　"
   ]
  },
  {
   "cell_type": "markdown",
   "metadata": {
    "deletable": false,
    "editable": false,
    "run_control": {
     "frozen": true
    }
   },
   "source": [
    "変数、モジュール、関数、その他の、すべての種類の名前をリストすることに注意してください。\n",
    "\n",
    "[dir()](https://docs.python.org/ja/3.9/library/functions.html#dir) は、組込みの関数や変数の名前はリストしません。これらの名前からなるリストが必要なら、標準モジュール [builtins](https://docs.python.org/ja/3.9/library/builtins.html#module-builtins) で定義されています:"
   ]
  },
  {
   "cell_type": "code",
   "execution_count": null,
   "metadata": {
    "deletable": false,
    "editable": false
   },
   "outputs": [],
   "source": [
    "import builtins\n",
    "dir(builtins)"
   ]
  },
  {
   "cell_type": "markdown",
   "metadata": {
    "deletable": false,
    "editable": false,
    "run_control": {
     "frozen": true
    }
   },
   "source": [
    "## <span style=\"color: blue; \">6.4. パッケージ</span>\n",
    "<span style=\"color: red; \">パッケージ (package) は、Python のモジュール名前空間を \"ドット付きモジュール名\" を使って構造化する手段です</span>。例えば、モジュール名 A.B は、 `A` というパッケージのサブモジュール `B` を表します。ちょうど、モジュールを利用すると、別々のモジュールの著者が互いのグローバル変数名について心配しなくても済むようになるのと同じように、ドット付きモジュール名を利用すると、 NumPy や Pillow のように複数モジュールからなるパッケージの著者が、互いのモジュール名について心配しなくても済むようになります。\n",
    "\n",
    "音声ファイルや音声データを一様に扱うためのモジュールのコレクション (\"パッケージ\") を設計したいと仮定しましょう。 音声ファイルには多くの異なった形式がある (通常は拡張子、 例えば `.wav`, `.aiff`, `.au` などで認識されます) ので、増え続ける様々なファイル形式を相互変換するモジュールを、 作成したりメンテナンスしたりする必要があるかもしれません。 また、 音声データに対して実行したい様々な独自の操作 (ミキシング、 エコーの追加、 イコライザ関数の適用、 人工的なステレオ効果の作成など) があるかもしれません。 そうなると、 こうした操作を実行するモジュールを果てしなく書くことになるでしょう。 以下に (階層的なファイルシステムで表現した) パッケージの構造案を示します:  \n",
    "***\n",
    "`sound/                          Top-level package\n",
    "      __init__.py               Initialize the sound package\n",
    "      formats/                  Subpackage for file format conversions\n",
    "              __init__.py\n",
    "              wavread.py\n",
    "              wavwrite.py\n",
    "              aiffread.py\n",
    "              aiffwrite.py\n",
    "              auread.py\n",
    "              auwrite.py\n",
    "              ...\n",
    "      effects/                  Subpackage for sound effects\n",
    "              __init__.py\n",
    "              echo.py\n",
    "              surround.py\n",
    "              reverse.py\n",
    "              ...\n",
    "      filters/                  Subpackage for filters\n",
    "              __init__.py\n",
    "              equalizer.py\n",
    "              vocoder.py\n",
    "              karaoke.py\n",
    "              ...`\n",
    "***"
   ]
  },
  {
   "cell_type": "markdown",
   "metadata": {
    "deletable": false,
    "editable": false,
    "run_control": {
     "frozen": true
    }
   },
   "source": [
    "<span style=\"color: red; \">パッケージを import する際、 Python は `sys.path` 上のディレクトリを検索して、トップレベルのパッケージの入ったサブディレクトリを探します</span>。\n",
    "\n",
    "<span style=\"color: red; \">ファイルを含むディレクトリをパッケージとしてPython に扱わせるには、ファイル `__init__.py` が必要です。 これにより、 `string` のようなよくある名前のディレクトリにより、モジュール検索パスの後の方で見つかる正しいモジュールが意図せず隠蔽されてしまうのを防ぐためです</span>。 最も簡単なケースでは `__init__.py` はただの空ファイルで構いませんが、 __init__.py ではパッケージのための初期化コードを実行したり、後述の `__all__` 変数を設定してもかまいません。\n",
    "\n",
    "パッケージのユーザは、個々のモジュールをパッケージから import することができます。例えば:  \n",
    "***\n",
    "`import sound.effects.echo`\n",
    "***\n",
    "この操作はサブモジュール sound.effects.echo をロードします。このモジュールは、以下のように完全な名前で参照しなければなりません。  \n",
    "***\n",
    "`sound.effects.echo.echofilter(input, output, delay=0.7, atten=4)`\n",
    "***\n",
    "サブモジュールを import するもう一つの方法を示します:\n",
    "***\n",
    "`from sound.effects import echo`\n",
    "***\n",
    "これもサブモジュール echo をロードし、 echo をパッケージ名を表す接頭辞なしで利用できるようにします。従って以下のように用いることができます:  \n",
    "***\n",
    "`echo.echofilter(input, output, delay=0.7, atten=4)`\n",
    "***\n",
    "さらにもう一つのバリエーションとして、必要な関数や変数を直接 import する方法があります:  \n",
    "***\n",
    "`from sound.effects.echo import echofilter`\n",
    "この操作も同様にサブモジュール echo をロードしますが、 echofilter() を直接利用できるようにします:  \n",
    "***\n",
    "`echofilter(input, output, delay=0.7, atten=4)`\n",
    "***\n",
    "`from package import item` を使う場合、 item はパッケージ package のサブモジュール (またはサブパッケージ) でもかまいませんし、関数やクラス、変数のような、 package で定義されている別の名前でもかまわないことに注意してください。 `import` 文はまず、 item がパッケージ内で定義されているかどうか調べます。定義されていなければ、 item はモジュール名であると仮定して、モジュールをロードしようと試みます。もしモジュールが見つからなければ、 [ImportError](https://docs.python.org/ja/3.9/library/exceptions.html#ImportError) が送出されます。\n",
    "\n",
    "反対に、 `import item.subitem.subsubitem` のような構文を使った場合、最後の `subsubitem` を除く各要素はパッケージでなければなりません。最後の要素はモジュールかパッケージにできますが、一つ前の要素で定義されているクラスや関数や変数にはできません。"
   ]
  },
  {
   "cell_type": "markdown",
   "metadata": {
    "deletable": false,
    "editable": false,
    "run_control": {
     "frozen": true
    }
   },
   "source": [
    "### <span style=\"color: blue; \">6.4.1. パッケージから * を import する</span>\n",
    "それでは、ユーザが `from sound.effects import *` と書いたら、どうなるのでしょうか？理想的には、何らかの方法でファイルシステムが調べられ、そのパッケージにどんなサブモジュールがあるかを調べ上げ、全てを import する、という処理を望むことでしょう。これには長い時間がかかってしまうこともありますし、あるサブモジュールを import することで、そのモジュールが明示的に import されたときのみ発生して欲しい副作用が起きてしまうかもしれません。\n",
    "\n",
    "唯一の解決策は、パッケージの作者にパッケージの索引を明示的に提供させる というものです。 [import](https://docs.python.org/ja/3.9/reference/simple_stmts.html#import) 文の使う規約は、<span style=\"color: red; \">パッケージの `__init__.py` コードに `__all__` という名前のリストが定義されていれば、 from package import * が現れたときに import すべきモジュール名のリストとして使う、というものです</span>。 パッケージの新バージョンがリリースされるときにリストを最新の状態に更新するのは パッケージの作者の責任となります。 自分のパッケージから * を import するという使い方が考えられないならば、 パッケージの作者はこの使い方をサポートしないことにしてもかまいません。 例えば、ファイル `sound/effects/__init__.py` には、次のような コードを入れてもよいかもしれません:  \n",
    "***\n",
    "`__all__ = [\"echo\", \"surround\", \"reverse\"]`\n",
    "***\n",
    "この例では、 `from sound.effects import *` とすると、 sound パッケージから指定された 3つのサブモジュールが import されることになっている、ということを意味します。\n",
    "\n",
    "もしも `__all__` が定義されていなければ、実行文 `from sound.effects import *` は、パッケージ sound.effects の全てのサブモジュールを現在の名前空間の中へ import しません 。この文は単に(場合によっては初期化コード `__init__.py` を実行して) パッケージ sound.effects が import されたということを確認し、そのパッケージで定義されている名前を全て import するだけです。 import される名前には、 `__init__.py` で定義された名前 (と、明示的にロードされたサブモジュール) が含まれます。パッケージのサブモジュールで、以前の [import](https://docs.python.org/ja/3.9/reference/simple_stmts.html#import) 文で明示的にロードされたものも含みます。以下のコードを考えてください:  \n",
    "***\n",
    "`import sound.effects.echo`  \n",
    "`import sound.effects.surround`  \n",
    "`from sound.effects import *`  \n",
    "***\n",
    "上の例では、 echo と surround モジュールが現在の名前空間に import されます。これらのモジュールは `from...import` 文が実行された際に sound.effects 内で定義されているからです。 (この機構は `__all__` が定義されているときにも働きます。)\n",
    "\n",
    "特定のモジュールでは `import *` を使ったときに、特定のパターンに従った名前のみを公開 (export) するように設計されてはいますが、それでもやはり製品のコードでは良いことではないと考えます。\n",
    "\n",
    "`from package import specific_submodule` を使っても何も問題はないことに留意してください！実際この表記法は、import を行うモジュールが他のパッケージと同じ名前を持つサブモジュールを使わなければならない場合を除いて推奨される方式です。"
   ]
  },
  {
   "cell_type": "markdown",
   "metadata": {
    "deletable": false,
    "editable": false,
    "run_control": {
     "frozen": true
    }
   },
   "source": [
    "### <span style=\"color: blue; \">6.4.2. パッケージ内参照</span>\n",
    "パッケージが (前述の例の sound パッケージのように) サブパッケージの集まりに構造化されている場合、絶対 import を使って兄弟関係にあるパッケージを参照できます。例えば、モジュール sound.filters.vocoder で sound.effects パッケージの echo モジュールを使いたいとすると、 `from sound.effects import echo` を使うことができます。\n",
    "\n",
    "また、明示的な相対importを from module import name の形式の import 文で利用できます。この明示的な相対 import では、先頭のドットで現在および親パッケージを指定します。 surround モジュールの例では、以下のように記述できます:  \n",
    "***\n",
    "`from . import echo`\n",
    "`from .. import formats`\n",
    "`from ..filters import equalizer`\n",
    "***\n",
    "相対 import は現在のモジュール名をベースにすることに注意してください。メインモジュールの名前は常に `\"__main__\"` なので、Python アプリケーションのメインモジュールとして利用されることを意図しているモジュールでは絶対 import を利用するべきです。"
   ]
  },
  {
   "cell_type": "markdown",
   "metadata": {
    "deletable": false,
    "editable": false,
    "run_control": {
     "frozen": true
    }
   },
   "source": [
    "### <span style=\"color: blue; \">6.4.3. 複数ディレクトリ中のパッケージ</span>\n",
    "パッケージはもう一つ特別な属性として [\\_\\_path\\_\\_](https://docs.python.org/ja/3.9/reference/import.html#__path__) をサポートしています。この属性は、パッケージの `__init__.py` 中のコードが実行されるよりも前に、 `__init__.py` の収められているディレクトリ名の入ったリストになるよう初期化されます。この変数は変更することができます。変更を加えると、以降そのパッケージに入っているモジュールやサブパッケージの検索に影響します。\n",
    "\n",
    "この機能はほとんど必要にはならないのですが、パッケージ内存在するモジュール群を拡張するために使うことができます。\n",
    "\n"
   ]
  },
  {
   "cell_type": "markdown",
   "metadata": {
    "deletable": false,
    "editable": false,
    "run_control": {
     "frozen": true
    }
   },
   "source": [
    "# <span style=\"color: blue; \">7. 入力と出力<a id='anchor7'></span>\n",
    "プログラムの出力方法にはいくつかの種類があります。 データを人間が読める形で出力することもあれば、将来使うためにファイルに書くこともあります。 この章では、こうした幾つかの出力の方法について話します。"
   ]
  },
  {
   "cell_type": "markdown",
   "metadata": {
    "deletable": false,
    "editable": false,
    "run_control": {
     "frozen": true
    }
   },
   "source": [
    "## <span style=\"color: blue; \">7.1. 出力を見やすくフォーマットする</span>\n",
    "これまでに、値を出力する二つの方法: 式文 (expression statement) と [print()](https://docs.python.org/ja/3.9/library/functions.html#print) 関数が出てきました。 (第三はファイルオブジェクトの write() メソッドを使う方法です。標準出力を表すファイルは sys.stdout で参照できます。詳細はライブラリリファレンスを参照してください。)\n",
    "\n",
    "単に空白区切りで値を並べただけの出力よりも、フォーマットを制御したいと思うことはよくあることでしょう。 出力をフォーマットする方法はいくつかあります。"
   ]
  },
  {
   "cell_type": "markdown",
   "metadata": {
    "deletable": false,
    "editable": false,
    "run_control": {
     "frozen": true
    }
   },
   "source": [
    "+ <span style=\"color: red; \">[<span style=\"color: red; \">フォーマット済み文字列リテラル</span>](https://docs.python.org/ja/3.9/tutorial/inputoutput.html#tut-f-strings) を使うには、開き引用符や三重の開き引用符の前に `f` あるいは `F` を付けて文字列を始めます</span>。 この文字列の内側では、文字 `{` と文字 `}` の間に Python の式が書け、その式から変数やリテラル値が参照できます。"
   ]
  },
  {
   "cell_type": "code",
   "execution_count": null,
   "metadata": {
    "deletable": false,
    "editable": false
   },
   "outputs": [],
   "source": [
    "year = 2016\n",
    "event = 'Referendum'\n",
    "f'Results of the {year} {event}'    # 'Results of the 2016 Referendum'"
   ]
  },
  {
   "cell_type": "markdown",
   "metadata": {
    "deletable": false,
    "editable": false,
    "run_control": {
     "frozen": true
    }
   },
   "source": [
    "+ 文字列の [str.format()](https://docs.python.org/ja/3.9/library/stdtypes.html#str.format) メソッドは、もう少し手間がかかります。 ここでも `{` と `}` を使って変数に代入する場所の印を付けて、細かいフォーマットの指示を出せますが、フォーマットされる対象の情報を与える必要があります。"
   ]
  },
  {
   "cell_type": "code",
   "execution_count": null,
   "metadata": {
    "deletable": false,
    "editable": false
   },
   "outputs": [],
   "source": [
    "yes_votes = 42_572_654\n",
    "no_votes = 43_132_495\n",
    "percentage = yes_votes / (yes_votes + no_votes)\n",
    "'{:-9} YES votes  {:2.2%}'.format(yes_votes, percentage)  # ' 42572654 YES votes  49.67%'"
   ]
  },
  {
   "cell_type": "markdown",
   "metadata": {
    "deletable": false,
    "editable": false,
    "run_control": {
     "frozen": true
    }
   },
   "source": [
    "+ 最後に、文字列のスライス操作や結合操作を使い、全ての文字列を自分で処理し、思い通りのレイアウトを作成できます。 文字列型には、文字列の間隔を調整して指定されたカラム幅に揃えるのに便利な操作を行うメソッドがいくつかあります。"
   ]
  },
  {
   "cell_type": "markdown",
   "metadata": {
    "deletable": false,
    "editable": false,
    "run_control": {
     "frozen": true
    }
   },
   "source": [
    "凝った出力である必要は無いけれど、デバッグ目的で変数をすばやく表示したいときは、 [repr()](https://docs.python.org/ja/3.9/library/functions.html#repr) 関数か [str()](https://docs.python.org/ja/3.9/library/stdtypes.html#str) 関数でどんな値も文字列に変換できます。\n",
    "\n",
    "<span style=\"color: red; \">[<span style=\"color: red; \">str()</span>](https://docs.python.org/ja/3.9/library/stdtypes.html#str) 関数は値の人間に読める表現を返すためのもので、 [<span style=\"color: red; \">repr()</span>](https://docs.python.org/ja/3.9/library/functions.html#repr) 関数はインタープリタに読める (あるいは同値となる構文がない場合は必ず [<span style=\"color: red; \">SyntaxError</span>](https://docs.python.org/ja/3.9/library/exceptions.html#SyntaxError) になるような) 表現を返すためのものです</span>。人間が読むのに適した特定の表現を持たないオブジェクトにおいては、 [str()](https://docs.python.org/ja/3.9/library/stdtypes.html#str) は [repr()](https://docs.python.org/ja/3.9/library/functions.html#repr) と同じ値を返します。数値や、リストや辞書を始めとするデータ構造など、多くの値がどちらの関数に対しても同じ表現を返します。一方、文字列は、2つの異なる表現を持っています。 \n",
    "  \n",
    "例："
   ]
  },
  {
   "cell_type": "code",
   "execution_count": null,
   "metadata": {
    "deletable": false,
    "editable": false
   },
   "outputs": [],
   "source": [
    "s = 'Hello, world.'\n",
    "str(s)      # 'Hello, world.'"
   ]
  },
  {
   "cell_type": "code",
   "execution_count": null,
   "metadata": {
    "deletable": false,
    "editable": false
   },
   "outputs": [],
   "source": [
    "repr(s)    # \"'Hello, world.'\""
   ]
  },
  {
   "cell_type": "code",
   "execution_count": null,
   "metadata": {
    "deletable": false,
    "editable": false
   },
   "outputs": [],
   "source": [
    "str(1/7)   # '0.14285714285714285'"
   ]
  },
  {
   "cell_type": "code",
   "execution_count": null,
   "metadata": {
    "deletable": false,
    "editable": false
   },
   "outputs": [],
   "source": [
    "x = 10 * 3.25\n",
    "y = 200 * 200\n",
    "s = 'The value of x is ' + repr(x) + ', and y is ' + repr(y) + '...'\n",
    "print(s)      #  The value of x is 32.5, and y is 40000..."
   ]
  },
  {
   "cell_type": "code",
   "execution_count": null,
   "metadata": {
    "deletable": false,
    "editable": false
   },
   "outputs": [],
   "source": [
    "# The repr() of a string adds string quotes and backslashes:\n",
    "hello = 'hello, world\\n'\n",
    "hellos = repr(hello)\n",
    "print(hellos)       #  'hello, world\\n'"
   ]
  },
  {
   "cell_type": "code",
   "execution_count": null,
   "metadata": {
    "deletable": false,
    "editable": false
   },
   "outputs": [],
   "source": [
    "# The argument to repr() may be any Python object:\n",
    "repr((x, y, ('spam', 'eggs')))   # \"(32.5, 40000, ('spam', 'eggs'))\""
   ]
  },
  {
   "cell_type": "markdown",
   "metadata": {
    "deletable": false,
    "editable": false,
    "run_control": {
     "frozen": true
    }
   },
   "source": [
    "[string](https://docs.python.org/ja/3.9/library/string.html#module-string) モジュールの [Template](https://docs.python.org/ja/3.9/library/string.html#string.Template) クラスも、文字列中の値を置換する別の方法を提供しています。 `$x` のようなプレースホルダーを使い、その箇所と辞書にある値を置き換えますが、使えるフォーマット方式はとても少ないです。"
   ]
  },
  {
   "cell_type": "markdown",
   "metadata": {
    "deletable": false,
    "editable": false,
    "run_control": {
     "frozen": true
    }
   },
   "source": [
    "### <span style=\"color: blue; \">7.1.1. フォーマット済み文字列リテラル</span>\n",
    "<span style=\"color: red; \">[<span style=\"color: red; \">フォーマット済み文字リテラル</span>](https://docs.python.org/ja/3.9/reference/lexical_analysis.html#f-strings) (短くして f-string とも呼びます) では、文字列の頭に f か F を付け、式を `{expression}` と書くことで、 Python の式の値を文字列の中に入れ込めます</span>。\n",
    "\n",
    "オプションのフォーマット指定子を式の後ろに付けられます。 このフォーマット指定子によって値のフォーマット方式を制御できます。 次の例では、円周率πを小数点以下3桁に丸めてフォーマットしています:"
   ]
  },
  {
   "cell_type": "code",
   "execution_count": null,
   "metadata": {
    "deletable": false,
    "editable": false
   },
   "outputs": [],
   "source": [
    "import math\n",
    "print(f'The value of pi is approximately {math.pi:.3f}.')  #The value of pi is approximately 3.142."
   ]
  },
  {
   "cell_type": "markdown",
   "metadata": {
    "deletable": false,
    "editable": false,
    "run_control": {
     "frozen": true
    }
   },
   "source": [
    "`':'` の後ろに整数をつけると、そのフィールドの最小の文字幅を指定できます。 この機能は縦を揃えるのに便利です。"
   ]
  },
  {
   "cell_type": "code",
   "execution_count": null,
   "metadata": {
    "deletable": false,
    "editable": false
   },
   "outputs": [],
   "source": [
    "table = {'Sjoerd': 4127, 'Jack': 4098, 'Dcab': 7678}\n",
    "for name, phone in table.items():\n",
    "    print(f'{name:10} ==> {phone:10d}')"
   ]
  },
  {
   "cell_type": "markdown",
   "metadata": {
    "deletable": false,
    "editable": false,
    "run_control": {
     "frozen": true
    }
   },
   "source": [
    "他の修飾子は、フォーマットする前に値を変換するのに使えます。 `'!a'` は [ascii()](https://docs.python.org/ja/3.9/library/functions.html#ascii) を、 `'!s'` は [str()](https://docs.python.org/ja/3.9/library/stdtypes.html#str) を、 `'!r'` は [repr()](https://docs.python.org/ja/3.9/library/functions.html#repr) を適用します:"
   ]
  },
  {
   "cell_type": "code",
   "execution_count": null,
   "metadata": {
    "deletable": false,
    "editable": false
   },
   "outputs": [],
   "source": [
    "animals = 'eels'\n",
    "print(f'My hovercraft is full of {animals}.')   # My hovercraft is full of eels."
   ]
  },
  {
   "cell_type": "code",
   "execution_count": null,
   "metadata": {
    "deletable": false,
    "editable": false
   },
   "outputs": [],
   "source": [
    "print(f'My hovercraft is full of {animals!r}.')  # My hovercraft is full of 'eels'."
   ]
  },
  {
   "cell_type": "markdown",
   "metadata": {
    "deletable": false,
    "editable": false,
    "run_control": {
     "frozen": true
    }
   },
   "source": [
    "これらのフォーマット仕様の参考資料として、 [書式指定ミニ言語仕様](https://docs.python.org/ja/3.9/library/string.html#formatspec) のガイドを参照してください。"
   ]
  },
  {
   "cell_type": "markdown",
   "metadata": {
    "deletable": false,
    "editable": false,
    "run_control": {
     "frozen": true
    }
   },
   "source": [
    "### <span style=\"color: blue; \">7.1.2. 文字列の format() メソッド</span>\n",
    "[str.format()](https://docs.python.org/ja/3.9/library/stdtypes.html#str.format) メソッドの基本的な使い方は次のようなものです:"
   ]
  },
  {
   "cell_type": "code",
   "execution_count": null,
   "metadata": {
    "deletable": false,
    "editable": false
   },
   "outputs": [],
   "source": [
    "print('We are the {} who say \"{}!\"'.format('knights', 'Ni'))\n",
    "      #  We are the knights who say \"Ni!\""
   ]
  },
  {
   "cell_type": "markdown",
   "metadata": {
    "deletable": false,
    "editable": false,
    "run_control": {
     "frozen": true
    }
   },
   "source": [
    "括弧とその中の文字(これをフォーマットフィールドと呼びます)は、 [str.format()](https://docs.python.org/ja/3.9/library/stdtypes.html#str.format) メソッドに渡されたオブジェクトに置換されます。括弧の中の数字は [str.format()](https://docs.python.org/ja/3.9/library/stdtypes.html#str.format) メソッドに渡されたオブジェクトの位置を表すのに使えます。"
   ]
  },
  {
   "cell_type": "code",
   "execution_count": null,
   "metadata": {
    "deletable": false,
    "editable": false
   },
   "outputs": [],
   "source": [
    "print('{0} and {1}'.format('spam', 'eggs'))  # spam and eggs"
   ]
  },
  {
   "cell_type": "code",
   "execution_count": null,
   "metadata": {
    "deletable": false,
    "editable": false
   },
   "outputs": [],
   "source": [
    "print('{1} and {0}'.format('spam', 'eggs'))  # eggs and spam"
   ]
  },
  {
   "cell_type": "markdown",
   "metadata": {
    "deletable": false,
    "editable": false,
    "run_control": {
     "frozen": true
    }
   },
   "source": [
    "[str.format()](https://docs.python.org/ja/3.9/library/stdtypes.html#str.format) メソッドにキーワード引数が渡された場合、その値はキーワード引数の名前によって参照されます。"
   ]
  },
  {
   "cell_type": "code",
   "execution_count": null,
   "metadata": {
    "deletable": false,
    "editable": false
   },
   "outputs": [],
   "source": [
    "print('This {food} is {adjective}.'.format(\n",
    "    food='spam', adjective='absolutely horrible'))  # This spam is absolutely horrible."
   ]
  },
  {
   "cell_type": "markdown",
   "metadata": {
    "deletable": false,
    "editable": false,
    "run_control": {
     "frozen": true
    }
   },
   "source": [
    "順序引数とキーワード引数を組み合わせて使うこともできます:"
   ]
  },
  {
   "cell_type": "code",
   "execution_count": null,
   "metadata": {
    "deletable": false,
    "editable": false
   },
   "outputs": [],
   "source": [
    "print('The story of {0}, {1}, and {other}.'.format('Bill', 'Manfred',\n",
    "                                                   other='Georg'))\n",
    "            # The story of Bill, Manfred, and Georg."
   ]
  },
  {
   "cell_type": "markdown",
   "metadata": {
    "deletable": false,
    "editable": false,
    "run_control": {
     "frozen": true
    }
   },
   "source": [
    "もしも長い書式文字列があり、それを分割したくない場合には、変数を引数の位置ではなく変数の名前で参照できるとよいでしょう。これは、辞書を引数に渡して、角括弧 `'[]'` を使って辞書のキーを参照することで可能です。"
   ]
  },
  {
   "cell_type": "code",
   "execution_count": null,
   "metadata": {
    "deletable": false,
    "editable": false
   },
   "outputs": [],
   "source": [
    "table = {'Sjoerd': 4127, 'Jack': 4098, 'Dcab': 8637678}\n",
    "print('Jack: {0[Jack]:d}; Sjoerd: {0[Sjoerd]:d}; '\n",
    "      'Dcab: {0[Dcab]:d}'.format(table))   #  Jack: 4098; Sjoerd: 4127; Dcab: 8637678"
   ]
  },
  {
   "cell_type": "markdown",
   "metadata": {
    "deletable": false,
    "editable": false,
    "run_control": {
     "frozen": true
    }
   },
   "source": [
    "table を \\'**\\' 記法を使ってキーワード引数として渡す方法もあります。"
   ]
  },
  {
   "cell_type": "code",
   "execution_count": null,
   "metadata": {
    "deletable": false,
    "editable": false
   },
   "outputs": [],
   "source": [
    "table = {'Sjoerd': 4127, 'Jack': 4098, 'Dcab': 8637678}\n",
    "print('Jack: {Jack:d}; Sjoerd: {Sjoerd:d}; Dcab: {Dcab:d}'.format(**table))\n",
    "       # Jack: 4098; Sjoerd: 4127; Dcab: 8637678"
   ]
  },
  {
   "cell_type": "markdown",
   "metadata": {
    "deletable": false,
    "editable": false,
    "run_control": {
     "frozen": true
    }
   },
   "source": [
    "全てのローカルな変数が入った辞書を返す組み込み関数 [vars()](https://docs.python.org/ja/3.9/library/functions.html#vars) と組み合わせると特に便利です。\n",
    "\n",
    "例として、下のコード行は与えられた整数とその 2 乗と 3 乗がきちんと揃った列を生成します:"
   ]
  },
  {
   "cell_type": "code",
   "execution_count": null,
   "metadata": {
    "deletable": false,
    "editable": false
   },
   "outputs": [],
   "source": [
    "for x in range(1, 11):\n",
    "    print('{0:2d} {1:3d} {2:4d}'.format(x, x*x, x*x*x))"
   ]
  },
  {
   "cell_type": "markdown",
   "metadata": {
    "deletable": false,
    "editable": false,
    "run_control": {
     "frozen": true
    }
   },
   "source": [
    "[str.format()](https://docs.python.org/ja/3.9/library/stdtypes.html#str.format) による文字列書式設定の完全な解説は、 [書式指定文字列の文法](https://docs.python.org/ja/3.9/library/string.html#formatstrings) を参照してください。"
   ]
  },
  {
   "cell_type": "markdown",
   "metadata": {
    "deletable": false,
    "editable": false,
    "run_control": {
     "frozen": true
    }
   },
   "source": [
    "### <span style=\"color: blue; \">7.1.3. 文字列の手作業でのフォーマット</span>\n",
    "次は 2 乗と 3 乗の値からなる同じ表を手作業でフォーマットしたものです:"
   ]
  },
  {
   "cell_type": "code",
   "execution_count": null,
   "metadata": {
    "deletable": false,
    "editable": false
   },
   "outputs": [],
   "source": [
    "for x in range(1, 11):\n",
    "    print(repr(x).rjust(2), repr(x*x).rjust(3), end=' ')\n",
    "    # Note use of 'end' on previous line\n",
    "    print(repr(x*x*x).rjust(4))"
   ]
  },
  {
   "cell_type": "markdown",
   "metadata": {
    "deletable": false,
    "editable": false,
    "run_control": {
     "frozen": true
    }
   },
   "source": [
    "(各カラムの間のスペース一個分は [print()](https://docs.python.org/ja/3.9/library/functions.html#print) の動作で追加されていることに注意してください。 [print()](https://docs.python.org/ja/3.9/library/functions.html#print) は常に引数間に空白を追加します。)\n",
    "\n",
    "文字列オブジェクトの [str.rjust()](https://docs.python.org/ja/3.9/library/stdtypes.html#str.rjust) メソッドは、指定された幅のフィールド内に文字列が右寄せで入るように左側に空白を追加します。 同様のメソッドとして、 [str.ljust()](https://docs.python.org/ja/3.9/library/stdtypes.html#str.ljust) と [str.center()](https://docs.python.org/ja/3.9/library/stdtypes.html#str.center) があります。 これらのメソッドは何か出力を行うわけではなく、ただ新しい文字列を返します。 入力文字列が長すぎる場合、文字列を切り詰めることはせず、値をそのまま返します。この仕様のためにカラムのレイアウトが滅茶苦茶になるかもしれませんが、嘘の値が代わりに書き出されるよりはましです。 (本当に切り詰めを行いたいのなら、全てのカラムに `x.ljust(n)[:n]` のようにスライス表記を加えることもできます。)\n",
    "\n",
    "もう一つのメソッド、 <span style=\"color: red; \">[<span style=\"color: red; \">str.zfill()</span>](https://docs.python.org/ja/3.9/library/stdtypes.html#str.zfill) は、数値文字列の左側をゼロ詰めします。このメソッドは正と負の符号を正しく扱います</span>:"
   ]
  },
  {
   "cell_type": "code",
   "execution_count": null,
   "metadata": {
    "deletable": false,
    "editable": false
   },
   "outputs": [],
   "source": [
    "'12'.zfill(5)    # '00012' "
   ]
  },
  {
   "cell_type": "code",
   "execution_count": null,
   "metadata": {
    "deletable": false,
    "editable": false
   },
   "outputs": [],
   "source": [
    "'-3.14'.zfill(7)   # '-003.14'"
   ]
  },
  {
   "cell_type": "code",
   "execution_count": null,
   "metadata": {
    "deletable": false,
    "editable": false
   },
   "outputs": [],
   "source": [
    "'3.14159265359'.zfill(5) # '3.14159265359'"
   ]
  },
  {
   "cell_type": "markdown",
   "metadata": {
    "deletable": false,
    "editable": false,
    "run_control": {
     "frozen": true
    }
   },
   "source": [
    "### <span style=\"color: blue; \">7.1.4. 古い文字列書式設定方法</span>\n",
    "% 演算子 (剰余) は文字列のフォーマットでも使えます。 `'string' % values` という文字列が与えられた場合、`string` の中の `%` 部分はゼロあるいは `values` の余りの要素に置換えられます。 この操作は文字列補間として知られています。 例えば:"
   ]
  },
  {
   "cell_type": "code",
   "execution_count": null,
   "metadata": {
    "deletable": false,
    "editable": false
   },
   "outputs": [],
   "source": [
    "import math\n",
    "print('The value of pi is approximately %5.3f.' % math.pi)\n",
    "          # The value of pi is approximately 3.142."
   ]
  },
  {
   "cell_type": "markdown",
   "metadata": {
    "deletable": false,
    "editable": false,
    "run_control": {
     "frozen": true
    }
   },
   "source": [
    "より詳しい情報は [printf 形式の文字列書式化](https://docs.python.org/ja/3.9/library/stdtypes.html#old-string-formatting) にあります。"
   ]
  },
  {
   "cell_type": "markdown",
   "metadata": {
    "deletable": false,
    "editable": false,
    "run_control": {
     "frozen": true
    }
   },
   "source": [
    "## <span style=\"color: blue; \">7.2. ファイルを読み書きする</span>\n",
    "<span style=\"color: red; \">[<span style=\"color: red; \">open()</span>](https://docs.python.org/ja/3.9/library/functions.html#open) は [<span style=\"color: red; \">file object</span>](https://docs.python.org/ja/3.9/glossary.html#term-file-object) を返します。大抵、 `open(filename, mode)` のように二つの引数を伴って呼び出されます</span>。"
   ]
  },
  {
   "cell_type": "code",
   "execution_count": null,
   "metadata": {
    "deletable": false,
    "editable": false
   },
   "outputs": [],
   "source": [
    "f = open('workfile', 'w')"
   ]
  },
  {
   "cell_type": "markdown",
   "metadata": {
    "deletable": false,
    "editable": false,
    "run_control": {
     "frozen": true
    }
   },
   "source": [
    "最初の引数はファイル名の入った文字列です。二つめの引数も文字列で、ファイルをどのように使うかを示す数個の文字が入っています。 _mode_ は、ファイルが読み出し専用なら `'r'` 、書き込み専用 (同名の既存のファイルがあれば消去されます) なら `'w'` とします。 `'a'` はファイルを追記用に開きます。ファイルに書き込まれた内容は自動的にファイルの終端に追加されます。 `'r+'` はファイルを読み書き両用に開きます。 mode 引数は省略可能で、省略された場合には `'r'` であると仮定します。\n",
    "\n",
    "通常、ファイルはテキストモード (text mode) で開かれ、特定のエンコーディングでエンコードされたファイルに対して文字列を読み書きします。エンコーディングが指定されなければ、デフォルトはプラットフォーム依存です ([open()](https://docs.python.org/ja/3.9/library/functions.html#open) を参照してください) 。モードに 'b' をつけるとファイルをバイナリモード (binary mode) で開き、 byte オブジェクトを読み書きします。テキストファイル以外のすべてのファイルはバイナリモードを利用するべきです。\n",
    "\n",
    "テキストモードの読み取りでは、プラットフォーム固有の行末記号 (Unix では `\\n` 、Windows では `\\r\\n`) をただの `\\n` に変換するのがデフォルトの動作です。テキストモードの書き込みでは、 `\\n` が出てくる箇所をプラットフォーム固有の行末記号に戻すのがデフォルトの動作です。この裏で行われるファイルデータの変換はテキストファイルには上手く働きますが、 `JPEG` ファイルや `EXE` ファイルのようなバイナリデータを破壊する恐れがあります。そのようなファイルを読み書きする場合には注意して、バイナリモードを使うようにしてください。\n",
    "\n",
    "ファイルオブジェクトを扱うときに <span style=\"color: red; \">[<span style=\"color: red; \">with</span>](https://docs.python.org/ja/3.9/reference/compound_stmts.html#with) キーワードを使うのは良い習慣です。 その利点は、処理中に例外が発生しても必ず最後にファイルをちゃんと閉じることです</span>。 with を使うと、同じことを [try](https://docs.python.org/ja/3.9/reference/compound_stmts.html#try)-[finally](https://docs.python.org/ja/3.9/reference/compound_stmts.html#finally) ブロックを使って書くよりずっと簡潔に書けます:"
   ]
  },
  {
   "cell_type": "code",
   "execution_count": null,
   "metadata": {
    "deletable": false,
    "editable": false
   },
   "outputs": [],
   "source": [
    "with open('workfile') as f:\n",
    "    read_data = f.read()"
   ]
  },
  {
   "cell_type": "code",
   "execution_count": null,
   "metadata": {
    "deletable": false,
    "editable": false
   },
   "outputs": [],
   "source": [
    "# We can check that the file has been automatically closed.\n",
    "f.closed"
   ]
  },
  {
   "cell_type": "markdown",
   "metadata": {
    "deletable": false,
    "editable": false,
    "run_control": {
     "frozen": true
    }
   },
   "source": [
    "[with](https://docs.python.org/ja/3.9/reference/compound_stmts.html#with) キーワードを使用していない場合は、`f.close()` を呼び出してファイルを閉じ、それによって使用されているシステムリソースを即座に解放する必要があります。"
   ]
  },
  {
   "cell_type": "markdown",
   "metadata": {
    "deletable": false,
    "editable": false,
    "run_control": {
     "frozen": true
    }
   },
   "source": [
    "**警告：** `with` キーワードを使用せずに `f.write()` を呼び出したり、`f.close()` を呼び出したりすると、プログラムが正常に終了しても `f.write()` の引数が完全にディスクに書き込まれない場合があります。"
   ]
  },
  {
   "cell_type": "markdown",
   "metadata": {
    "deletable": false,
    "editable": false,
    "run_control": {
     "frozen": true
    }
   },
   "source": [
    "[with](https://docs.python.org/ja/3.9/reference/compound_stmts.html#with) 文や `f.close()` の呼び出しによって閉じられた後にファイルオブジェクトを使おうとするとそこで処理が失敗します。:"
   ]
  },
  {
   "cell_type": "code",
   "execution_count": null,
   "metadata": {
    "deletable": false,
    "editable": false
   },
   "outputs": [],
   "source": [
    "f.close()\n",
    "f.read()     #  ValueErrorが発生します"
   ]
  },
  {
   "cell_type": "markdown",
   "metadata": {
    "deletable": false,
    "editable": false,
    "run_control": {
     "frozen": true
    }
   },
   "source": [
    "### <span style=\"color: blue; \">7.2.1. ファイルオブジェクトのメソッド</span>\n",
    "この節の以降の例は、 `f` というファイルオブジェクトが既に生成されているものと仮定します。  \n",
    "<span style=\"color: gray; \">［補足］本学習環境(DeepAelurus）向けにまず以下のセルでファイルを準備します。</span>"
   ]
  },
  {
   "cell_type": "code",
   "execution_count": null,
   "metadata": {
    "deletable": false,
    "editable": false
   },
   "outputs": [],
   "source": [
    "# 学習用ファイルの準備\n",
    "with open('workfile', 'w') as f:\n",
    "    f.write(\"This is the entire file.\\n\")"
   ]
  },
  {
   "cell_type": "markdown",
   "metadata": {
    "deletable": false,
    "editable": false,
    "run_control": {
     "frozen": true
    }
   },
   "source": [
    "ファイルの内容を読み出すには、 `f.read(size)` を呼び出します。このメソッドはある量のデータを読み出して、文字列 (テキストモードの場合) か bytes オブジェクト (バイナリーモードの場合) として返します。 size はオプションの数値引数です。 size が省略されたり負の数であった場合、ファイルの内容全てを読み出して返します。ただし、ファイルがマシンのメモリの二倍の大きさもある場合にはどうなるかわかりません。 size が負でない数ならば、最大で (テキストモードの場合) size 文字、(バイナリモードの場合) size バイトを読み出して返します。ファイルの終端にすでに達していた場合、 `f.read()` は空の文字列 (`''`) を返します。"
   ]
  },
  {
   "cell_type": "code",
   "execution_count": null,
   "metadata": {
    "deletable": false,
    "editable": false
   },
   "outputs": [],
   "source": [
    "#f.read()    # オリジナルコード、　本環境では実際にファイル読んで結果を表示させるため以下のコードに変更\n",
    "f = open('workfile', 'r')\n",
    "print(repr(f.read()))   # 'This is the entire file.\\n'"
   ]
  },
  {
   "cell_type": "code",
   "execution_count": null,
   "metadata": {
    "deletable": false,
    "editable": false
   },
   "outputs": [],
   "source": [
    "f.read()    # ''"
   ]
  },
  {
   "cell_type": "markdown",
   "metadata": {
    "deletable": false,
    "editable": false,
    "run_control": {
     "frozen": true
    }
   },
   "source": [
    "`f.readline()` はファイルから 1 行だけを読み取ります。改行文字 (`\\n`) は読み出された文字列の終端に残ります。改行が省略されるのは、ファイルが改行で終わっていない場合の最終行のみです。これは、戻り値があいまいでないようにするためです; `f.readline()` が空の文字列を返したら、ファイルの終端に達したことが分かります。一方、空行は `'\\n'`、すなわち改行 1 文字だけからなる文字列で表現されます。  \n",
    "<span style=\"color: gray; \">［補足］本学習環境(DeepAelurus）向けにまず以下のセルでファイルを準備します。</span>"
   ]
  },
  {
   "cell_type": "code",
   "execution_count": null,
   "metadata": {
    "deletable": false,
    "editable": false
   },
   "outputs": [],
   "source": [
    "f.close()\n",
    "# 学習用ファイルの準備\n",
    "with open('workfile', 'w') as f:\n",
    "    f.write(\"This is the first line of the file.\\n\")\n",
    "    f.write(\"Second line of the file\\n\")\n",
    "f = open('workfile', 'r')"
   ]
  },
  {
   "cell_type": "code",
   "execution_count": null,
   "metadata": {
    "deletable": false,
    "editable": false
   },
   "outputs": [],
   "source": [
    "f.readline()   # 'This is the first line of the file.\\n'"
   ]
  },
  {
   "cell_type": "code",
   "execution_count": null,
   "metadata": {
    "deletable": false,
    "editable": false
   },
   "outputs": [],
   "source": [
    "f.readline()   # Second line of the file\\n'"
   ]
  },
  {
   "cell_type": "code",
   "execution_count": null,
   "metadata": {
    "deletable": false,
    "editable": false
   },
   "outputs": [],
   "source": [
    "f.readline()   # ''"
   ]
  },
  {
   "cell_type": "markdown",
   "metadata": {
    "deletable": false,
    "editable": false,
    "run_control": {
     "frozen": true
    }
   },
   "source": [
    "ファイルから複数行を読み取るには、ファイルオブジェクトに対してループを書く方法があります。この方法はメモリを効率的に使え、高速で、簡潔なコードになります:"
   ]
  },
  {
   "cell_type": "code",
   "execution_count": null,
   "metadata": {
    "deletable": false,
    "editable": false
   },
   "outputs": [],
   "source": [
    "f = open('workfile', 'r')  # ←本学習環境用にコードを追加\n",
    "for line in f:\n",
    "    print(line, end='')"
   ]
  },
  {
   "cell_type": "markdown",
   "metadata": {
    "deletable": false,
    "editable": false,
    "run_control": {
     "frozen": true
    }
   },
   "source": [
    "ファイルのすべての行をリスト形式で読み取りたいなら、`list(f)` や `f.readlines()` を使うこともできます。\n",
    "\n",
    "`f.write(string)` は、string の内容をファイルに書き込み、書き込まれた文字数を返します。"
   ]
  },
  {
   "cell_type": "code",
   "execution_count": null,
   "metadata": {
    "deletable": false,
    "editable": false
   },
   "outputs": [],
   "source": [
    "f = open('workfile', 'w')  # ←本学習環境用にコードを追加\n",
    "f.write('This is a test\\n')    #  15 "
   ]
  },
  {
   "cell_type": "markdown",
   "metadata": {
    "deletable": false,
    "editable": false,
    "run_control": {
     "frozen": true
    }
   },
   "source": [
    "オブジェクトの他の型は、書き込む前に変換しなければなりません -- 文字列 (テキストモード) と bytes オブジェクト (バイナリーモード) のいずれかです:"
   ]
  },
  {
   "cell_type": "code",
   "execution_count": null,
   "metadata": {
    "deletable": false,
    "editable": false
   },
   "outputs": [],
   "source": [
    "value = ('the answer', 42)\n",
    "s = str(value)  # convert the tuple to string\n",
    "f.write(s)      # 18"
   ]
  },
  {
   "cell_type": "markdown",
   "metadata": {
    "deletable": false,
    "editable": false,
    "run_control": {
     "frozen": true
    }
   },
   "source": [
    "`f.tell()` は、ファイルオブジェクトのファイル中における現在の位置を示す整数を返します。ファイル中の現在の位置は、バイナリモードではファイルの先頭からのバイト数で、テキストモードでは不明瞭な値で表されます。\n",
    "\n",
    "ファイルオブジェクトの位置を変更するには、`f.seek(offset, whence)` を使います。ファイル位置は基準点 (reference point) にオフセット値 offset を足して計算されます。参照点は whence 引数で選びます。whence の値が 0 ならばファイルの 先頭から測り、1 ならば現在のファイル位置を使い、2 ならばファイルの終端を参照点として使います。whence は省略することができ、デフォルトの値は 0、すなわち参照点としてファイルの先頭を使います。"
   ]
  },
  {
   "cell_type": "code",
   "execution_count": null,
   "metadata": {
    "deletable": false,
    "editable": false
   },
   "outputs": [],
   "source": [
    "f = open('workfile', 'w')\n",
    "f.truncate()\n",
    "f.close()\n",
    "f = open('workfile', 'rb+')\n",
    "f.write(b'0123456789abcdef')     #  16"
   ]
  },
  {
   "cell_type": "code",
   "execution_count": null,
   "metadata": {
    "deletable": false,
    "editable": false
   },
   "outputs": [],
   "source": [
    "f.seek(5)      # Go to the 6th byte in the file ,  = 5"
   ]
  },
  {
   "cell_type": "code",
   "execution_count": null,
   "metadata": {
    "deletable": false,
    "editable": false
   },
   "outputs": [],
   "source": [
    "f.read(1)      # b'5'、位置6から1バイト読む"
   ]
  },
  {
   "cell_type": "code",
   "execution_count": null,
   "metadata": {
    "deletable": false,
    "editable": false
   },
   "outputs": [],
   "source": [
    "f.seek(-3, 2)  # Go to the 3rd byte before the end, = 13"
   ]
  },
  {
   "cell_type": "code",
   "execution_count": null,
   "metadata": {
    "deletable": false,
    "editable": false
   },
   "outputs": [],
   "source": [
    "f.read(1)      # b'd'"
   ]
  },
  {
   "cell_type": "markdown",
   "metadata": {
    "deletable": false,
    "editable": false,
    "run_control": {
     "frozen": true
    }
   },
   "source": [
    "テキストファイル (mode 文字列に `b` を付けなかった場合) では、ファイルの先頭からの相対位置に対するシークだけが許可されています (例外として、`seek(0, 2)` でファイルの末尾へのシークは可能です)。また、唯一の有効な offset 値は `f.tell()` から返された値か、0 のいずれかです。それ以外の offset 値は未定義の振る舞いを引き起こします。\n",
    "\n",
    "ファイルオブジェクトには、他にも isatty() や truncate() といった、あまり使われないメソッドがあります。ファイルオブジェクトについての完全なガイドは、ライブラリリファレンスを参照してください。"
   ]
  },
  {
   "cell_type": "markdown",
   "metadata": {
    "deletable": false,
    "editable": false,
    "run_control": {
     "frozen": true
    }
   },
   "source": [
    "### <span style=\"color: blue; \">7.2.2. json による構造化されたデータの保存</span>\n",
    "文字列は簡単にファイルに書き込んだり、ファイルから読み込んだりすることができます。数値の場合には少し努力が必要です。というのも、read() メソッドは文字列しか返さないため、[int()](https://docs.python.org/ja/3.9/library/functions.html#int) のような関数にその文字列を渡して、たとえば文字列 `'123'` のような文字列を、数値 123 に変換しなくてはならないからです。もっと複雑なデータ型、例えば入れ子になったリストや辞書の場合、手作業でのパースやシリアライズは困難になります。\n",
    "\n",
    "ユーザが毎回コードを書いたりデバッグしたりして複雑なデータ型をファイルに保存するかわりに、Python では一般的なデータ交換形式である [JSON (JavaScript Object Notation)](https://www.json.org/json-en.html) を使うことができます。この標準モジュール [json](https://docs.python.org/ja/3.9/library/json.html#module-json) は、Python のデータ 階層を取り、文字列表現に変換します。この処理は シリアライズ (serializing) と呼ばれます。文字列表現からデータを再構築することは、デシリアライズ (deserializing) と呼ばれます。シリアライズされてからデシリアライズされるまでの間に、オブジェクトの文字列表現はファイルやデータの形で保存したり、ネットワークを通じて離れたマシンに送ったりすることができます。  \n",
    "  \n",
    "**注釈：** JSON 形式は現代的なアプリケーションでデータをやりとりする際によく使われます。多くのプログラマーが既に JSON に詳しいため、JSON はデータの相互交換をする場合の良い選択肢です。  \n",
    "  \n",
    "オブジェクト `x` があり、その JSON 形式の文字列表現を見るには、単純な1行のコードを書くだけです:"
   ]
  },
  {
   "cell_type": "code",
   "execution_count": null,
   "metadata": {
    "deletable": false,
    "editable": false
   },
   "outputs": [],
   "source": [
    "import json\n",
    "json.dumps([1, 'simple', 'list'])"
   ]
  },
  {
   "cell_type": "markdown",
   "metadata": {
    "deletable": false,
    "editable": false,
    "run_control": {
     "frozen": true
    }
   },
   "source": [
    "[dumps()](https://docs.python.org/ja/3.9/library/json.html#json.dumps) に似た関数に、[dump()](https://docs.python.org/ja/3.9/library/json.html#json.dump) があり、こちらは単純にオブジェクトを [text file](https://docs.python.org/ja/3.9/glossary.html#term-text-file) にシリアライズします。`f` が書き込み用に開かれた [text file](https://docs.python.org/ja/3.9/glossary.html#term-text-file) だとすると、次のように書くことができます:  \n",
    "***\n",
    "`json.dump(x, f)`\n",
    "***\n",
    "逆にデシリアライズするには、f が読み込み用に開かれた [text file]((https://docs.python.org/ja/3.9/glossary.html#term-text-file) だとすると、次のようになります:  \n",
    "***\n",
    "`x = json.load(f)`\n",
    "***\n",
    "このような単純なシリアライズをする手法は、リストや辞書を扱うことはできますが、任意のクラス・インスタンスを JSON にシリアライズするにはもう少し努力しなくてはなりません。[json](https://docs.python.org/ja/3.9/library/json.html#module-json) モジュールのリファレンスにこれについての解説があります。"
   ]
  },
  {
   "cell_type": "markdown",
   "metadata": {
    "deletable": false,
    "editable": false,
    "run_control": {
     "frozen": true
    }
   },
   "source": [
    "**参考：** pickle - pickle モジュール\n",
    "[JSON](https://docs.python.org/ja/3.9/tutorial/inputoutput.html#tut-json) とは対照的に、 pickle は任意の複雑な Python オブジェクトをシリアライズ可能なプロトコルです。しかし、Python に特有のプロトコルで、他の言語で記述されたアプリケーションと通信するのには使えません。さらに、デフォルトでは安全でなく、信頼できない送信元から送られてきた、スキルのある攻撃者によって生成された pickle データをデシリアライズすると、攻撃者により任意のコードが実行されてしまいます。"
   ]
  },
  {
   "cell_type": "markdown",
   "metadata": {
    "deletable": false,
    "editable": false,
    "run_control": {
     "frozen": true
    }
   },
   "source": [
    "# <span style=\"color: blue; \">8. エラーと例外<a id='anchor8'></span>\n",
    "これまでエラーメッセージについては簡単に触れるだけでしたが、チュートリアル中の例を自分で試していたら、実際にいくつかのエラーメッセージを見ていることでしょう。<span style=\"color: red; \">エラーには (少なくとも) 二つのはっきり異なる種類があります。それは 構文エラー (syntax error) と 例外 (exception) です</span>。\n",
    "\n",
    "## <span style=\"color: blue; \">8.1. 構文エラー</span>\n",
    "構文エラーは構文解析エラー (parsing error) としても知られており、Python を勉強している間に最もよく遭遇する問題の一つでしょう:"
   ]
  },
  {
   "cell_type": "code",
   "execution_count": null,
   "metadata": {
    "deletable": false,
    "editable": false
   },
   "outputs": [],
   "source": [
    "while True print('Hello world')     # SyntaxError: invalid syntax"
   ]
  },
  {
   "cell_type": "markdown",
   "metadata": {
    "deletable": false,
    "editable": false,
    "run_control": {
     "frozen": true
    }
   },
   "source": [
    "<span style=\"color: red; \">パーサは違反の起きている行を表示し、小さな「矢印」を表示して、行中でエラーが検出された最初の位置を示します</span>。エラーは矢印の 直前の トークンでひき起こされています (または、少なくともそこで検出されています)。上記の例では、エラーは関数 [print()](https://docs.python.org/ja/3.9/library/functions.html#print) で検出されています。コロン (`':'`) がその前に無いからです。入力がスクリプトから来ている場合は、どこを見ればよいか分かるようにファイル名と行番号が出力されます。"
   ]
  },
  {
   "cell_type": "markdown",
   "metadata": {
    "deletable": false,
    "editable": false,
    "run_control": {
     "frozen": true
    }
   },
   "source": [
    "## <span style=\"color: blue; \">8.2. 例外</span>\n",
    "たとえ文や式が構文的に正しくても、実行しようとしたときにエラーが発生するかもしれません。実行中に検出されたエラーは 例外 (_exception_) と呼ばれ、常に致命的とは限りません。これから、Python プログラムで例外をどのように扱うかを学んでいきます。ほとんどの例外はプログラムで処理されず、以下に示されるようなメッセージになります:"
   ]
  },
  {
   "cell_type": "code",
   "execution_count": null,
   "metadata": {
    "deletable": false,
    "editable": false
   },
   "outputs": [],
   "source": [
    "10 * (1/0)     # ZeroDivisionError: division by zero"
   ]
  },
  {
   "cell_type": "code",
   "execution_count": null,
   "metadata": {
    "deletable": false,
    "editable": false
   },
   "outputs": [],
   "source": [
    "4 + spam82*3     # NameError: name 'spam82' is not defined"
   ]
  },
  {
   "cell_type": "code",
   "execution_count": null,
   "metadata": {
    "deletable": false,
    "editable": false
   },
   "outputs": [],
   "source": [
    "'2' + 2        # TypeError: can only concatenate str (not \"int\") to str"
   ]
  },
  {
   "cell_type": "markdown",
   "metadata": {
    "deletable": false,
    "editable": false,
    "run_control": {
     "frozen": true
    }
   },
   "source": [
    "<span style=\"color: red; \">エラーメッセージの最終行は何が起こったかを示しています</span>。例外は様々な型 (type) で起こり、その型がエラーメッセージの一部として出力されます。上の例での型は [ZeroDivisionError](https://docs.python.org/ja/3.9/library/exceptions.html#ZeroDivisionError), [NameError](https://docs.python.org/ja/3.9/library/exceptions.html#NameError), [TypeError](https://docs.python.org/ja/3.9/library/exceptions.html#TypeError) です。例外型として出力される文字列は、発生した例外の組み込み名です。これは全ての組み込み例外について成り立ちますが、ユーザ定義の例外では (成り立つようにするのは有意義な慣習ですが) 必ずしも成り立ちません。標準例外の名前は組み込みの識別子です (予約語ではありません)。\n",
    "\n",
    "残りの行は例外の詳細で、その例外の型と何が起きたかに依存します。\n",
    "\n",
    "エラーメッセージの先頭部分では、例外が発生した実行コンテキスト (context) を、スタックのトレースバック (stack traceback) の形式で示しています。一般には、この部分にはソースコード行をリストしたトレースバックが表示されます。しかし、標準入力から読み取られたコードは表示されません。\n",
    "\n",
    "[組み込み例外](https://docs.python.org/ja/3.9/library/exceptions.html#bltin-exceptions) には、組み込み例外とその意味がリストされています。"
   ]
  },
  {
   "cell_type": "markdown",
   "metadata": {
    "deletable": false,
    "editable": false,
    "run_control": {
     "frozen": true
    }
   },
   "source": [
    "##  <span style=\"color: blue; \">8.3.例外を処理する</span>\n",
    "例外を選別して処理するようなプログラムを書くことができます。以下の例を見てください。この例では、有効な文字列が入力されるまでユーザに入力を促しますが、ユーザがプログラムに (Control-C か、またはオペレーティングシステムがサポートしている何らかのキーを使って) 割り込みをかけてプログラムを中断させることができるようにしています。ユーザが生成した割り込みは、 [KeyboardInterrupt](https://docs.python.org/ja/3.9/library/exceptions.html#KeyboardInterrupt) 例外が送出されることで通知されるということに注意してください。"
   ]
  },
  {
   "cell_type": "code",
   "execution_count": null,
   "metadata": {
    "deletable": false,
    "editable": false
   },
   "outputs": [],
   "source": [
    "while True:\n",
    "    try:\n",
    "        x = int(input(\"Please enter a number: \"))\n",
    "        break\n",
    "    except ValueError:\n",
    "        print(\"Oops!  That was no valid number.  Try again...\")"
   ]
  },
  {
   "cell_type": "markdown",
   "metadata": {
    "deletable": false,
    "editable": false,
    "run_control": {
     "frozen": true
    }
   },
   "source": [
    "[try](https://docs.python.org/ja/3.9/reference/compound_stmts.html#try) 文は下記のように動作します。\n",
    "\n",
    "+ まず、 _try 節_ (_try clause_) (キーワード [try](https://docs.python.org/ja/3.9/reference/compound_stmts.html#try) と [except](https://docs.python.org/ja/3.9/reference/compound_stmts.html#except) の間の文) が実行されます。\n",
    "+ 何も例外が発生しなければ、 _except 節_ をスキップして [try](https://docs.python.org/ja/3.9/reference/compound_stmts.html#try) 文の実行を終えます。\n",
    "+ <span style=\"color: red; \">try 節内の実行中に例外が発生すると、その節の残りは飛ばされます。次に、例外型が [<span style=\"color: red; \">except</span>](https://docs.python.org/ja/3.9/reference/compound_stmts.html#except) キーワードの後に指定されている例外に一致する場合、except 節が実行された後、 [<span style=\"color: red; \">try</span>](https://docs.python.org/ja/3.9/reference/compound_stmts.html#try) 文の後ろへ実行が継続されます</span>。\n",
    "+ <span style=\"color: red; \">もしも except 節で指定された例外と一致しない例外が発生すると、その例外は [<span style=\"color: red; \">try</span>](https://docs.python.org/ja/3.9/reference/compound_stmts.html#try) 文の外側に渡されます</span>。例外に対するハンドラ (handler、処理部) がどこにもなければ、 処理されない例外 (_unhandled exception_) となり、上記に示したようなメッセージを出して実行を停止します。 \n",
    "\n",
    "<span style=\"color: red; \">一つの [<span style=\"color: red; \">try</span>](https://docs.python.org/ja/3.9/reference/compound_stmts.html#try) 文には複数の except 節が付けられ、別々の例外に対するハンドラを指定できます。 多くとも一つのハンドラしか実行されません</span>。 ハンドラは対応する try 節内で発生した例外だけを処理し、同じ try 節内の別の例外ハンドラで起きた例外は処理しません。 except 節では丸括弧で囲ったタプルという形で複数の例外を指定できます。例えば次のようにします:  \n",
    "***\n",
    "`except (RuntimeError, TypeError, NameError):`  \n",
    "&nbsp;&nbsp;&nbsp;&nbsp;&nbsp;&nbsp;&nbsp;&nbsp;`pass`\n",
    "***"
   ]
  },
  {
   "cell_type": "markdown",
   "metadata": {
    "deletable": false,
    "editable": false,
    "run_control": {
     "frozen": true
    }
   },
   "source": [
    "<span style=\"color: red; \">[<span style=\"color: red; \">except</span>](https://docs.python.org/ja/3.9/reference/compound_stmts.html#except) 節のクラスは、例外と同じクラスか基底クラスのときに互換 (compatible)となります</span>。 (逆方向では成り立ちません --- 派生クラスの例外がリストされている except 節は基底クラスの例外と互換ではありません)。例えば、次のコードは、 B, C, D を順序通りに出力します:"
   ]
  },
  {
   "cell_type": "code",
   "execution_count": null,
   "metadata": {
    "deletable": false,
    "editable": false
   },
   "outputs": [],
   "source": [
    "class B(Exception):\n",
    "    pass\n",
    "\n",
    "class C(B):\n",
    "    pass\n",
    "\n",
    "class D(C):\n",
    "    pass\n",
    "\n",
    "for cls in [B, C, D]:\n",
    "    try:\n",
    "        raise cls()\n",
    "    except D:\n",
    "        print(\"D\")\n",
    "    except C:\n",
    "        print(\"C\")\n",
    "    except B:\n",
    "        print(\"B\")"
   ]
  },
  {
   "cell_type": "markdown",
   "metadata": {
    "deletable": false,
    "editable": false,
    "run_control": {
     "frozen": true
    }
   },
   "source": [
    "except 節が逆に並んでいた場合 (`except B` が最初にくる場合)、 B, B, B と出力されるはずだったことに注意してください --- 最初に一致した except 節が駆動されるのです。"
   ]
  },
  {
   "cell_type": "code",
   "execution_count": null,
   "metadata": {
    "deletable": false,
    "editable": false
   },
   "outputs": [],
   "source": [
    "# 「補足」except節の並びを変えた場合\n",
    "class B(Exception):\n",
    "    pass\n",
    "\n",
    "class C(B):\n",
    "    pass\n",
    "\n",
    "class D(C):\n",
    "    pass\n",
    "\n",
    "for cls in [B, C, D]:\n",
    "    try:\n",
    "        raise cls()\n",
    "    except B:\n",
    "        print(\"B\")\n",
    "    except C:\n",
    "        print(\"C\")\n",
    "    except D:\n",
    "        print(\"D\")"
   ]
  },
  {
   "cell_type": "markdown",
   "metadata": {
    "deletable": false,
    "editable": false,
    "run_control": {
     "frozen": true
    }
   },
   "source": [
    "最後の except 節では例外名を省いて、ワイルドカード (wildcard、総称記号) にすることができます。ワイルドカードの except 節は非常に注意して使ってください。というのは、ワイルドカードは通常のプログラムエラーをたやすく隠してしまうからです！ワイルドカードの except 節はエラーメッセージを出力した後に例外を再送出する (関数やメソッドの呼び出し側が同様にして例外を処理できるようにする) 用途にも使えます:"
   ]
  },
  {
   "cell_type": "code",
   "execution_count": null,
   "metadata": {
    "deletable": false,
    "editable": false
   },
   "outputs": [],
   "source": [
    "import sys\n",
    "\n",
    "try:\n",
    "    f = open('myfile.txt')\n",
    "    s = f.readline()\n",
    "    i = int(s.strip())\n",
    "except OSError as err:\n",
    "    print(\"OS error: {0}\".format(err))\n",
    "except ValueError:\n",
    "    print(\"Could not convert data to an integer.\")\n",
    "except:\n",
    "    print(\"Unexpected error:\", sys.exc_info()[0])\n",
    "    raise"
   ]
  },
  {
   "cell_type": "markdown",
   "metadata": {
    "deletable": false,
    "editable": false,
    "run_control": {
     "frozen": true
    }
   },
   "source": [
    "<span style=\"color: red; \">[<span style=\"color: red; \">try</span>](https://docs.python.org/ja/3.9/reference/compound_stmts.html#try) ... [<span style=\"color: red; \">except</span>](https://docs.python.org/ja/3.9/reference/compound_stmts.html#except) 文には、オプションで _else 節 (else clause)_ を設けることができます。 [<span style=\"color: red; \">else</span>](https://docs.python.org/ja/3.9/reference/compound_stmts.html#else) 節を設ける場合、全ての [<span style=\"color: red; \">except</span>](https://docs.python.org/ja/3.9/reference/compound_stmts.html#except) 節よりも後ろに置かなければなりません。 [<span style=\"color: red; \">else</span>](https://docs.python.org/ja/3.9/reference/compound_stmts.html#else) 節は try 節で全く例外が送出されなかったときに実行されるコードを書くのに役立ちます</span>。例えば次のようにします:"
   ]
  },
  {
   "cell_type": "code",
   "execution_count": null,
   "metadata": {
    "deletable": false,
    "editable": false,
    "scrolled": true
   },
   "outputs": [],
   "source": [
    "for arg in sys.argv[1:]:\n",
    "    try:\n",
    "        f = open(arg, 'r')\n",
    "    except OSError:\n",
    "        print('cannot open', arg)\n",
    "    else:\n",
    "        print(arg, 'has', len(f.readlines()), 'lines')\n",
    "        f.close()"
   ]
  },
  {
   "cell_type": "markdown",
   "metadata": {
    "deletable": false,
    "editable": false,
    "run_control": {
     "frozen": true
    }
   },
   "source": [
    "追加のコードを付け加えるのは [try](https://docs.python.org/ja/3.9/reference/compound_stmts.html#try) 節よりも else 節の方がよいでしょう。 なぜなら、そうすることで try ... except 文で保護されたコードから送出されたもの以外の例外を過って捕捉してしまうという事態を避けられるからです。\n",
    "\n",
    "例外が発生するとき、例外は関連付けられた値を持つことができます。この値は例外の 引数 (argument) とも呼ばれます。引数の有無および引数の型は、例外の型に依存します。\n",
    "\n",
    "except 節では、例外名の後に変数を指定することができます。この変数は例外インスタンスに結び付けられており、 `instance.args` に例外インスタンス生成時の引数が入っています。例外インスタンスには [\\_\\_str\\_\\_() ](https://docs.python.org/ja/3.9/reference/datamodel.html#object.__str__)が定義されており、 `.args` を参照しなくても引数を直接印字できるように利便性が図られています。必要なら、例外を送出する前にインスタンス化して、任意の属性を追加できます。"
   ]
  },
  {
   "cell_type": "code",
   "execution_count": null,
   "metadata": {
    "deletable": false,
    "editable": false
   },
   "outputs": [],
   "source": [
    "try:\n",
    "    raise Exception('spam', 'eggs')\n",
    "except Exception as inst:\n",
    "    print(type(inst))    # the exception instance\n",
    "    print(inst.args)     # arguments stored in .args\n",
    "    print(inst)          # __str__ allows args to be printed directly,\n",
    "                         # but may be overridden in exception subclasses\n",
    "    x, y = inst.args     # unpack args\n",
    "    print('x =', x)\n",
    "    print('y =', y)"
   ]
  },
  {
   "cell_type": "markdown",
   "metadata": {
    "deletable": false,
    "editable": false,
    "run_control": {
     "frozen": true
    }
   },
   "source": [
    "例外が引数を持っていれば、それらは処理されない例外のメッセージの最後の部分 (「詳細説明」) に出力されます。\n",
    "\n",
    "例外ハンドラは、try 節の直接内側で発生した例外を処理するだけではなく、その try 節から (たとえ間接的にでも) 呼び出された関数の内部で発生した例外も処理します。例えば:"
   ]
  },
  {
   "cell_type": "code",
   "execution_count": null,
   "metadata": {
    "deletable": false,
    "editable": false
   },
   "outputs": [],
   "source": [
    "def this_fails():\n",
    "    x = 1/0\n",
    "\n",
    "try:\n",
    "    this_fails()\n",
    "except ZeroDivisionError as err:\n",
    "    print('Handling run-time error:', err)"
   ]
  },
  {
   "cell_type": "markdown",
   "metadata": {
    "deletable": false,
    "editable": false,
    "run_control": {
     "frozen": true
    }
   },
   "source": [
    "## <span style=\"color: blue; \">8.4. 例外を送出する</span>\n",
    "<span style=\"color: red; \">[<span style=\"color: red; \">raise</span>](https://docs.python.org/ja/3.9/reference/simple_stmts.html#raise) 文を使って、特定の例外を発生させることができます</span>。例えば:"
   ]
  },
  {
   "cell_type": "code",
   "execution_count": null,
   "metadata": {
    "deletable": false,
    "editable": false
   },
   "outputs": [],
   "source": [
    "raise NameError('HiThere')"
   ]
  },
  {
   "cell_type": "markdown",
   "metadata": {
    "deletable": false,
    "editable": false,
    "run_control": {
     "frozen": true
    }
   },
   "source": [
    "[raise](https://docs.python.org/ja/3.9/reference/simple_stmts.html#raise) の唯一の引数は送出される例外を指し示します。 これは例外インスタンスか例外クラス ([Exception](https://docs.python.org/ja/3.9/library/exceptions.html#Exception) を継承したクラス) でなければなりません。 例外クラスが渡された場合は、引数無しのコンストラクタが呼び出され、暗黙的にインスタンス化されます:"
   ]
  },
  {
   "cell_type": "code",
   "execution_count": null,
   "metadata": {
    "deletable": false,
    "editable": false
   },
   "outputs": [],
   "source": [
    "raise ValueError  # shorthand for 'raise ValueError()'"
   ]
  },
  {
   "cell_type": "markdown",
   "metadata": {
    "deletable": false,
    "editable": false,
    "run_control": {
     "frozen": true
    }
   },
   "source": [
    "例外が発生したかどうかを判定したいだけで、その例外を処理するつもりがなければ、単純な形式の [raise](https://docs.python.org/ja/3.9/reference/simple_stmts.html#raise) 文を使って例外を再送出させることができます:"
   ]
  },
  {
   "cell_type": "code",
   "execution_count": null,
   "metadata": {
    "deletable": false,
    "editable": false
   },
   "outputs": [],
   "source": [
    "try:\n",
    "    raise NameError('HiThere')\n",
    "except NameError:\n",
    "    print('An exception flew by!')\n",
    "    raise"
   ]
  },
  {
   "cell_type": "markdown",
   "metadata": {
    "deletable": false,
    "editable": false,
    "run_control": {
     "frozen": true
    }
   },
   "source": [
    "## <span style=\"color: blue; \">8.5. 例外の連鎖</span>\n",
    "<span style=\"color: purple; \">［補足］この機能はPython 9からの機能です。お使いの環境がPython 8以下の場合は、この8.5章は飛ばしてください</span>  \n",
    "  \n",
    "[raise](https://docs.python.org/ja/3.9/reference/simple_stmts.html#raise)ステートメントは、例外の連鎖を有効にするオプション [from](https://docs.python.org/ja/3.9/reference/simple_stmts.html#from) を許可します。 例えば："
   ]
  },
  {
   "cell_type": "code",
   "execution_count": null,
   "metadata": {
    "deletable": false,
    "editable": false
   },
   "outputs": [],
   "source": [
    "# 本環境でオリジナルコードを実行可能にするため本セルを追加しました\n",
    "class exc(Exception):\n",
    "    pass"
   ]
  },
  {
   "cell_type": "code",
   "execution_count": null,
   "metadata": {
    "deletable": false,
    "editable": false
   },
   "outputs": [],
   "source": [
    "# exc must be exception instance or None.\n",
    "raise RuntimeError from exc"
   ]
  },
  {
   "cell_type": "code",
   "execution_count": null,
   "metadata": {
    "deletable": false,
    "editable": false
   },
   "outputs": [],
   "source": [
    "def func():\n",
    "    raise IOError\n",
    "\n",
    "try:\n",
    "    func()\n",
    "except IOError as exc:\n",
    "    raise RuntimeError('Failed to open database') from exc"
   ]
  },
  {
   "cell_type": "markdown",
   "metadata": {
    "deletable": false,
    "editable": false,
    "run_control": {
     "frozen": true
    }
   },
   "source": [
    "例外チェーニングは、例外が except や finally セクション内で発生した場合に自動的に発生します。例外のチェーニングを無効にするには、 from None イディオムを使用します。"
   ]
  },
  {
   "cell_type": "code",
   "execution_count": null,
   "metadata": {
    "deletable": false,
    "editable": false
   },
   "outputs": [],
   "source": [
    "try:\n",
    "    open('database.sqlite')\n",
    "except IOError:\n",
    "    raise RuntimeError from None"
   ]
  },
  {
   "cell_type": "markdown",
   "metadata": {
    "deletable": false,
    "editable": false,
    "run_control": {
     "frozen": true
    }
   },
   "source": [
    "チェーニングメカニズムの詳細については、[組み込み例外](https://docs.python.org/ja/3.9/library/exceptions.html#bltin-exceptions)を参照してください。"
   ]
  },
  {
   "cell_type": "markdown",
   "metadata": {
    "deletable": false,
    "editable": false,
    "run_control": {
     "frozen": true
    }
   },
   "source": [
    "## <span style=\"color: blue; \">8.6. ユーザー定義例外</span>\n",
    "<span style=\"color: red; \">プログラム上で新しい例外クラスを作成することで、独自の例外を指定することができます</span> (Python のクラスについては [クラス](https://docs.python.org/ja/3.9/tutorial/classes.html#tut-classes) 参照)。例外は、典型的に [Exception](https://docs.python.org/ja/3.9/library/exceptions.html#Exception) クラスから、直接または間接的に派生したものです。\n",
    "\n",
    "例外クラスでは、普通のクラスができることなら何でも定義することができますが、通常は単純なものにしておきます。大抵は、いくつかの属性だけを提供し、例外が発生したときにハンドラがエラーに関する情報を取り出せるようにする程度にとどめます。複数の別個の例外を送出するようなモジュールを作成する際には、そのモジュールで定義されている例外の基底クラスを作成するのが一般的なプラクティスです:"
   ]
  },
  {
   "cell_type": "code",
   "execution_count": null,
   "metadata": {
    "deletable": false,
    "editable": false
   },
   "outputs": [],
   "source": [
    "class Error(Exception):\n",
    "    \"\"\"Base class for exceptions in this module.\"\"\"\n",
    "    pass\n",
    "\n",
    "class InputError(Error):\n",
    "    \"\"\"Exception raised for errors in the input.\n",
    "\n",
    "    Attributes:\n",
    "        expression -- input expression in which the error occurred\n",
    "        message -- explanation of the error\n",
    "    \"\"\"\n",
    "\n",
    "    def __init__(self, expression, message):\n",
    "        self.expression = expression\n",
    "        self.message = message\n",
    "\n",
    "class TransitionError(Error):\n",
    "    \"\"\"Raised when an operation attempts a state transition that's not\n",
    "    allowed.\n",
    "\n",
    "    Attributes:\n",
    "        previous -- state at beginning of transition\n",
    "        next -- attempted new state\n",
    "        message -- explanation of why the specific transition is not allowed\n",
    "    \"\"\"\n",
    "\n",
    "    def __init__(self, previous, next, message):\n",
    "        self.previous = previous\n",
    "        self.next = next\n",
    "        self.message = message"
   ]
  },
  {
   "cell_type": "markdown",
   "metadata": {
    "deletable": false,
    "editable": false,
    "run_control": {
     "frozen": true
    }
   },
   "source": [
    "ほとんどの例外は、標準の例外の名前付けと同様に、\"Error\" で終わる名前で定義されています。\n",
    "\n",
    "多くの標準モジュールでは、モジュールで定義されている関数内で発生する可能性のあるエラーを報告させるために、独自の例外を定義しています。クラスについての詳細な情報は [クラス](https://docs.python.org/ja/3.9/tutorial/classes.html#tut-classes) 章で提供されています。"
   ]
  },
  {
   "cell_type": "markdown",
   "metadata": {
    "deletable": false,
    "editable": false,
    "run_control": {
     "frozen": true
    }
   },
   "source": [
    "## <span style=\"color: blue; \">8.7. クリーンアップ動作を定義する</span>\n",
    "[try](https://docs.python.org/ja/3.9/reference/compound_stmts.html#try) 文にはもう一つオプションの節があります。この節はクリーンアップ動作を定義するためのもので、どんな状況でも必ず実行されます。例を示します:"
   ]
  },
  {
   "cell_type": "code",
   "execution_count": null,
   "metadata": {
    "deletable": false,
    "editable": false
   },
   "outputs": [],
   "source": [
    "try:\n",
    "    raise KeyboardInterrupt\n",
    "finally:\n",
    "    print('Goodbye, world!')"
   ]
  },
  {
   "cell_type": "markdown",
   "metadata": {
    "deletable": false,
    "editable": false,
    "run_control": {
     "frozen": true
    }
   },
   "source": [
    "<span style=\"color: red; \">もし [<span style=\"color: red; \">finally</span>](https://docs.python.org/ja/3.9/reference/compound_stmts.html#finally) 節がある場合、 [<span style=\"color: red; \">try</span>](https://docs.python.org/ja/3.9/reference/compound_stmts.html#try) 文が終わる前の最後の処理を、 finally 節が実行します。 try 文が例外を発生させるか否かに関わらず、 finally 節は実行されます</span>。以下では、例外が発生するという更に複雑なケースを議論します:\n",
    "\n",
    "+ もし try 文の実行中に例外が発生したら、その例外は [except](https://docs.python.org/ja/3.9/reference/compound_stmts.html#except) 節によって処理されるでしょう。<span style=\"color: red; \">もしその例外が except 節によって処理されなければ、 finally 節が実行された後に、その例外が再送出されます</span>。\n",
    "+ except 節または else 節の実行中に例外が発生することがあり得ます。その場合も、 finally 節が実行された後に例外が再送出されます。\n",
    "+ <span style=\"color: red; \">もし try 文が [<span style=\"color: red; \">break</span>](https://docs.python.org/ja/3.9/reference/simple_stmts.html#break) 文、 [<span style=\"color: red; \">continue</span>](https://docs.python.org/ja/3.9/reference/simple_stmts.html#continue) 文または [<span style=\"color: red; \">return</span>](https://docs.python.org/ja/3.9/reference/simple_stmts.html#return) 文のいずれかに達すると、その:keyword:_!break_ 文、 continue 文または return 文の実行の直前に finally 節が実行されます</span>。\n",
    "+ もし finally 節が return 文を含む場合、返される値は try 節の return 文ではなく、finally 節の return 文によるものになります。\n",
    "例えば:"
   ]
  },
  {
   "cell_type": "code",
   "execution_count": null,
   "metadata": {
    "deletable": false,
    "editable": false
   },
   "outputs": [],
   "source": [
    "def bool_return():\n",
    "    try:\n",
    "        return True\n",
    "    finally:\n",
    "        return False\n",
    "\n",
    "bool_return()"
   ]
  },
  {
   "cell_type": "markdown",
   "metadata": {
    "deletable": false,
    "editable": false,
    "run_control": {
     "frozen": true
    }
   },
   "source": [
    "より複雑な例:"
   ]
  },
  {
   "cell_type": "code",
   "execution_count": null,
   "metadata": {
    "deletable": false,
    "editable": false
   },
   "outputs": [],
   "source": [
    "def divide(x, y):\n",
    "    try:\n",
    "        result = x / y\n",
    "    except ZeroDivisionError:\n",
    "        print(\"division by zero!\")\n",
    "    else:\n",
    "        print(\"result is\", result)\n",
    "    finally:\n",
    "        print(\"executing finally clause\")"
   ]
  },
  {
   "cell_type": "code",
   "execution_count": null,
   "metadata": {
    "deletable": false,
    "editable": false
   },
   "outputs": [],
   "source": [
    "divide(2, 1)      # result is 2.0 -> executing finally clause"
   ]
  },
  {
   "cell_type": "code",
   "execution_count": null,
   "metadata": {
    "deletable": false,
    "editable": false
   },
   "outputs": [],
   "source": [
    "divide(2, 0)      # division by zero! ->  executing finally clause"
   ]
  },
  {
   "cell_type": "code",
   "execution_count": null,
   "metadata": {
    "deletable": false,
    "editable": false
   },
   "outputs": [],
   "source": [
    "divide(\"2\", \"1\")  # executing finally clause -> TypeError"
   ]
  },
  {
   "cell_type": "markdown",
   "metadata": {
    "deletable": false,
    "editable": false,
    "run_control": {
     "frozen": true
    }
   },
   "source": [
    "見てわかるとおり、 [finally](https://docs.python.org/ja/3.9/reference/compound_stmts.html#finally) 節はどの場合にも実行されています。 文字列で割り算をすることで発生した [TypeError](https://docs.python.org/ja/3.9/library/exceptions.html#TypeError) は [except](https://docs.python.org/ja/3.9/reference/compound_stmts.html#except) 節で処理されていないので、 finally 節実行後に再度送出されています。\n",
    "\n",
    "実世界のアプリケーションでは、 [finally](https://docs.python.org/ja/3.9/reference/compound_stmts.html#finally) 節は(ファイルやネットワーク接続などの)外部リソースを、利用が成功したかどうかにかかわらず解放するために便利です。"
   ]
  },
  {
   "cell_type": "markdown",
   "metadata": {
    "deletable": false,
    "editable": false,
    "run_control": {
     "frozen": true
    }
   },
   "source": [
    "## <span style=\"color: blue; \">8.8. 定義済みクリーンアップ処理</span>\n",
    "オブジェクトのなかには、その利用の成否にかかわらず、不要になった際に実行される標準的なクリーンアップ処理が定義されているものがあります。以下の、ファイルをオープンして内容を画面に表示する例をみてください。"
   ]
  },
  {
   "cell_type": "code",
   "execution_count": null,
   "metadata": {
    "deletable": false,
    "editable": false
   },
   "outputs": [],
   "source": [
    "#for line in open(\"myfile.txt\"):  # 前セルで作成したファイルに置き換え\n",
    "for line in open(\"workfile\"):\n",
    "    print(line, end=\"\")"
   ]
  },
  {
   "cell_type": "markdown",
   "metadata": {
    "deletable": false,
    "editable": false,
    "run_control": {
     "frozen": true
    }
   },
   "source": [
    "このコードの問題点は、コードの実行が終わった後に不定の時間ファイルを開いたままでいることです。これは単純なスクリプトでは問題になりませんが、大きなアプリケーションでは問題になりえます。 [with](https://docs.python.org/ja/3.9/reference/compound_stmts.html#with) 文はファイルのようなオブジェクトが常に、即座に正しくクリーンアップされることを保証します。"
   ]
  },
  {
   "cell_type": "code",
   "execution_count": null,
   "metadata": {
    "deletable": false,
    "editable": false
   },
   "outputs": [],
   "source": [
    "#with open(\"myfile.txt\") as f:    # 前セルで作成したファイルに置き換え\n",
    "with open(\"workfile\") as f:\n",
    "    for line in f:\n",
    "        print(line, end=\"\")"
   ]
  },
  {
   "cell_type": "markdown",
   "metadata": {
    "deletable": false,
    "editable": false,
    "run_control": {
     "frozen": true
    }
   },
   "source": [
    "この文が実行されたあとで、たとえ行の処理中に問題があったとしても、ファイル f は常に close されます。ファイルなどの、定義済みクリーンアップ処理を持つオブジェクトについては、それぞれのドキュメントで示されます。"
   ]
  }
 ],
 "metadata": {
  "kernelspec": {
   "display_name": "Python 3",
   "language": "python",
   "name": "python3"
  },
  "language_info": {
   "codemirror_mode": {
    "name": "ipython",
    "version": 3
   },
   "file_extension": ".py",
   "mimetype": "text/x-python",
   "name": "python",
   "nbconvert_exporter": "python",
   "pygments_lexer": "ipython3",
   "version": "3.7.8"
  },
  "toc": {
   "base_numbering": 1,
   "nav_menu": {},
   "number_sections": true,
   "sideBar": true,
   "skip_h1_title": false,
   "title_cell": "Table of Contents",
   "title_sidebar": "Contents",
   "toc_cell": false,
   "toc_position": {},
   "toc_section_display": true,
   "toc_window_display": true
  }
 },
 "nbformat": 4,
 "nbformat_minor": 4
}
