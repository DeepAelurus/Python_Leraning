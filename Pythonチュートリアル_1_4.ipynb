{
 "cells": [
  {
   "cell_type": "markdown",
   "metadata": {
    "deletable": false,
    "editable": false,
    "run_control": {
     "frozen": true
    }
   },
   "source": [
    "# <span style=\"color: blue; \">Python チュートリアル</span>  \n",
    "  \n",
    "このテキストは、[Pythonチュートリアル(3.9.1)のHP](https://docs.python.org/ja/3.9/tutorial/index.html)をjupyter Notebookで学習できるように編集したものです。 \n",
    "  \n",
    "2021年2月現在、最新のPythonのバージョンは3.9.1になります。  \n",
    "    　　　　本書で記載の範囲であれば3.8以下でも基本的に差はありません（差分がある場合は極力補足しています）。\n",
    "  \n",
    "操作に対する補足  \n",
    "1. テキスト部分は「↓」ボタンでスクロール、各コマンドラインは「shift」+「retutn」キーで順番に実行してください。   \n",
    "2. テキスト画面を編集で開いた場合は「shift]+「retutn」で閉じてください。  \n",
    "3. 誤ってテキストを編集した場合は、「Ctrl」+「z」で取り消すことができます。  \n",
    "4. 途中自分でいろいろ試したい場合は、メニューバーにある「Insert（挿入）」から、「Insert Cell Above(上にセルを挿入）」、または「Insert Cell Below(下にセルを挿入）」してください。挿入したセルは、メニューバーにある「Edit（編集）」- 「Delete Cell（セルを削除）」で削除することができます</span>\n",
    "\n",
    "  \n",
    "【免責事項】\n",
    "  \n",
    "1. 本ソフトウェア（及びその複写物）を使用することで生じるリスクは、利用者が負うものとします。NPO法人AI開発推進協会（以下「本法人」といいます）では、明示的な瑕疵担保責任または保証を一切行いません。\n",
    "2. 本法人は、利用者に対し、本ソフトウェア（及びその複写物）に関して、その動作、商品性、特定用途への適合性その他一切の保証を行いません。\n",
    "3. 本法人は、利用者及び第三者が本ソフトウェアに関連して直接又は間接的に被ったいかなる損害についても、一切の責任を負いません。利用者は、本ソフトウェアの使用に関して第三者からされた請求に関する損害、損失あるいは責任より本法人を免責するものとします。  \n",
    "  \n",
    "©️2021 NPO法人AI開発推進協会  \n",
    "This software is released under the MIT License. http://opensource.org/licenses/mit-license.php  \n",
    "  \n",
    "***  \n",
    "Python は強力で、学びやすいプログラミング言語です。効率的な高レベルデータ構造と、シンプルで効果的なオブジェクト指向プログラミング機構を備えています。 Python は、洗練された文法・動的なデータ型付け・インタープリタであることなどから、スクリプティングや高速アプリケーション開発(Rapid Application Development: RAD)に理想的なプログラミング言語となっています。\n",
    "\n",
    "[Python Web サイト](https://www.python.org) は、 Python インタープリタと標準ライブラリのソースコードと、主要プラットフォームごとにコンパイル済みのバイナリファイルを無料で配布しています。また、Python Web サイトには、無料のサードパーティモジュールやプログラム、ツール、ドキュメントなども紹介しています。\n",
    "\n",
    "Python インタプリタは、簡単に C/C++ 言語などで実装された関数やデータ型を組み込み、拡張できます。また、アプリケーションのカスタマイズを行う、拡張言語としても適しています。\n",
    "\n",
    "このチュートリアルは、Python 言語の基本的な概念と機能を、形式ばらずに紹介します。読むだけではなく、Pythonインタープリタで実際にサンプルを実行すると理解が深まりますが、サンプルはそれぞれ独立していますので、ただ読むだけでも良いでしょう。\n",
    "\n",
    "標準オブジェクトやモジュールの詳細は、[Python 標準ライブラリ](https://docs.python.org/ja/3.9/library/index.html#library-index) を参照してください。 また、正式な言語定義は、 [Python 言語リファレンス](https://docs.python.org/ja/3.9/reference/index.html#reference-index) にあります。 C 言語や C++ 言語で拡張モジュールを書くなら、 [Python インタプリタの拡張と埋め込み](https://docs.python.org/ja/3.9/extending/index.html#extending-index) や [Python/C API リファレンスマニュアル](https://docs.python.org/ja/3.9/c-api/index.html#c-api-index) を参照してください。Python の解説書も販売されています。\n",
    "\n",
    "<span style=\"color: red; \">このチュートリアルは、Python全体を対象とした、包括的な解説書ではありません。よく使われる機能に限っても、全ては紹介していません。その代わり、このチュートリアルでは、Pythonのもっとも特徴的な機能を中心に紹介して、この言語の持ち味や、スタイルを感じられるようにしています。このチュートリアルを読み終えると、Python のモジュールやプログラムを読み書きできるようになっているでしょう</span>。また、[Python 標準ライブラリ](https://docs.python.org/ja/3.9/library/index.html#library-index) のさまざまな Python ライブラリモジュールを、詳しく調べられるようになっているはずです。\n",
    "  \n",
    "[<span style=\"color: red; \">用語集</span>](https://docs.python.org/ja/3.9/glossary.html#glossary) にも目を通しておくと良いでしょう。"
   ]
  },
  {
   "cell_type": "markdown",
   "metadata": {
    "deletable": false,
    "editable": false,
    "run_control": {
     "frozen": true
    }
   },
   "source": [
    "# 目次\n",
    "公式のチュートリアルを下記の構成に分けて学習できるようにしています。   \n",
    "本プログラムでは下記の１～４章を対象にしています。  \n",
    "***\n",
    "**1.[やる気を高めよう](#anchor1)**  \n",
    "**2.[Pythonインタプリタを使う](#anchor2)**  \n",
    "**3.[形式ばらない Python の紹介](#anchor3)**  \n",
    "**4.[その他の制御フローツール](#anchor4)**  \n",
    "***\n",
    "<span style=\"color: gray; \">**5.データ構造**  \n",
    "**6.モジュール**  \n",
    "**7.入力と出力**  \n",
    "**8.エラーと例外**  \n",
    "**9.クラス**  \n",
    "**10.標準ライブラリミニツアー**  \n",
    "**11.標準ライブラリミニツアー --- その 2**  \n",
    "**12.仮想環境とパッケージ**  \n",
    "**13.さあ何を？**  \n",
    "**14.対話入力編集と履歴置換**  \n",
    "**15.浮動小数点演算、その問題と制限**  \n",
    "**16.付録**  </span>"
   ]
  },
  {
   "cell_type": "markdown",
   "metadata": {
    "deletable": false,
    "editable": false,
    "run_control": {
     "frozen": true
    }
   },
   "source": [
    "# <span style=\"color: blue; \">1. やる気を高めよう<a id='anchor1'></a></span>\n",
    "コンピュータを使っていろいろな作業をしていると、自動化したい作業が出てくるでしょう。たとえば、たくさんのテキストファイルで検索-置換操作を行いたい、大量の写真ファイルを込み入ったやりかたでファイル名を整理して変更したり、などです。ちょっとした専用のデータベースや、何か専用のGUIアプリケーション、シンプルなゲームを作りたいかもしれません。\n",
    "\n",
    "あなたがプロのソフト開発者として、C/C++/Java ライブラリを扱う必要があるけども、通常の編集/コンパイル/テスト/再コンパイルのサイクルを遅すぎると感じているかもしれません。上記ライブラリのためのテストを書くことにうんざりしているかもしれません。または、拡張言語を持つアプリケーションを書いているなら、そのために新しい言語一式の設計と実装をしたくないでしょう。\n",
    "\n",
    "Pythonはそんなあなたのための言語です。\n",
    "\n",
    "そういった処理は、Unix シェルスクリプトや Windows バッチファイルで書くこともできます。しかし、シェルスクリプトはファイル操作やテキストデータの操作には向いていますが、GUIアプリケーションやゲームにはむいていません。C/C++/Java プログラムを書くこともできますが、最初の試し書きだけでもかなりの時間がかかってしまいます。Pythonはもっと簡単に利用でき、Windows、Mac OS X、そして Unix オペレーティングシステムで動作し、あなたの仕事をすばやく片付ける助けになるでしょう。\n",
    "\n",
    "Python は簡単に利用できますが、本物のプログラミング言語であり、シェルスクリプトやバッチファイルよりも多くの機構があり、大きなプログラムの開発にも適しています。一方では、Python は C よりたくさんのエラーチェックを実行時に行っており、また可変長配列や辞書などの高級な型を組込みで持つ 超高級言語(very-high-level language) です。Python は Awk や Perl などよりも汎用的なデータ型を備えており、より多くの領域で利用できます。また、Pythonはこれらの言語と比べても、少なくとも同じぐらいには簡単です。\n",
    "\n",
    "Python では、プログラムをモジュールに分割して、他の Python プログラムで再利用できます。Python には膨大な標準モジュールが付属していて、プログラムを作る上での基盤として、あるいは Python プログラミングを学ぶためのサンプルとして利用できます。標準モジュールには、ファイル I/O、システムコール、ソケットといった機能や、Tk のようなグラフィカルユーザインタフェースツールキットを使うためのインターフェイスなども提供しています。\n",
    "\n",
    "Python はインタプリタ言語です。コンパイルやリンクの必要がないので、プログラムを開発する際にかなりの時間を節約できます。インタプリタは対話的にも使えるので、言語の様々な機能について実験してみたり、書き捨てのプログラムを書いたり、ボトムアップでプログラムを開発する際に、関数をテストしたりといったことが簡単にできます。便利な電卓にもなります。\n",
    "\n",
    "Python では、とてもコンパクトで読みやすいプログラムを書けます。Python で書かれたプログラムは大抵、同じ機能の C 言語, C++ 言語や Java のプログラムよりもはるかに短くなります。これには以下のようないくつかの理由があります:\n",
    "+ 高レベルのデータ型によって、複雑な操作を一つの実行文で表現できます。\n",
    "+ 実行文のグループ化を、グループの開始や終了の括弧ではなくインデントで行えます。\n",
    "+ 変数や引数の宣言が不要です。\n",
    "  \n",
    "Python には 拡張性 があります: C 言語でプログラムを書く方法を知っているなら、簡単に新たな組み込み関数やモジュールを、簡単にインタプリタに追加できます。これによって、いちばん時間のかかる処理を高速化したり、ベンダ特有のグラフィクスライブラリなどの、 バイナリ形式でしか手に入らないライブラリを Python にリンクしたりできます。その気になれば、Python インタプリタを C で書かれたアプリケーションにリンクして、アプリケーションに対する拡張言語や命令言語としても使えます。\n",
    "\n",
    "ところで、この言語は BBC のショー番組、\"モンティパイソンの空飛ぶサーカス (Monty Python's Flying Circus)\" から取ったもので、爬虫類とは関係ありません。このドキュメントでは、モンティパイソンの寸劇への参照が許可されているだけでなく、むしろ推奨されています！\n",
    "\n",
    "さて、皆さんはもう Python にワクワクして、もうちょっと詳しく調べてみたくなったはずです。プログラミング言語を習得する最良の方法は使ってみることですから、このチュートリアルではみなさんが読んだ内容を Python インタプリタで試してみることをおすすめします。\n",
    "\n",
    "次の章では、まずインタプリタの使い方を説明します。これはわかりきった内容かもしれませんが、後に説明する例題を試してみる上で不可欠なことです。\n",
    "\n",
    "チュートリアルの残りの部分では、Python プログラム言語と実行システムの様々な機能を例題を交えて紹介します。単純な式、実行文、データ型から始めて、関数とモジュールを経て、最後には例外処理やユーザ定義クラスといったやや高度な概念にも触れます。"
   ]
  },
  {
   "cell_type": "markdown",
   "metadata": {
    "deletable": false,
    "editable": false,
    "run_control": {
     "frozen": true
    }
   },
   "source": [
    "# <span style=\"color: blue; \">2. Python インタプリタを使う<a id='anchor2'></span>  \n",
    "## <span style=\"color: blue; \">2.1. インタプリタを起動する</span>    \n",
    "Python インタプリタは、それが使えるマシン上では通常 `/usr/local/bin/python3.9` としてインストールされています; Unix シェルの検索パスに `/usr/local/bin` を入れることによって、次のコマンドをタイプしてインタプリタを開始することができます:  \n",
    "***\n",
    "`python3.9`  \n",
    "***\n",
    "<span style=\"color: gray; \">［補足］本学習環境(DeepAelurus）ではipythonですのでこのコマンドは有効ではありません。 そのためテキストで記載してます</span>"
   ]
  },
  {
   "cell_type": "markdown",
   "metadata": {
    "deletable": false,
    "editable": false,
    "run_control": {
     "frozen": true
    }
   },
   "source": [
    "[[1]](https://docs.python.org/ja/3.9/tutorial/interpreter.html#id2) どのディレクトリに Python インタプリタをインストールするかはインストール時に選択できるので、インタプリタは他のディレクトリにあるかもしれません; 身近な Python に詳しい人か、システム管理者に聞いてみてください。 (例えば、その他の場所としては `/usr/local/python` が一般的です。)  \n",
    "  \n",
    "[Microsoft ストア](https://docs.python.org/ja/3.9/using/windows.html#windows-store) からPythonのインストールを行った Windows マシンでは、 `python3.9` コマンドが利用可能です。 [py.exe ランチャ](https://docs.python.org/ja/3.9/using/windows.html#launcher) をインストールした場合、 `py` コマンドが使えます。 Python を起動する他の方法については [補足: 環境変数の設定](https://docs.python.org/ja/3.9/using/windows.html#setting-envvars) を参照してください。\n",
    "\n",
    "ファイル終端文字 (Unixでは Control-D 、DOS や Windows では Control-Z) を一次プロンプト (訳注: '>>>' のこと) に入力すると、インタプリタが終了ステータス 0 で終了します。もしこの操作がうまく働かないなら、コマンド: `quit()` と入力すればインタプリタを終了できます。\n",
    "\n",
    "[GNU Readline](https://tiswww.case.edu/php/chet/readline/rltop.html) ライブラリをサポートしているシステム上では、対話的行編集やヒストリ置換、コード補完のインタプリタの行編集機能が利用できます。コマンドライン編集機能がサポートされているかを最も手っ取り早く調べる方法は、おそらく最初に表示された Python プロンプトに Control-P を入力してみることでしょう。ビープ音が鳴るなら、コマンドライン編集機能があります。編集キーについての解説は付録 [対話入力編集と履歴置換](https://docs.python.org/ja/3.9/tutorial/interactive.html#tut-interacting) を参照してください。何も起こらないように見えるか、 ^P がエコーバックされるなら、コマンドライン編集機能は利用できません。この場合、現在編集中の行から文字を削除するにはバックスペースを使うしかありません。\n",
    "\n",
    "インタプリタは Unix シェルと同じように使えます。標準入力が端末に接続された状態では、コマンドを対話的に読み込んで実行します。ファイル名を引数に指定するか、`python3 < filename` のように標準入力ファイルとして指定すると、インタプリタはファイルから スクリプト を読み込んで実行します。\n",
    "\n",
    "インタプリタを `python -c command [arg] ...` のように起動する方法もあります。この形式では、シェルの -c オプションと同じように、 command に指定した文を実行します。 Python 文には、スペースなどのシェルにとって特殊な意味をもつ文字がしばしば含まれるので、 command 全体をシングルクォート(訳注: ')で囲っておいたほうが良いでしょう。\n",
    "\n",
    "Python のモジュールには、スクリプトとしても便利に使えるものがあります。 `python -m module [arg] ...` のように起動すると、 module のソースファイルを、フルパスを指定して起動したかのように実行できます。\n",
    "\n",
    "スクリプトファイルを使用する場合、スクリプトの実行が完了した後、そのまま対話モードに入れると便利なことがあります。これには [-i](https://docs.python.org/ja/3.9/using/cmdline.html#cmdoption-i) をスクリプト名の前に追加します。\n",
    "\n",
    "全てのコマンドラインオプションは [コマンドラインと環境](https://docs.python.org/ja/3.9/using/cmdline.html#using-on-general) で説明されています。"
   ]
  },
  {
   "cell_type": "markdown",
   "metadata": {
    "deletable": false,
    "editable": false,
    "run_control": {
     "frozen": true
    }
   },
   "source": [
    "## <span style=\"color: blue; \">2.1.1. 引数の受け渡し</span>\n",
    "スクリプト名と引数を指定してインタプリタを起動した場合、スクリプト名やスクリプト名以後に指定した引数は、文字列のリストに変換されて sys モジュールの `argv` 変数に格納されます。 `import sys` とすることでこのリストにアクセスできます。 `sys.argv` には少なくとも一つ要素が入っています。スクリプト名も引数も指定しなければ、 `sys.argv[0]` は空の文字列になります。 スクリプト名の代わりに `'-'` (標準入力を意味します) を指定すると、 `sys.argv[0]` は `'-'` になります。  \n",
    "[-c](https://docs.python.org/ja/3.9/using/cmdline.html#cmdoption-c) command を使うと、 `sys.argv[0]` は `'-c'` になります。 [-m](https://docs.python.org/ja/3.9/using/cmdline.html#cmdoption-m) module を使った場合、 `sys.argv[0]` はモジュールのフルパスになります。 Python インタープリタは、[-c](https://docs.python.org/ja/3.9/using/cmdline.html#cmdoption-c) command や [-m](https://docs.python.org/ja/3.9/using/cmdline.html#cmdoption-m) module の後ろに指定したオプションは無視します。無視された引数は、`sys.argv` を使って command や module から参照できます。"
   ]
  },
  {
   "cell_type": "markdown",
   "metadata": {
    "deletable": false,
    "editable": false,
    "run_control": {
     "frozen": true
    }
   },
   "source": [
    "## <span style=\"color: blue; \">2.1.2. 対話モード</span>\n",
    "インタプリタが命令を端末 (tty) やコマンドプロンプトから読み取っている場合、インタプリタは 対話モード (interactive mode) で動作しているといいます。 このモードでは、インタプリタは 一次プロンプト (primary prompt) を表示して、ユーザにコマンドを入力するよう促します。一次プロンプトは普通、三つの「大なり記号」 (`>>>`) です。継続行では、インタプリタは 二次プロンプト (secondary prompt) を表示します。二次プロンプトは、デフォルトでは三つのドット (`...`) です。 インタプリタは、最初のプロンプトを出す前にバージョン番号と著作権表示から始まる起動メッセージを出力します:  \n",
    "***\n",
    "`$ python3.9`    \n",
    "`Python 3.8 (default, June 4 2019, 09:25:04)`  \n",
    "`[GCC 4.8.2] on linux`  \n",
    "`Type \"help\", \"copyright\", \"credits\" or \"license\" for more information.`    \n",
    "`>>>`  \n",
    "***\n",
    "  \n",
    "<span style=\"color: gray; \">［補足］本学習環境(DeepAelurus）ではipythonですのでこのコマンドは有効ではありません。 そのためテキストで記載してます</span>"
   ]
  },
  {
   "cell_type": "markdown",
   "metadata": {
    "deletable": false,
    "editable": false,
    "run_control": {
     "frozen": true
    }
   },
   "source": [
    "継続行は、複数行の構文を入力するときに使います。例えば、 [if](https://docs.python.org/ja/3.9/reference/compound_stmts.html#if) 文は継続行を使用します  \n",
    "<span style=\"color: gray; \">［補足］iPythonではif分入力後にリターンキーを押下すると自動的にインデントされて（デフォルトは４つのブランク）「...」は表示されていませんが、下記のように継続行となります。</span>"
   ]
  },
  {
   "cell_type": "code",
   "execution_count": null,
   "metadata": {
    "deletable": false,
    "editable": false
   },
   "outputs": [],
   "source": [
    "the_world_is_flat = True\n",
    "if the_world_is_flat:\n",
    "    print(\"Be careful not to fall off!\")"
   ]
  },
  {
   "cell_type": "markdown",
   "metadata": {
    "deletable": false,
    "editable": false,
    "run_control": {
     "frozen": true
    }
   },
   "source": [
    "<span style=\"color: purple; \">［やってみよう!!]  \n",
    "下のセルのif分の後ろでリターンキーを押下してみましょう。そしてプリント文「print(\"xxxx\")」を挿入して好きなメッセージを入れて表示してみてください。</span>"
   ]
  },
  {
   "cell_type": "code",
   "execution_count": null,
   "metadata": {},
   "outputs": [],
   "source": [
    "the_world_is_flat = True\n",
    "if the_world_is_flat:  # ここでリターンキーを押下してprint文を入れてください"
   ]
  },
  {
   "cell_type": "markdown",
   "metadata": {
    "deletable": false,
    "editable": false,
    "run_control": {
     "frozen": true
    }
   },
   "source": [
    "対話モードについての詳細は [対話モード](https://docs.python.org/ja/3.8/tutorial/appendix.html#tut-interac) を参照してください。"
   ]
  },
  {
   "cell_type": "markdown",
   "metadata": {
    "deletable": false,
    "editable": false,
    "run_control": {
     "frozen": true
    }
   },
   "source": [
    "# <span style=\"color: blue; \">2.2. インタプリタとその環境</span>  \n",
    "## <span style=\"color: blue; \">2.2.1. ソースコードの文字コード</span>  \n",
    "デフォルトでは、Python のソースコードは UTF-8 でエンコードされているものとして扱われます。UTF-8 では、世界中のほとんどの言語の文字を、同時に文字列リテラル、識別子、コメントなどに書けます。--- ただし、標準ライブラリは識別子に ASCII 文字のみを利用していて、その他のポータブルなコードもその慣習に従うべきです。それらの文字を正しく表示するためには、エディターはそのファイルが UTF-8 である事を識別して、そのファイルに含まれている文字を全てサポートしたフォントを使わなければなりません。\n",
    "\n",
    "デフォルトエンコーディング以外のエンコーディングを使用するには、ファイルの 先頭 の行に特別なコメントを追加しなければなりません。書式は以下の通りです:"
   ]
  },
  {
   "cell_type": "code",
   "execution_count": null,
   "metadata": {
    "deletable": false,
    "editable": false
   },
   "outputs": [],
   "source": [
    "# -*- coding: encoding -*-"
   ]
  },
  {
   "cell_type": "markdown",
   "metadata": {
    "deletable": false,
    "editable": false,
    "run_control": {
     "frozen": true
    }
   },
   "source": [
    "encoding には、Python が codecs でサポートしている有効なエンコーディングを指定します。  \n",
    "  \n",
    "例えば、Windows-1252 エンコーディングを使用するには、ソースコードファイルの先頭行は下記のようにします:"
   ]
  },
  {
   "cell_type": "code",
   "execution_count": null,
   "metadata": {
    "deletable": false,
    "editable": false
   },
   "outputs": [],
   "source": [
    "# -*- coding: cp1252 -*-"
   ]
  },
  {
   "cell_type": "markdown",
   "metadata": {
    "deletable": false,
    "editable": false,
    "run_control": {
     "frozen": true
    }
   },
   "source": [
    "ソースコードが [UNIX \"shebang\" 行](https://docs.python.org/ja/3.8/tutorial/appendix.html#tut-scripts) で始まる場合には、先頭行 のルールは当てはまりません。 この場合には、エンコーディングの宣言はファイルの2行目に追加します。 例えば以下のようになります:"
   ]
  },
  {
   "cell_type": "code",
   "execution_count": null,
   "metadata": {
    "deletable": false,
    "editable": false
   },
   "outputs": [],
   "source": [
    "#!/usr/bin/env python3\n",
    "# -*- coding: cp1252 -*-"
   ]
  },
  {
   "cell_type": "markdown",
   "metadata": {
    "deletable": false,
    "editable": false,
    "run_control": {
     "frozen": true
    }
   },
   "source": [
    "# <span style=\"color: blue; \">3. 形式ばらない Python の紹介<a id='anchor3'></span>\n",
    "以下のサンプルでは、入力と出力はプロンプト (>>> や ...) の有無で区別します: 例を実際に試す場合は、プロンプトが表示されているときに、サンプル中のプロンプトから後ろの内容全てを入力します。\n",
    "\n",
    "このマニュアルにあるサンプルの多くは、対話プロンプトで入力されるものでもコメントを含んでいます。 Python におけるコメント文は、ハッシュ文字 `#` で始まり、物理行の終わりまで続きます。コメントは行の先頭にも、空白やコードの後にも書くことができますが、文字列リテラルの内部に置くことはできません。文字列リテラル中のハッシュ文字はただのハッシュ文字です。コメントはコードを明快にするためのものであり、Pythonはコメントを解釈しません。なので、サンプルコードを実際に入力して試して見るときは、コメントを省いても大丈夫です。\n",
    "\n",
    "いくつかの例です:"
   ]
  },
  {
   "cell_type": "code",
   "execution_count": null,
   "metadata": {
    "deletable": false,
    "editable": false
   },
   "outputs": [],
   "source": [
    "# this is the first comment\n",
    "spam = 1  # and this is the second comment\n",
    "          # ... and now a third!\n",
    "text = \"# This is not a comment because it's inside quotes.\""
   ]
  },
  {
   "cell_type": "markdown",
   "metadata": {
    "deletable": false,
    "editable": false,
    "run_control": {
     "frozen": true
    }
   },
   "source": [
    "## <span style=\"color: blue; \">3.1. Python を電卓として使う</span>\n",
    "それでは、簡単な Python コマンドをいくつか試してみましょう。インタプリタを起動して、一次プロンプト、 >>> が現れるのを待ちます。 (そう長くはかからないはずです)  \n",
    "<span style=\"color: gray; \">［補足］本学習環境(iPython)ではセルを実行するのみです</span>\n",
    "\n",
    "### <span style=\"color: blue; \">3.1.1. 数</span>\n",
    "インタプリタは、簡単な電卓のように動作します: 式を入力すると、その結果が表示されます。式の文法は素直なものです: 演算子 `+`, `-`, `*`, / は (Pascal や C といった) 他のほとんどの言語と同じように動作します; 丸括弧 (`()`) をグループ化に使うこともできます。例えば:"
   ]
  },
  {
   "cell_type": "code",
   "execution_count": null,
   "metadata": {
    "deletable": false,
    "editable": false
   },
   "outputs": [],
   "source": [
    "2 + 2       # = 4"
   ]
  },
  {
   "cell_type": "code",
   "execution_count": null,
   "metadata": {
    "deletable": false,
    "editable": false
   },
   "outputs": [],
   "source": [
    "50 - 5*6    # = 20"
   ]
  },
  {
   "cell_type": "code",
   "execution_count": null,
   "metadata": {
    "deletable": false,
    "editable": false
   },
   "outputs": [],
   "source": [
    "8 / 5  # division always returns a floating point number, # = 1.6"
   ]
  },
  {
   "cell_type": "markdown",
   "metadata": {
    "deletable": false,
    "editable": false,
    "run_control": {
     "frozen": true
    }
   },
   "source": [
    "<span style=\"color: red; \">整数 (例えば、 `2` 、 `4` 、 `20`) は int 型であり、小数部を持つ数 (例えば、 `5.0` 、 `1.6`) は float 型です</span>。数値型については後のチュートリアルでさらに見ていきます。\n",
    "\n",
    "除算 (`/`) は常に浮動小数点数を返します。 `//` 演算子は 整数除算 を行い、(小数部を切り捨てた) 整数値を返します; 剰余は、`%` で求めます。:"
   ]
  },
  {
   "cell_type": "code",
   "execution_count": null,
   "metadata": {
    "deletable": false,
    "editable": false
   },
   "outputs": [],
   "source": [
    "17 / 3  # classic division returns a float , # = 5.666666666666667"
   ]
  },
  {
   "cell_type": "code",
   "execution_count": null,
   "metadata": {
    "deletable": false,
    "editable": false
   },
   "outputs": [],
   "source": [
    "17 // 3  # floor division discards the fractional part , # = 5"
   ]
  },
  {
   "cell_type": "code",
   "execution_count": null,
   "metadata": {
    "deletable": false,
    "editable": false
   },
   "outputs": [],
   "source": [
    "17 % 3  # the % operator returns the remainder of the division, # = 2\n"
   ]
  },
  {
   "cell_type": "code",
   "execution_count": null,
   "metadata": {
    "deletable": false,
    "editable": false
   },
   "outputs": [],
   "source": [
    "5 * 3 + 2  # result * divisor + remainder, # = 17"
   ]
  },
  {
   "cell_type": "markdown",
   "metadata": {
    "deletable": false,
    "editable": false,
    "run_control": {
     "frozen": true
    }
   },
   "source": [
    "Python では、冪乗を計算するのに `**` 演算子が使えます[[1]](https://docs.python.org/ja/3.9/tutorial/introduction.html#id3):"
   ]
  },
  {
   "cell_type": "code",
   "execution_count": null,
   "metadata": {
    "deletable": false,
    "editable": false
   },
   "outputs": [],
   "source": [
    "5 ** 2  # 5 squared   = 25"
   ]
  },
  {
   "cell_type": "code",
   "execution_count": null,
   "metadata": {
    "deletable": false,
    "editable": false
   },
   "outputs": [],
   "source": [
    "2 ** 7  # 2 to the power of 7  = 128"
   ]
  },
  {
   "cell_type": "markdown",
   "metadata": {
    "deletable": false,
    "editable": false,
    "run_control": {
     "frozen": true
    }
   },
   "source": [
    "等号 (`=`) は変数に値を代入するときに使います。代入を行っても、結果は出力されず、次の入力プロンプトが表示されます。:"
   ]
  },
  {
   "cell_type": "code",
   "execution_count": null,
   "metadata": {
    "deletable": false,
    "editable": false
   },
   "outputs": [],
   "source": [
    "width = 20\n",
    "height = 5 * 9\n",
    "width * height      # = 900"
   ]
  },
  {
   "cell_type": "markdown",
   "metadata": {
    "deletable": false,
    "editable": false,
    "run_control": {
     "frozen": true
    }
   },
   "source": [
    "変数が \"定義\" されていない (つまり値が代入されていない) 場合、その変数を使おうとするとエラーが発生します:  \n",
    "<span style=\"color: gray; \">［補足］下記のコマンドでは、n はこれまでに定義（宣言）されていないので、</span><span style=\"color: purple; \">NameError</span><span style=\"color: gray; \">となります。</span>"
   ]
  },
  {
   "cell_type": "code",
   "execution_count": null,
   "metadata": {
    "deletable": false,
    "editable": false
   },
   "outputs": [],
   "source": [
    "n  # try to access an undefined variable"
   ]
  },
  {
   "cell_type": "markdown",
   "metadata": {
    "deletable": false,
    "editable": false,
    "run_control": {
     "frozen": true
    }
   },
   "source": [
    "浮動小数点を完全にサポートしています。演算対象の値(オペランド)に複数の型が入り混じっている場合、演算子は整数のオペランドを浮動小数点型に変換します:"
   ]
  },
  {
   "cell_type": "code",
   "execution_count": null,
   "metadata": {
    "deletable": false,
    "editable": false
   },
   "outputs": [],
   "source": [
    "4 * 3.75 - 1  # = 14.0"
   ]
  },
  {
   "cell_type": "markdown",
   "metadata": {
    "deletable": false,
    "editable": false,
    "run_control": {
     "frozen": true
    }
   },
   "source": [
    "<span style=\"color: red; \">対話モードでは、最後に表示された結果は変数 _ に代入されます</span>。このことを利用すると、Python を電卓として使うときに、計算を連続して行う作業が多少楽になります。以下に例を示します:"
   ]
  },
  {
   "cell_type": "code",
   "execution_count": null,
   "metadata": {
    "deletable": false,
    "editable": false
   },
   "outputs": [],
   "source": [
    "tax = 12.5 / 100\n",
    "price = 100.50\n",
    "price * tax        # = 12.5625"
   ]
  },
  {
   "cell_type": "code",
   "execution_count": null,
   "metadata": {
    "deletable": false,
    "editable": false
   },
   "outputs": [],
   "source": [
    "price + _         # = 113.0625"
   ]
  },
  {
   "cell_type": "code",
   "execution_count": null,
   "metadata": {
    "deletable": false,
    "editable": false
   },
   "outputs": [],
   "source": [
    "round(_, 2)       # = 113.06"
   ]
  },
  {
   "cell_type": "markdown",
   "metadata": {
    "deletable": false,
    "editable": false,
    "run_control": {
     "frozen": true
    }
   },
   "source": [
    "この変数には読取りだけを行い、明示的な代入を行ってはいけません --- そんなことをすれば、同じ名前で別のローカル変数が生成され、元の特別な動作をする組み込み変数を覆い隠してしておかしなことになってしまうかもしれません。\n",
    "\n",
    "<span style=\"color: red; \">[<span style=\"color: red; \">int</span>](https://docs.python.org/ja/3.9/library/functions.html#int) と [<span style=\"color: red; \">float</span>](https://docs.python.org/ja/3.9/library/functions.html#float) に加え、 Python は [<span style=\"color: red; \">Decimal</span>](https://docs.python.org/ja/3.9/library/decimal.html#decimal.Decimal) や [<span style=\"color: red; \">Fraction</span>](https://docs.python.org/ja/3.9/library/fractions.html#fractions.Fraction) などの他の数値型もサポートしています</span>。 [複素数](https://docs.python.org/ja/3.9/library/stdtypes.html#typesnumeric) も組み込み型としてサポートしており、 `j` もしくは `J` 接尾辞を使って虚部を示します (例: `3+5j`)。"
   ]
  },
  {
   "cell_type": "markdown",
   "metadata": {
    "deletable": false,
    "editable": false,
    "run_control": {
     "frozen": true
    }
   },
   "source": [
    "### <span style=\"color: blue; \">3.1.2. 文字列型 (string)</span>\n",
    "Python は、<span style=\"color: red; \">数だけではなく、文字列も操作できます。文字列を記述する方法は複数あり、単引用符 (`'...'`) で囲むか、もしくは二重引用符 (`\"...\"`) で囲みます。結果はどちらも同じ文字列になります。[[2]](https://docs.python.org/ja/3.9/tutorial/introduction.html#id4) 引用符は、`\\` でエスケープできます</span>。:"
   ]
  },
  {
   "cell_type": "code",
   "execution_count": null,
   "metadata": {
    "deletable": false,
    "editable": false
   },
   "outputs": [],
   "source": [
    "'spam eggs'  # single quotes"
   ]
  },
  {
   "cell_type": "code",
   "execution_count": null,
   "metadata": {
    "deletable": false,
    "editable": false
   },
   "outputs": [],
   "source": [
    "'doesn\\'t'  # use \\' to escape the single quote..."
   ]
  },
  {
   "cell_type": "code",
   "execution_count": null,
   "metadata": {
    "deletable": false,
    "editable": false
   },
   "outputs": [],
   "source": [
    "\"doesn't\"  # ...or use double quotes instead"
   ]
  },
  {
   "cell_type": "code",
   "execution_count": null,
   "metadata": {
    "deletable": false,
    "editable": false
   },
   "outputs": [],
   "source": [
    "'\"Yes,\" they said.'"
   ]
  },
  {
   "cell_type": "code",
   "execution_count": null,
   "metadata": {
    "deletable": false,
    "editable": false
   },
   "outputs": [],
   "source": [
    "\"\\\"Yes,\\\" they said.\"  # '\"Yes,\" they said.'"
   ]
  },
  {
   "cell_type": "code",
   "execution_count": null,
   "metadata": {
    "deletable": false,
    "editable": false
   },
   "outputs": [],
   "source": [
    "'\"Isn\\'t,\" they said.'"
   ]
  },
  {
   "cell_type": "markdown",
   "metadata": {
    "deletable": false,
    "editable": false,
    "run_control": {
     "frozen": true
    }
   },
   "source": [
    "対話的インタプリタが文字列を出力するとき、出力文字列は引用符に囲まれ、特殊文字はバックスラッシュでエスケープされます。出力文字が入力とは違って見える (囲っている引用符が変わる) こともありますが、その 2 つの文字列は同じ文字列です。文字列が単引用符を含み二重引用符を含まない場合、二重引用符で囲われ、それ以外の場合は単引用符で囲われます。"
   ]
  },
  {
   "cell_type": "code",
   "execution_count": null,
   "metadata": {
    "deletable": false,
    "editable": false
   },
   "outputs": [],
   "source": [
    "'\"Isn\\'t,\" they said.'"
   ]
  },
  {
   "cell_type": "code",
   "execution_count": null,
   "metadata": {
    "deletable": false,
    "editable": false
   },
   "outputs": [],
   "source": [
    "print('\"Isn\\'t,\" they said.')  # \\'t -> 'tにより、\"Isn't,\" they said.　と表示"
   ]
  },
  {
   "cell_type": "code",
   "execution_count": null,
   "metadata": {
    "deletable": false,
    "editable": false
   },
   "outputs": [],
   "source": [
    "s = 'First line.\\nSecond line.'  # \\n means newline\n",
    "s"
   ]
  },
  {
   "cell_type": "code",
   "execution_count": null,
   "metadata": {
    "deletable": false,
    "editable": false
   },
   "outputs": [],
   "source": [
    "print(s)  # with print(), \\n produces a new line、改行されて２行で表示"
   ]
  },
  {
   "cell_type": "markdown",
   "metadata": {
    "deletable": false,
    "editable": false,
    "run_control": {
     "frozen": true
    }
   },
   "source": [
    "`\\` に続く文字を特殊文字として解釈されたくない場合は、最初の引用符の前に `r` を付けた raw strings が使えます:"
   ]
  },
  {
   "cell_type": "code",
   "execution_count": null,
   "metadata": {
    "deletable": false,
    "editable": false
   },
   "outputs": [],
   "source": [
    "print('C:\\some\\name')  # here \\n means newline!　C:\\someで改行され、続けてameが表示"
   ]
  },
  {
   "cell_type": "code",
   "execution_count": null,
   "metadata": {
    "deletable": false,
    "editable": false
   },
   "outputs": [],
   "source": [
    "print(r'C:\\some\\name')  # note the r before the quote、 C:\\some\\name と表示"
   ]
  },
  {
   "cell_type": "markdown",
   "metadata": {
    "deletable": false,
    "editable": false,
    "run_control": {
     "frozen": true
    }
   },
   "source": [
    "文字列リテラルは複数行にまたがって書けます。1 つの方法は三連引用符 (`\"\"\"...\"\"\"` や `'''...'''`) を使うことです。改行文字は自動的に文字列に含まれますが、行末に `\\` を付けることで含めないようにすることもできます。   \n",
    "次の例は、以下のような出力になります (最初の改行文字は含まれていないことに注意してください):  \n",
    "  \n",
    "`\n",
    "    Usage: thingy [OPTIONS]\n",
    "    -h                        Display this usage message\n",
    "    -H hostname               Hostname to connect to\n",
    "`"
   ]
  },
  {
   "cell_type": "code",
   "execution_count": null,
   "metadata": {
    "deletable": false,
    "editable": false
   },
   "outputs": [],
   "source": [
    "print(\"\"\"\\\n",
    "Usage: thingy [OPTIONS]\n",
    "    -h                        Display this usage message\n",
    "    -H hostname               Hostname to connect to\n",
    "\"\"\")"
   ]
  },
  {
   "cell_type": "markdown",
   "metadata": {
    "deletable": false,
    "editable": false,
    "run_control": {
     "frozen": true
    }
   },
   "source": [
    "<span style=\"color: red; \">文字列は `+` 演算子で連結させる (くっつけて一つにする) ことができ、`*` 演算子で反復させることができます</span>:  "
   ]
  },
  {
   "cell_type": "code",
   "execution_count": null,
   "metadata": {
    "deletable": false,
    "editable": false
   },
   "outputs": [],
   "source": [
    "# 3 times 'un', followed by 'ium'\n",
    "3 * 'un' + 'ium'                 # = 'unununium'"
   ]
  },
  {
   "cell_type": "markdown",
   "metadata": {
    "deletable": false,
    "editable": false,
    "run_control": {
     "frozen": true
    }
   },
   "source": [
    "連続して並んでいる複数の 文字列リテラル (つまり、引用符に囲われた文字列) は、自動的に連結されます。  "
   ]
  },
  {
   "cell_type": "code",
   "execution_count": null,
   "metadata": {
    "deletable": false,
    "editable": false
   },
   "outputs": [],
   "source": [
    "'Py' 'thon'       # = 'Python'"
   ]
  },
  {
   "cell_type": "markdown",
   "metadata": {
    "deletable": false,
    "editable": false,
    "run_control": {
     "frozen": true
    }
   },
   "source": [
    "この機能は、長い文字列を改行したいときにとても役に立ちます:  "
   ]
  },
  {
   "cell_type": "code",
   "execution_count": null,
   "metadata": {
    "deletable": false,
    "editable": false
   },
   "outputs": [],
   "source": [
    "text = ('Put several strings within parentheses '\n",
    "        'to have them joined together.')\n",
    "text     # = 'Put several strings within parentheses to have them joined together.'"
   ]
  },
  {
   "cell_type": "markdown",
   "metadata": {
    "deletable": false,
    "editable": false,
    "run_control": {
     "frozen": true
    }
   },
   "source": [
    "これは 2 つのリテラルどうしに対してのみ働き、変数や式には働きません:  \n",
    "<span style=\"color: gray; \">［補足］下記のコマンドでは、変数(prefix)とリテラル('thon')を結合しているので、</span><span style=\"color: purple; \">SyntaxError</span><span style=\"color: gray; \">となります。</span>"
   ]
  },
  {
   "cell_type": "code",
   "execution_count": null,
   "metadata": {
    "deletable": false,
    "editable": false
   },
   "outputs": [],
   "source": [
    "prefix = 'Py'\n",
    "prefix 'thon'  # can't concatenate a variable and a string literal"
   ]
  },
  {
   "cell_type": "markdown",
   "metadata": {
    "deletable": false,
    "editable": false,
    "run_control": {
     "frozen": true
    }
   },
   "source": [
    "<span style=\"color: gray; \">［補足］同様に('un' * 3)はリテラルでないため、</span><span style=\"color: purple; \">SyntaxError</span><span style=\"color: gray; \">となります。</span>"
   ]
  },
  {
   "cell_type": "code",
   "execution_count": null,
   "metadata": {
    "deletable": false,
    "editable": false
   },
   "outputs": [],
   "source": [
    "('un' * 3) 'ium'"
   ]
  },
  {
   "cell_type": "markdown",
   "metadata": {
    "deletable": false,
    "editable": false,
    "run_control": {
     "frozen": true
    }
   },
   "source": [
    "<span style=\"color: red; \">変数どうしや変数とリテラルを連結したい場合は、+ を使ってください</span>:  "
   ]
  },
  {
   "cell_type": "code",
   "execution_count": null,
   "metadata": {
    "deletable": false,
    "editable": false
   },
   "outputs": [],
   "source": [
    "prefix = 'Py'\n",
    "prefix + 'thon'     # = 'Python'"
   ]
  },
  {
   "cell_type": "markdown",
   "metadata": {
    "deletable": false,
    "editable": false,
    "run_control": {
     "frozen": true
    }
   },
   "source": [
    "文字列は インデックス (添字) を指定して文字を取得できます。<span style=\"color: red; \">最初の文字のインデックスは 0 になります</span>。文字を表す、専用のデータ型は用意されていません; 文字とは、単に長さが 1 の文字列です:"
   ]
  },
  {
   "cell_type": "code",
   "execution_count": null,
   "metadata": {
    "deletable": false,
    "editable": false
   },
   "outputs": [],
   "source": [
    "word = 'Python'\n",
    "word[0]  # character in position 0  = 'P'"
   ]
  },
  {
   "cell_type": "code",
   "execution_count": null,
   "metadata": {
    "deletable": false,
    "editable": false
   },
   "outputs": [],
   "source": [
    "word[5]  # character in position 5  = 'n'"
   ]
  },
  {
   "cell_type": "markdown",
   "metadata": {
    "deletable": false,
    "editable": false,
    "run_control": {
     "frozen": true
    }
   },
   "source": [
    "<span style=\"color: red; \">インデックスには、負の値も指定できまます。この場合、右から数えていきます</span>:"
   ]
  },
  {
   "cell_type": "code",
   "execution_count": null,
   "metadata": {
    "deletable": false,
    "editable": false
   },
   "outputs": [],
   "source": [
    "word[-1]  # last character = 'n'"
   ]
  },
  {
   "cell_type": "code",
   "execution_count": null,
   "metadata": {
    "deletable": false,
    "editable": false
   },
   "outputs": [],
   "source": [
    "word[-2]  # second-last character = 'o'"
   ]
  },
  {
   "cell_type": "code",
   "execution_count": null,
   "metadata": {
    "deletable": false,
    "editable": false
   },
   "outputs": [],
   "source": [
    "word[-6]  # 後ろから６番目 = 'P'"
   ]
  },
  {
   "cell_type": "markdown",
   "metadata": {
    "deletable": false,
    "editable": false,
    "run_control": {
     "frozen": true
    }
   },
   "source": [
    "-0 は 0 と区別できないので、<span style=\"color: red; \">負のインデックスは -1 から始まります。</span>  \n",
    "  \n",
    "<span style=\"color: red; \">インデックスに加え、スライス もサポートされています。インデックスは一文字づつ取得するのに使いますが、スライス は部分文字列を取得します</span>:"
   ]
  },
  {
   "cell_type": "code",
   "execution_count": null,
   "metadata": {
    "deletable": false,
    "editable": false
   },
   "outputs": [],
   "source": [
    "word[0:2]  # characters from position 0 (included) to 2 (excluded) = 'Py'"
   ]
  },
  {
   "cell_type": "code",
   "execution_count": null,
   "metadata": {
    "deletable": false,
    "editable": false
   },
   "outputs": [],
   "source": [
    "word[2:5]  # characters from position 2 (included) to 5 (excluded) = 'tho'"
   ]
  },
  {
   "cell_type": "markdown",
   "metadata": {
    "deletable": false,
    "editable": false,
    "run_control": {
     "frozen": true
    }
   },
   "source": [
    "<span style=\"color: red; \">開始値は常に含まれ、終了値は常に含まれないことに注意してください</span>。なので `s[:i] + s[i:]` は常に `s` と等しくなります:"
   ]
  },
  {
   "cell_type": "code",
   "execution_count": null,
   "metadata": {
    "deletable": false,
    "editable": false
   },
   "outputs": [],
   "source": [
    "word[:2] + word[2:]  # = 'Python'"
   ]
  },
  {
   "cell_type": "code",
   "execution_count": null,
   "metadata": {
    "deletable": false,
    "editable": false
   },
   "outputs": [],
   "source": [
    "word[:4] + word[4:]  # = 'Python'"
   ]
  },
  {
   "cell_type": "markdown",
   "metadata": {
    "deletable": false,
    "editable": false,
    "run_control": {
     "frozen": true
    }
   },
   "source": [
    "スライスのインデックスには、便利なデフォルト値があります; <span style=\"color: red; \">最初のインデックスを省略すると、0 と見なされます。二番め のインデックスを省略すると、スライスする文字列のサイズとみなされます</span>。"
   ]
  },
  {
   "cell_type": "code",
   "execution_count": null,
   "metadata": {
    "deletable": false,
    "editable": false
   },
   "outputs": [],
   "source": [
    "word[:2]   # character from the beginning to position 2 (excluded) = 'Py'"
   ]
  },
  {
   "cell_type": "code",
   "execution_count": null,
   "metadata": {
    "deletable": false,
    "editable": false
   },
   "outputs": [],
   "source": [
    "word[4:]   # characters from position 4 (included) to the end = 'on'"
   ]
  },
  {
   "cell_type": "code",
   "execution_count": null,
   "metadata": {
    "deletable": false,
    "editable": false
   },
   "outputs": [],
   "source": [
    "word[-2:]  # characters from the second-last (included) to the end = 'on'"
   ]
  },
  {
   "cell_type": "markdown",
   "metadata": {
    "deletable": false,
    "editable": false,
    "run_control": {
     "frozen": true
    }
   },
   "source": [
    "スライスの使い方をおぼえる良い方法は、インデックスが文字と文字の あいだ (between) を指しており、最初の文字の左端が 0 になっていると考えることです。そうすると、 n 文字からなる文字列中の最後の文字の右端はインデックス n となります。例えばこうです:  \n",
    "*** \n",
    "`\n",
    " +---+---+---+---+---+---+\n",
    " | P | y | t | h | o | n |\n",
    " +---+---+---+---+---+---+\n",
    " 0   1   2   3   4   5   6\n",
    "-6  -5  -4  -3  -2  -1\n",
    "`"
   ]
  },
  {
   "cell_type": "markdown",
   "metadata": {
    "deletable": false,
    "editable": false,
    "run_control": {
     "frozen": true
    }
   },
   "source": [
    "1行目の数字は文字列の 0 から 6 までのインデックスの位置を示しています; 2行目は対応する負のインデックスを示しています。i から j までのスライスは、それぞれ i と付いた境界から j と付いた境界までの全ての文字から成っています。 \n",
    "  \n",
    "正のインデックスの場合、スライスされたシーケンスの長さは、スライスの両端のインデックスが範囲内にあるかぎり、インデックス間の差になります。例えば、 `word[1:3]` の長さは 2 になります。  \n",
    "  \n",
    "大き過ぎるインデックスを使おうとするとエラーが発生します:  \n",
    "<span style=\"color: gray; \">［補足］下記のコマンドを実行すると、文字列の大きさを超えたインデックスを指定しているため、</span><span style=\"color: purple; \">IndexError</span><span style=\"color: gray; \">となります。</span>\n"
   ]
  },
  {
   "cell_type": "code",
   "execution_count": null,
   "metadata": {
    "deletable": false,
    "editable": false
   },
   "outputs": [],
   "source": [
    "word[42]  # the word only has 6 characters"
   ]
  },
  {
   "cell_type": "markdown",
   "metadata": {
    "deletable": false,
    "editable": false,
    "run_control": {
     "frozen": true
    }
   },
   "source": [
    "しかし、スライスで範囲外のインデックスを使ったときは、上手く対応して扱ってくれます:"
   ]
  },
  {
   "cell_type": "code",
   "execution_count": null,
   "metadata": {
    "deletable": false,
    "editable": false
   },
   "outputs": [],
   "source": [
    "word[4:42]  # = 'on'"
   ]
  },
  {
   "cell_type": "code",
   "execution_count": null,
   "metadata": {
    "deletable": false,
    "editable": false
   },
   "outputs": [],
   "source": [
    "word[42:]   # = ''"
   ]
  },
  {
   "cell_type": "markdown",
   "metadata": {
    "deletable": false,
    "editable": false,
    "run_control": {
     "frozen": true
    }
   },
   "source": [
    "<span style=\"color: red; \">Python の文字列は変更できません -- つまり 不変 です</span>。従って、文字列のインデックスで指定したある場所に代入を行うとエラーが発生します:  \n",
    "<span style=\"color: gray; \">［補足］下記のコマンドでは、文字列を書き換えようとしているので、</span><span style=\"color: purple; \">TypeError</span><span style=\"color: gray; \">となります。</span>"
   ]
  },
  {
   "cell_type": "code",
   "execution_count": null,
   "metadata": {
    "deletable": false,
    "editable": false
   },
   "outputs": [],
   "source": [
    "word[0] = 'J'"
   ]
  },
  {
   "cell_type": "code",
   "execution_count": null,
   "metadata": {
    "deletable": false,
    "editable": false
   },
   "outputs": [],
   "source": [
    "word[2:] = 'py'"
   ]
  },
  {
   "cell_type": "markdown",
   "metadata": {
    "deletable": false,
    "editable": false,
    "run_control": {
     "frozen": true
    }
   },
   "source": [
    "<span style=\"color: red; \">元の文字列と別の文字列が必要な場合は、新しく文字列を作成してください</span>:"
   ]
  },
  {
   "cell_type": "code",
   "execution_count": null,
   "metadata": {
    "deletable": false,
    "editable": false
   },
   "outputs": [],
   "source": [
    "'J' + word[1:]  # = 'Jython'"
   ]
  },
  {
   "cell_type": "code",
   "execution_count": null,
   "metadata": {
    "deletable": false,
    "editable": false
   },
   "outputs": [],
   "source": [
    "word[:2] + 'py' # = 'Pypy'"
   ]
  },
  {
   "cell_type": "markdown",
   "metadata": {
    "deletable": false,
    "editable": false,
    "run_control": {
     "frozen": true
    }
   },
   "source": [
    "<span style=\"color: red; \">組込み関数 [<span style=\"color: red; \">len()</span>](https://docs.python.org/ja/3.8/library/functions.html#len) は文字列の長さ (length) を返します</span>:"
   ]
  },
  {
   "cell_type": "code",
   "execution_count": null,
   "metadata": {
    "deletable": false,
    "editable": false
   },
   "outputs": [],
   "source": [
    "s = 'supercalifragilisticexpialidocious'\n",
    "len(s)   # = 34"
   ]
  },
  {
   "cell_type": "markdown",
   "metadata": {
    "deletable": false,
    "editable": false,
    "run_control": {
     "frozen": true
    }
   },
   "source": [
    "### <span style=\"color: blue; \">参考</span>\n",
    "[テキストシーケンス型 --- str](https://docs.python.org/ja/3.9/library/stdtypes.html#textseq)  \n",
    "文字列は代表的な シーケンス型 で、シーケンス型でサポートされている共通の操作をサポートしています。 \n",
    "  \n",
    "[文字列メソッド](https://docs.python.org/ja/3.9/library/stdtypes.html#string-methods)    \n",
    "文字列は、基本的な変換や検索を行うための数多くのメソッドをサポートしています。  \n",
    "  \n",
    "[フォーマット済み文字列リテラル](https://docs.python.org/ja/3.9/reference/lexical_analysis.html#f-strings)    \n",
    "式の埋め込みをサポートした文字列リテラル  \n",
    "  \n",
    "[書式指定文字列の文法](https://docs.python.org/ja/3.9/library/string.html#formatstrings)   \n",
    "[str.format()](https://docs.python.org/ja/3.9/library/stdtypes.html#str.format) を使った文字列のフォーマットについての情報があります。  \n",
    "  \n",
    "[printf 形式の文字列書式化](https://docs.python.org/ja/3.9/library/stdtypes.html#old-string-formatting)  \n",
    "文字列が % 演算子の左オペランドである場合に呼び出される古いフォーマット操作について、詳しく記述されています。"
   ]
  },
  {
   "cell_type": "markdown",
   "metadata": {
    "deletable": false,
    "editable": false,
    "run_control": {
     "frozen": true
    }
   },
   "source": [
    "### <span style=\"color: blue; \">3.1.3. リスト型 (list)</span>\n",
    "Pythonは多くの 複合 (compound) データ型を備えており、複数の値をまとめるのに使われます。最も汎用性が高いのは <span style=\"color: red; \">リスト (list) で、コンマ区切りの値 (要素) の並びを角括弧で囲んだものとして書き表されます</span>。リストは異なる型の要素を含むこともありますが、通常は同じ型の要素のみを持ちます。"
   ]
  },
  {
   "cell_type": "code",
   "execution_count": null,
   "metadata": {
    "deletable": false,
    "editable": false
   },
   "outputs": [],
   "source": [
    "squares = [1, 4, 9, 16, 25]\n",
    "squares"
   ]
  },
  {
   "cell_type": "markdown",
   "metadata": {
    "deletable": false,
    "editable": false,
    "run_control": {
     "frozen": true
    }
   },
   "source": [
    "文字列 (や他の全ての組み込みの :term:` シーケンス <sequence>` 型) のように、<span style=\"color: red; \">リストはインデックスやスライスができます</span>:"
   ]
  },
  {
   "cell_type": "code",
   "execution_count": null,
   "metadata": {
    "deletable": false,
    "editable": false
   },
   "outputs": [],
   "source": [
    "squares[0]  # indexing returns the item, squares[0]  = 1"
   ]
  },
  {
   "cell_type": "code",
   "execution_count": null,
   "metadata": {
    "deletable": false,
    "editable": false
   },
   "outputs": [],
   "source": [
    "squares[-1]  # = 25"
   ]
  },
  {
   "cell_type": "code",
   "execution_count": null,
   "metadata": {
    "deletable": false,
    "editable": false
   },
   "outputs": [],
   "source": [
    "squares[-3:]  # slicing returns a new list, = [9, 16, 25]"
   ]
  },
  {
   "cell_type": "markdown",
   "metadata": {
    "deletable": false,
    "editable": false,
    "run_control": {
     "frozen": true
    }
   },
   "source": [
    "全てのスライス操作は、指定された要素を含む新しいリストを返します。例えば、次のスライスは、<span style=\"color: red; \">リストの [<span style=\"color: red; \">浅い コピー</span>](https://docs.python.org/ja/3.9/library/copy.html#shallow-vs-deep-copy) を返します</span>。:"
   ]
  },
  {
   "cell_type": "code",
   "execution_count": null,
   "metadata": {
    "deletable": false,
    "editable": false
   },
   "outputs": [],
   "source": [
    "squares[:]   # = [1, 4, 9, 16, 25]"
   ]
  },
  {
   "cell_type": "markdown",
   "metadata": {
    "deletable": false,
    "editable": false,
    "run_control": {
     "frozen": true
    }
   },
   "source": [
    "リストは、リストの連結などもサポートしています:"
   ]
  },
  {
   "cell_type": "code",
   "execution_count": null,
   "metadata": {
    "deletable": false,
    "editable": false
   },
   "outputs": [],
   "source": [
    "squares + [36, 49, 64, 81, 100] # = [1, 4, 9, 16, 25, 36, 49, 64, 81, 100]"
   ]
  },
  {
   "cell_type": "markdown",
   "metadata": {
    "deletable": false,
    "editable": false,
    "run_control": {
     "frozen": true
    }
   },
   "source": [
    "<span style=\"color: red; \">[<span style=\"color: red; \">不変</span>](https://docs.python.org/ja/3.9/glossary.html#term-immutable)な文字列とは違って、リストは [<span style=\"color: red; \">可変</span>](https://docs.python.org/ja/3.9/glossary.html#term-immutable) 型ですので、要素を入れ替えられます</span>:"
   ]
  },
  {
   "cell_type": "code",
   "execution_count": null,
   "metadata": {
    "deletable": false,
    "editable": false
   },
   "outputs": [],
   "source": [
    "cubes = [1, 8, 27, 65, 125]  # something's wrong here\n",
    "4 ** 3  # the cube of 4 is 64, not 65!"
   ]
  },
  {
   "cell_type": "code",
   "execution_count": null,
   "metadata": {
    "deletable": false,
    "editable": false
   },
   "outputs": [],
   "source": [
    "cubes[3] = 64  # replace the wrong value\n",
    "cubes          # = [1, 8, 27, 64, 125]"
   ]
  },
  {
   "cell_type": "markdown",
   "metadata": {
    "deletable": false,
    "editable": false,
    "run_control": {
     "frozen": true
    }
   },
   "source": [
    "append() を使って、リストの末尾に新しい要素を追加できます (このメソッドについては後で詳しく見ていきます):"
   ]
  },
  {
   "cell_type": "code",
   "execution_count": null,
   "metadata": {
    "deletable": false,
    "editable": false
   },
   "outputs": [],
   "source": [
    "cubes.append(216)     # add the cube of 6\n",
    "cubes.append(7 ** 3)  # and the cube of 7\n",
    "cubes                 # = [1, 8, 27, 64, 125, 216, 216, 343]"
   ]
  },
  {
   "cell_type": "markdown",
   "metadata": {
    "deletable": false,
    "editable": false,
    "run_control": {
     "frozen": true
    }
   },
   "source": [
    "スライスには、代入もできます。スライスの代入で、リストのサイズを変更したり、全てを削除したりもできます:"
   ]
  },
  {
   "cell_type": "code",
   "execution_count": null,
   "metadata": {
    "deletable": false,
    "editable": false
   },
   "outputs": [],
   "source": [
    "letters = ['a', 'b', 'c', 'd', 'e', 'f', 'g']\n",
    "letters"
   ]
  },
  {
   "cell_type": "code",
   "execution_count": null,
   "metadata": {
    "deletable": false,
    "editable": false
   },
   "outputs": [],
   "source": [
    "# replace some values\n",
    "letters[2:5] = ['C', 'D', 'E']\n",
    "letters        # = ['a', 'b', 'C', 'D', 'E', 'f', 'g']"
   ]
  },
  {
   "cell_type": "code",
   "execution_count": null,
   "metadata": {
    "deletable": false,
    "editable": false
   },
   "outputs": [],
   "source": [
    "# now remove them\n",
    "letters[2:5] = []\n",
    "letters        # = ['a', 'b', 'f', 'g']"
   ]
  },
  {
   "cell_type": "code",
   "execution_count": null,
   "metadata": {
    "deletable": false,
    "editable": false
   },
   "outputs": [],
   "source": [
    "# clear the list by replacing all the elements with an empty list\n",
    "letters[:] = []\n",
    "letters          # = []"
   ]
  },
  {
   "cell_type": "markdown",
   "metadata": {
    "deletable": false,
    "editable": false,
    "run_control": {
     "frozen": true
    }
   },
   "source": [
    "組込み関数 [len()](https://docs.python.org/ja/3.9/library/functions.html#len) はリストにも使えます:"
   ]
  },
  {
   "cell_type": "code",
   "execution_count": null,
   "metadata": {
    "deletable": false,
    "editable": false
   },
   "outputs": [],
   "source": [
    "letters = ['a', 'b', 'c', 'd']\n",
    "len(letters)     # = 4"
   ]
  },
  {
   "cell_type": "markdown",
   "metadata": {
    "deletable": false,
    "editable": false,
    "run_control": {
     "frozen": true
    }
   },
   "source": [
    "リストを入れ子 (ほかのリストを含むリストを造る) にできます。例えば:"
   ]
  },
  {
   "cell_type": "code",
   "execution_count": null,
   "metadata": {
    "deletable": false,
    "editable": false
   },
   "outputs": [],
   "source": [
    "a = ['a', 'b', 'c']\n",
    "n = [1, 2, 3]\n",
    "x = [a, n]\n",
    "x              # = [['a', 'b', 'c'], [1, 2, 3]]"
   ]
  },
  {
   "cell_type": "code",
   "execution_count": null,
   "metadata": {
    "deletable": false,
    "editable": false
   },
   "outputs": [],
   "source": [
    "x[0]          # = ['a', 'b', 'c']"
   ]
  },
  {
   "cell_type": "code",
   "execution_count": null,
   "metadata": {
    "deletable": false,
    "editable": false
   },
   "outputs": [],
   "source": [
    "x[0][1]       # = 'b'"
   ]
  },
  {
   "cell_type": "markdown",
   "metadata": {
    "deletable": false,
    "editable": false,
    "run_control": {
     "frozen": true
    }
   },
   "source": [
    "## <span style=\"color: blue; \">3.2. プログラミングへの第一歩</span>\n",
    "もちろん、2 たす 2 よりももっと複雑な課題にも Python を使えます。 例えば、Fibonacci 数列 の先頭の部分列は次のように書けます:"
   ]
  },
  {
   "cell_type": "code",
   "execution_count": null,
   "metadata": {
    "deletable": false,
    "editable": false
   },
   "outputs": [],
   "source": [
    "# Fibonacci series:\n",
    "# the sum of two elements defines the next\n",
    "a, b = 0, 1\n",
    "while a < 10:\n",
    "    print(a)       # = 0 1 1 2 3 5 8\n",
    "    a, b = b, a+b "
   ]
  },
  {
   "cell_type": "markdown",
   "metadata": {
    "deletable": false,
    "editable": false,
    "run_control": {
     "frozen": true
    }
   },
   "source": [
    "上の例では、いくつか新しい機能を使用しています。\n",
    "\n",
    "+ 最初の行には <span style=\"color: red; \">複数同時の代入 (multiple assignment) </span>が入っています: 変数 `a` と `b` は、それぞれ同時に新しい値 0 と 1 になっています。この代入は、最後の行でも使われています。代入文では、まず右辺の式がすべて評価され、次に代入が行われます。右辺の式は、左から右へと順番に評価されます。\n",
    "+ [while](https://docs.python.org/ja/3.9/reference/compound_stmts.html#while) は、条件 (ここでは `` a < 10``) が真である限り実行を繰り返し (ループし) ます。<span style=\"color: red; \">Python では、C 言語と同様に、ゼロでない整数値は真となり、ゼロは偽です</span>。条件式には、文字列値やリスト値なども使えます。それ以外のシーケンスも、条件式として使用できます。長さが 1 以上のシーケンスは真で、空のシーケンスは偽になります。サンプルで使われている条件テストはシンプルな比較です。標準的な比較演算子は C 言語と同様です: すなわち、 `<` (より小さい)、 `>` (より大きい)、 `==` (等しい)、 `<=` (より小さいか等しい)、 `>=` (より大きいか等しい)、および `!=` (等しくない)、です。\n",
    "+ ループの 本体 (body) は、 <span style=\"color: red; \">インデント (indent, 字下げ) されています: インデントは Python において、実行文をグループにまとめる方法です</span>。対話的プロンプトでは、インデントされた各行を入力するにはタブや (複数個の) スペースを使わなければなりません。実用的には、もっと複雑な処理を入力する場合はテキストエディタを使うことになるでしょう。 ほとんどのテキストエディタは、自動インデント機能を持っています。複合文を対話的に入力するときには、入力完了のしるしとして最後に空行を入力します。これは、パーザはどれが最後の行を入力なのか、判断できないためです。基本的なブロック内では、全ての行は同じだけインデントされていなければならないので注意してください。\n",
    "+ [print()](https://docs.python.org/ja/3.9/library/functions.html#print) 関数は、与えられた引数の値を書き出します。これは (前に電卓の例でやったような) 単に出力したい式を書くのとは、複数の引数や浮動小数点量や文字列に対する扱い方が違います。<span style=\"color: red; \">[<span style=\"color: red; \">print()</span>](https://docs.python.org/ja/3.9/library/functions.html#print) 関数では、文字列は引用符無しで出力され、要素の間に空白が挿入されて</span>、このように出力の書式が整えられます:"
   ]
  },
  {
   "cell_type": "code",
   "execution_count": null,
   "metadata": {
    "deletable": false,
    "editable": false
   },
   "outputs": [],
   "source": [
    "i = 256*256\n",
    "print('The value of i is', i)   # = The value of i is 65536"
   ]
  },
  {
   "cell_type": "markdown",
   "metadata": {
    "deletable": false,
    "editable": false,
    "run_control": {
     "frozen": true
    }
   },
   "source": [
    "<span style=\"color: red; \">キーワード引数 end を使うと、出力の末尾に改行文字を出力しないようにしたり、別の文字列を末尾に出力したりできます</span>:"
   ]
  },
  {
   "cell_type": "code",
   "execution_count": null,
   "metadata": {
    "deletable": false,
    "editable": false
   },
   "outputs": [],
   "source": [
    "a, b = 0, 1\n",
    "while a < 1000:\n",
    "    print(a, end=',')  # 0,1,1,2,3,5,8,13,21,34,55,89,144,233,377,610,987,\n",
    "    a, b = b, a+b"
   ]
  },
  {
   "cell_type": "markdown",
   "metadata": {
    "deletable": false,
    "editable": false,
    "run_control": {
     "frozen": true
    }
   },
   "source": [
    "# <span style=\"color: blue; \">4. その他の制御フローツール<a id='anchor4'></span>\n",
    "先ほど説明のあった while 文に加えて、他の言語での経験から分かるような通常のフロー制御文を少し工夫を効かせて使用します。\n",
    "\n",
    "## <span style=\"color: blue; \">4.1. if 文</span>  \n",
    "おそらく最もおなじみの文型は if 文でしょう。例えば:  \n",
    "<span style=\"color: gray; \">［補足］下記のコマンドを実行後に入力を求められますので、数字の42を入力してください</span>"
   ]
  },
  {
   "cell_type": "code",
   "execution_count": null,
   "metadata": {
    "deletable": false,
    "editable": false
   },
   "outputs": [],
   "source": [
    "x = int(input(\"Please enter an integer: \"))"
   ]
  },
  {
   "cell_type": "code",
   "execution_count": null,
   "metadata": {
    "deletable": false,
    "editable": false
   },
   "outputs": [],
   "source": [
    "if x < 0:\n",
    "    x = 0\n",
    "    print('Negative changed to zero')\n",
    "elif x == 0:\n",
    "    print('Zero')\n",
    "elif x == 1:\n",
    "    print('Single')\n",
    "else:\n",
    "    print('More')     # 42を入力した場合は、More　が表示"
   ]
  },
  {
   "cell_type": "markdown",
   "metadata": {
    "deletable": false,
    "editable": false,
    "run_control": {
     "frozen": true
    }
   },
   "source": [
    "ゼロ個以上の [elif](https://docs.python.org/ja/3.9/reference/compound_stmts.html#elif) 部を使うことができ、 [else](https://docs.python.org/ja/3.9/reference/compound_stmts.html#else) 部を付けることもできます。キーワード 'elif' は 'else if' を短くしたもので、過剰なインデントを避けるのに役立ちます。<span style=\"color: red; \">一連の if ... elif ... elif ... は、他の言語における `switch` 文や `case` 文の代用となります</span>。"
   ]
  },
  {
   "cell_type": "markdown",
   "metadata": {
    "deletable": false,
    "editable": false,
    "run_control": {
     "frozen": true
    }
   },
   "source": [
    "## <span style=\"color: blue; \">4.2. for 文</span>\n",
    "Python の [for](https://docs.python.org/ja/3.9/reference/compound_stmts.html#for) 文は、読者が C 言語や Pascal 言語で使いなれているかもしれない [for](https://docs.python.org/ja/3.9/reference/compound_stmts.html#for) 文とは少し違います。 (Pascal のように) 常に算術型の数列にわたる反復を行ったり、 (C のように) 繰返しステップと停止条件を両方ともユーザが定義できるようにするのとは違い、<span style=\"color: red; \">Python の for 文は、任意のシーケンス型 (リストまたは文字列) にわたって反復を行います</span>。反復の順番はシーケンス中に要素が現れる順番です。例えば:"
   ]
  },
  {
   "cell_type": "code",
   "execution_count": null,
   "metadata": {
    "deletable": false,
    "editable": false
   },
   "outputs": [],
   "source": [
    "# Measure some strings:\n",
    "words = ['cat', 'window', 'defenestrate']\n",
    "for w in words:\n",
    "    print(w, len(w))      # cat 3, window 6,  defenestrate 12"
   ]
  },
  {
   "cell_type": "markdown",
   "metadata": {
    "deletable": false,
    "editable": false,
    "run_control": {
     "frozen": true
    }
   },
   "source": [
    "コレクションオブジェクトの値を反復処理をしているときに、そのコレクションオブジェクトを変更するコードは理解するのが面倒になり得ます。 そうするよりも、コレクションオブジェクトのコピーに対して反復処理をするか、新しいコレクションオブジェクトを作成する方が通常は理解しやすいです:"
   ]
  },
  {
   "cell_type": "code",
   "execution_count": null,
   "metadata": {
    "deletable": false,
    "editable": false
   },
   "outputs": [],
   "source": [
    "# オリジナルコードでは実行ができないのでテストデータusersを追加しています  \n",
    "users = {'user1': 'active', 'user2': 'inactive', 'user3': 'active'}\n",
    "\n",
    "# Strategy:  Iterate over a copy\n",
    "for user, status in users.copy().items():\n",
    "    if status == 'inactive':\n",
    "        del users[user]\n",
    "# Strategy:  Create a new collection\n",
    "active_users = {}\n",
    "for user, status in users.items():\n",
    "    if status == 'active':\n",
    "        active_users[user] = status"
   ]
  },
  {
   "cell_type": "markdown",
   "metadata": {
    "deletable": false,
    "editable": false,
    "run_control": {
     "frozen": true
    }
   },
   "source": [
    "<span style=\"color: purple; \">［やってみよう!!]  \n",
    "上記コード実行後の変数 active_usersのユーザ名を予測して下ください。  \n",
    "下記のセルの'user#'の数を正しくし、#に選択されるユーザ名番号(ex. user1)を記載して「Shift」+「Return」で実行してください。</span>"
   ]
  },
  {
   "cell_type": "code",
   "execution_count": null,
   "metadata": {},
   "outputs": [],
   "source": [
    "# ユーザ名を入れてください\n",
    "['user#', 'user#', 'user#']"
   ]
  },
  {
   "cell_type": "code",
   "execution_count": null,
   "metadata": {
    "deletable": false,
    "editable": false
   },
   "outputs": [],
   "source": [
    "# やってみよう　結果判定！！\n",
    "if _ == list(active_users.keys()):\n",
    "    print('正解')\n",
    "else:\n",
    "    print('不正解')"
   ]
  },
  {
   "cell_type": "markdown",
   "metadata": {
    "deletable": false,
    "editable": false,
    "run_control": {
     "frozen": true
    }
   },
   "source": [
    "## <span style=\"color: blue; \">4.3. range() 関数</span>\n",
    "<span style=\"color: red; \">数列にわたって反復を行う必要がある場合、組み込み関数 [<span style=\"color: red; \">range()</span>](https://docs.python.org/ja/3.9/library/stdtypes.html#range) が便利です</span>。この関数は算術型の数列を生成します:"
   ]
  },
  {
   "cell_type": "code",
   "execution_count": null,
   "metadata": {
    "deletable": false,
    "editable": false
   },
   "outputs": [],
   "source": [
    "for i in range(5):\n",
    "    print(i)          # 0 1 2 3 4"
   ]
  },
  {
   "cell_type": "markdown",
   "metadata": {
    "deletable": false,
    "editable": false,
    "run_control": {
     "frozen": true
    }
   },
   "source": [
    "<span style=\"color: red; \">指定した終端値は生成されるシーケンスには入りません</span>。`range(10)` は 10 個の値を生成し、長さ 10 のシーケンスにおける各項目のインデクスとなります。range を別の数から開始したり、他の増加量 (負でも; 増加量は時に 'ステップ(step)' と呼ばれることもあります) を指定することもできます:"
   ]
  },
  {
   "cell_type": "code",
   "execution_count": null,
   "metadata": {
    "deletable": false,
    "editable": false
   },
   "outputs": [],
   "source": [
    "range(5, 10)    # 5, 6, 7, 8, 9"
   ]
  },
  {
   "cell_type": "code",
   "execution_count": null,
   "metadata": {
    "deletable": false,
    "editable": false
   },
   "outputs": [],
   "source": [
    "range(0, 10, 3) # 0, 3, 6, 9"
   ]
  },
  {
   "cell_type": "code",
   "execution_count": null,
   "metadata": {
    "deletable": false,
    "editable": false
   },
   "outputs": [],
   "source": [
    "range(-10, -100, -30) # -10, -40, -70"
   ]
  },
  {
   "cell_type": "markdown",
   "metadata": {
    "deletable": false,
    "editable": false,
    "run_control": {
     "frozen": true
    }
   },
   "source": [
    "<span style=\"color: red; \">あるシーケンスにわたってインデクスで反復を行うには、 range() と len() を次のように組み合わせられます</span>:"
   ]
  },
  {
   "cell_type": "code",
   "execution_count": null,
   "metadata": {
    "deletable": false,
    "editable": false
   },
   "outputs": [],
   "source": [
    "a = ['Mary', 'had', 'a', 'little', 'lamb']\n",
    "for i in range(len(a)):\n",
    "    print(i, a[i])          # 0 Mary, 1 had, 2 a, 3 little, 4 lamb"
   ]
  },
  {
   "cell_type": "markdown",
   "metadata": {
    "deletable": false,
    "editable": false,
    "run_control": {
     "frozen": true
    }
   },
   "source": [
    "しかし、<span style=\"color: red; \">多くの場合は [<span style=\"color: red; \">enumerate()</span>](https://docs.python.org/ja/3.9/library/functions.html#enumerate) 関数を使う方が便利です</span>。 [ループのテクニック](https://docs.python.org/ja/3.9/tutorial/datastructures.html#tut-loopidioms) を参照してください。\n",
    "\n",
    "range を直接出力すると変なことになります:"
   ]
  },
  {
   "cell_type": "code",
   "execution_count": null,
   "metadata": {
    "deletable": false,
    "editable": false
   },
   "outputs": [],
   "source": [
    " print(range(10))   # range(0, 10)"
   ]
  },
  {
   "cell_type": "markdown",
   "metadata": {
    "deletable": false,
    "editable": false,
    "run_control": {
     "frozen": true
    }
   },
   "source": [
    "[range()](https://docs.python.org/ja/3.9/library/stdtypes.html#range) が返すオブジェクトは、いろいろな点でリストであるかのように振る舞いますが、本当はリストではありません。これは、イテレートした時に望んだ数列の連続した要素を返すオブジェクトです。しかし実際にリストを作るわけではないので、スペースの節約になります。\n",
    "\n",
    "このようなオブジェクトは イテラブル (iterable) と呼ばれます。 これらは関数や構成物のターゲットとして、あるだけの項目を逐次与えるのに適しています。 [for](https://docs.python.org/ja/3.9/reference/compound_stmts.html#for) 文がそのような構成物であることはすでに見てきており、イテラブルを受け取る関数の例には [sum()](https://docs.python.org/ja/3.9/library/functions.html#sum) があります:"
   ]
  },
  {
   "cell_type": "code",
   "execution_count": null,
   "metadata": {
    "deletable": false,
    "editable": false
   },
   "outputs": [],
   "source": [
    "sum(range(4))  # 0 + 1 + 2 + 3"
   ]
  },
  {
   "cell_type": "markdown",
   "metadata": {
    "deletable": false,
    "editable": false,
    "run_control": {
     "frozen": true
    }
   },
   "source": [
    "後ほど、イテラブルを返したりイテラブルを引数として取る関数をもっと見ていきます。 そして最後に、どうやって range からリストを作るのかが気になるかもしれません。 これが答えです:"
   ]
  },
  {
   "cell_type": "code",
   "execution_count": null,
   "metadata": {
    "deletable": false,
    "editable": false
   },
   "outputs": [],
   "source": [
    "list(range(4))   # [0, 1, 2, 3]"
   ]
  },
  {
   "cell_type": "markdown",
   "metadata": {
    "deletable": false,
    "editable": false,
    "run_control": {
     "frozen": true
    }
   },
   "source": [
    "[データ構造](https://docs.python.org/ja/3.9/tutorial/datastructures.html#tut-structures) の章では、 [list()](https://docs.python.org/ja/3.9/library/stdtypes.html#list) についてより詳細に議論します。"
   ]
  },
  {
   "cell_type": "markdown",
   "metadata": {
    "deletable": false,
    "editable": false,
    "run_control": {
     "frozen": true
    }
   },
   "source": [
    "## <span style=\"color: blue; \">4.4. break 文と continue 文とループの else 節</span>\n",
    "<span style=\"color: red; \">[<span style=\"color: red; \">break 文</span>](https://docs.python.org/ja/3.9/reference/simple_stmts.html#break)は、C 言語と同じく、最も内側の [<span style=\"color: red; \">for</span>](https://docs.python.org/ja/3.9/reference/compound_stmts.html#for) または [<span style=\"color: red; \">while</span>](https://docs.python.org/ja/3.9/reference/compound_stmts.html#while) ループを中断します</span>\n",
    "  \n",
    "<span style=\"color: red; \">ループ文は else 節を持つことができます。これは、 ([<span style=\"color: red; \">for</span>](https://docs.python.org/ja/3.9/reference/compound_stmts.html#for) で) イテラブルを使い切ってループが終了したとき、または ([<span style=\"color: red; \">while</span>](https://docs.python.org/ja/3.9/reference/compound_stmts.html#while) で) 条件が偽になったときに実行されますが、 [<span style=\"color: red; \">break</span>](https://docs.python.org/ja/3.9/reference/simple_stmts.html#break) 文でループが終了したときは実行されません</span>。この動作を、素数を探す下記のループを例にとって示します:"
   ]
  },
  {
   "cell_type": "code",
   "execution_count": null,
   "metadata": {
    "deletable": false,
    "editable": false
   },
   "outputs": [],
   "source": [
    "for n in range(2, 10):\n",
    "    for x in range(2, n):\n",
    "        if n % x == 0:\n",
    "            print(n, 'equals', x, '*', n//x)\n",
    "            break\n",
    "    else:\n",
    "        # loop fell through without finding a factor\n",
    "        print(n, 'is a prime number')"
   ]
  },
  {
   "cell_type": "markdown",
   "metadata": {
    "deletable": false,
    "editable": false,
    "run_control": {
     "frozen": true
    }
   },
   "source": [
    "(そう、これは正しいコードです。よく見てください: `else` 節は [if](https://docs.python.org/ja/3.9/reference/compound_stmts.html#if) 文 ではなく 、 [for](https://docs.python.org/ja/3.9/reference/compound_stmts.html#for) ループに属しています。)\n",
    "\n",
    "ループの `else` 句は、 [if](https://docs.python.org/ja/3.9/reference/compound_stmts.html#if) 文の `else` よりも [try](https://docs.python.org/ja/3.9/reference/compound_stmts.html#try) 文の `else` に似ています。 [try](https://docs.python.org/ja/3.9/reference/compound_stmts.html#try) 文の `else` 句は例外が発生しなかった時に実行され、ループの `else` 句は `break` されなかった場合に実行されます。 try 文と例外についての詳細は [例外を処理する](https://docs.python.org/ja/3.9/tutorial/errors.html#tut-handling) を参照してください。\n",
    "\n",
    "[continue](https://docs.python.org/ja/3.9/reference/simple_stmts.html#continue) 文も C 言語から借りてきたもので、ループの次のイテレーションを実行します:"
   ]
  },
  {
   "cell_type": "code",
   "execution_count": null,
   "metadata": {
    "deletable": false,
    "editable": false
   },
   "outputs": [],
   "source": [
    "for num in range(2, 10):\n",
    "    if num % 2 == 0:\n",
    "        print(\"Found an even number\", num)\n",
    "        continue\n",
    "    print(\"Found an odd number\", num)"
   ]
  },
  {
   "cell_type": "markdown",
   "metadata": {
    "deletable": false,
    "editable": false,
    "run_control": {
     "frozen": true
    }
   },
   "source": [
    "##  <span style=\"color: blue; \">4.5. pass 文</span>\n",
    "<span style=\"color: red; \">[<span style=\"color: red; \">pass</span>](https://docs.python.org/ja/3.9/reference/simple_stmts.html#pass) 文は何もしません</span>。 [pass](https://docs.python.org/ja/3.9/reference/simple_stmts.html#pass) は、文を書くことが構文上要求されているが、プログラム上何の動作もする必要がない時に使われます:"
   ]
  },
  {
   "cell_type": "code",
   "execution_count": null,
   "metadata": {
    "deletable": false,
    "editable": false
   },
   "outputs": [],
   "source": [
    "while True: \n",
    "    pass  # Busy-wait for keyboard interrupt (Ctrl+C)"
   ]
  },
  {
   "cell_type": "markdown",
   "metadata": {
    "deletable": false,
    "editable": false,
    "run_control": {
     "frozen": true
    }
   },
   "source": [
    "<span style=\"color: purple; \">［補足＆注意］上記コマンドは無限ループします。</span>    \n",
    "<span style=\"color: gray; \">&nbsp;&nbsp;&nbsp;&nbsp;&nbsp;&nbsp;&nbsp;&nbsp;&nbsp;&nbsp;&nbsp;&nbsp;&nbsp;&nbsp;本環境では、メニューバーにある「</span><span style=\"color: black; \">■</span><span style=\"color: gray; \">ボタン」（▶︎|Runの右）を押下して</span><span style=\"color: purple; \">この処理を必ず止めてください。</span>  \n",
    "<span style=\"color: gray; \">&nbsp;&nbsp;&nbsp;&nbsp;&nbsp;&nbsp;&nbsp;&nbsp;&nbsp;&nbsp;&nbsp;&nbsp;&nbsp;&nbsp;停止後、</span><span style=\"color: purple; \">KeyboardInterruptエラー</span><span style=\"color: gray; \">が表示されますが問題ありません</span>"
   ]
  },
  {
   "cell_type": "markdown",
   "metadata": {
    "deletable": false,
    "editable": false,
    "run_control": {
     "frozen": true
    }
   },
   "source": [
    "これは最小のクラスを作るときによく使われる方法です:"
   ]
  },
  {
   "cell_type": "code",
   "execution_count": null,
   "metadata": {
    "deletable": false,
    "editable": false
   },
   "outputs": [],
   "source": [
    "class MyEmptyClass:\n",
    "    pass"
   ]
  },
  {
   "cell_type": "markdown",
   "metadata": {
    "deletable": false,
    "editable": false,
    "run_control": {
     "frozen": true
    }
   },
   "source": [
    "[pass](https://docs.python.org/ja/3.9/reference/simple_stmts.html#pass) のもう 1 つの使い道は、新しいコードを書いているときの関数や条件文の仮置きの本体としてです。こうすることで、より抽象的なレベルで考え続けられます。 pass は何事も無く無視されます"
   ]
  },
  {
   "cell_type": "code",
   "execution_count": null,
   "metadata": {
    "deletable": false,
    "editable": false
   },
   "outputs": [],
   "source": [
    "def initlog(*args):\n",
    "    pass   # Remember to implement this!"
   ]
  },
  {
   "cell_type": "markdown",
   "metadata": {
    "deletable": false,
    "editable": false,
    "run_control": {
     "frozen": true
    }
   },
   "source": [
    "## <span style=\"color: blue; \">4.6. 関数を定義する</span>\n",
    "フィボナッチ数列 (Fibonacci series) を任意の上限値まで書き出すような関数を作成できます:"
   ]
  },
  {
   "cell_type": "code",
   "execution_count": null,
   "metadata": {
    "deletable": false,
    "editable": false
   },
   "outputs": [],
   "source": [
    "def fib(n):    # write Fibonacci series up to n\n",
    "    \"\"\"Print a Fibonacci series up to n.\"\"\"\n",
    "    a, b = 0, 1\n",
    "    while a < n:\n",
    "        print(a, end=' ')\n",
    "        a, b = b, a+b\n",
    "    print()"
   ]
  },
  {
   "cell_type": "code",
   "execution_count": null,
   "metadata": {
    "deletable": false,
    "editable": false
   },
   "outputs": [],
   "source": [
    "# Now call the function we just defined:\n",
    "fib(2000)      # 0 1 1 2 3 5 8 13 21 34 55 89 144 233 377 610 987 1597"
   ]
  },
  {
   "cell_type": "markdown",
   "metadata": {
    "deletable": false,
    "editable": false,
    "run_control": {
     "frozen": true
    }
   },
   "source": [
    "<span style=\"color: red; \">[<span style=\"color: red; \">def</span>](https://docs.python.org/ja/3.9/reference/compound_stmts.html#def) は関数の 定義 (definition) を導くキーワードです</span>。 [def](https://docs.python.org/ja/3.9/reference/compound_stmts.html#def) の後には、関数名と仮引数を丸括弧で囲んだリストを続けなければなりません。関数の実体を構成する実行文は次の行から始め、インデントされていなければなりません。\n",
    "\n",
    "<span style=\"color: red; \">関数の本体の記述する文の最初の行は文字列リテラルにすることもできます。その場合、この文字列は関数のドキュメンテーション文字列 (documentation string)、または docstring と呼ばれます</span>。 (docstring については [ドキュメンテーション文字列](https://docs.python.org/ja/3.9/tutorial/controlflow.html#tut-docstrings) でさらに扱っています。) ドキュメンテーション文字列を使ったツールには、オンライン文書や印刷文書を自動的に生成したり、ユーザが対話的にコードから直接閲覧できるようにするものがあります。自分が書くコードにドキュメンテーション文字列を入れるのはよい習慣です。書く癖をつけてください。\n",
    "\n",
    "関数を 実行 (execution) するとき、関数のローカル変数のために使われる新たなシンボルテーブル (symbol table) が用意されます。 もっと正確にいうと、関数内で変数への代入を行うと、その値はすべてこのローカルなシンボルテーブルに記憶されます。 一方、変数の参照を行うと、まずローカルなシンボルテーブルが検索され、次にさらに外側の関数のローカルなシンボルテーブルを検索し、その後グローバルなシンボルテーブルを調べ、最後に組み込みの名前テーブルを調べます。 従って、関数の中では (グローバル変数が [global](https://docs.python.org/ja/3.9/reference/simple_stmts.html#global) 文で指定されていたり、外側の関数の変数が [nonlocal](https://docs.python.org/ja/3.9/reference/simple_stmts.html#nonlocal) 文で指定されていない限り) グローバル変数や外側の関数の変数に直接値を代入できませんが、参照することはできます。\n",
    "\n",
    "関数を呼び出す際の実際の引数 (実引数) は、関数が呼び出されるときに関数のローカルなシンボルテーブル内に取り込まれます。そうすることで、<span style=\"color: red; \">引数は 値渡し (call by value) で関数に渡されることになります</span> (ここでの 値 (value) とは常にオブジェクトへの 参照(reference) をいい、オブジェクトの値そのものではありません) [[1]](https://docs.python.org/ja/3.9/tutorial/controlflow.html#id2)。ある関数がほかの関数を呼び出すときには、新たな呼び出しのためにローカルなシンボルテーブルが新たに作成されます。 \n",
    "\n",
    "関数定義は、関数名と現在のシンボルテーブル内の関数オブジェクトを関連付けます。インタプリタは、その名前が指すオブジェクトをユーザ定義関数として認識します。他の名前も同じ関数オブジェクトを指すことができ、その関数にアクセスするために使用することができます。"
   ]
  },
  {
   "cell_type": "code",
   "execution_count": null,
   "metadata": {
    "deletable": false,
    "editable": false
   },
   "outputs": [],
   "source": [
    "fib"
   ]
  },
  {
   "cell_type": "code",
   "execution_count": null,
   "metadata": {
    "deletable": false,
    "editable": false
   },
   "outputs": [],
   "source": [
    "f = fib\n",
    "f(100)     # 0 1 1 2 3 5 8 13 21 34 55 89 "
   ]
  },
  {
   "cell_type": "markdown",
   "metadata": {
    "deletable": false,
    "editable": false,
    "run_control": {
     "frozen": true
    }
   },
   "source": [
    "他の言語出身の人からは、 `fib` は値を返さないので関数ではなく手続き (procedure) だと異論があるかもしれませんね。技術的に言えば、<span style=\"color: red; \">実際には [<span style=\"color: red; \">return</span>](https://docs.python.org/ja/3.9/reference/simple_stmts.html#return) 文を持たない関数もややつまらない値ですが値を返しています。この値は `None` と呼ばれます (これは組み込みの名前です)</span>。 `None` だけを書き出そうとすると、インタプリタは通常出力を抑制します。本当に出力したいのなら、以下のように [print()](https://docs.python.org/ja/3.9/library/functions.html#print) を使うと見ることができます:"
   ]
  },
  {
   "cell_type": "code",
   "execution_count": null,
   "metadata": {
    "deletable": false,
    "editable": false
   },
   "outputs": [],
   "source": [
    "fib(0)\n",
    "print(fib(0))    #  NONE"
   ]
  },
  {
   "cell_type": "markdown",
   "metadata": {
    "deletable": false,
    "editable": false,
    "run_control": {
     "frozen": true
    }
   },
   "source": [
    "フィボナッチ数列の数からなるリストを出力する代わりに、値を返すような関数を書くのは簡単です:"
   ]
  },
  {
   "cell_type": "code",
   "execution_count": null,
   "metadata": {
    "deletable": false,
    "editable": false
   },
   "outputs": [],
   "source": [
    "def fib2(n):  # return Fibonacci series up to n\n",
    "    \"\"\"Return a list containing the Fibonacci series up to n.\"\"\"\n",
    "    result = []\n",
    "    a, b = 0, 1\n",
    "    while a < n:\n",
    "        result.append(a)    # see below\n",
    "        a, b = b, a+b\n",
    "    return result"
   ]
  },
  {
   "cell_type": "code",
   "execution_count": null,
   "metadata": {
    "deletable": false,
    "editable": false
   },
   "outputs": [],
   "source": [
    "f100 = fib2(100)    # call it\n",
    "f100                # write the result, [0, 1, 1, 2, 3, 5, 8, 13, 21, 34, 55, 89]"
   ]
  },
  {
   "cell_type": "markdown",
   "metadata": {
    "deletable": false,
    "editable": false,
    "run_control": {
     "frozen": true
    }
   },
   "source": [
    "この例は Python の新しい機能を示しています:\n",
    "\n",
    "+ <span style=\"color: red; \">[<span style=\"color: red; \">return</span>](https://docs.python.org/ja/3.9/reference/simple_stmts.html#return) 文では、関数から一つ値を返します。 return の引数となる式がない場合、 None が返ります。関数が終了したときにも None が返ります</span>。\n",
    "+ 文 `result.append(a)` では、リストオブジェクト `result` の メソッド (method) を呼び出しています。メソッドとは、オブジェクトに '属している' 関数のことで、 `obj` を何らかのオブジェクト (式であっても構いません)、 `methodname` をそのオブジェクトで定義されているメソッド名とすると、 `obj.methodname` と書き表されます。異なる型は異なるメソッドを定義しています。異なる型のメソッドで同じ名前のメソッドを持つことができ、あいまいさを生じることはありません。 (クラス (class) を使うことで、自前のオブジェクト型とメソッドを定義することもできます。 クラス 参照) 例で示されているメソッド append() は、リストオブジェクトで定義されています; このメソッドはリストの末尾に新たな要素を追加します。この例での append() は `result = result + [a]` と等価ですが、より効率的です。\n"
   ]
  },
  {
   "cell_type": "markdown",
   "metadata": {
    "deletable": false,
    "editable": false,
    "run_control": {
     "frozen": true
    }
   },
   "source": [
    "## <span style=\"color: blue; \">4.7. 関数定義についてもう少し</span>\n",
    "<span style=\"color: red; \">可変個の引数を伴う関数を定義することもできます。引数の定義方法には 3 つの形式があり、それらを組み合わせることができます</span>。\n",
    "\n",
    "### <span style=\"color: blue; \">4.7.1. デフォルトの引数値</span>\n",
    "もっとも便利なのは、<span style=\"color: red; \">一つ以上の引数に対してデフォルトの値を指定する形式</span>です。この形式を使うと、定義されている引数より少ない個数の引数で呼び出せる関数を作成します:"
   ]
  },
  {
   "cell_type": "code",
   "execution_count": null,
   "metadata": {
    "deletable": false,
    "editable": false
   },
   "outputs": [],
   "source": [
    "def ask_ok(prompt, retries=4, reminder='Please try again!'):\n",
    "    while True:\n",
    "        ok = input(prompt)\n",
    "        if ok in ('y', 'ye', 'yes'):\n",
    "            return True\n",
    "        if ok in ('n', 'no', 'nop', 'nope'):\n",
    "            return False\n",
    "        retries = retries - 1\n",
    "        if retries < 0:\n",
    "            raise ValueError('invalid user response')\n",
    "        print(reminder)"
   ]
  },
  {
   "cell_type": "markdown",
   "metadata": {
    "deletable": false,
    "editable": false,
    "run_control": {
     "frozen": true
    }
   },
   "source": [
    "この関数はいくつかの方法で呼び出せます:\n",
    "\n",
    "+ 必須の引数のみ与える: `ask_ok('Do you really want to quit?')`\n",
    "+ 一つのオプション引数を与える: `ask_ok('OK to overwrite the file?', 2)`\n",
    "+ 全ての引数を与える: `ask_ok('OK to overwrite the file?', 2, 'Come on, only yes or no!')`  \n",
    "  \n",
    "この例では in キーワードが導入されています。このキーワードはシーケンスが特定の値を含んでいるかどうか調べるのに使われます。\n",
    "\n",
    "デフォルト値は、関数が定義された時点で、関数を 定義している 側のスコープ (scope) で評価されるので"
   ]
  },
  {
   "cell_type": "code",
   "execution_count": null,
   "metadata": {
    "deletable": false,
    "editable": false
   },
   "outputs": [],
   "source": [
    "i = 5\n",
    "\n",
    "def f(arg=i):\n",
    "    print(arg)\n",
    "\n",
    "i = 6\n",
    "f()               # = 5"
   ]
  },
  {
   "cell_type": "markdown",
   "metadata": {
    "deletable": false,
    "editable": false,
    "run_control": {
     "frozen": true
    }
   },
   "source": [
    "は 5 を出力します。"
   ]
  },
  {
   "cell_type": "markdown",
   "metadata": {
    "deletable": false,
    "editable": false,
    "run_control": {
     "frozen": true
    }
   },
   "source": [
    "**重要な警告**: デフォルト値は 1 度だけしか評価されません。デフォルト値がリストや辞書のような変更可能なオブジェクトの時にはその影響がでます。例えば以下の関数は、後に続く関数呼び出しで関数に渡されている引数を累積します:"
   ]
  },
  {
   "cell_type": "code",
   "execution_count": null,
   "metadata": {
    "deletable": false,
    "editable": false
   },
   "outputs": [],
   "source": [
    "def f(a, L=[]):\n",
    "    L.append(a)\n",
    "    return L\n",
    "\n",
    "print(f(1))     # [1]\n",
    "print(f(2))     # [1, 2]\n",
    "print(f(3))     # [1, 2, 3]"
   ]
  },
  {
   "cell_type": "markdown",
   "metadata": {
    "deletable": false,
    "editable": false,
    "run_control": {
     "frozen": true
    }
   },
   "source": [
    "このコードは、上記を出力します"
   ]
  },
  {
   "cell_type": "markdown",
   "metadata": {
    "deletable": false,
    "editable": false,
    "run_control": {
     "frozen": true
    }
   },
   "source": [
    "後続の関数呼び出しでデフォルト値を共有したくなければ、代わりに以下のように関数を書くことができます:"
   ]
  },
  {
   "cell_type": "code",
   "execution_count": null,
   "metadata": {
    "deletable": false,
    "editable": false
   },
   "outputs": [],
   "source": [
    "def f(a, L=None):\n",
    "    if L is None:\n",
    "        L = []\n",
    "    L.append(a)\n",
    "    return L"
   ]
  },
  {
   "cell_type": "markdown",
   "metadata": {
    "deletable": false,
    "editable": false,
    "run_control": {
     "frozen": true
    }
   },
   "source": [
    "### <span style=\"color: blue; \">4.7.2. キーワード引数</span>\n",
    "<span style=\"color: red; \">関数を `kwarg=value` という形式の キーワード引数 を使って呼び出す</span>こともできます。例えば、以下の関数:"
   ]
  },
  {
   "cell_type": "code",
   "execution_count": null,
   "metadata": {
    "deletable": false,
    "editable": false
   },
   "outputs": [],
   "source": [
    "def parrot(voltage, state='a stiff', action='voom', type='Norwegian Blue'):\n",
    "    print(\"-- This parrot wouldn't\", action, end=' ')\n",
    "    print(\"if you put\", voltage, \"volts through it.\")\n",
    "    print(\"-- Lovely plumage, the\", type)\n",
    "    print(\"-- It's\", state, \"!\")"
   ]
  },
  {
   "cell_type": "markdown",
   "metadata": {
    "deletable": false,
    "editable": false,
    "run_control": {
     "frozen": true
    }
   },
   "source": [
    "は、必須引数 (`voltage`) とオプション引数 (`state`、`action`、`type`) を受け付けます。この関数は以下のいずれかの方法で呼び出せます:"
   ]
  },
  {
   "cell_type": "code",
   "execution_count": null,
   "metadata": {
    "deletable": false,
    "editable": false
   },
   "outputs": [],
   "source": [
    "parrot(1000)                                          # 1 positional argument\n",
    "parrot(voltage=1000)                                  # 1 keyword argument\n",
    "parrot(voltage=1000000, action='VOOOOOM')             # 2 keyword arguments\n",
    "parrot(action='VOOOOOM', voltage=1000000)             # 2 keyword arguments\n",
    "parrot('a million', 'bereft of life', 'jump')         # 3 positional arguments\n",
    "parrot('a thousand', state='pushing up the daisies')  # 1 positional, 1 keyword"
   ]
  },
  {
   "cell_type": "markdown",
   "metadata": {
    "deletable": false,
    "editable": false,
    "run_control": {
     "frozen": true
    }
   },
   "source": [
    "が、以下の呼び出しは不適切です:  \n",
    "<span style=\"color: gray; \">［補足］それぞれのエラーパターンを実際に実行してみてみてください。</span>"
   ]
  },
  {
   "cell_type": "code",
   "execution_count": null,
   "metadata": {
    "deletable": false,
    "editable": false
   },
   "outputs": [],
   "source": [
    "parrot()                     # required argument missing"
   ]
  },
  {
   "cell_type": "code",
   "execution_count": null,
   "metadata": {
    "deletable": false,
    "editable": false
   },
   "outputs": [],
   "source": [
    "parrot(voltage=5.0, 'dead')  # non-keyword argument after a keyword argument"
   ]
  },
  {
   "cell_type": "code",
   "execution_count": null,
   "metadata": {
    "deletable": false,
    "editable": false
   },
   "outputs": [],
   "source": [
    "parrot(110, voltage=220)     # duplicate value for the same argument"
   ]
  },
  {
   "cell_type": "code",
   "execution_count": null,
   "metadata": {
    "deletable": false,
    "editable": false
   },
   "outputs": [],
   "source": [
    "parrot(actor='John Cleese')  # unknown keyword argument"
   ]
  },
  {
   "cell_type": "markdown",
   "metadata": {
    "deletable": false,
    "editable": false,
    "run_control": {
     "frozen": true
    }
   },
   "source": [
    "関数の呼び出しにおいて、キーワード引数は位置引数の後でなければなりません。渡されるキーワード引数は全て、関数で受け付けられる引数のいずれかに対応していなければならず (例えば、`actor` はこの `parrot` 関数の引数として適切ではありません)、順序は重要ではありません。これはオプションでない引数でも同様です (例えば、`parrot(voltage=1000)` も適切です)。いかなる引数も値を複数回は受け取れません。この制限により失敗する例は:"
   ]
  },
  {
   "cell_type": "code",
   "execution_count": null,
   "metadata": {
    "deletable": false,
    "editable": false
   },
   "outputs": [],
   "source": [
    "def function(a):\n",
    "    pass"
   ]
  },
  {
   "cell_type": "markdown",
   "metadata": {
    "deletable": false,
    "editable": false,
    "run_control": {
     "frozen": true
    }
   },
   "source": [
    "<span style=\"color: gray; \">［補足］下記のコマンドでは、引き数の数が不一致のため、</span><span style=\"color: purple; \">TypeError</span><span style=\"color: gray; \">となります。</span>"
   ]
  },
  {
   "cell_type": "code",
   "execution_count": null,
   "metadata": {
    "deletable": false,
    "editable": false
   },
   "outputs": [],
   "source": [
    "function(0, a=0)"
   ]
  },
  {
   "cell_type": "markdown",
   "metadata": {
    "deletable": false,
    "editable": false,
    "run_control": {
     "frozen": true
    }
   },
   "source": [
    "<span style=\"color: red; \">仮引数の最後に `**name` の形式のものがあると、それまでの仮引数に対応したものを除くすべてのキーワード引数が入った辞書 ([<span style=\"color: red; \">マッピング型 --- dict</span>](https://docs.python.org/ja/3.9/library/stdtypes.html#typesmapping) を参照) を受け取ります。 `**name` は `*name` の形式をとる、仮引数のリストを超えた位置引数の入った [<span style=\"color: red; \">タプル</span>](https://docs.python.org/ja/3.9/tutorial/datastructures.html#tut-tuples) を受け取る引数 (次の小節で述べます) と組み合わせられます。 (`*name` は `**name` より前になければなりません)</span>。 例えば、ある関数の定義を以下のようにすると:"
   ]
  },
  {
   "cell_type": "code",
   "execution_count": null,
   "metadata": {
    "deletable": false,
    "editable": false
   },
   "outputs": [],
   "source": [
    "def cheeseshop(kind, *arguments, **keywords):\n",
    "    print(\"-- Do you have any\", kind, \"?\")\n",
    "    print(\"-- I'm sorry, we're all out of\", kind)\n",
    "    for arg in arguments:\n",
    "        print(arg)\n",
    "    print(\"-\" * 40)\n",
    "    for kw in keywords:\n",
    "        print(kw, \":\", keywords[kw])"
   ]
  },
  {
   "cell_type": "markdown",
   "metadata": {
    "deletable": false,
    "editable": false,
    "run_control": {
     "frozen": true
    }
   },
   "source": [
    "呼び出しは以下のようになり:"
   ]
  },
  {
   "cell_type": "code",
   "execution_count": null,
   "metadata": {
    "deletable": false,
    "editable": false
   },
   "outputs": [],
   "source": [
    "cheeseshop(\"Limburger\", \"It's very runny, sir.\",\n",
    "           \"It's really very, VERY runny, sir.\",\n",
    "           shopkeeper=\"Michael Palin\",\n",
    "           client=\"John Cleese\",\n",
    "           sketch=\"Cheese Shop Sketch\")"
   ]
  },
  {
   "cell_type": "markdown",
   "metadata": {
    "deletable": false,
    "editable": false,
    "run_control": {
     "frozen": true
    }
   },
   "source": [
    "もちろん下記のとおり出力されます：  \n",
    "  \n",
    "***\n",
    "\n",
    "`-- Do you have any Limburger ?  \n",
    " -- I'm sorry, we're all out of Limburger  \n",
    " It's very runny, sir.  \n",
    " It's really very, VERY runny, sir.  `  \n",
    "` ---------------------------------------- `  \n",
    "` shopkeeper : Michael Palin  \n",
    " client : John Cleese  \n",
    " sketch : Cheese Shop Sketch  `  \n"
   ]
  },
  {
   "cell_type": "markdown",
   "metadata": {
    "deletable": false,
    "editable": false,
    "run_control": {
     "frozen": true
    }
   },
   "source": [
    "なお、複数のキーワード引数を与えた場合に、それらが出力される順序は、関数呼び出しで与えられた順序と同じになります。"
   ]
  },
  {
   "cell_type": "markdown",
   "metadata": {
    "deletable": false,
    "editable": false,
    "run_control": {
     "frozen": true
    }
   },
   "source": [
    "### <span style=\"color: blue; \">4.7.3. 特殊なパラメータ</span>\n",
    "デフォルトでは、引数は位置またはキーワードによる明示で Python 関数に渡されます。 可読性とパフォーマンスのために、その引数が位置、位置またはキーワード、キーワードのどれで渡されるかを開発者が判定するのに関数定義だけを見ればよいように、引数の渡され方を制限することには意味があります。\n",
    "\n",
    "関数定義は次のようになります:  \n",
    "\n",
    "`def f(pos1, pos2, /, pos_or_kwd, *, kwd1, kwd2):  \n",
    "      -----------    ----------     ----------  \n",
    "        |             |                  |  \n",
    "        |        Positional or keyword   |  \n",
    "        |                                - Keyword only  \n",
    "         -- Positional only\n",
    "`  \n",
    "  \n",
    "ここで、`/` と `*` はオプションです。使用された場合、これらの記号は、引数が関数に渡される方法、すなわち、位置専用、位置またはキーワード、キーワード専用、といった引数の種類を示します。キーワード引数は、名前付き引数とも呼ばれます。\n",
    "\n"
   ]
  },
  {
   "cell_type": "markdown",
   "metadata": {
    "deletable": false,
    "editable": false,
    "run_control": {
     "frozen": true
    }
   },
   "source": [
    "### <span style=\"color: blue; \">4.7.3.1. 位置またはキーワード引数</span>\n",
    "関数定義に `/` も `*` もない場合は、引数は位置またはキーワードで関数に渡されます。"
   ]
  },
  {
   "cell_type": "markdown",
   "metadata": {
    "deletable": false,
    "editable": false,
    "run_control": {
     "frozen": true
    }
   },
   "source": [
    "### <span style=\"color: blue; \">4.7.3.2. 位置専用引数</span>\n",
    "これをもう少し詳しく見てみると、特定の引数を 位置専用 と印を付けるられます。 位置専用 の場合、引数の順序が重要であり、キーワードで引数を渡せません。 位置専用引数は `/` （スラッシュ）の前に配置されます。 `/` は、位置専用引数を残りの引数から論理的に分離するために使用されます。 関数定義に `/` がない場合、位置専用引数はありません。\n",
    "\n",
    "`/` の後の引数は、 位置またはキーワード 、もしくは、 キーワード専用 です。"
   ]
  },
  {
   "cell_type": "markdown",
   "metadata": {
    "deletable": false,
    "editable": false,
    "run_control": {
     "frozen": true
    }
   },
   "source": [
    "### <span style=\"color: blue; \">4.7.3.3. キーワード専用引数</span>\n",
    "引数をキーワード引数で渡す必要があることを示す キーワード専用 として引数をマークするには、引数リストの最初の キーワード専用 引数の直前に `*` を配置します。"
   ]
  },
  {
   "cell_type": "markdown",
   "metadata": {
    "deletable": false,
    "editable": false,
    "run_control": {
     "frozen": true
    }
   },
   "source": [
    "### <span style=\"color: blue; \">4.7.3.4. 関数の例</span>\n",
    "`/` および `*` といったマーカーに注意を払って、次の関数定義の例を見てください:  \n",
    "  \n",
    "<span style=\"color: gray; \">［補足］「/」を使った位置変数専用機能は、Python3.8以降の機能です。  \n",
    "    　　　　</span><span style=\"color: purple; \">Python3.7以下では位置変数専用指定「/」を使った関数定義はエラーとなります。</span>  \n",
    "<span style=\"color: gray; \">　　　　お使いの環境のPythonのバージョンの確認は、セルを挿入し下記のコマンドを実行してください。    \n",
    "***\n",
    "　　　　　　<span style=\"color: gray; \">import sys  \n",
    "　　　　　　sys.version</span>"
   ]
  },
  {
   "cell_type": "code",
   "execution_count": null,
   "metadata": {
    "deletable": false,
    "editable": false
   },
   "outputs": [],
   "source": [
    "def standard_arg(arg):\n",
    "    print(arg)\n",
    "\n",
    "def pos_only_arg(arg, /):\n",
    "    print(arg)\n",
    "\n",
    "def kwd_only_arg(*, arg):\n",
    "    print(arg)\n",
    "    \n",
    "def combined_example(pos_only, /, standard, *, kwd_only):\n",
    "    print(pos_only, standard, kwd_only)"
   ]
  },
  {
   "cell_type": "markdown",
   "metadata": {
    "deletable": false,
    "editable": false,
    "run_control": {
     "frozen": true
    }
   },
   "source": [
    "最も馴染みのある形式の最初の関数定義 `standard_arg` は、呼び出し規約に制限を設けておらず、引数は位置またはキーワードで渡されます:"
   ]
  },
  {
   "cell_type": "code",
   "execution_count": null,
   "metadata": {
    "deletable": false,
    "editable": false
   },
   "outputs": [],
   "source": [
    "standard_arg(2)"
   ]
  },
  {
   "cell_type": "code",
   "execution_count": null,
   "metadata": {
    "deletable": false,
    "editable": false
   },
   "outputs": [],
   "source": [
    "standard_arg(arg=2)"
   ]
  },
  {
   "cell_type": "markdown",
   "metadata": {
    "deletable": false,
    "editable": false,
    "run_control": {
     "frozen": true
    }
   },
   "source": [
    "2番目の関数の `pos_only_arg` は、 `/` が関数定義にあるので、引数は位置専用になります:"
   ]
  },
  {
   "cell_type": "code",
   "execution_count": null,
   "metadata": {
    "deletable": false,
    "editable": false
   },
   "outputs": [],
   "source": [
    "pos_only_arg(1)       # この関数はPython3.7以下では定義時にエラーとなっています"
   ]
  },
  {
   "cell_type": "code",
   "execution_count": null,
   "metadata": {
    "deletable": false,
    "editable": false
   },
   "outputs": [],
   "source": [
    "pos_only_arg(arg=1)    # 位置固定関数にキーワードを渡すため、TypeError"
   ]
  },
  {
   "cell_type": "markdown",
   "metadata": {
    "deletable": false,
    "editable": false,
    "run_control": {
     "frozen": true
    }
   },
   "source": [
    "3番目の関数 `kwd_only_args` は、関数定義に `*` があるので、引数はキーワード専用になります:"
   ]
  },
  {
   "cell_type": "code",
   "execution_count": null,
   "metadata": {
    "deletable": false,
    "editable": false
   },
   "outputs": [],
   "source": [
    "kwd_only_arg(3)       #キーワード専用関数に位置指定パラメータを渡すため、TypeError"
   ]
  },
  {
   "cell_type": "code",
   "execution_count": null,
   "metadata": {
    "deletable": false,
    "editable": false
   },
   "outputs": [],
   "source": [
    "kwd_only_arg(arg=3)"
   ]
  },
  {
   "cell_type": "markdown",
   "metadata": {
    "deletable": false,
    "editable": false,
    "run_control": {
     "frozen": true
    }
   },
   "source": [
    "そして最後の関数は3つの引数の種類を一つの関数定義の中で使用しています:"
   ]
  },
  {
   "cell_type": "code",
   "execution_count": null,
   "metadata": {
    "deletable": false,
    "editable": false
   },
   "outputs": [],
   "source": [
    "combined_example(1, 2, 3)   # ２番目はどちらも可能、３番目はキーワードなのに位置指定なのでTypeError"
   ]
  },
  {
   "cell_type": "code",
   "execution_count": null,
   "metadata": {
    "deletable": false,
    "editable": false
   },
   "outputs": [],
   "source": [
    "combined_example(1, 2, kwd_only=3)    #  1 2 3"
   ]
  },
  {
   "cell_type": "code",
   "execution_count": null,
   "metadata": {
    "deletable": false,
    "editable": false
   },
   "outputs": [],
   "source": [
    "combined_example(1, standard=2, kwd_only=3)  # 1 2 3"
   ]
  },
  {
   "cell_type": "code",
   "execution_count": null,
   "metadata": {
    "deletable": false,
    "editable": false
   },
   "outputs": [],
   "source": [
    "combined_example(pos_only=1, standard=2, kwd_only=3) # 位置指定固定の１番目にキーワードパラメターを渡すためTypeError"
   ]
  },
  {
   "cell_type": "markdown",
   "metadata": {
    "deletable": false,
    "editable": false,
    "run_control": {
     "frozen": true
    }
   },
   "source": [
    "最後に、位置引数 `name` と `name` をキーとして持つ `**kwds` の間に潜在的な衝突がある関数定義を考えてみましょう。"
   ]
  },
  {
   "cell_type": "code",
   "execution_count": null,
   "metadata": {
    "deletable": false,
    "editable": false
   },
   "outputs": [],
   "source": [
    "def foo(name, **kwds):\n",
    "    return 'name' in kwds"
   ]
  },
  {
   "cell_type": "markdown",
   "metadata": {
    "deletable": false,
    "editable": false,
    "run_control": {
     "frozen": true
    }
   },
   "source": [
    "キーワードに `'name'` を入れても、先頭の引数と同じになってしまうため、この関数が `True` を返すような呼び出しの方法はありません。例えば、次のようになってしまいます:"
   ]
  },
  {
   "cell_type": "code",
   "execution_count": null,
   "metadata": {
    "deletable": false,
    "editable": false
   },
   "outputs": [],
   "source": [
    "foo(1, **{'name': 2})"
   ]
  },
  {
   "cell_type": "markdown",
   "metadata": {
    "deletable": false,
    "editable": false,
    "run_control": {
     "frozen": true
    }
   },
   "source": [
    "しかし位置専用を示す `/` を使用すれば可能になります。 `name` は位置引数として、そして `'name'` はキーワード引数のキーワードとして認識されるからです:"
   ]
  },
  {
   "cell_type": "code",
   "execution_count": null,
   "metadata": {
    "deletable": false,
    "editable": false
   },
   "outputs": [],
   "source": [
    "def foo(name, /, **kwds):\n",
    "    return 'name' in kwds"
   ]
  },
  {
   "cell_type": "code",
   "execution_count": null,
   "metadata": {
    "deletable": false,
    "editable": false
   },
   "outputs": [],
   "source": [
    "foo(1, **{'name': 2})        #  return True"
   ]
  },
  {
   "cell_type": "markdown",
   "metadata": {
    "deletable": false,
    "editable": false,
    "run_control": {
     "frozen": true
    }
   },
   "source": [
    "言い換えると、位置専用引数であれば、その名前を `**kwds` の中で使用しても、曖昧にならないということです。"
   ]
  },
  {
   "cell_type": "markdown",
   "metadata": {
    "deletable": false,
    "editable": false,
    "run_control": {
     "frozen": true
    }
   },
   "source": [
    "### <span style=\"color: blue; \">4.7.3.5. 要約</span>\n",
    "使用例で、関数定義でどの種類の引数を使うかべきかがわかると思います:  \n",
    "  \n",
    "`    def f(pos1, pos2, /, pos_or_kwd, *, kwd1, kwd2):  `    \n",
    "  \n",
    "ガイドとしては、  \n",
    "  \n",
    "もし引数の名前をユーザーに知らせる必要がないなら、位置専用引数を使用しましょう。これは引数の名前がユーザーにとって意味がなく、関数が呼ばれたときの引数の順序が問題であり、または、位置引数と任意のキーワードを使用する必要がある場合に便利です。\n",
    "引数の名前に意味があり、それにより関数の定義がより明らかになる、または、ユーザーが引数の順番に縛られることを避けたほうがいいと考えるのなら、キーワード専用引数を使用しましょう。\n",
    "APIの場合、将来引数の名前が変更された場合にAPIの変更ができなくなることを防ぐために、位置専用引数を使用しましょう。"
   ]
  },
  {
   "cell_type": "markdown",
   "metadata": {
    "deletable": false,
    "editable": false,
    "run_control": {
     "frozen": true
    }
   },
   "source": [
    "### <span style=\"color: blue; \">4.7.4. 任意引数リスト</span>\n",
    "最後に、最も使うことの少ない選択肢として、関数が任意の個数の引数で呼び出せるよう指定する方法があります。これらの引数はタプル (タプルとシーケンス を参照) に格納されます。可変個の引数の前に、ゼロ個かそれ以上の引数があっても構いません。\n",
    "\n",
    "`    def write_multiple_items(file, separator, *args):\n",
    "        file.write(separator.join(args))  `  \n",
    "  \n",
    "通常このような 可変 引数は、関数に渡される入力引数の残りを全て掬い取るために、仮引数リストの最後に置かれます。 `*args` 引数の後にある仮引数は 'キーワード専用' 引数で、位置引数ではなくキーワード引数としてのみ使えることを意味します。"
   ]
  },
  {
   "cell_type": "code",
   "execution_count": null,
   "metadata": {
    "deletable": false,
    "editable": false
   },
   "outputs": [],
   "source": [
    "def concat(*args, sep=\"/\"):\n",
    "    return sep.join(args)"
   ]
  },
  {
   "cell_type": "code",
   "execution_count": null,
   "metadata": {
    "deletable": false,
    "editable": false
   },
   "outputs": [],
   "source": [
    "concat(\"earth\", \"mars\", \"venus\")    # return 'earth/mars/venus'"
   ]
  },
  {
   "cell_type": "code",
   "execution_count": null,
   "metadata": {
    "deletable": false,
    "editable": false
   },
   "outputs": [],
   "source": [
    "concat(\"earth\", \"mars\", \"venus\", sep=\".\")  # return 'earth.mars.venus'"
   ]
  },
  {
   "cell_type": "markdown",
   "metadata": {
    "deletable": false,
    "editable": false,
    "run_control": {
     "frozen": true
    }
   },
   "source": [
    "### <span style=\"color: blue; \">4.7.5. 引数リストのアンパック</span>\n",
    "引数がすでにリストやタプルになっていて、個別な位置引数を要求する関数呼び出しに渡すためにアンパックする必要がある場合には、逆の状況が起こります。例えば、組み込み関数 [range()](https://docs.python.org/ja/3.9/library/stdtypes.html#range) は引数 start と stop を別に与える必要があります。個別に引数を与えることができない場合、関数呼び出しを `*` 演算子を使って書き、リストやタプルから引数をアンパックします:"
   ]
  },
  {
   "cell_type": "code",
   "execution_count": null,
   "metadata": {
    "deletable": false,
    "editable": false
   },
   "outputs": [],
   "source": [
    "list(range(3, 6))            # normal call with separate arguments, = [3, 4, 5]"
   ]
  },
  {
   "cell_type": "code",
   "execution_count": null,
   "metadata": {
    "deletable": false,
    "editable": false
   },
   "outputs": [],
   "source": [
    "args = [3, 6]\n",
    "list(range(*args))            # call with arguments unpacked from a list, = [3, 4, 5]"
   ]
  },
  {
   "cell_type": "markdown",
   "metadata": {
    "deletable": false,
    "editable": false,
    "run_control": {
     "frozen": true
    }
   },
   "source": [
    "同じやりかたで、`**` オペレータを使って辞書でもキーワード引数を渡すことができます:"
   ]
  },
  {
   "cell_type": "code",
   "execution_count": null,
   "metadata": {
    "deletable": false,
    "editable": false
   },
   "outputs": [],
   "source": [
    "def parrot(voltage, state='a stiff', action='voom'):\n",
    "    print(\"-- This parrot wouldn't\", action, end=' ')\n",
    "    print(\"if you put\", voltage, \"volts through it.\", end=' ')\n",
    "    print(\"E's\", state, \"!\")"
   ]
  },
  {
   "cell_type": "code",
   "execution_count": null,
   "metadata": {
    "deletable": false,
    "editable": false
   },
   "outputs": [],
   "source": [
    "d = {\"voltage\": \"four million\", \"state\": \"bleedin' demised\", \"action\": \"VOOM\"}\n",
    "parrot(**d)"
   ]
  },
  {
   "cell_type": "markdown",
   "metadata": {
    "deletable": false,
    "editable": false,
    "run_control": {
     "frozen": true
    }
   },
   "source": [
    "### <span style=\"color: blue; \">4.7.6. ラムダ式</span>\n",
    "<span style=\"color: red; \">キーワード [<span style=\"color: red; \">lambda</span>](https://docs.python.org/ja/3.9/reference/expressions.html#lambda) を使うと、名前のない小さな関数を生成できます</span>。例えば `lambda a, b: a+b` は、二つの引数の和を返す関数です。ラムダ式の関数は、関数オブジェクトが要求されている場所にならどこでも使うことができます。<span style=\"color: red; \">ラムダ式は、構文上単一の式に制限されています</span>。意味付け的には、ラムダ形式は単に通常の関数定義に構文的な糖衣をかぶせたものに過ぎません。入れ子構造になった関数定義と同様、ラムダ式もそれを取り囲むスコープから変数を参照することができます:"
   ]
  },
  {
   "cell_type": "code",
   "execution_count": null,
   "metadata": {
    "deletable": false,
    "editable": false
   },
   "outputs": [],
   "source": [
    "def make_incrementor(n):\n",
    "    return lambda x: x + n"
   ]
  },
  {
   "cell_type": "code",
   "execution_count": null,
   "metadata": {
    "deletable": false,
    "editable": false
   },
   "outputs": [],
   "source": [
    "f = make_incrementor(42)"
   ]
  },
  {
   "cell_type": "code",
   "execution_count": null,
   "metadata": {
    "deletable": false,
    "editable": false
   },
   "outputs": [],
   "source": [
    "f(0)     #  return 42  "
   ]
  },
  {
   "cell_type": "code",
   "execution_count": null,
   "metadata": {
    "deletable": false,
    "editable": false
   },
   "outputs": [],
   "source": [
    "f(1)     #  return 43 "
   ]
  },
  {
   "cell_type": "markdown",
   "metadata": {
    "deletable": false,
    "editable": false,
    "run_control": {
     "frozen": true
    }
   },
   "source": [
    "上記の例は、関数を返すところでラムダ式を使っています。もう1つの例では、ちょっとした関数を引数として渡すのに使っています:"
   ]
  },
  {
   "cell_type": "code",
   "execution_count": null,
   "metadata": {
    "deletable": false,
    "editable": false
   },
   "outputs": [],
   "source": [
    "pairs = [(1, 'one'), (2, 'two'), (3, 'three'), (4, 'four')]\n",
    "pairs.sort(key=lambda pair: pair[1])\n",
    "pairs"
   ]
  },
  {
   "cell_type": "markdown",
   "metadata": {
    "deletable": false,
    "editable": false,
    "run_control": {
     "frozen": true
    }
   },
   "source": [
    "### <span style=\"color: blue; \">4.7.7. ドキュメンテーション文字列</span>\n",
    "ドキュメンテーション文字列については、その内容と書式に関する慣習をいくつか挙げます。\n",
    "\n",
    "<span style=\"color: red; \">最初の行は、常に対象物の目的を短く簡潔にまとめたものでなくてはなりません</span>。簡潔に書くために、対象物の名前や型を明示する必要はありません。名前や型は他の方法でも得られるからです (名前がたまたま関数の演算内容を記述する動詞である場合は例外です)。最初の行は大文字で始まり、ピリオドで終わっていなければなりません。\n",
    "\n",
    "ドキュメンテーション文字列中にさらに記述すべき行がある場合、<span style=\"color: red; \">二行目は空行にし、まとめの行と残りの記述部分を視覚的に分離します</span>。つづく行は一つまたはそれ以上の段落で、対象物の呼び出し規約や副作用について記述します。\n",
    "\n",
    "Python のパーザは複数行にわたる Python 文字列リテラルからインデントを剥ぎ取らないので、ドキュメントを処理するツールでは必要に応じてインデントを剥ぎ取らなければなりません。この処理は以下の規約に従って行います。最初の行の 後にある 空行でない最初の行が、ドキュメント全体のインデントの量を決めます。(最初の行は通常、文字列を開始するクオートに隣り合っているので、インデントが文字列リテラル中に現れないためです。) このインデント量と \"等価な\" 空白が、文字列のすべての行頭から剥ぎ取られます。インデントの量が少ない行を書いてはならないのですが、もしそういう行があると、先頭の空白すべてが剥ぎ取られます。インデントの空白の大きさが等しいかどうかは、タブ文字を (通常は 8 文字のスペースとして) 展開した後に調べられます。\n",
    "\n",
    "以下に複数行のドキュメンテーション文字列の例を示します:"
   ]
  },
  {
   "cell_type": "code",
   "execution_count": null,
   "metadata": {
    "deletable": false,
    "editable": false
   },
   "outputs": [],
   "source": [
    "def my_function():\n",
    "    \"\"\"Do nothing, but document it.\n",
    "    \n",
    "    No, really, it doesn't do anything.\n",
    "    \"\"\"\n",
    "    pass"
   ]
  },
  {
   "cell_type": "code",
   "execution_count": null,
   "metadata": {
    "deletable": false,
    "editable": false
   },
   "outputs": [],
   "source": [
    "print(my_function.__doc__)"
   ]
  },
  {
   "cell_type": "markdown",
   "metadata": {
    "deletable": false,
    "editable": false,
    "run_control": {
     "frozen": true
    }
   },
   "source": [
    "### <span style=\"color: blue; \">4.7.8. 関数のアノテーション</span>\n",
    "[関数アノテーション](https://docs.python.org/ja/3.9/reference/compound_stmts.html#function) はユーザ定義関数で使用される型についての完全にオプションなメタデータ情報です (詳細は [PEP 3107](https://www.python.org/dev/peps/pep-3107/) と [PEP 484](https://www.python.org/dev/peps/pep-0484/) を参照してください)。\n",
    "\n",
    "[アノテーション](https://docs.python.org/ja/3.9/glossary.html#term-function-annotation) は関数の \\_\\_annotations\\_\\_ 属性に辞書として格納され、関数の他の部分には何も影響がありません。 パラメータアノテーションは、パラメータ名の後にコロンを続けることによって定義され、その後にアノテーションの値として評価される式が置かれます。 戻り値アノテーションは、パラメータリストと def ステートメントの終わりを表すコロンの間に置かれたリテラル `->` によって定義され、その後に式が続きます。次の例は位置引数とキーワード引数、そして戻り値アノテーションを持っています:"
   ]
  },
  {
   "cell_type": "code",
   "execution_count": null,
   "metadata": {
    "deletable": false,
    "editable": false
   },
   "outputs": [],
   "source": [
    "def f(ham: str, eggs: str = 'eggs') -> str:\n",
    "    print(\"Annotations:\", f.__annotations__)\n",
    "    print(\"Arguments:\", ham, eggs)\n",
    "    return ham + ' and ' + eggs"
   ]
  },
  {
   "cell_type": "code",
   "execution_count": null,
   "metadata": {
    "deletable": false,
    "editable": false
   },
   "outputs": [],
   "source": [
    "f('spam')       # return 'spam and eggs'"
   ]
  },
  {
   "cell_type": "markdown",
   "metadata": {
    "deletable": false,
    "editable": false,
    "run_control": {
     "frozen": true
    }
   },
   "source": [
    "<span style=\"color: purple; \">［やってみよう!!]  \n",
    "関数fにhamに'生ハム'、eggsに'スクランブルエッグ'を指定して「生ハム and スクラブルエッグ」を表示してください。　下のセルの###を埋めて実行してください </span>"
   ]
  },
  {
   "cell_type": "code",
   "execution_count": null,
   "metadata": {},
   "outputs": [],
   "source": [
    "r = f(#='####', #='####')"
   ]
  },
  {
   "cell_type": "code",
   "execution_count": null,
   "metadata": {
    "deletable": false,
    "editable": false,
    "scrolled": true
   },
   "outputs": [],
   "source": [
    "#  やってみよう　結果判定\n",
    "if r == '生ハム and スクランブルエッグ':\n",
    "    print('正解　', r)\n",
    "else:\n",
    "    print('不正解　', r)"
   ]
  },
  {
   "cell_type": "markdown",
   "metadata": {
    "deletable": false,
    "editable": false,
    "run_control": {
     "frozen": true
    }
   },
   "source": [
    "***"
   ]
  },
  {
   "cell_type": "markdown",
   "metadata": {
    "deletable": false,
    "editable": false,
    "run_control": {
     "frozen": true
    }
   },
   "source": [
    "## <span style=\"color: blue; \">4.8. 間奏曲: コーディングスタイル</span>\n",
    "これからより長くより複雑な Python のコードを書いていくので、そろそろ コーディングスタイル について語っても良い頃です。ほとんどの言語は様々なスタイルで書け (もっと簡潔に言えば フォーマットでき)、スタイルによって読み易さが異なります。他人にとって読み易いコードにしようとするのはどんなときでも良い考えであり、良いコーディングスタイルを採用することが非常に強力な助けになります。\n",
    "\n",
    "<span style=\"color: red; \">Python には、ほとんどのプロジェクトが守っているスタイルガイドとして [<span style=\"color: red; \">PEP 8</span>](https://www.python.org/dev/peps/pep-0008/) があります</span>。それは非常に読み易く目に優しいコーディングスタイルを推奨しています。全ての Python 開発者はある時点でそれを読むべきです。ここに最も重要な点を抜き出しておきます:\n",
    "\n",
    "+ <span style=\"color: red; \">インデントには空白 4 つを使い、タブは使わないこと</span>。  \n",
    "空白 4 つは (深くネストできる) 小さいインデントと (読み易い) 大きいインデントのちょうど中間に当たります。タブは混乱させるので、使わずにおくのが良いです。\n",
    "  \n",
    "+ ソースコードの幅が 79 文字を越えないように行を折り返すこと。  \n",
    "こうすることで小さいディスプレイを使っているユーザも読み易くなり、大きなディスプレイではソースコードファイルを並べることもできるようになります。  \n",
    "  \n",
    "+ 関数やクラスや関数内の大きめのコードブロックの区切りに空行を使うこと。  \n",
    "  \n",
    "+ 可能なら、コメントは行に独立で書くこと。  \n",
    "  \n",
    "+ docstring を使うこと。  \n",
    "  \n",
    "+ <span style=\"color: red; \">演算子の前後とコンマの後には空白を入れ、括弧類のすぐ内側には空白を入れないこと</span>: `a = f(1, 2) + g(3, 4)`。  \n",
    "  \n",
    "+ クラスや関数に一貫性のある名前を付けること。慣習では `UpperCamelCase` をクラス名に使い、 `lowercase_with_underscores` を関数名やメソッド名に使います。常に `self` をメソッドの第 1 引数の名前 (クラスやメソッドについては クラス初見 を見よ) として使うこと。  \n",
    "  \n",
    "+ あなたのコードを世界中で使ってもらうつもりなら、風変りなエンコーディングは使わないこと。どんな場合でも、Python のデフォルト UTF-8 またはプレーン ASCII が最も上手くいきます。  \n",
    "  \n",
    "+ 同様に、ほんの少しでも他の言語を話す人がコードを読んだりメンテナンスする可能性があるのであれば、非 ASCII 文字も識別子に使うべきではありません。  \n"
   ]
  }
 ],
 "metadata": {
  "kernelspec": {
   "display_name": "Python 3",
   "language": "python",
   "name": "python3"
  },
  "language_info": {
   "codemirror_mode": {
    "name": "ipython",
    "version": 3
   },
   "file_extension": ".py",
   "mimetype": "text/x-python",
   "name": "python",
   "nbconvert_exporter": "python",
   "pygments_lexer": "ipython3",
   "version": "3.7.8"
  },
  "toc": {
   "base_numbering": 1,
   "nav_menu": {},
   "number_sections": true,
   "sideBar": true,
   "skip_h1_title": false,
   "title_cell": "Table of Contents",
   "title_sidebar": "Contents",
   "toc_cell": false,
   "toc_position": {},
   "toc_section_display": true,
   "toc_window_display": true
  }
 },
 "nbformat": 4,
 "nbformat_minor": 4
}
