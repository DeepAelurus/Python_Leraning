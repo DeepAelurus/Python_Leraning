{
 "cells": [
  {
   "cell_type": "markdown",
   "metadata": {
    "deletable": false,
    "editable": false,
    "run_control": {
     "frozen": true
    }
   },
   "source": [
    "# <span style=\"color: blue; \">Python チュートリアル</span>  \n",
    "  \n",
    "このテキストは、[Pythonチュートリアル(3.9.1)のHP](https://docs.python.org/ja/3.9/tutorial/index.html)をjupyter Notebookで学習できるように編集したものです。 \n",
    "  \n",
    "2021年2月現在、最新のPythonのバージョンは3.9.1になります。  \n",
    "    　　　　本書で記載の範囲であれば3.8以下でも基本的に差はありません（差分がある場合は極力補足しています）。\n",
    "  \n",
    "操作に対する補足  \n",
    "1. テキスト部分は「↓」ボタンでスクロール、各コマンドラインは「shift」+「retutn」キーで順番に実行してください。   \n",
    "2. テキスト画面を編集で開いた場合は「shift]+「retutn」で閉じてください。  \n",
    "3. 誤ってテキストを編集した場合は、「Ctrl」+「z」で取り消すことができます。  \n",
    "4. 途中自分でいろいろ試したい場合は、メニューバーにある「Insert（挿入）」から、「Insert Cell Above(上にセルを挿入）」、または「Insert Cell Below(下にセルを挿入）」してください。挿入したセルは、メニューバーにある「Edit（編集）」- 「Delete Cell（セルを削除）」で削除することができます</span>\n",
    "\n",
    "  \n",
    "【免責事項】\n",
    "  \n",
    "1. 本ソフトウェア（及びその複写物）を使用することで生じるリスクは、利用者が負うものとします。NPO法人AI開発推進協会（以下「本法人」といいます）では、明示的な瑕疵担保責任または保証を一切行いません。\n",
    "2. 本法人は、利用者に対し、本ソフトウェア（及びその複写物）に関して、その動作、商品性、特定用途への適合性その他一切の保証を行いません。\n",
    "3. 本法人は、利用者及び第三者が本ソフトウェアに関連して直接又は間接的に被ったいかなる損害についても、一切の責任を負いません。利用者は、本ソフトウェアの使用に関して第三者からされた請求に関する損害、損失あるいは責任より本法人を免責するものとします。  \n",
    "  \n",
    "©️ 2021 NPO法人AI開発推進協会  \n",
    "This software is released under the MIT License. http://opensource.org/licenses/mit-license.php  \n",
    "  \n",
    "***  \n",
    "Python は強力で、学びやすいプログラミング言語です。効率的な高レベルデータ構造と、シンプルで効果的なオブジェクト指向プログラミング機構を備えています。 Python は、洗練された文法・動的なデータ型付け・インタープリタであることなどから、スクリプティングや高速アプリケーション開発(Rapid Application Development: RAD)に理想的なプログラミング言語となっています。\n",
    "\n",
    "[Python Web サイト](https://www.python.org) は、 Python インタープリタと標準ライブラリのソースコードと、主要プラットフォームごとにコンパイル済みのバイナリファイルを無料で配布しています。また、Python Web サイトには、無料のサードパーティモジュールやプログラム、ツール、ドキュメントなども紹介しています。\n",
    "\n",
    "Python インタプリタは、簡単に C/C++ 言語などで実装された関数やデータ型を組み込み、拡張できます。また、アプリケーションのカスタマイズを行う、拡張言語としても適しています。\n",
    "\n",
    "このチュートリアルは、Python 言語の基本的な概念と機能を、形式ばらずに紹介します。読むだけではなく、Pythonインタープリタで実際にサンプルを実行すると理解が深まりますが、サンプルはそれぞれ独立していますので、ただ読むだけでも良いでしょう。\n",
    "\n",
    "標準オブジェクトやモジュールの詳細は、[Python 標準ライブラリ](https://docs.python.org/ja/3.9/library/index.html#library-index) を参照してください。 また、正式な言語定義は、 [Python 言語リファレンス](https://docs.python.org/ja/3.9/reference/index.html#reference-index) にあります。 C 言語や C++ 言語で拡張モジュールを書くなら、 [Python インタプリタの拡張と埋め込み](https://docs.python.org/ja/3.9/extending/index.html#extending-index) や [Python/C API リファレンスマニュアル](https://docs.python.org/ja/3.9/c-api/index.html#c-api-index) を参照してください。Python の解説書も販売されています。\n",
    "\n",
    "<span style=\"color: red; \">このチュートリアルは、Python全体を対象とした、包括的な解説書ではありません。よく使われる機能に限っても、全ては紹介していません。その代わり、このチュートリアルでは、Pythonのもっとも特徴的な機能を中心に紹介して、この言語の持ち味や、スタイルを感じられるようにしています。このチュートリアルを読み終えると、Python のモジュールやプログラムを読み書きできるようになっているでしょう</span>。また、[Python 標準ライブラリ](https://docs.python.org/ja/3.9/library/index.html#library-index) のさまざまな Python ライブラリモジュールを、詳しく調べられるようになっているはずです。\n",
    "  \n",
    "[<span style=\"color: red; \">用語集</span>](https://docs.python.org/ja/3.9/glossary.html#glossary) にも目を通しておくと良いでしょう。"
   ]
  },
  {
   "cell_type": "markdown",
   "metadata": {
    "deletable": false,
    "editable": false,
    "run_control": {
     "frozen": true
    }
   },
   "source": [
    "# 目次\n",
    "公式のチュートリアルを下記の構成に分けて学習できるようにしています。   \n",
    "本プログラムでは下記の9～16章を対象にしています。  \n",
    "<span style=\"color: gray; \">  \n",
    "**1.やる気を高めよう**  \n",
    "**2.Pythonインタプリタを使う**  \n",
    "**3.形式ばらない Python の紹介**  \n",
    "**4.その他の制御フローツール**  \n",
    "**5.データ構造**  \n",
    "**6.モジュール**  \n",
    "**7.入力と出力**  \n",
    "**8.エラーと例外**  </span>\n",
    "***\n",
    "**9.[クラス](#anchor9)**  \n",
    "**10.[標準ライブラリミニツアー](#anchor10)**  \n",
    "**11.[標準ライブラリミニツアー --- その 2](#anchor11)**  \n",
    "**12.[仮想環境とパッケージ](#anchor12)**  \n",
    "**13.[さあ何を？](#anchor13)**  \n",
    "**14.[対話入力編集と履歴置換](#anchor14)**  \n",
    "**15.[浮動小数点演算、その問題と制限](#anchor15)**  \n",
    "**16.[付録](#anchor16)**  \n",
    "***"
   ]
  },
  {
   "cell_type": "markdown",
   "metadata": {
    "deletable": false,
    "editable": false,
    "run_control": {
     "frozen": true
    }
   },
   "source": [
    "# <span style=\"color: blue; \">9. クラス<a id='anchor9'></span>\n",
    "クラスはデータと機能を組み合わせる方法を提供します。 <span style=\"color: red; \">新規にクラスを作成することで、新しいオブジェクトの _型_ を作成し、その型を持つ新しい _インスタンス_ が作れます</span>。 クラスのそれぞれのインスタンスは自身の状態を保持する属性を持てます。 クラスのインスタンスは、その状態を変更するための (そのクラスが定義する) メソッドも持てます。\n",
    "\n",
    "Python は、他のプログラミング言語と比較して、最小限の構文と意味付けを使ってクラスを言語に追加しています。Python のクラスは、C++ と Modula-3 のクラスメカニズムを混ぜたものです。Python のクラス機構はオブジェクト指向プログラミングの標準的な機能を全て提供しています。クラスの継承メカニズムは、複数の基底クラスを持つことができ、派生クラスで基底クラスの任意のメソッドをオーバライドすることができます。メソッドでは、基底クラスのメソッドを同じ名前で呼び出すことができます。オブジェクトには任意の種類と数のデータを格納することができます。モジュールと同じく、クラス機構も Python の動的な性質に従うように設計されています。クラスは実行時に生成され、生成後に変更することができます。\n",
    "\n",
    "C++ の用語で言えば、通常のクラスメンバ (データメンバも含む) は ([プライベート変数](https://docs.python.org/ja/3.9/tutorial/classes.html#tut-private) に書かれている例外を除いて) public であり、メンバ関数はすべて 仮想関数(virtual) です。 Modula-3 にあるような、オブジェクトのメンバをメソッドから参照するための短縮した記法は使えません: メソッド関数の宣言では、オブジェクト自体を表す第一引数を明示しなければなりません。第一引数のオブジェクトはメソッド呼び出しの際に暗黙の引数として渡されます。 Smalltalk に似て、クラスはそれ自体がオブジェクトです。そのため、 import や名前変更といった操作が可能です。 C++ や Modula-3 と違って、ユーザーは組込み型を基底クラスにして拡張を行えます。また、C++ とは同じで Modula-3 とは違う点として、特別な構文を伴うほとんどの組み込み演算子 (算術演算子 (arithmetic operator) や添字表記) はクラスインスタンスで使うために再定義できます。\n",
    "\n",
    "(クラスに関して普遍的な用語定義がないので、 Smalltalk と C++ の用語を場合に応じて使っていくことにします。 C++ よりも Modula-3 の方がオブジェクト指向の意味論が Python に近いので、 Modula-3 の用語を使いたいのですが、ほとんどの読者は Modula-3 についてしらないでしょうから。)"
   ]
  },
  {
   "cell_type": "markdown",
   "metadata": {
    "deletable": false,
    "editable": false,
    "run_control": {
     "frozen": true
    }
   },
   "source": [
    "## <span style=\"color: blue; \">9.1. 名前とオブジェクトについて</span>\n",
    "オブジェクトには個体性があり、同一のオブジェクトに(複数のスコープから) 複数の名前を割り当てることができます。この機能は他の言語では別名づけ(alias) として知られています。 Python を一見しただけでは、別名づけの重要性は分からないことが多く、変更不能な基本型 (数値、文字列、タプル)を扱うときには無視して差し支えありません。しかしながら、別名付けは、リストや辞書や他の多くの型など、変更可能な型を扱う Python コード上で驚くべき効果があります。別名付けはいくつかの点でポインタのように振舞い、このことは通常はプログラムに利するように使われます。例えば、<span style=\"color: red; \">オブジェクトの受け渡しは、実装上はポインタが渡されるだけなのでコストの低い操作になります</span>。また、関数があるオブジェクトを引数として渡されたとき、関数の呼び出し側からオブジェクトに対する変更を見ることができます --- これにより、 Pascal にあるような二つの引数渡し機構をもつ必要をなくしています。"
   ]
  },
  {
   "cell_type": "markdown",
   "metadata": {
    "deletable": false,
    "editable": false,
    "run_control": {
     "frozen": true
    }
   },
   "source": [
    "## <span style=\"color: blue; \">9.2. Python のスコープと名前空間</span>\n",
    "クラスを紹介する前に、Python のスコープのルールについてあることを話しておかなければなりません。クラス定義は巧みなトリックを名前空間に施すので、何が起こっているのかを完全に理解するには、スコープと名前空間がどのように動作するかを理解する必要があります。ちなみに、この問題に関する知識は全ての Python プログラマにとって有用です。\n",
    "\n",
    "まず定義から始めましょう。\n",
    "\n",
    "<span style=\"color: red; \">_名前空間 (namespace)_ とは、名前からオブジェクトへの対応付け (mapping) です。ほとんどの名前空間は、現状では Python の辞書として実装されています</span>が、そのことは通常は (パフォーマンス以外では) 目立つことはないし、将来は変更されるかもしれません。名前空間の例には、組込み名の集合 ([abs()](https://docs.python.org/ja/3.9/library/functions.html#abs) 等の関数や組込み例外名)、モジュール内のグローバルな名前、関数を呼び出したときのローカルな名前があります。オブジェクトの属性からなる集合もまた、ある意味では名前空間です。名前空間について知っておくべき重要なことは、異なった名前空間にある名前の間には全く関係がないということです。例えば、二つの別々のモジュールの両方で関数 `maximize` という関数を定義することができ、定義自体は混同されることはありません --- モジュールのユーザは名前の前にモジュール名をつけなければなりません。\n",
    "\n",
    "ところで、 _属性_ という言葉は、ドットに続く名前すべてに対して使っています --- 例えば式 `z.real` で、 `real` はオブジェクト `z` の属性です。厳密にいえば、モジュール内の名前に対する参照は属性の参照です。式 `modname.funcname` では、 `modname` はあるモジュールオブジェクトで、 `funcname` はその属性です。この場合には、モジュールの属性とモジュールの中で定義されているグローバル名の間には、直接的な対応付けがされます。これらの名前は同じ名前空間を共有しているのです！ [[1](https://docs.python.org/ja/3.9/tutorial/classes.html#id2) ]  \n",
    "  \n",
    "属性は読取り専用にも、書込み可能にもできます。書込み可能であれば、属性に代入することができます。モジュール属性は書込み可能で、 `modname.the_answer = 42` と書くことができます。書込み可能な属性は、 [del](https://docs.python.org/ja/3.9/reference/simple_stmts.html#del) 文で削除することもできます。例えば、 `del modname.the_answer` は、 `modname` で指定されたオブジェクトから属性 the_answer を除去します。\n",
    "\n",
    "名前空間は様々な時点で作成され、その寿命も様々です。<span style=\"color: red; \">組み込みの名前が入った名前空間は Python インタプリタが起動するときに作成され、決して削除されることはありません。モジュールのグローバルな名前空間は、モジュール定義が読み込まれたときに作成されます。通常、モジュールの名前空間は、インタプリタが終了するまで残ります。インタプリタのトップレベルで実行された文は、スクリプトファイルから読み出されたものでも対話的に読み出されたものでも、 [<span style=\"color: red; \">__main__</span>](https://docs.python.org/ja/3.9/library/__main__.html#module-__main__) という名前のモジュールの一部分であるとみなされるので、独自の名前空間を持つことになります</span>。 (組み込みの名前は実際にはモジュール内に存在します。そのモジュールは [builtins](https://docs.python.org/ja/3.9/library/builtins.html#module-builtins) と呼ばれています。)\n",
    "\n",
    "<span style=\"color: red; \">関数のローカルな名前空間は、関数が呼び出されたときに作成され、関数から戻ったときや、関数内で例外が送出され、かつ関数内で処理されなかった場合に削除されます</span>。 (実際には、忘れられる、と言ったほうが起きていることをよく表しています。) もちろん、再帰呼出しのときには、各々の呼び出しで各自のローカルな名前空間があります。  \n",
    "  \n",
    "_スコープ (scope)_ とは、ある名前空間が直接アクセスできるような、 Python プログラムのテキスト上の領域です。 \"直接アクセス可能\" とは、修飾なしに (訳注: `spam.egg` ではなく単に `egg` のように) 名前を参照した際に、その名前空間から名前を見つけようと試みることを意味します。\n",
    "  \n",
    "<span style=\"color: red; \">スコープは静的に決定されますが、動的に使用されます。実行中はいつでも、名前空間に直接アクセスできる3つまたは4つの入れ子のスコープがあります</span>。 \n",
    "  \n",
    "+ 最初に探される、最も内側のスコープは、ローカルな名前を持っています。\n",
    "+ 外側の(enclosing)関数のスコープは、近いほうから順に探され、ローカルでもグローバルでもない名前を持っています。\n",
    "+ 次のスコープは、現在のモジュールのグローバルな名前を持っています。\n",
    "+ 一番外側の(最後に検索される)スコープはビルトイン名を持っています。 \n",
    "  \n",
    "名前が global と宣言されている場合、その名前に対する参照や代入は全て、モジュールのグローバルな名前の入った中間のスコープに対して直接行われます。<span style=\"color: red; \">最内スコープの外側にある変数に再束縛するには、 [<span style=\"color: red; \">nonlocal</span>](https://docs.python.org/ja/3.9/reference/simple_stmts.html#nonlocal) 文が使えます。nonlocal と宣言されなかった変数は、全て読み出し専用となります (そのような変数に対する書き込みは、単に 新しい ローカル変数をもっとも内側のスコープで作成し、外部のスコープの値は変化しません)</span>。 \n",
    "  \n",
    "通常、ローカルスコープは (プログラムテキスト上の) 現在の関数のローカルな名前を参照します。関数の外側では、ローカルスコープはグローバルな名前空間と同じ名前空間、モジュールの名前空間を参照します。<span style=\"color: red; \">クラス定義では、ローカルスコープの中にもう一つ名前空間が置かれます</span>。\n",
    "\n",
    "スコープはテキスト上で決定されていると理解することが重要です。モジュール内で定義される関数のグローバルなスコープは、関数がどこから呼び出されても、どんな別名をつけて呼び出されても、そのモジュールの名前空間になります。反対に、実際の名前の検索は実行時に動的に行われます --- とはいえ、言語の定義は、\"コンパイル\" 時の静的な名前解決の方向に進化しているので、動的な名前解決に頼ってはいけません！ (事実、ローカルな変数は既に静的に決定されています。)\n",
    "\n",
    "Python の特徴として、[global](https://docs.python.org/ja/3.9/reference/simple_stmts.html#global) や [nonlocal](https://docs.python.org/ja/3.9/reference/simple_stmts.html#nonlocal) 文が有効でない場合は、名前に対する参照は常に最も内側のスコープに対して有効になります。 代入はデータをコピーしません。オブジェクトを名前に束縛するだけです。削除も同様で、`del x` は、ローカルスコープの名前空間から x に対する拘束を取り除きます。 つまるところ、新しい名前を与えるようなすべての操作は、ローカルスコープを使って行われます。 [import](https://docs.python.org/ja/3.9/reference/simple_stmts.html#import) 文、関数の定義は、モジュールや関数名をローカルスコープの名前に拘束します。\n",
    "\n",
    "[global](https://docs.python.org/ja/3.9/reference/simple_stmts.html#global) 文を使うと、特定の変数がグローバルスコープに存在し、そこで再束縛されることを指示できます。 [nonlocal](https://docs.python.org/ja/3.9/reference/simple_stmts.html#nonlocal) 文は、特定の変数が外側のスコープに存在し、そこで再束縛されることを指示します。"
   ]
  },
  {
   "cell_type": "markdown",
   "metadata": {
    "deletable": false,
    "editable": false,
    "run_control": {
     "frozen": true
    }
   },
   "source": [
    "### <span style=\"color: blue; \">9.2.1. スコープと名前空間の例</span>\n",
    "異なるスコープと名前空間がどのように参照されるか、また [global](https://docs.python.org/ja/3.9/reference/simple_stmts.html#global) および [nonlocal](https://docs.python.org/ja/3.9/reference/simple_stmts.html#nonlocal) が変数の束縛にどう影響するか、この例で実演します:"
   ]
  },
  {
   "cell_type": "code",
   "execution_count": null,
   "metadata": {
    "deletable": false,
    "editable": false
   },
   "outputs": [],
   "source": [
    "def scope_test():\n",
    "    def do_local():\n",
    "        spam = \"local spam\"\n",
    "\n",
    "    def do_nonlocal():\n",
    "        nonlocal spam\n",
    "        spam = \"nonlocal spam\"\n",
    "\n",
    "    def do_global():\n",
    "        global spam\n",
    "        spam = \"global spam\"\n",
    "\n",
    "    spam = \"test spam\"\n",
    "    do_local()\n",
    "    print(\"After local assignment:\", spam)\n",
    "    do_nonlocal()\n",
    "    print(\"After nonlocal assignment:\", spam)\n",
    "    do_global()\n",
    "    print(\"After global assignment:\", spam)\n",
    "\n",
    "scope_test()\n",
    "print(\"In global scope:\", spam)"
   ]
  },
  {
   "cell_type": "markdown",
   "metadata": {
    "deletable": false,
    "editable": false,
    "run_control": {
     "frozen": true
    }
   },
   "source": [
    "このコード例の出力は:\n",
    "***\n",
    "`After local assignment: test spam`  \n",
    "`After nonlocal assignment: nonlocal spam`  \n",
    "`After global assignment: nonlocal spam`  \n",
    "`In global scope: global spam`  \n",
    "***  \n",
    "このとおり、(デフォルトの) ローカルな 代入は scope_test 上の _spam_ への束縛を変更しませんでした。 [nonlocal](https://docs.python.org/ja/3.9/reference/simple_stmts.html#nonlocal) 代入は _scope_test_ 上の _spam_ への束縛を変更し、 [global](https://docs.python.org/ja/3.9/reference/simple_stmts.html#global) 代入はモジュールレベルの束縛を変更しました。\n",
    "\n",
    "またここから、 [global](https://docs.python.org/ja/3.9/reference/simple_stmts.html#global) 代入の前には spam に何も束縛されていなかったことも分かります。"
   ]
  },
  {
   "cell_type": "markdown",
   "metadata": {
    "deletable": false,
    "editable": false,
    "run_control": {
     "frozen": true
    }
   },
   "source": [
    "## <span style=\"color: blue; \">9.3. クラス初見</span>\n",
    "クラスでは、新しい構文を少しと、三つの新たなオブジェクト型、そして新たな意味付けをいくつか取り入れています。  \n",
    "  \n",
    "### <span style=\"color: blue; \">9.3.1. クラス定義の構文</span>\n",
    "クラス定義の最も単純な形式は、次のようになります:  \n",
    "***\n",
    "`class ClassName:`\n",
    "`    <statement-1>`\n",
    "`    .`\n",
    "`    .`\n",
    "`    .`\n",
    "`    <statement-N>`\n",
    "***\n",
    "関数定義 ([def](https://docs.python.org/ja/3.9/reference/compound_stmts.html#def) 文) と同様、クラス定義が効果をもつにはまず実行しなければなりません。 (クラス定義を [if](https://docs.python.org/ja/3.9/reference/compound_stmts.html#if) 文の分岐先や関数内部に置くことも、考え方としてはありえます。)\n",
    "\n",
    "実際には、クラス定義の内側にある文は、通常は関数定義になりますが、他の文を書くこともでき、それが役に立つこともあります --- これについては後で述べます。クラス内の関数定義は通常、メソッドの呼び出し規約で決められた独特の形式の引数リストを持ちます --- これについても後で述べます。\n",
    "\n",
    "クラス定義に入ると、新たな名前空間が作成され、ローカルな名前空間として使われます --- 従って、ローカルな変数に対する全ての代入はこの新たな名前空間に入ります。特に、関数定義を行うと、新たな関数の名前はこの名前空間に結び付けられます。\n",
    "\n",
    "クラス定義から普通に (定義の終端に到達して) 抜けると、 _クラスオブジェクト (class object)_ が生成されます。クラスオブジェクトは、基本的にはクラス定義で作成された名前空間の内容をくるむラッパ (wrapper) です。クラスオブジェクトについては次の節で詳しく学ぶことにします。 (クラス定義に入る前に有効だった) 元のローカルスコープが復帰し、生成されたクラスオブジェクトは復帰したローカルスコープにクラス定義のヘッダで指定した名前 (上の例では ClassName) で結び付けられます。"
   ]
  },
  {
   "cell_type": "markdown",
   "metadata": {
    "deletable": false,
    "editable": false,
    "run_control": {
     "frozen": true
    }
   },
   "source": [
    "### <span style=\"color: blue; \">9.3.2. クラスオブジェクト</span>\n",
    "<span style=\"color: red; \">クラスオブジェクトでは２種類の演算、属性参照とインスタンス生成をサポートしています</span>。\n",
    "\n",
    "_属性参照 (attribute reference)_ は、Python におけるすべての属性参照で使われている標準的な構文、 `obj.name` を使います。クラスオブジェクトが生成された際にクラスの名前空間にあった名前すべてが有効な属性名です。従って、以下のようなクラス定義では:"
   ]
  },
  {
   "cell_type": "code",
   "execution_count": null,
   "metadata": {
    "deletable": false,
    "editable": false
   },
   "outputs": [],
   "source": [
    "class MyClass:\n",
    "    \"\"\"A simple example class\"\"\"\n",
    "    i = 12345\n",
    "\n",
    "    def f(self):\n",
    "        return 'hello world'"
   ]
  },
  {
   "cell_type": "markdown",
   "metadata": {
    "deletable": false,
    "editable": false,
    "run_control": {
     "frozen": true
    }
   },
   "source": [
    "`MyClass.i` と `MyClass.f` は妥当な属性参照であり、それぞれ整数と関数オブジェクトを返します。クラス属性に代入を行うこともできます。従って、 `MyClass.i` の値を代入して変更できます。 \\_\\_doc\\_\\_ も有効な属性で、そのクラスに属している docstring、この場合は `\"A simple example class\"` を返します。\n",
    "\n",
    "クラスの _インスタンス化 (instantiation)_ には関数のような表記法を使います。クラスオブジェクトのことを、単にクラスの新しいインスタンスを返す引数がない関数のように振る舞います。例えば (上記のクラスでいえば):"
   ]
  },
  {
   "cell_type": "code",
   "execution_count": null,
   "metadata": {
    "deletable": false,
    "editable": false
   },
   "outputs": [],
   "source": [
    "x = MyClass()"
   ]
  },
  {
   "cell_type": "markdown",
   "metadata": {
    "deletable": false,
    "editable": false,
    "run_control": {
     "frozen": true
    }
   },
   "source": [
    "は、クラスの新しい _インスタンス (instance)_ を生成し、そのオブジェクトをローカル変数 `x` へ代入します。\n",
    "\n",
    "この<span style=\"color: red; \">クラスのインスタンス生成操作 (クラスオブジェクトの \"呼出し\") を行うと、空のオブジェクトを生成します。多くのクラスは、オブジェクトを作成する際に、カスタマイズされた特定の初期状態になってほしいと望んでいます。そのために、クラスには [<span style=\"color: red; \">\\_\\_init\\_\\_()</span>](https://docs.python.org/ja/3.9/reference/datamodel.html#object.__init__) という名前の特別なメソッド定義することができます</span>。例えば次のようにします:"
   ]
  },
  {
   "cell_type": "code",
   "execution_count": null,
   "metadata": {
    "deletable": false,
    "editable": false
   },
   "outputs": [],
   "source": [
    "def __init__(self):\n",
    "    self.data = []"
   ]
  },
  {
   "cell_type": "markdown",
   "metadata": {
    "deletable": false,
    "editable": false,
    "run_control": {
     "frozen": true
    }
   },
   "source": [
    "<span style=\"color: red; \">クラスが [<span style=\"color: red; \">\\_\\_init\\_\\_()</span>](https://docs.python.org/ja/3.9/reference/datamodel.html#object.__init__) メソッドを定義している場合、クラスのインスタンスを生成すると、新しく生成されたクラスインスタンスに対して自動的に [<span style=\"color: red; \">\\_\\_init\\_\\_()</span>](https://docs.python.org/ja/3.9/reference/datamodel.html#object.__init__) を呼び出します</span>。従って、この例では、新たな初期済みのインスタンスを次のようにして得ることができます:"
   ]
  },
  {
   "cell_type": "code",
   "execution_count": null,
   "metadata": {
    "deletable": false,
    "editable": false
   },
   "outputs": [],
   "source": [
    "x = MyClass()"
   ]
  },
  {
   "cell_type": "markdown",
   "metadata": {
    "deletable": false,
    "editable": false,
    "run_control": {
     "frozen": true
    }
   },
   "source": [
    "もちろん、より大きな柔軟性を持たせるために、 [\\_\\_init\\_\\_()](https://docs.python.org/ja/3.9/reference/datamodel.html#object.__init__) メソッドに複数の引数をもたせることができます。その場合、次の例のように、クラスのインスタンス生成操作に渡された引数は [\\_\\_init\\_\\_()](https://docs.python.org/ja/3.9/reference/datamodel.html#object.__init__) に渡されます。例えば、"
   ]
  },
  {
   "cell_type": "code",
   "execution_count": null,
   "metadata": {
    "deletable": false,
    "editable": false
   },
   "outputs": [],
   "source": [
    "class Complex:\n",
    "    def __init__(self, realpart, imagpart):\n",
    "        self.r = realpart\n",
    "        self.i = imagpart\n",
    "\n",
    "x = Complex(3.0, -4.5)\n",
    "x.r, x.i"
   ]
  },
  {
   "cell_type": "markdown",
   "metadata": {
    "deletable": false,
    "editable": false,
    "run_control": {
     "frozen": true
    }
   },
   "source": [
    "### <span style=\"color: blue; \">9.3.3. インスタンスオブジェクト</span>\n",
    "ところで、インスタンスオブジェクトを使うと何ができるのでしょうか？インスタンスオブジェクトが理解できる唯一の操作は、属性の参照です。有効な属性名には (データ属性およびメソッドの) 二種類あります。\n",
    "\n",
    "_データ属性 (data attribute)_ は、これは Smalltalk の \"インスタンス変数\" や C++の \"データメンバ\" に相当します。データ属性を宣言する必要はありません。ローカルな変数と同様に、これらの属性は最初に代入された時点で湧き出てきます。例えば、上で生成した MyClass のインスタンス x に対して、次のコードを実行すると、値 `16` を印字し、 `x` の痕跡は残りません:"
   ]
  },
  {
   "cell_type": "code",
   "execution_count": null,
   "metadata": {
    "deletable": false,
    "editable": false
   },
   "outputs": [],
   "source": [
    "x.counter = 1\n",
    "while x.counter < 10:\n",
    "    x.counter = x.counter * 2\n",
    "print(x.counter)         #  = 16\n",
    "del x.counter"
   ]
  },
  {
   "cell_type": "markdown",
   "metadata": {
    "deletable": false,
    "editable": false,
    "run_control": {
     "frozen": true
    }
   },
   "source": [
    "もうひとつのインスタンス属性は メソッド (method) です。<span style=\"color: red; \">メソッドとは、オブジェクトに \"属している\" 関数のことです</span>。(Python では、メソッドという用語はクラスインスタンスだけのものではありません。オブジェクト型にもメソッドを持つことができます。例えば、リストオブジェクトには、 append, insert, remove, sort などといったメソッドがあります。とはいえ、以下では特に明記しない限り、クラスのインスタンスオブジェクトのメソッドだけを意味するものとして使うことにします。)\n",
    "\n",
    "インスタンスオブジェクトで有効なメソッド名は、そのクラスによります。定義により、クラスの全ての関数オブジェクトである属性がインスタンスオブジェクトの妥当なメソッド名に決まります。従って、例では、`MyClass.f` は関数なので、`x.f` はメソッドの参照として有効です。しかし、MyClass.i は関数ではないので、`x.i` はメソッドの参照として有効ではありません。`x.f` は `MyClass.f` と同じものではありません --- 関数オブジェクトではなく、_メソッドオブジェクト (method object)_ です。\n",
    "\n"
   ]
  },
  {
   "cell_type": "markdown",
   "metadata": {
    "deletable": false,
    "editable": false,
    "run_control": {
     "frozen": true
    }
   },
   "source": [
    "### <span style=\"color: blue; \">9.3.4. メソッドオブジェクト</span>\n",
    "普通、メソッドはバインドされた直後に呼び出されます:"
   ]
  },
  {
   "cell_type": "code",
   "execution_count": null,
   "metadata": {
    "deletable": false,
    "editable": false
   },
   "outputs": [],
   "source": [
    "x = MyClass()\n",
    "x.f()       # 'hello world'"
   ]
  },
  {
   "cell_type": "markdown",
   "metadata": {
    "deletable": false,
    "editable": false,
    "run_control": {
     "frozen": true
    }
   },
   "source": [
    "MyClass の例では、上のコードは文字列 `'hello world'` を返すでしょう。しかしながら、必ずしもメソッドをその場で呼び出さなければならないわけではありません。 `x.f` はメソッドオブジェクトであり、どこかに記憶しておいて後で呼び出すことができます。例えば次のコードは:"
   ]
  },
  {
   "cell_type": "code",
   "execution_count": null,
   "metadata": {
    "deletable": false,
    "editable": false
   },
   "outputs": [],
   "source": [
    "xf = x.f\n",
    "#while True:             # ループするためコメントアウトしています\n",
    "    #print(xf())"
   ]
  },
  {
   "cell_type": "markdown",
   "metadata": {
    "deletable": false,
    "editable": false,
    "run_control": {
     "frozen": true
    }
   },
   "source": [
    "`hello world` を時が終わるまで印字し続けるでしょう。\n",
    "\n",
    "メソッドが呼び出されるときには実際には何が起きているのでしょうか？ f() の関数定義では引数を一つ指定していたにもかかわらず、上の例では `x.f()` が引数なしで呼び出されています。引数はどうなったのでしょうか？たしか、引数が必要な関数を引数無しで呼び出すと、 Python が例外を送出するはずです --- たとえその引数が実際には使われなくても…。\n",
    "\n",
    "もう答は想像できているかもしれませんね: <span style=\"color: red; \">メソッドについて特別なこととして、インスタンスオブジェクトが関数の第1引数として渡されます</span>。 例では、 `x.f()` という呼び出しは、 `MyClass.f(x)` と厳密に等価なものです。 一般に、 n 個の引数リストもったメソッドの呼出しは、そのメソッドのインスタンスオブジェクトを最初の引数の前に挿入した引数リストで、メソッドに対応する関数を呼び出すことと等価です。\n",
    "\n",
    "もしまだメソッドの動作を理解できなければ、一度実装を見てみると事情がよく分かるかもしれません。インスタンスの非データ属性が参照されたときは、そのインスタンスのクラスが検索されます。その名前が有効なクラス属性を表している関数オブジェクトなら、インスタンスオブジェクトと見つかった関数オブジェクト (へのポインタ) を抽象オブジェクト、すなわちメソッドオブジェクトにパックして作成します。メソッドオブジェクトが引数リストと共に呼び出されるとき、インスタンスオブジェクトと渡された引数リストから新しい引数リストを作成して、元の関数オブジェクトを新しい引数リストで呼び出します。"
   ]
  },
  {
   "cell_type": "markdown",
   "metadata": {
    "deletable": false,
    "editable": false,
    "run_control": {
     "frozen": true
    }
   },
   "source": [
    "### <span style=\"color: blue; \">9.3.5. クラスとインスタンス変数</span>\n",
    "一般的に、<span style=\"color: red; \">インスタンス変数はそれぞれのインスタンスについて固有のデータのためのもので、クラス変数はそのクラスのすべてのインスタンスによって共有される属性やメソッドのためのものです</span>:"
   ]
  },
  {
   "cell_type": "code",
   "execution_count": null,
   "metadata": {
    "deletable": false,
    "editable": false
   },
   "outputs": [],
   "source": [
    "class Dog:\n",
    "\n",
    "    kind = 'canine'         # class variable shared by all instances\n",
    "\n",
    "    def __init__(self, name):\n",
    "        self.name = name    # instance variable unique to each instance"
   ]
  },
  {
   "cell_type": "code",
   "execution_count": null,
   "metadata": {
    "deletable": false,
    "editable": false
   },
   "outputs": [],
   "source": [
    "d = Dog('Fido')\n",
    "e = Dog('Buddy')"
   ]
  },
  {
   "cell_type": "code",
   "execution_count": null,
   "metadata": {
    "deletable": false,
    "editable": false
   },
   "outputs": [],
   "source": [
    "d.kind                  # shared by all dogs"
   ]
  },
  {
   "cell_type": "code",
   "execution_count": null,
   "metadata": {
    "deletable": false,
    "editable": false
   },
   "outputs": [],
   "source": [
    "e.kind                  # shared by all dogs"
   ]
  },
  {
   "cell_type": "code",
   "execution_count": null,
   "metadata": {
    "deletable": false,
    "editable": false
   },
   "outputs": [],
   "source": [
    "d.name                  # unique to d"
   ]
  },
  {
   "cell_type": "code",
   "execution_count": null,
   "metadata": {
    "deletable": false,
    "editable": false
   },
   "outputs": [],
   "source": [
    "e.name                  # unique to e"
   ]
  },
  {
   "cell_type": "markdown",
   "metadata": {
    "deletable": false,
    "editable": false,
    "run_control": {
     "frozen": true
    }
   },
   "source": [
    "[名前とオブジェクトについて](https://docs.python.org/ja/3.9/tutorial/classes.html#tut-object) で議論したように、共有データはリストや辞書のような [mutable](https://docs.python.org/ja/3.9/glossary.html#term-mutable) オブジェクトが関与すると驚くべき効果を持ち得ます。例えば、以下のコードの tricks リストはクラス変数として使われるべきではありません、なぜならたった一つのリストがすべての Dog インスタンスによって共有されることになり得るからです:"
   ]
  },
  {
   "cell_type": "code",
   "execution_count": null,
   "metadata": {
    "deletable": false,
    "editable": false
   },
   "outputs": [],
   "source": [
    "class Dog:\n",
    "\n",
    "    tricks = []             # mistaken use of a class variable\n",
    "\n",
    "    def __init__(self, name):\n",
    "        self.name = name\n",
    "\n",
    "    def add_trick(self, trick):\n",
    "        self.tricks.append(trick)"
   ]
  },
  {
   "cell_type": "code",
   "execution_count": null,
   "metadata": {
    "deletable": false,
    "editable": false
   },
   "outputs": [],
   "source": [
    "d = Dog('Fido')\n",
    "e = Dog('Buddy')"
   ]
  },
  {
   "cell_type": "code",
   "execution_count": null,
   "metadata": {
    "deletable": false,
    "editable": false
   },
   "outputs": [],
   "source": [
    "d.add_trick('roll over')\n",
    "e.add_trick('play dead')\n",
    "d.tricks                # unexpectedly shared by all dogs"
   ]
  },
  {
   "cell_type": "markdown",
   "metadata": {
    "deletable": false,
    "editable": false,
    "run_control": {
     "frozen": true
    }
   },
   "source": [
    "このクラスの正しい設計ではインスタンス変数を代わりに使用するべきです:"
   ]
  },
  {
   "cell_type": "code",
   "execution_count": null,
   "metadata": {
    "deletable": false,
    "editable": false
   },
   "outputs": [],
   "source": [
    "class Dog:\n",
    "\n",
    "    def __init__(self, name):\n",
    "        self.name = name\n",
    "        self.tricks = []    # creates a new empty list for each dog\n",
    "\n",
    "    def add_trick(self, trick):\n",
    "        self.tricks.append(trick)"
   ]
  },
  {
   "cell_type": "code",
   "execution_count": null,
   "metadata": {
    "deletable": false,
    "editable": false
   },
   "outputs": [],
   "source": [
    "d = Dog('Fido')\n",
    "e = Dog('Buddy')\n",
    "d.add_trick('roll over')\n",
    "e.add_trick('play dead')\n",
    "d.tricks"
   ]
  },
  {
   "cell_type": "code",
   "execution_count": null,
   "metadata": {
    "deletable": false,
    "editable": false
   },
   "outputs": [],
   "source": [
    "e.tricks"
   ]
  },
  {
   "cell_type": "markdown",
   "metadata": {
    "deletable": false,
    "editable": false,
    "run_control": {
     "frozen": true
    }
   },
   "source": [
    "## <span style=\"color: blue; \">9.4. いろいろな注意点</span>\n",
    "<span style=\"color: red; \">インスタンスとクラスの両方で同じ属性名が使用されている場合、属性検索はインスタンスが優先されます</span>。"
   ]
  },
  {
   "cell_type": "code",
   "execution_count": null,
   "metadata": {
    "deletable": false,
    "editable": false
   },
   "outputs": [],
   "source": [
    "class Warehouse:\n",
    "    purpose = 'storage'\n",
    "    region = 'west'"
   ]
  },
  {
   "cell_type": "code",
   "execution_count": null,
   "metadata": {
    "deletable": false,
    "editable": false
   },
   "outputs": [],
   "source": [
    "w1 = Warehouse()\n",
    "print(w1.purpose, w1.region)"
   ]
  },
  {
   "cell_type": "code",
   "execution_count": null,
   "metadata": {
    "deletable": false,
    "editable": false
   },
   "outputs": [],
   "source": [
    "w2 = Warehouse()\n",
    "w2.region = 'east'\n",
    "print(w2.purpose, w2.region)"
   ]
  },
  {
   "cell_type": "markdown",
   "metadata": {},
   "source": [
    "  "
   ]
  },
  {
   "cell_type": "markdown",
   "metadata": {
    "deletable": false,
    "editable": false,
    "run_control": {
     "frozen": true
    }
   },
   "source": [
    "データ属性は、メソッドから参照できると同時に、通常のオブジェクトのユーザ (\"クライアント\") からも参照できます。言い換えると、クラスは純粋な抽象データ型として使うことができません。実際、 Python では、データ隠蔽を補強するための機構はなにもありません --- データの隠蔽はすべて規約に基づいています。 (逆に、C 言語で書かれた Python の実装では実装の詳細を完全に隠蔽し、必要に応じてオブジェクトへのアクセスを制御できます。この機構は C 言語で書かれた Python 拡張で使うことができます。)\n",
    "\n",
    "クライアントはデータ属性を注意深く扱うべきです --- クライアントは、メソッドが維持しているデータ属性の不変式を踏みにじり、台無しにするかもしれません。クライアントは、名前の衝突が回避されている限り、メソッドの有効性に影響を及ぼすことなくインスタンスに独自の属性を追加することができる、ということに注意してください --- ここでも、名前付けの規約は頭痛の種を無くしてくれます。\n",
    "\n",
    "メソッドの中から、データ属性を (または別のメソッドも！) 参照するための短縮された記法はありません。私は、この仕様がメソッドの可読性を高めていると感じています。あるメソッドを眺めているときにローカルな変数とインスタンス変数をはっきり区別できるからです。\n",
    "\n",
    "よく、メソッドの最初の引数を `self` と呼びます。この名前付けは単なる慣習でしかありません。 `self` という名前は、 Python では何ら特殊な意味を持ちません。とはいえ、この慣行に従わないと、コードは他の Python プログラマにとってやや読みにくいものとなります。また、 クラスブラウザ (class browser) プログラムがこの慣行をあてにして書かれているかもしれません。\n",
    "\n",
    "クラス属性である関数オブジェクトはいずれも、そのクラスのインスタンスのためのメソッドを定義しています。関数定義は、テキスト上でクラス定義の中に入っている必要はありません。関数オブジェクトをクラスのローカルな変数の中に代入するのも OK です。例えば以下のコードのようにします:"
   ]
  },
  {
   "cell_type": "code",
   "execution_count": null,
   "metadata": {
    "deletable": false,
    "editable": false
   },
   "outputs": [],
   "source": [
    "# Function defined outside the class\n",
    "def f1(self, x, y):\n",
    "    return min(x, x+y)\n",
    "\n",
    "class C:\n",
    "    f = f1\n",
    "\n",
    "    def g(self):\n",
    "        return 'hello world'\n",
    "\n",
    "    h = g"
   ]
  },
  {
   "cell_type": "markdown",
   "metadata": {
    "deletable": false,
    "editable": false,
    "run_control": {
     "frozen": true
    }
   },
   "source": [
    "これで、 `f` 、 `g` 、および `h` は、すべて C の属性であり関数オブジェクトを参照しています。従って、これら全ては、 C のインスタンスのメソッドとなります --- `h` は `g` と全く等価です。これを実践しても、大抵は単にプログラムの読者に混乱をもたらすだけなので注意してください。\n",
    "\n",
    "メソッドは、 `self` 引数のメソッド属性を使って、他のメソッドを呼び出すことができます:"
   ]
  },
  {
   "cell_type": "code",
   "execution_count": null,
   "metadata": {
    "deletable": false,
    "editable": false
   },
   "outputs": [],
   "source": [
    "class Bag:\n",
    "    def __init__(self):\n",
    "        self.data = []\n",
    "\n",
    "    def add(self, x):\n",
    "        self.data.append(x)\n",
    "\n",
    "    def addtwice(self, x):\n",
    "        self.add(x)\n",
    "        self.add(x)"
   ]
  },
  {
   "cell_type": "markdown",
   "metadata": {
    "deletable": false,
    "editable": false,
    "run_control": {
     "frozen": true
    }
   },
   "source": [
    "メソッドは、通常の関数と同じようにしてグローバルな名前を参照します。あるメソッドに関するグローバルスコープは、その定義を含むモジュールです。(クラスはグローバルなスコープとして用いられることはありません。) メソッドでグローバルなデータを使う良い理由はほとんどありませんが、グローバルなスコープを使うべき場面は多々あります。一つ挙げると、メソッド内から、グローバルなスコープに import された関数やモジュールや、そのモジュール中で定義された関数やクラスを使うことができます。通常、メソッドの入っているクラス自体はグローバルなスコープ内で定義されています。次の節では、メソッドが自分のクラスを参照する理由として正当なものを見てみましょう。\n",
    "\n",
    "個々の値はオブジェクトなので、 クラス (型 とも言います) を持っています。それは `object.__class__` に保持されています。\n",
    "\n"
   ]
  },
  {
   "cell_type": "markdown",
   "metadata": {
    "deletable": false,
    "editable": false,
    "run_control": {
     "frozen": true
    }
   },
   "source": [
    "## <span style=\"color: blue; \">9.5. 継承</span>\n",
    "言うまでもなく、継承の概念をサポートしない言語機能は \"クラス\" と呼ぶに値しません。派生クラス (derived class) を定義する構文は次のようになります:  \n",
    "***\n",
    "`class DerivedClassName(BaseClassName):`  \n",
    "`    <statement-1>`  \n",
    "`    .`  \n",
    "`    .`  \n",
    "`    .`  \n",
    "`    <statement-N>`  \n",
    "***\n",
    "基底クラス (base class) の名前 BaseClassName は、派生クラス定義の入っているスコープで定義されていなければなりません。基底クラス名のかわりに任意の式を入れることもできます。これは次の例のように、基底クラスが別モジュールで定義されているときに便利なことがあります:  \n",
    "  \n",
    "***\n",
    "`class DerivedClassName(modname.BaseClassName):`  \n",
    "***  \n",
    "派生クラス定義の実行は、基底クラスの場合と同じように進められます。クラスオブジェクトが構築される時、基底クラスが記憶されます。記憶された基底クラスは、属性参照を解決するために使われます。要求された属性がクラスに見つからなかった場合、基底クラスに検索が進みます。この規則は、基底クラスが他の何らかのクラスから派生したものであった場合、再帰的に適用されます。\n",
    "\n",
    "派生クラスのインスタンス化では、特別なことは何もありません。 `DerivedClassName()` はクラスの新たなインスタンスを生成します。メソッドの参照は次のようにして解決されます。まず対応するクラス属性が検索されます。検索は、必要に応じ、基底クラス連鎖を下って行われ、検索の結果として何らかの関数オブジェクトがもたらされた場合、メソッド参照は有効なものとなります。\n",
    "\n",
    "<span style=\"color: red; \">派生クラスは基底クラスのメソッドを上書き (override) することができます</span>。メソッドは同じオブジェクトの別のメソッドを呼び出す際に何ら特殊な権限を持ちません。このため、ある基底クラスのメソッドが、同じ基底クラスで定義されているもう一つのメソッド呼び出しを行っている場合、派生クラスで上書きされた何らかのメソッドが呼び出されることになるかもしれません。 (C++ プログラマへ: Python では、すべてのメソッドは事実上 `virtual` です。)\n",
    "\n",
    "派生クラスで上書きしているメソッドでは、基底クラスの同名のメソッドを置き換えるのではなく、拡張したいのかもしれません。<span style=\"color: red; \">基底クラスのメソッドを直接呼び出す簡単な方法があります。単に `BaseClassName.methodname(self, arguments)` を呼び出すだけです</span>。この仕様は、場合によってはクライアントでも役に立ちます。 (この呼び出し方が動作するのは、基底クラスがグローバルスコープの `BaseClassName` という名前でアクセスできるときだけです。)"
   ]
  },
  {
   "cell_type": "markdown",
   "metadata": {
    "deletable": false,
    "editable": false,
    "run_control": {
     "frozen": true
    }
   },
   "source": [
    "Python には継承に関係する 2 つの組み込み関数があります:\n",
    "\n",
    "+ [isinstance()](https://docs.python.org/ja/3.9/library/functions.html#isinstance) を使うとインスタンスの型が調べられます。 `isinstance(obj, int)` は `obj.__class__` が [int](https://docs.python.org/ja/3.9/library/functions.html#int) や [int](https://docs.python.org/ja/3.9/library/functions.html#int) の派生クラスの場合に限り `True` になります。\n",
    "+ [issubclass()](https://docs.python.org/ja/3.9/library/functions.html#issubclass) を使うとクラスの継承関係が調べられます。 [bool](https://docs.python.org/ja/3.9/library/functions.html#bool) は [int](https://docs.python.org/ja/3.9/library/functions.html#int) のサブクラスなので `issubclass(bool, int)` は `True` です。しかし、 [float](https://docs.python.org/ja/3.9/library/functions.html#float) は [int](https://docs.python.org/ja/3.9/library/functions.html#int) のサブクラスではないので `issubclass(float, int)` は `False` です。"
   ]
  },
  {
   "cell_type": "markdown",
   "metadata": {
    "deletable": false,
    "editable": false,
    "run_control": {
     "frozen": true
    }
   },
   "source": [
    "### <span style=\"color: blue; \">9.5.1. 多重継承</span>\n",
    "<span style=\"color: red; \">Python では、多重継承 (multiple inheritance) の形式もサポートしています</span>。複数の基底クラスをもつクラス定義は次のようになります:  \n",
    "***\n",
    "`class DerivedClassName(Base1, Base2, Base3):`  \n",
    "`    <statement-1>`  \n",
    "`    .`  \n",
    "`    .`  \n",
    "`    .`  \n",
    "`    <statement-N>`\n",
    "***\n",
    "ほとんどのシンプルな多重継承において、親クラスから継承される属性の検索は、深さ優先で、左から右に、そして継承の階層の中で同じクラスが複数出てくる（訳注: ダイアモンド継承と呼ばれます）場合に２度探索をしない、と考えることができます。なので、 <span style=\"color: red; \">DerivedClassName にある属性が存在しない場合、まず Base1 から検索され、そして（再帰的に） Base1 の基底クラスから検索され、それでも見つからなかった場合は Base2 から検索される</span>、といった具合になります。\n",
    "\n",
    "実際には、それよりもう少しだけ複雑です。協調的な [super()](https://docs.python.org/ja/3.9/library/functions.html#super) の呼び出しのためにメソッドの解決順序は動的に変更されます。このアプローチは他の多重継承のある言語で call-next-method として知られており、単一継承しかない言語の super 呼び出しよりも強力です。\n",
    "\n",
    "多重継承の全ての場合に 1 つかそれ以上のダイヤモンド継承 (少なくとも 1 つの祖先クラスに対し最も下のクラスから到達する経路が複数ある状態) があるので、動的順序付けが必要です。例えば、全ての新形式のクラスは [object](https://docs.python.org/ja/3.9/library/functions.html#object) を継承しているので、どの多重継承でも [object](https://docs.python.org/ja/3.9/library/functions.html#object) へ到達するための道は複数存在します。基底クラスが複数回アクセスされないようにするために、動的アルゴリズムで検索順序を直列化し、各クラスで指定されている祖先クラスどうしの左から右への順序は崩さず、各祖先クラスを一度だけ呼び出し、かつ一様になる (つまり祖先クラスの順序に影響を与えずにサブクラス化できる) ようにします。まとめると、これらの特徴のおかげで信頼性と拡張性のある多重継承したクラスを設計することができるのです。さらに詳細を知りたければ、 [https://www.python.org/download/releases/2.3/mro/](https://www.python.org/download/releases/2.3/mro/) を見てください。"
   ]
  },
  {
   "cell_type": "markdown",
   "metadata": {
    "deletable": false,
    "editable": false,
    "run_control": {
     "frozen": true
    }
   },
   "source": [
    "## <span style=\"color: blue; \">9.6. プライベート変数</span>\n",
    "オブジェクトの中からしかアクセス出来ない \"プライベート\" インスタンス変数は、 Python にはありません。しかし、ほとんどの Python コードが従っている慣習があります。アンダースコアで始まる名前 (例えば `_spam`) は、 (関数であれメソッドであれデータメンバであれ) 非 public なAPIとして扱います。これらは、予告なく変更されるかもしれない実装の詳細として扱われるべきです。\n",
    "\n",
    "クラスのプライベートメンバについて適切なユースケース(特にサブクラスで定義された名前との衝突を避ける場合)があるので、名前マングリング (name mangling) と呼ばれる、限定されたサポート機構があります。 `__spam` (先頭に二個以上の下線文字、末尾に一個以下の下線文字) という形式の識別子は、 `_classname__spam` へとテキスト置換されるようになりました。ここで `classname` は、現在のクラス名から先頭の下線文字をはぎとった名前になります。このような難号化 (mangle) は、識別子の文法的な位置にかかわらず行われるので、クラス定義内に現れた識別子全てに対して実行されます。\n",
    "\n",
    "名前マングリングは、サブクラスが内部のメソッド呼び出しを壊さずにメソッドをオーバーライドするのに便利です。例えば:"
   ]
  },
  {
   "cell_type": "code",
   "execution_count": null,
   "metadata": {
    "deletable": false,
    "editable": false
   },
   "outputs": [],
   "source": [
    "class Mapping:\n",
    "    def __init__(self, iterable):\n",
    "        self.items_list = []\n",
    "        self.__update(iterable)\n",
    "\n",
    "    def update(self, iterable):\n",
    "        for item in iterable:\n",
    "            self.items_list.append(item)\n",
    "\n",
    "    __update = update   # private copy of original update() method\n",
    "\n",
    "class MappingSubclass(Mapping):\n",
    "\n",
    "    def update(self, keys, values):\n",
    "        # provides new signature for update()\n",
    "        # but does not break __init__()\n",
    "        for item in zip(keys, values):\n",
    "            self.items_list.append(item)"
   ]
  },
  {
   "cell_type": "markdown",
   "metadata": {
    "deletable": false,
    "editable": false,
    "run_control": {
     "frozen": true
    }
   },
   "source": [
    "上の例は、もし仮に `MappingSubclass` に `__update` 識別子を実装したとしてもきちんと動きます。 その理由は、 `Mapping` クラスではその識別子を `_Mapping__update` に、 `MappingSubclass` クラスでは `_MappingSubclass__update` にそれぞれ置き換えるからです。\n",
    "\n",
    "難号化の規則は主に不慮の事故を防ぐためのものだということに注意してください; 確信犯的な方法で、プライベートとされている変数にアクセスしたり変更することは依然として可能なのです。デバッガのような特殊な状況では、この仕様は便利ですらあります。\n",
    "\n",
    "`exec()` や `eval()` へ渡されたコードでは、呼出し元のクラス名を現在のクラスと見なさないことに注意してください。この仕様は `global` 文の効果と似ており、その効果もまた同様に、バイトコンパイルされたコードに制限されています。同じ制約が `getattr()` と `setattr()` と `delattr()` にも適用されます。また、`__dict__` を直接参照するときにも適用されます。"
   ]
  },
  {
   "cell_type": "markdown",
   "metadata": {
    "deletable": false,
    "editable": false,
    "run_control": {
     "frozen": true
    }
   },
   "source": [
    "## <span style=\"color: blue; \">9.7. 残りのはしばし</span>\n",
    "Pascal の \"レコード (record)\" や、C 言語の \"構造体 (struct)\" のような、名前つきのデータ要素を一まとめにするデータ型があると便利なことがあります。空のクラス定義を使うとうまくできます:"
   ]
  },
  {
   "cell_type": "code",
   "execution_count": null,
   "metadata": {
    "deletable": false,
    "editable": false
   },
   "outputs": [],
   "source": [
    "class Employee:\n",
    "    pass\n",
    "\n",
    "john = Employee()  # Create an empty employee record"
   ]
  },
  {
   "cell_type": "code",
   "execution_count": null,
   "metadata": {
    "deletable": false,
    "editable": false
   },
   "outputs": [],
   "source": [
    "# Fill the fields of the record\n",
    "john.name = 'John Doe'\n",
    "john.dept = 'computer lab'\n",
    "john.salary = 1000"
   ]
  },
  {
   "cell_type": "markdown",
   "metadata": {
    "deletable": false,
    "editable": false,
    "run_control": {
     "frozen": true
    }
   },
   "source": [
    "<span style=\"color: purple; \">［やってみよう!!]  \n",
    "上記動的に追加された変数がクラスに存在していることを確認してください(XXXXを適切なワードに変更してください）\n",
    "</span>"
   ]
  },
  {
   "cell_type": "code",
   "execution_count": null,
   "metadata": {},
   "outputs": [],
   "source": [
    "john.__xxxx__"
   ]
  },
  {
   "cell_type": "code",
   "execution_count": null,
   "metadata": {
    "deletable": false,
    "editable": false
   },
   "outputs": [],
   "source": [
    "# やってみよう判定\n",
    "if _ == {'name': 'John Doe', 'dept': 'computer lab', 'salary': 1000}:\n",
    "    print(\"正解\")\n",
    "else:\n",
    "    print(\"不正解\")"
   ]
  },
  {
   "cell_type": "markdown",
   "metadata": {
    "deletable": false,
    "editable": false,
    "run_control": {
     "frozen": true
    }
   },
   "source": [
    "ある特定の抽象データ型を要求する Python コードの断片に、そのデータ型のメソッドをエミュレーションするクラスを代わりに渡すことができます。例えば、ファイルオブジェクトから何らかのデータを構築する関数がある場合、 read() と readline() を持つクラスを定義して、ファイルではなく文字列バッファからデータを取得するようにしておき、引数として渡すことができます。\n",
    "\n",
    "インスタンスメソッドオブジェクトにも属性があります。 `m.__self__` はメソッド m() の属しているインスタンスオブジェクトで、 `m.__func__` はメソッドに対応する関数オブジェクトです。"
   ]
  },
  {
   "cell_type": "markdown",
   "metadata": {
    "deletable": false,
    "editable": false,
    "run_control": {
     "frozen": true
    }
   },
   "source": [
    "## <span style=\"color: blue; \">9.8. イテレータ (iterator)</span>\n",
    "すでに気づいているでしょうが、 [for](https://docs.python.org/ja/3.9/reference/compound_stmts.html#for) 文を使うとほとんどのコンテナオブジェクトにわたってループを行うことができます:"
   ]
  },
  {
   "cell_type": "code",
   "execution_count": null,
   "metadata": {
    "deletable": false,
    "editable": false
   },
   "outputs": [],
   "source": [
    "for element in [1, 2, 3]:\n",
    "    print(element)"
   ]
  },
  {
   "cell_type": "code",
   "execution_count": null,
   "metadata": {
    "deletable": false,
    "editable": false
   },
   "outputs": [],
   "source": [
    "for element in (1, 2, 3):\n",
    "    print(element)"
   ]
  },
  {
   "cell_type": "code",
   "execution_count": null,
   "metadata": {
    "deletable": false,
    "editable": false
   },
   "outputs": [],
   "source": [
    "for key in {'one':1, 'two':2}:\n",
    "    print(key)"
   ]
  },
  {
   "cell_type": "code",
   "execution_count": null,
   "metadata": {
    "deletable": false,
    "editable": false
   },
   "outputs": [],
   "source": [
    "for char in \"123\":\n",
    "    print(char)"
   ]
  },
  {
   "cell_type": "code",
   "execution_count": null,
   "metadata": {
    "deletable": false,
    "editable": false
   },
   "outputs": [],
   "source": [
    "# for line in open(\"myfile.txt\"):  # テストファイル作成\n",
    "with open('workfile', 'w') as f:\n",
    "    f.write(\"This is the entire file.\\n\")\n",
    "#\n",
    "\n",
    "for line in open(\"workfile\"):\n",
    "    print(line, end='')"
   ]
  },
  {
   "cell_type": "markdown",
   "metadata": {
    "deletable": false,
    "editable": false,
    "run_control": {
     "frozen": true
    }
   },
   "source": [
    "こういう要素へのアクセス方法は明確で簡潔で使い易いものです。イテレータの活用は Python へ広く行き渡り、統一感を持たせています。裏では for 文はコンテナオブジェクトに対して [iter()](https://docs.python.org/ja/3.9/library/functions.html#iter) 関数を呼んでいます。関数は、コンテナの中の要素に1つずつアクセスする [\\_\\_next\\_\\_()](https://docs.python.org/ja/3.9/library/stdtypes.html#iterator.__next__) メソッドが定義されているイテレータオブジェクトを返します。これ以上要素が無い場合は、 [\\_\\_next\\_\\_()](https://docs.python.org/ja/3.9/library/stdtypes.html#iterator.__next__) メソッドは [StopIteration](https://docs.python.org/ja/3.9/library/exceptions.html#StopIteration) 例外を送出し、その通知を受け for ループは終了します。組み込みの [next()](https://docs.python.org/ja/3.9/library/functions.html#next) 関数を使って [\\_\\_next\\_\\_()](https://docs.python.org/ja/3.9/library/stdtypes.html#iterator.__next__) メソッドを直接呼ぶこともできます; この例は関数がどう働くのかを示しています:"
   ]
  },
  {
   "cell_type": "code",
   "execution_count": null,
   "metadata": {
    "deletable": false,
    "editable": false
   },
   "outputs": [],
   "source": [
    "s = 'abc'\n",
    "it = iter(s)\n",
    "it"
   ]
  },
  {
   "cell_type": "code",
   "execution_count": null,
   "metadata": {
    "deletable": false,
    "editable": false
   },
   "outputs": [],
   "source": [
    "next(it)    # a"
   ]
  },
  {
   "cell_type": "code",
   "execution_count": null,
   "metadata": {
    "deletable": false,
    "editable": false
   },
   "outputs": [],
   "source": [
    "next(it)    # b"
   ]
  },
  {
   "cell_type": "code",
   "execution_count": null,
   "metadata": {
    "deletable": false,
    "editable": false
   },
   "outputs": [],
   "source": [
    "next(it)    # c"
   ]
  },
  {
   "cell_type": "code",
   "execution_count": null,
   "metadata": {
    "deletable": false,
    "editable": false
   },
   "outputs": [],
   "source": [
    "next(it)    # StopIteration!!"
   ]
  },
  {
   "cell_type": "markdown",
   "metadata": {
    "deletable": false,
    "editable": false,
    "run_control": {
     "frozen": true
    }
   },
   "source": [
    "イテレータプロトコルの裏にある仕組みを観察していれば、自作のクラスにイテレータとしての振舞いを追加するのは簡単です。 [\\_\\_next\\_\\_()](https://docs.python.org/ja/3.9/library/stdtypes.html#iterator.__next__) メソッドを持つオブジェクトを返す [\\_\\_iter\\_\\_()](https://docs.python.org/ja/3.9/reference/datamodel.html#object.__iter__) メソッドを定義するのです。クラスが [\\_\\_next\\_\\_()](https://docs.python.org/ja/3.9/library/stdtypes.html#iterator.__next__) メソッドを定義している場合、 [\\_\\_iter\\_\\_()](https://docs.python.org/ja/3.9/reference/datamodel.html#object.__iter__) メソッドは単に `self` を返すことも可能です:"
   ]
  },
  {
   "cell_type": "code",
   "execution_count": null,
   "metadata": {
    "deletable": false,
    "editable": false
   },
   "outputs": [],
   "source": [
    "class Reverse:\n",
    "    \"\"\"Iterator for looping over a sequence backwards.\"\"\"\n",
    "    def __init__(self, data):\n",
    "        self.data = data\n",
    "        self.index = len(data)\n",
    "\n",
    "    def __iter__(self):\n",
    "        return self\n",
    "\n",
    "    def __next__(self):\n",
    "        if self.index == 0:\n",
    "            raise StopIteration\n",
    "        self.index = self.index - 1\n",
    "        return self.data[self.index]"
   ]
  },
  {
   "cell_type": "code",
   "execution_count": null,
   "metadata": {
    "deletable": false,
    "editable": false
   },
   "outputs": [],
   "source": [
    "rev = Reverse('spam')\n",
    "iter(rev)"
   ]
  },
  {
   "cell_type": "code",
   "execution_count": null,
   "metadata": {
    "deletable": false,
    "editable": false
   },
   "outputs": [],
   "source": [
    "for char in rev:\n",
    "    print(char)    # m a p s"
   ]
  },
  {
   "cell_type": "markdown",
   "metadata": {
    "deletable": false,
    "editable": false,
    "run_control": {
     "frozen": true
    }
   },
   "source": [
    "## <span style=\"color: blue; \">9.9. ジェネレータ (generator)</span>\n",
    "[Generators](https://docs.python.org/ja/3.9/glossary.html#term-generator)は、イテレータを作成するためのシンプルで強力なツールです。ジェネレータは通常の関数のように書かれていますが、データを返したいときはいつでも [yield](https://docs.python.org/ja/3.9/reference/simple_stmts.html#yield) 文を使用します。[next()](https://docs.python.org/ja/3.9/library/functions.html#next) が呼び出されるたびに、ジェネレータは前の状態から再開します (すべてのデータ値と最後に実行されたステートメントを記憶しています)。この例は、ジェネレータが簡単に作れることを示しています。"
   ]
  },
  {
   "cell_type": "code",
   "execution_count": null,
   "metadata": {
    "deletable": false,
    "editable": false
   },
   "outputs": [],
   "source": [
    "def reverse(data):\n",
    "    for index in range(len(data)-1, -1, -1):\n",
    "        yield data[index]"
   ]
  },
  {
   "cell_type": "code",
   "execution_count": null,
   "metadata": {
    "deletable": false,
    "editable": false
   },
   "outputs": [],
   "source": [
    "for char in reverse('golf'):\n",
    "    print(char)       # f l o g"
   ]
  },
  {
   "cell_type": "markdown",
   "metadata": {
    "deletable": false,
    "editable": false,
    "run_control": {
     "frozen": true
    }
   },
   "source": [
    "ジェネレータでできることは、前の節で解説したクラスを使ったイテレータでも実現できます。ジェネレータの定義がコンパクトになるのは [\\_\\_iter\\_\\_()](https://docs.python.org/ja/3.9/reference/datamodel.html#object.__iter__) メソッドと [\\_\\_next\\_\\_()](https://docs.python.org/ja/3.9/reference/expressions.html#generator.__next__) メソッドが自動で作成されるからです。\n",
    "\n",
    "ジェネレータのもう一つの重要な機能は、呼び出しごとにローカル変数と実行状態が自動的に保存されるということです。これにより、 `self.index` や `self.data` といったインスタンス変数を使ったアプローチよりも簡単に関数を書くことができるようになります。\n",
    "\n",
    "メソッドを自動生成したりプログラムの実行状態を自動保存するほかに、ジェネレータは終了時に自動的に [StopIteration](https://docs.python.org/ja/3.9/library/exceptions.html#StopIteration) を送出します。これらの機能を組み合わせると、通常の関数を書くのと同じ労力で、簡単にイテレータを生成できます。"
   ]
  },
  {
   "cell_type": "markdown",
   "metadata": {
    "deletable": false,
    "editable": false,
    "run_control": {
     "frozen": true
    }
   },
   "source": [
    "## <span style=\"color: blue; \">9.10. ジェネレータ式</span>\n",
    "単純なジェネレータなら式として簡潔にコーディングできます。 その式はリスト内包表記に似た構文を使いますが、角括弧ではなく丸括弧で囲います。 ジェネレータ式は、関数の中でジェネレータをすぐに使いたいような状況のために用意されています。 ジェネレータ式は完全なジェネレータの定義よりコンパクトですが、ちょっと融通の効かないところがあります。 同じ内容を返すリスト内包表記よりはメモリに優しいことが多いという利点があります。"
   ]
  },
  {
   "cell_type": "code",
   "execution_count": null,
   "metadata": {
    "deletable": false,
    "editable": false
   },
   "outputs": [],
   "source": [
    "sum(i*i for i in range(10))                 # sum of squares , = 285"
   ]
  },
  {
   "cell_type": "code",
   "execution_count": null,
   "metadata": {
    "deletable": false,
    "editable": false
   },
   "outputs": [],
   "source": [
    "xvec = [10, 20, 30]\n",
    "yvec = [7, 5, 3]\n",
    "sum(x*y for x,y in zip(xvec, yvec))         # dot product , = 260"
   ]
  },
  {
   "cell_type": "markdown",
   "metadata": {
    "deletable": false,
    "editable": false,
    "run_control": {
     "frozen": true
    }
   },
   "source": [
    "<span style=\"color: gray; \">［補足］下記のセル（文章中の重複しない単語を抽出）を実行するためテストデータを作成します</span>"
   ]
  },
  {
   "cell_type": "code",
   "execution_count": null,
   "metadata": {
    "deletable": false,
    "editable": false
   },
   "outputs": [],
   "source": [
    "# テスト用データ\n",
    "line1 = 'AI 開発推進協会 は'\n",
    "line2 = 'AI の セミナー を 開催しました'\n",
    "line3 = 'セミナー は 好評 でした'  \n",
    "page = (line1, line2, line3)"
   ]
  },
  {
   "cell_type": "code",
   "execution_count": null,
   "metadata": {
    "deletable": false,
    "editable": false
   },
   "outputs": [],
   "source": [
    "unique_words = set(word for line in page  for word in line.split())\n",
    "unique_words"
   ]
  },
  {
   "cell_type": "markdown",
   "metadata": {
    "deletable": false,
    "editable": false,
    "run_control": {
     "frozen": true
    }
   },
   "source": [
    "<span style=\"color: gray; \">［補足］下記のセル（卒業生の総代を抽出）を実行するためテストデータを作成します</span>"
   ]
  },
  {
   "cell_type": "code",
   "execution_count": null,
   "metadata": {
    "deletable": false,
    "editable": false
   },
   "outputs": [],
   "source": [
    "# テスト用データ\n",
    "class Student:\n",
    "    def __init__(self, gpa, name):\n",
    "        self.gpa = gpa\n",
    "        self.name = name\n",
    "\n",
    "s1  = Student(1, 'name_A')\n",
    "s2  = Student(2, 'name_B')\n",
    "s3  = Student(0, 'name_C')\n",
    "graduates = (s1, s2, s3)"
   ]
  },
  {
   "cell_type": "code",
   "execution_count": null,
   "metadata": {
    "deletable": false,
    "editable": false
   },
   "outputs": [],
   "source": [
    "valedictorian = max((student.gpa, student.name) for student in graduates)\n",
    "valedictorian"
   ]
  },
  {
   "cell_type": "code",
   "execution_count": null,
   "metadata": {
    "deletable": false,
    "editable": false
   },
   "outputs": [],
   "source": [
    "data = 'golf'\n",
    "list(data[i] for i in range(len(data)-1, -1, -1))"
   ]
  },
  {
   "cell_type": "markdown",
   "metadata": {
    "deletable": false,
    "editable": false,
    "run_control": {
     "frozen": true
    }
   },
   "source": [
    "# <span style=\"color: blue; \">10. 標準ライブラリミニツアー<a id='anchor10'></span>  \n",
    "## <span style=\"color: blue; \">10.1. OSへのインタフェース</span>\n",
    "<span style=\"color: red; \">[<span style=\"color: red; \">os</span>](https://docs.python.org/ja/3.9/library/os.html#module-os) モジュールは、オペレーティングシステムと対話するための多くの関数を提供しています</span>:"
   ]
  },
  {
   "cell_type": "code",
   "execution_count": null,
   "metadata": {
    "deletable": false,
    "editable": false
   },
   "outputs": [],
   "source": [
    "import os\n",
    "os.getcwd()      # Return the current working directory"
   ]
  },
  {
   "cell_type": "markdown",
   "metadata": {
    "deletable": false,
    "editable": false,
    "run_control": {
     "frozen": true
    }
   },
   "source": [
    "<span style=\"color: gray; \">［補足］下記は環境により異なるので必要に応じてセルを挿入して実行してみたください</span>\n",
    "***\n",
    "`os.chdir('/server/accesslogs')   # Change current working directory`\n",
    "***\n",
    "`os.system('mkdir today')   # Run the command mkdir in the system shell`\n",
    "***"
   ]
  },
  {
   "cell_type": "markdown",
   "metadata": {
    "deletable": false,
    "editable": false,
    "run_control": {
     "frozen": true
    }
   },
   "source": [
    "`from os import *` ではなく、 `import os` 形式を使うようにしてください。そうすることで、動作が大きく異なる組み込み関数 [open()](https://docs.python.org/ja/3.9/library/functions.html#open) が [os.open()](https://docs.python.org/ja/3.9/library/os.html#os.open) で遮蔽されるのを避けられます。\n",
    "\n",
    "組み込み関数 [dir()](https://docs.python.org/ja/3.9/library/functions.html#dir) および [help()](https://docs.python.org/ja/3.9/library/functions.html#help) は、 [os](https://docs.python.org/ja/3.9/library/os.html#module-os) のような大規模なモジュールで作業をするときに、対話的な操作上の助けになります:"
   ]
  },
  {
   "cell_type": "code",
   "execution_count": null,
   "metadata": {
    "deletable": false,
    "editable": false
   },
   "outputs": [],
   "source": [
    "import os\n",
    "dir(os)"
   ]
  },
  {
   "cell_type": "code",
   "execution_count": null,
   "metadata": {
    "deletable": false,
    "editable": false
   },
   "outputs": [],
   "source": [
    "help(os)"
   ]
  },
  {
   "cell_type": "markdown",
   "metadata": {
    "deletable": false,
    "editable": false,
    "run_control": {
     "frozen": true
    }
   },
   "source": [
    "ファイルやディレクトリの日常的な管理作業のために、より簡単に使える高水準のインタフェースが [shutil](https://docs.python.org/ja/3.9/library/shutil.html#module-shutil) モジュールで提供されています:"
   ]
  },
  {
   "cell_type": "code",
   "execution_count": null,
   "metadata": {
    "deletable": false,
    "editable": false
   },
   "outputs": [],
   "source": [
    "import shutil\n",
    "#shutil.copyfile('data.db', 'archive.db')\n",
    "shutil.copyfile('workfile', 'archivefile')"
   ]
  },
  {
   "cell_type": "markdown",
   "metadata": {},
   "source": [
    "<span style=\"color: gray; \">［補足］下記は環境により異なるので必要に応じてセルを挿入して実行してみたください。  \n",
    "下記のコマンドで、/build/executables配下のディレクトリ・ファイルをinstalldirに移します </span>\n",
    "***\n",
    "`shutil.move('/build/executables', 'installdir')`  \n",
    "***"
   ]
  },
  {
   "cell_type": "markdown",
   "metadata": {},
   "source": [
    "## <span style=\"color: blue; \">10.2. ファイルのワイルドカード表記</span>\n",
    "[glob](https://docs.python.org/ja/3.9/library/glob.html#module-glob) モジュールでは、ディレクトリのワイルドカード検索からファイルのリストを生成するための関数を提供しています:"
   ]
  },
  {
   "cell_type": "code",
   "execution_count": null,
   "metadata": {
    "deletable": false,
    "editable": false
   },
   "outputs": [],
   "source": [
    "import glob\n",
    "glob.glob('*.py')     # カレントディレクトリにある.pyファイルを表示"
   ]
  },
  {
   "cell_type": "markdown",
   "metadata": {
    "deletable": false,
    "editable": false,
    "run_control": {
     "frozen": true
    }
   },
   "source": [
    "## <span style=\"color: blue; \">10.3. コマンドライン引数</span>\n",
    "一般的なユーティリティスクリプトでは、よくコマンドライン引数を扱う必要があります。コマンドライン引数は [sys](https://docs.python.org/ja/3.9/library/sys.html#module-sys) モジュールの argv 属性にリストとして保存されています。例えば、以下の出力は、 `python demo.py one two three` とコマンドライン上で起動した時に得られるものです:  \n",
    "<span style=\"color: gray; \">［補足］本学習環境(DeepAelurus）での出力は、Jupyterを起動した際のipykernel_launcher.py及びその引数が表示されます。</span>"
   ]
  },
  {
   "cell_type": "code",
   "execution_count": null,
   "metadata": {
    "deletable": false,
    "editable": false
   },
   "outputs": [],
   "source": [
    "import sys\n",
    "print(sys.argv)"
   ]
  },
  {
   "cell_type": "markdown",
   "metadata": {
    "deletable": false,
    "editable": false,
    "run_control": {
     "frozen": true
    }
   },
   "source": [
    "[argparse](https://docs.python.org/ja/3.9/library/argparse.html#module-argparse) モジュールは、コマンドライン引数を処理するための更に洗練された仕組みを提供します。次のスクリプトは1つ以上のファイル名を抽出し、オプションで行数を表示します。  \n",
    "<span style=\"color: gray; \">［補足］本学習環境(DeepAelurus）では、ipythonを起動しているため以下のコマンドはエラーになりますのでテキストで表示しています。</span>\n",
    "***\n",
    "`import argparse`  \n",
    "`parser = argparse.ArgumentParser(prog = 'top',`  \n",
    "`    description = 'Show top lines from each file')`  \n",
    "`parser.add_argument('filenames', nargs='+')`  \n",
    "`parser.add_argument('-l', '--lines', type=int, default=10)`  \n",
    "`args = parser.parse_args()`  \n",
    "`print(args)`  \n",
    "***"
   ]
  },
  {
   "cell_type": "markdown",
   "metadata": {
    "deletable": false,
    "editable": false,
    "run_control": {
     "frozen": true
    }
   },
   "source": [
    "コマンドラインで `python top.py --lines=5 alpha.txt beta.txt` を実行すると、上のスクリプトは `args.lines` を `5` 、 `args.filenames` を `['alpha.txt', 'beta.txt']` に設定します。"
   ]
  },
  {
   "cell_type": "markdown",
   "metadata": {
    "deletable": false,
    "editable": false,
    "run_control": {
     "frozen": true
    }
   },
   "source": [
    "## <span style=\"color: blue; \">10.4. エラー出力のリダイレクトとプログラムの終了</span>\n",
    "[sys](https://docs.python.org/ja/3.9/library/sys.html#module-sys) モジュールには、 _stdin_, _stdout_, _stderr_ を表す属性も存在します。 stderr は、警告やエラーメッセージを出力して、 _stdout_ がリダイレクトされた場合でも読めるようにするために便利です:"
   ]
  },
  {
   "cell_type": "code",
   "execution_count": null,
   "metadata": {
    "deletable": false,
    "editable": false
   },
   "outputs": [],
   "source": [
    "sys.stderr.write('Warning, log file not found starting a new one\\n')"
   ]
  },
  {
   "cell_type": "markdown",
   "metadata": {
    "deletable": false,
    "editable": false,
    "run_control": {
     "frozen": true
    }
   },
   "source": [
    "`sys.exit()` は、スクリプトを終了させるもっとも直接的な方法です。"
   ]
  },
  {
   "cell_type": "markdown",
   "metadata": {
    "deletable": false,
    "editable": false,
    "run_control": {
     "frozen": true
    }
   },
   "source": [
    "## <span style=\"color: blue; \">10.5. 文字列のパターンマッチング</span>\n",
    "[re](https://docs.python.org/ja/3.9/library/re.html#module-re) モジュールでは、より高度な文字列処理のための正規表現を提供しています。正規表現は複雑な一致検索や操作に対して簡潔で最適化された解決策を提供します:"
   ]
  },
  {
   "cell_type": "code",
   "execution_count": null,
   "metadata": {
    "deletable": false,
    "editable": false
   },
   "outputs": [],
   "source": [
    "import re\n",
    "re.findall(r'\\bf[a-z]*', 'which foot or hand fell fastest')  # ['foot', 'fell', 'fastest']"
   ]
  },
  {
   "cell_type": "code",
   "execution_count": null,
   "metadata": {
    "deletable": false,
    "editable": false
   },
   "outputs": [],
   "source": [
    "re.sub(r'(\\b[a-z]+) \\1', r'\\1', 'cat in the the hat')  # 'cat in the hat'"
   ]
  },
  {
   "cell_type": "markdown",
   "metadata": {
    "deletable": false,
    "editable": false,
    "run_control": {
     "frozen": true
    }
   },
   "source": [
    "最小限の機能だけが必要なら、読みやすくデバッグしやすい文字列メソッドの方がお勧めです:"
   ]
  },
  {
   "cell_type": "code",
   "execution_count": null,
   "metadata": {
    "deletable": false,
    "editable": false
   },
   "outputs": [],
   "source": [
    "'tea for too'.replace('too', 'two') # 'tea for two'"
   ]
  },
  {
   "cell_type": "markdown",
   "metadata": {
    "deletable": false,
    "editable": false,
    "run_control": {
     "frozen": true
    }
   },
   "source": [
    "## <span style=\"color: blue; \">10.6. 数学</span>\n",
    "[math](https://docs.python.org/ja/3.9/library/math.html#module-math) モジュールは、浮動小数点演算のための C 言語ライブラリ関数にアクセスする手段を提供しています:"
   ]
  },
  {
   "cell_type": "code",
   "execution_count": null,
   "metadata": {
    "deletable": false,
    "editable": false
   },
   "outputs": [],
   "source": [
    "import math\n",
    "math.cos(math.pi / 4)       # 0.7071067811865476"
   ]
  },
  {
   "cell_type": "code",
   "execution_count": null,
   "metadata": {
    "deletable": false,
    "editable": false
   },
   "outputs": [],
   "source": [
    "math.log(1024, 2)           # 10.0"
   ]
  },
  {
   "cell_type": "markdown",
   "metadata": {
    "deletable": false,
    "editable": false,
    "run_control": {
     "frozen": true
    }
   },
   "source": [
    "[random](https://docs.python.org/ja/3.9/library/random.html#module-random) モジュールは、乱数に基づいた要素選択のためのツールを提供しています:"
   ]
  },
  {
   "cell_type": "code",
   "execution_count": null,
   "metadata": {
    "deletable": false,
    "editable": false
   },
   "outputs": [],
   "source": [
    "import random\n",
    "random.choice(['apple', 'pear', 'banana'])"
   ]
  },
  {
   "cell_type": "code",
   "execution_count": null,
   "metadata": {
    "deletable": false,
    "editable": false
   },
   "outputs": [],
   "source": [
    "random.sample(range(100), 10)   # sampling without replacement"
   ]
  },
  {
   "cell_type": "code",
   "execution_count": null,
   "metadata": {
    "deletable": false,
    "editable": false
   },
   "outputs": [],
   "source": [
    "random.random()    # random float"
   ]
  },
  {
   "cell_type": "code",
   "execution_count": null,
   "metadata": {
    "deletable": false,
    "editable": false
   },
   "outputs": [],
   "source": [
    "random.randrange(6)    # random integer chosen from range(6)"
   ]
  },
  {
   "cell_type": "markdown",
   "metadata": {},
   "source": [
    "[statistics](https://docs.python.org/ja/3.9/library/statistics.html#module-statistics) モジュールは数値データの基礎的な統計的特性（平均、中央値、分散等）を計算します:"
   ]
  },
  {
   "cell_type": "code",
   "execution_count": null,
   "metadata": {
    "deletable": false,
    "editable": false
   },
   "outputs": [],
   "source": [
    "import statistics\n",
    "data = [2.75, 1.75, 1.25, 0.25, 0.5, 1.25, 3.5]"
   ]
  },
  {
   "cell_type": "code",
   "execution_count": null,
   "metadata": {
    "deletable": false,
    "editable": false,
    "scrolled": true
   },
   "outputs": [],
   "source": [
    "statistics.mean(data)     # 1.6071428571428572"
   ]
  },
  {
   "cell_type": "code",
   "execution_count": null,
   "metadata": {
    "deletable": false,
    "editable": false
   },
   "outputs": [],
   "source": [
    "statistics.median(data)   # 1.25"
   ]
  },
  {
   "cell_type": "code",
   "execution_count": null,
   "metadata": {
    "deletable": false,
    "editable": false
   },
   "outputs": [],
   "source": [
    "statistics.variance(data)  # 1.3720238095238095"
   ]
  },
  {
   "cell_type": "markdown",
   "metadata": {
    "deletable": false,
    "editable": false,
    "run_control": {
     "frozen": true
    }
   },
   "source": [
    "SciPy プロジェクト <[https://scipy.org](https://scipy.org)> は数値処理のための多くのモジュールを提供しています。"
   ]
  },
  {
   "cell_type": "markdown",
   "metadata": {
    "deletable": false,
    "editable": false,
    "run_control": {
     "frozen": true
    }
   },
   "source": [
    "## <span style=\"color: blue; \">10.7. インターネットへのアクセス</span>\n",
    "<span style=\"color: red; \">インターネットにアクセスしたりインターネットプロトコルを処理したりするための多くのモジュールがあります。最も単純な2つのモジュールは、 URL からデータを取得するための [urllib.request](https://docs.python.org/ja/3.9/library/urllib.request.html#module-urllib.request) と、メールを送るための [smtplib](https://docs.python.org/ja/3.9/library/smtplib.html#module-smtplib) です</span>:"
   ]
  },
  {
   "cell_type": "code",
   "execution_count": null,
   "metadata": {
    "deletable": false,
    "editable": false
   },
   "outputs": [],
   "source": [
    "from urllib.request import urlopen\n",
    "#with urlopen('http://tycho.usno.navy.mil/cgi-bin/timer.pl') as response:\n",
    "with urlopen('https://docs.python.org/ja/3.9/tutorial/stdlib.html') as response:\n",
    "    for line in response:\n",
    "        line = line.decode('utf-8')  # Decoding the binary data to text.\n",
    "        if 'EST' in line or 'EDT' in line:  # look for Eastern Time\n",
    "            print(line)"
   ]
  },
  {
   "cell_type": "markdown",
   "metadata": {
    "deletable": false,
    "editable": false,
    "run_control": {
     "frozen": true
    }
   },
   "source": [
    "<span style=\"color: gray; \">［補足］メール送信は、本学習環境(DeepAelurus）ではメールサーバがないためテキストの表示のみです。</span>\n",
    "***\n",
    "`import smtplib`  \n",
    "`server = smtplib.SMTP('localhost')`   \n",
    "`server.sendmail('soothsayer@example.org', 'jcaesar@example.org',`  \n",
    "`\"\"\"To: jcaesar@example.org`  \n",
    "`From: soothsayer@example.org`  \n",
    "  \n",
    "`Beware the Ides of March.`  \n",
    "`\"\"\")`  \n",
    "`server.quit()`  \n",
    "***\n",
    "  \n",
    "(この例は localhost でメールサーバーが動いている必要があることに注意してください。)"
   ]
  },
  {
   "cell_type": "markdown",
   "metadata": {
    "deletable": false,
    "editable": false,
    "run_control": {
     "frozen": true
    }
   },
   "source": [
    "## <span style=\"color: blue; \">10.8. 日付と時刻</spann>\n",
    "[datetime](https://docs.python.org/ja/3.9/library/datetime.html#module-datetime) モジュールは、日付や時刻を操作するためのクラスを、単純な方法と複雑な方法の両方で提供しています。日付や時刻に対する算術がサポートされている一方、実装では出力のフォーマットや操作のための効率的なデータメンバ抽出に重点を置いています。このモジュールでは、タイムゾーンに対応したオブジェクトもサポートしています。"
   ]
  },
  {
   "cell_type": "code",
   "execution_count": null,
   "metadata": {
    "deletable": false,
    "editable": false
   },
   "outputs": [],
   "source": [
    "# dates are easily constructed and formatted\n",
    "from datetime import date\n",
    "now = date.today()\n",
    "now"
   ]
  },
  {
   "cell_type": "code",
   "execution_count": null,
   "metadata": {
    "deletable": false,
    "editable": false
   },
   "outputs": [],
   "source": [
    "now.strftime(\"%m-%d-%y. %d %b %Y is a %A on the %d day of %B.\")"
   ]
  },
  {
   "cell_type": "code",
   "execution_count": null,
   "metadata": {
    "deletable": false,
    "editable": false
   },
   "outputs": [],
   "source": [
    "# dates support calendar arithmetic\n",
    "birthday = date(1964, 7, 31)\n",
    "age = now - birthday\n",
    "age.days"
   ]
  },
  {
   "cell_type": "markdown",
   "metadata": {
    "deletable": false,
    "editable": false,
    "run_control": {
     "frozen": true
    }
   },
   "source": [
    "## <span style=\"color: blue; \">10.9. データ圧縮</span>\n",
    "一般的なデータアーカイブと圧縮形式は、以下のようなモジュールによって直接的にサポートされます: [zlib](https://docs.python.org/ja/3.9/library/zlib.html#module-zlib), [gzip](https://docs.python.org/ja/3.9/library/gzip.html#module-gzip), [bz2](https://docs.python.org/ja/3.9/library/bz2.html#module-bz2), [lzma](https://docs.python.org/ja/3.9/library/lzma.html#module-lzma), [zipfile](https://docs.python.org/ja/3.9/library/zipfile.html#module-zipfile), [tarfile](https://docs.python.org/ja/3.9/library/tarfile.html#module-tarfile)。"
   ]
  },
  {
   "cell_type": "code",
   "execution_count": null,
   "metadata": {
    "deletable": false,
    "editable": false
   },
   "outputs": [],
   "source": [
    "import zlib\n",
    "s = b'witch which has which witches wrist watch'\n",
    "len(s)        # = 41"
   ]
  },
  {
   "cell_type": "code",
   "execution_count": null,
   "metadata": {
    "deletable": false,
    "editable": false
   },
   "outputs": [],
   "source": [
    "t = zlib.compress(s)  # 圧縮\n",
    "len(t)"
   ]
  },
  {
   "cell_type": "code",
   "execution_count": null,
   "metadata": {
    "deletable": false,
    "editable": false
   },
   "outputs": [],
   "source": [
    "zlib.decompress(t)    # 解凍"
   ]
  },
  {
   "cell_type": "code",
   "execution_count": null,
   "metadata": {
    "deletable": false,
    "editable": false
   },
   "outputs": [],
   "source": [
    "zlib.crc32(s)"
   ]
  },
  {
   "cell_type": "markdown",
   "metadata": {
    "deletable": false,
    "editable": false,
    "run_control": {
     "frozen": true
    }
   },
   "source": [
    "## <span style=\"color: blue; \">10.10. パフォーマンスの計測</span>\n",
    "Python ユーザの中には、同じ問題を異なったアプローチで解いた際の相対的なパフォーマンスについて知りたいという深い興味を持っている人がいます。Python は、そういった疑問に即座に答える計測ツールを提供しています。\n",
    "\n",
    "例えば、引数の入れ替え操作に対して、伝統的なアプローチの代わりにタプルのパックやアンパックを使ってみたいと思うかもしれません。 [timeit](https://docs.python.org/ja/3.9/library/timeit.html#module-timeit) モジュールを使えば、パフォーマンスがほんの少し良いことがすぐに分かります:"
   ]
  },
  {
   "cell_type": "code",
   "execution_count": null,
   "metadata": {
    "deletable": false,
    "editable": false
   },
   "outputs": [],
   "source": [
    "from timeit import Timer\n",
    "Timer('t=a; a=b; b=t', 'a=1; b=2').timeit()"
   ]
  },
  {
   "cell_type": "code",
   "execution_count": null,
   "metadata": {
    "deletable": false,
    "editable": false
   },
   "outputs": [],
   "source": [
    "Timer('a,b = b,a', 'a=1; b=2').timeit()"
   ]
  },
  {
   "cell_type": "markdown",
   "metadata": {
    "deletable": false,
    "editable": false,
    "run_control": {
     "frozen": true
    }
   },
   "source": [
    "[timeit](https://docs.python.org/ja/3.9/library/timeit.html#module-timeit) では小さい粒度を提供しているのに対し、 [profile](https://docs.python.org/ja/3.9/library/profile.html#module-profile) や [pstats](https://docs.python.org/ja/3.9/library/profile.html#module-pstats) モジュールではより大きなコードブロックにおいて律速となる部分を判定するためのツールを提供しています。"
   ]
  },
  {
   "cell_type": "markdown",
   "metadata": {
    "deletable": false,
    "editable": false,
    "run_control": {
     "frozen": true
    }
   },
   "source": [
    "## <span style=\"color: blue; \">10.11. 品質管理</span>\n",
    "高い品質のソフトウェアを開発するための一つのアプローチは、各関数に対して開発と同時にテストを書き、開発の過程で頻繁にテストを走らせるというものです。\n",
    "\n",
    "[doctest](https://docs.python.org/ja/3.9/library/doctest.html#module-doctest) モジュールでは、モジュールを検索してプログラムの docstring に埋め込まれたテストの評価を行うためのツールを提供しています。テストの作り方は単純で、典型的な呼び出し例とその結果を docstring にカット&ペーストするだけです。この作業は、ユーザに使用例を与えるという意味でドキュメントの情報を増やすと同時に、ドキュメントに書かれているコードが正しい事を確認できるようになります:"
   ]
  },
  {
   "cell_type": "code",
   "execution_count": null,
   "metadata": {
    "deletable": false,
    "editable": false
   },
   "outputs": [],
   "source": [
    "def average(values):\n",
    "    \"\"\"Computes the arithmetic mean of a list of numbers.\n",
    "\n",
    "    >>> print(average([20, 30, 70]))\n",
    "    40.0\n",
    "    \"\"\"\n",
    "    return sum(values) / len(values)\n",
    "\n",
    "import doctest\n",
    "doctest.testmod()   # automatically validate the embedded tests"
   ]
  },
  {
   "cell_type": "markdown",
   "metadata": {
    "deletable": false,
    "editable": false,
    "run_control": {
     "frozen": true
    }
   },
   "source": [
    "[unittest](https://docs.python.org/ja/3.9/library/unittest.html#module-unittest) モジュールは [doctest](https://docs.python.org/ja/3.9/library/doctest.html#module-doctest) モジュールほど気楽に使えるものではありませんが、より網羅的なテストセットを別のファイルで管理することができます:  \n",
    "  \n",
    "<span style=\"color: gray; \">［補足］本学習環境(DeepAelurus）では、Jupyterから起動できるようにunittest.main()の引数を変更しています</span>"
   ]
  },
  {
   "cell_type": "code",
   "execution_count": null,
   "metadata": {
    "deletable": false,
    "editable": false
   },
   "outputs": [],
   "source": [
    "import unittest\n",
    "\n",
    "class TestStatisticalFunctions(unittest.TestCase):\n",
    "\n",
    "    def test_average(self):\n",
    "        self.assertEqual(average([20, 30, 70]), 40.0)\n",
    "        self.assertEqual(round(average([1, 5, 7]), 1), 4.3)\n",
    "        with self.assertRaises(ZeroDivisionError):\n",
    "            average([])\n",
    "        with self.assertRaises(TypeError):\n",
    "            average(20, 30, 70)\n",
    "\n",
    "#unittest.main()  # Calling from the command line invokes all tests\n",
    "unittest.main(argv=['first-arg-is-ignored'], exit=False) "
   ]
  },
  {
   "cell_type": "markdown",
   "metadata": {
    "deletable": false,
    "editable": false,
    "run_control": {
     "frozen": true
    }
   },
   "source": [
    "## <span style=\"color: blue; \">10.12. バッテリー同梱</span>\n",
    "Python には \"バッテリー同梱 (batteries included)\" 哲学があります。この哲学は、洗練され、安定した機能を持つ Python の膨大なパッケージ群に如実に表れています。例えば:\n",
    "\n",
    "[xmlrpc.client](https://docs.python.org/ja/3.9/library/xmlrpc.client.html#module-xmlrpc.client) および [xmlrpc.server](https://docs.python.org/ja/3.9/library/xmlrpc.server.html#module-xmlrpc.server) モジュールは、遠隔手続き呼び出し (remote procedure call) を全く大したことのない作業に変えてしまいます。モジュール名とは違い、XML を扱うための直接的な知識は必要ありません。\n",
    "[email](https://docs.python.org/ja/3.9/library/email.html#module-email) パッケージは、MIME やその他の **[RFC 2822](https://tools.ietf.org/html/rfc2822.html)** に基づくメッセージ文書を含む電子メールメッセージを管理するためのライブラリです。実際にメッセージを送信したり受信したりする [smtplib](https://docs.python.org/ja/3.9/library/smtplib.html#module-smtplib) や [poplib](https://docs.python.org/ja/3.9/library/poplib.html#module-poplib) と違って、email パッケージには (添付文書を含む) 複雑なメッセージ構造の構築やデコードを行ったり、インターネット標準のエンコードやヘッダプロトコルの実装を行ったりするための完全なツールセットを備えています。\n",
    "[json](https://docs.python.org/ja/3.9/library/json.html#module-json) パッケージはこの一般的なデータ交換形式のパースをロバストにサポートしています。[csv](https://docs.python.org/ja/3.9/library/csv.html#module-csv) モジュールはデータベースや表計算で一般的にサポートされている CSV ファイルを直接読み書きするのをサポートしています。[xml.etree.ElementTree](https://docs.python.org/ja/3.9/library/xml.etree.elementtree.html#module-xml.etree.ElementTree)、[xml.dom](https://docs.python.org/ja/3.9/library/xml.dom.html#module-xml.dom) ならびに [xml.sax](https://docs.python.org/ja/3.9/library/xml.sax.html#module-xml.sax) パッケージは XML の処理をサポートしています。総合すると、これらのモジュールによって Python アプリケーションと他のツールの間でとても簡単にデータを受け渡すことが出来ます。\n",
    "[sqlite3](https://docs.python.org/ja/3.9/library/sqlite3.html#module-sqlite3) モジュールは SQLite データベースライブラリのラッパです。若干非標準の SQL シンタックスを用いて更新や接続出来る永続的なデータベースを提供します。\n",
    "国際化に関する機能は、 [gettext](https://docs.python.org/ja/3.9/library/gettext.html#module-gettext), [locale](https://docs.python.org/ja/3.9/library/locale.html#module-locale), [codecs](https://docs.python.org/ja/3.9/library/codecs.html#module-codecs) パッケージといったモジュール群でサポートされています。"
   ]
  },
  {
   "cell_type": "markdown",
   "metadata": {
    "deletable": false,
    "editable": false,
    "run_control": {
     "frozen": true
    }
   },
   "source": [
    "# <span style=\"color: blue; \">11. 標準ライブラリミニツアー --- その 2<a id='anchor11'></span>\n",
    "ツアーの第2部では、プロフェッショナルプログラミングを支えるもっと高度なモジュールをカバーします。ここで挙げるモジュールは、小さなスクリプトの開発ではほとんど使いません。"
   ]
  },
  {
   "cell_type": "markdown",
   "metadata": {
    "deletable": false,
    "editable": false,
    "run_control": {
     "frozen": true
    }
   },
   "source": [
    "## <span style=\"color: blue; \">11.1. 出力のフォーマット</span>\n",
    "[reprlib](https://docs.python.org/ja/3.9/library/reprlib.html#module-reprlib) モジュールは、大きなコンテナや、深くネストしたコンテナを省略して表示するバージョンの [repr()](https://docs.python.org/ja/3.9/library/functions.html#repr) を提供しています:"
   ]
  },
  {
   "cell_type": "code",
   "execution_count": null,
   "metadata": {
    "deletable": false,
    "editable": false
   },
   "outputs": [],
   "source": [
    "import reprlib\n",
    "reprlib.repr(set('supercalifragilisticexpialidocious'))"
   ]
  },
  {
   "cell_type": "markdown",
   "metadata": {
    "deletable": false,
    "editable": false,
    "run_control": {
     "frozen": true
    }
   },
   "source": [
    "[pprint](https://docs.python.org/ja/3.9/library/pprint.html#module-pprint) モジュールは、組み込み型やユーザ定義型をわかりやすく表示するための洗練された制御手段を提供しています。表示結果が複数行にわたる場合は、 \"pretty printer\" と呼ばれるものが改行やインデントを追加して、データ構造がより明確になるように印字します:"
   ]
  },
  {
   "cell_type": "code",
   "execution_count": null,
   "metadata": {
    "deletable": false,
    "editable": false
   },
   "outputs": [],
   "source": [
    "import pprint\n",
    "t = [[[['black', 'cyan'], 'white', ['green', 'red']], [['magenta',\n",
    "                                                        'yellow'], 'blue']]]\n",
    "pprint.pprint(t, width=30)"
   ]
  },
  {
   "cell_type": "markdown",
   "metadata": {
    "deletable": false,
    "editable": false,
    "run_control": {
     "frozen": true
    }
   },
   "source": [
    "[textwrap](https://docs.python.org/ja/3.9/library/textwrap.html#module-textwrap) モジュールは、段落で構成された文章を、指定したスクリーン幅にぴったり収まるように調整します:"
   ]
  },
  {
   "cell_type": "code",
   "execution_count": null,
   "metadata": {
    "deletable": false,
    "editable": false
   },
   "outputs": [],
   "source": [
    "import textwrap\n",
    "doc = \"\"\"The wrap() method is just like fill() except that it returns\n",
    "a list of strings instead of one big string with newlines to separate\n",
    "the wrapped lines.\"\"\"\n",
    "\n",
    "print(textwrap.fill(doc, width=40))"
   ]
  },
  {
   "cell_type": "markdown",
   "metadata": {
    "deletable": false,
    "editable": false,
    "run_control": {
     "frozen": true
    }
   },
   "source": [
    "[locale](https://docs.python.org/ja/3.9/library/locale.html#module-locale) モジュールは、文化により異なるデータ表現形式のデータベースにアクセスします。 [locale](https://docs.python.org/ja/3.9/library/locale.html#module-locale) の [format()](https://docs.python.org/ja/3.9/library/functions.html#format) 関数の grouping 属性を使えば、数値を適切な桁区切り文字によりグループ化された形式に変換できます:"
   ]
  },
  {
   "cell_type": "code",
   "execution_count": null,
   "metadata": {
    "deletable": false,
    "editable": false
   },
   "outputs": [],
   "source": [
    "import locale\n",
    "#locale.setlocale(locale.LC_ALL, 'English_United States.1252')\n",
    "locale.setlocale(locale.LC_ALL, ('ja_JP', 'UTF-8'))"
   ]
  },
  {
   "cell_type": "code",
   "execution_count": null,
   "metadata": {
    "deletable": false,
    "editable": false
   },
   "outputs": [],
   "source": [
    "conv = locale.localeconv()          # get a mapping of conventions\n",
    "x = 1234567.8\n",
    "locale.format(\"%d\", x, grouping=True)"
   ]
  },
  {
   "cell_type": "code",
   "execution_count": null,
   "metadata": {
    "deletable": false,
    "editable": false
   },
   "outputs": [],
   "source": [
    "locale.format_string(\"%s%.*f\", (conv['currency_symbol'],\n",
    "                                 conv['frac_digits'], x), grouping=True)"
   ]
  },
  {
   "cell_type": "markdown",
   "metadata": {
    "deletable": false,
    "editable": false,
    "run_control": {
     "frozen": true
    }
   },
   "source": [
    "## <span style=\"color: blue; \">11.2. 文字列テンプレート</span>\n",
    "[string](https://docs.python.org/ja/3.9/library/string.html#module-string) モジュールには、柔軟で、エンドユーザが簡単に編集できる簡単な構文を備えた [Template](https://docs.python.org/ja/3.9/library/string.html#string.Template) クラスが入っています。このクラスを使うと、ユーザがアプリケーションを修正することなしにアプリケーションの出力をカスタマイズできるようになります。\n",
    "\n",
    "テンプレートでは、`$` と有効な Python 識別子名 (英数字とアンダースコア) からなるプレースホルダ名を使います。プレースホルダの周りを \\{\\} で囲えば、プレースホルダの後ろにスペースを挟まず、英数文字を続けることができます。`$$` のようにすると、`$` 自体をエスケープできます:"
   ]
  },
  {
   "cell_type": "code",
   "execution_count": null,
   "metadata": {
    "deletable": false,
    "editable": false
   },
   "outputs": [],
   "source": [
    "from string import Template\n",
    "t = Template('${village}folk send $$10 to $cause.')\n",
    "t.substitute(village='Nottingham', cause='the ditch fund')"
   ]
  },
  {
   "cell_type": "markdown",
   "metadata": {
    "deletable": false,
    "editable": false,
    "run_control": {
     "frozen": true
    }
   },
   "source": [
    "[substitute()](https://docs.python.org/ja/3.9/library/string.html#string.Template.substitute) メソッドは、プレースホルダに相当する値が辞書やキーワード引数にない場合に [KeyError](https://docs.python.org/ja/3.9/library/exceptions.html#KeyError) を送出します。メールマージ機能のようなアプリケーションの場合、ユーザが入力するデータは不完全なことがあるので、欠落したデータがあるとプレースホルダをそのままにして出力する [safe_substitute()](https://docs.python.org/ja/3.9/library/string.html#string.Template.safe_substitute) メソッドを使う方が適切かもしれません:"
   ]
  },
  {
   "cell_type": "code",
   "execution_count": null,
   "metadata": {
    "deletable": false,
    "editable": false
   },
   "outputs": [],
   "source": [
    "t = Template('Return the $item to $owner.')\n",
    "d = dict(item='unladen swallow')\n",
    "t.substitute(d)        # KeyError!!"
   ]
  },
  {
   "cell_type": "code",
   "execution_count": null,
   "metadata": {
    "deletable": false,
    "editable": false
   },
   "outputs": [],
   "source": [
    "t.safe_substitute(d)      # 'Return the unladen swallow to $owner.'"
   ]
  },
  {
   "cell_type": "markdown",
   "metadata": {
    "deletable": false,
    "editable": false,
    "run_control": {
     "frozen": true
    }
   },
   "source": [
    "区切り文字はデフォルトは `$` ですが、[Template]( https://docs.python.org/ja/3.9/library/string.html#string.Template)のサブクラスを派生すると変更することができます。例えば、画像ブラウザ用に一括で名前を変更するユーティリティを作っていたとして、現在の日付や画像のシーケンス番号、ファイル形式といったプレースホルダにパーセント記号を使うことにしたら、次のようになります:  \n",
    "［補足］下記のセル実行後に入力を要求されますので、「Ashley_%n%f」と入力してください　。</span>"
   ]
  },
  {
   "cell_type": "code",
   "execution_count": null,
   "metadata": {
    "deletable": false,
    "editable": false
   },
   "outputs": [],
   "source": [
    "import time, os.path\n",
    "photofiles = ['img_1074.jpg', 'img_1076.jpg', 'img_1077.jpg']\n",
    "class BatchRename(Template):\n",
    "    delimiter = '%'\n",
    "fmt = input('Enter rename style (%d-date %n-seqnum %f-format):  ')"
   ]
  },
  {
   "cell_type": "code",
   "execution_count": null,
   "metadata": {
    "deletable": false,
    "editable": false
   },
   "outputs": [],
   "source": [
    "t = BatchRename(fmt)\n",
    "date = time.strftime('%d%b%y')\n",
    "for i, filename in enumerate(photofiles):\n",
    "    base, ext = os.path.splitext(filename)\n",
    "    newname = t.substitute(d=date, n=i, f=ext)   #Ashley_%n%fと入力した場合、dateは使いません\n",
    "    print('{0} --> {1}'.format(filename, newname))"
   ]
  },
  {
   "cell_type": "markdown",
   "metadata": {
    "deletable": false,
    "editable": false,
    "run_control": {
     "frozen": true
    }
   },
   "source": [
    "テンプレートのもう一つの用途は、複数ある出力フォーマットからのプログラムロジックの分離です。これにより、XMLファイル用、プレーンテキストのレポート用、HTMLのwebレポート用のテンプレートに、同じプログラムロジックから値を埋め込むことができます。"
   ]
  },
  {
   "cell_type": "markdown",
   "metadata": {
    "deletable": false,
    "editable": false,
    "run_control": {
     "frozen": true
    }
   },
   "source": [
    "## <span style=\"color: blue; \">11.3. バイナリデータレコードの操作</span>\n",
    "[struct](https://docs.python.org/ja/3.9/library/struct.html#module-struct) モジュールでは、様々な長さのバイナリレコード形式を操作する [pack()](https://docs.python.org/ja/3.9/library/struct.html#struct.pack) や [unpack()](https://docs.python.org/ja/3.9/library/struct.html#struct.unpack) といった関数を提供しています。 以下の例では、 [zipfile](https://docs.python.org/ja/3.9/library/zipfile.html#module-zipfile) モジュールを使わずに、ZIP ファイルのヘッダ情報を巡回する方法を示しています。`\"H\"` と `\"I\"` というパック符号は、それぞれ2バイトと4バイトの符号無し 整数を表しています。 `\"<\"` は、そのパック符号が standard サイズであり、バイトオーダーがリトルエンディアンであることを示しています:  \n",
    "  \n",
    "<span style=\"color: gray; \">［補足]下記のセルでテストデータ（zip)を最初に作ります</span>"
   ]
  },
  {
   "cell_type": "code",
   "execution_count": null,
   "metadata": {
    "deletable": false,
    "editable": false
   },
   "outputs": [],
   "source": [
    "# テストデータ作成\n",
    "import struct\n",
    "import zipfile\n",
    "\n",
    "with open('workfile2.txt', 'wb') as f:\n",
    "    wdata = struct.pack('<IIIHH',1, 2, 3, 4, 5)\n",
    "    f.write(wdata)\n",
    "   \n",
    "with zipfile.ZipFile('workfile2.zip', 'w', compression=zipfile.ZIP_DEFLATED) as new_zip:\n",
    "    new_zip.write('workfile2.txt')\n",
    "   "
   ]
  },
  {
   "cell_type": "code",
   "execution_count": null,
   "metadata": {
    "deletable": false,
    "editable": false
   },
   "outputs": [],
   "source": [
    "import struct\n",
    "\n",
    "with open('workfile2.zip', 'rb') as f:\n",
    "    data = f.read()\n",
    "\n",
    "start = 0\n",
    "#for i in range(3):                      # show the first 3 file headers\n",
    "for i in range(1):                       # 1レコードのみテストデータを作成\n",
    "    start += 14\n",
    "    fields = struct.unpack('<IIIHH', data[start:start+16])\n",
    "    crc32, comp_size, uncomp_size, filenamesize, extra_size = fields\n",
    "\n",
    "    start += 16\n",
    "    filename = data[start:start+filenamesize]\n",
    "    start += filenamesize\n",
    "    extra = data[start:start+extra_size]\n",
    "    print(filename, hex(crc32), comp_size, uncomp_size)\n",
    "\n",
    "    start += extra_size + comp_size     # skip to the next header"
   ]
  },
  {
   "cell_type": "markdown",
   "metadata": {
    "deletable": false,
    "editable": false,
    "run_control": {
     "frozen": true
    }
   },
   "source": [
    "## <span style=\"color: blue; \">11.4. マルチスレッディング</span>\n",
    "スレッド処理 (threading) とは、順序的な依存関係にない複数のタスクを分割するテクニックです。スレッドは、ユーザの入力を受け付けつつ、背後で別のタスクを動かすようなアプリケーションの応答性を高めます。同じような使用例として、I/O を別のスレッドの計算処理と並列して動作させるというものがあります。\n",
    "\n",
    "以下のコードでは、高水準のモジュール [threading](https://docs.python.org/ja/3.9/library/threading.html#module-threading) でメインのプログラムを動かしながら背後で別のタスクを動作させられるようにする方法を示しています:"
   ]
  },
  {
   "cell_type": "code",
   "execution_count": null,
   "metadata": {
    "deletable": false,
    "editable": false
   },
   "outputs": [],
   "source": [
    "import threading, zipfile\n",
    "\n",
    "class AsyncZip(threading.Thread):\n",
    "    def __init__(self, infile, outfile):\n",
    "        threading.Thread.__init__(self)\n",
    "        self.infile = infile\n",
    "        self.outfile = outfile\n",
    "\n",
    "    def run(self):\n",
    "        f = zipfile.ZipFile(self.outfile, 'w', zipfile.ZIP_DEFLATED)\n",
    "        f.write(self.infile)\n",
    "        f.close()\n",
    "        print('Finished background zip of:', self.infile)\n",
    "\n",
    "#background = AsyncZip('mydata.txt', 'myarchive.zip')\n",
    "background = AsyncZip('workfile2.txt', 'myarchive.zip')\n",
    "background.start()\n",
    "print('The main program continues to run in foreground.')\n",
    "\n",
    "background.join()    # Wait for the background task to finish\n",
    "print('Main program waited until background was done.')"
   ]
  },
  {
   "cell_type": "markdown",
   "metadata": {
    "deletable": false,
    "editable": false,
    "run_control": {
     "frozen": true
    }
   },
   "source": [
    "マルチスレッドアプリケーションを作る上で最も難しい問題は、データやリソースを共有するスレッド間の調整 (coordination)です。この問題を解決するため、[threading](https://docs.python.org/ja/3.9/library/threading.html#module-threading) モジュールではロックやイベント、状態変数、セマフォといった数々の同期プリミティブを提供しています。\n",
    "\n",
    "こうしたツールは強力な一方、ちょっとした設計上の欠陥で再現困難な問題を引き起こすことがあります。したがって、タスク間調整では [queue](https://docs.python.org/ja/3.9/library/queue.html#module-queue) モジュールを使って他の複数のスレッドからのリクエストを一つのスレッドに送り込み、一つのリソースへのアクセスをできるだけ一つのスレッドに集中させるほうが良いでしょう。スレッド間の通信や調整に [Queue](https://docs.python.org/ja/3.9/library/queue.html#queue.Queue) オブジェクトを使うと、設計が容易になり、可読性が高まり、信頼性が増します。"
   ]
  },
  {
   "cell_type": "markdown",
   "metadata": {
    "deletable": false,
    "editable": false,
    "run_control": {
     "frozen": true
    }
   },
   "source": [
    "## <span style=\"color: blue; \">11.5. ログ記録</span>\n",
    "<span style=\"color: red; \">[<span style=\"color: red; \">logging</span>](https://docs.python.org/ja/3.9/library/logging.html#module-logging) モジュールでは、数多くの機能をそなえた柔軟性のあるログ記録システムを提供しています</span>。最も簡単な使い方では、ログメッセージをファイルや `sys.stderr` に送信します:"
   ]
  },
  {
   "cell_type": "code",
   "execution_count": null,
   "metadata": {
    "deletable": false,
    "editable": false
   },
   "outputs": [],
   "source": [
    "import logging\n",
    "logging.debug('Debugging information')\n",
    "logging.info('Informational message')\n",
    "logging.warning('Warning:config file %s not found', 'server.conf')\n",
    "logging.error('Error occurred')\n",
    "logging.critical('Critical error -- shutting down')"
   ]
  },
  {
   "cell_type": "markdown",
   "metadata": {
    "deletable": false,
    "editable": false,
    "run_control": {
     "frozen": true
    }
   },
   "source": [
    "これは上記の出力を生成します:"
   ]
  },
  {
   "cell_type": "markdown",
   "metadata": {
    "deletable": false,
    "editable": false,
    "run_control": {
     "frozen": true
    }
   },
   "source": [
    "デフォルトでは、[info()](https://docs.python.org/ja/3.9/library/logging.html#logging.Logger.info) と [debug()](https://docs.python.org/ja/3.9/library/logging.html#logging.Logger.debug) による出力は抑制され、出力は標準エラーに送信されます。選択可能な送信先には、email、データグラム、ソケット、HTTP サーバへの送信などがあります。新たにフィルタを作成すると、DEBUG、INFO、WARNING、ERROR、CRITICAL といったメッセージのプライオリティによって異なる送信先を選択することができます。\n",
    "\n",
    "ログ記録システムは Python から直接設定することもできますし、アプリケーションを変更しなくてもカスタマイズできるよう、ユーザが編集可能な設定ファイルによって設定することもできます。"
   ]
  },
  {
   "cell_type": "markdown",
   "metadata": {
    "deletable": false,
    "editable": false,
    "run_control": {
     "frozen": true
    }
   },
   "source": [
    "## <span style=\"color: blue; \">11.6. 弱参照</span>\n",
    "Python は自動的にメモリを管理します (ほとんどのオブジェクトは参照カウント方式で管理し、 [ガベージコレクション](https://docs.python.org/ja/3.9/glossary.html#term-garbage-collection) で循環参照を除去します)。<span style=\"color: red; \">オブジェクトに対する最後の参照がなくなってしばらくするとメモリは解放されます</span>。\n",
    "\n",
    "このようなアプローチはほとんどのアプリケーションでうまく動作しますが、中にはオブジェクトをどこか別の場所で利用している間だけ追跡しておきたい場合もあります。残念ながら、オブジェクトを追跡するだけでオブジェクトに対する恒久的な参照を作ることになってしまいます。 [weakref](https://docs.python.org/ja/3.9/library/weakref.html#module-weakref) モジュールでは、オブジェクトへの参照を作らずに追跡するためのツールを提供しています。弱参照オブジェクトが不要になると、弱参照 (weakref) テーブルから自動的に除去され、コールバック関数がトリガされます。弱参照を使う典型的な応用例には、作成コストの大きいオブジェクトのキャッシュがあります:"
   ]
  },
  {
   "cell_type": "code",
   "execution_count": null,
   "metadata": {
    "deletable": false,
    "editable": false
   },
   "outputs": [],
   "source": [
    "import weakref, gc\n",
    "class A:\n",
    "    def __init__(self, value):\n",
    "        self.value = value\n",
    "    def __repr__(self):\n",
    "        return str(self.value)\n",
    "\n",
    "a = A(10)                   # create a reference\n",
    "d = weakref.WeakValueDictionary()\n",
    "d['primary'] = a            # does not create a reference\n",
    "#d['primary']                # fetch the object if it is still alive\n",
    "#[補足] d['primary']を実行するとdel a後も参照が残ってしまうので(jupyterの制限？）コメントアウト"
   ]
  },
  {
   "cell_type": "code",
   "execution_count": null,
   "metadata": {
    "deletable": false,
    "editable": false
   },
   "outputs": [],
   "source": [
    "del a                       # remove the one reference\n",
    "gc.collect()                # run garbage collection right away"
   ]
  },
  {
   "cell_type": "code",
   "execution_count": null,
   "metadata": {
    "deletable": false,
    "editable": false
   },
   "outputs": [],
   "source": [
    "d['primary']                # entry was automatically removed, KeyError!!"
   ]
  },
  {
   "cell_type": "markdown",
   "metadata": {
    "deletable": false,
    "editable": false,
    "run_control": {
     "frozen": true
    }
   },
   "source": [
    "## <span style=\"color: blue; \">11.7. リスト操作のためのツール</span>\n",
    "多くのデータ構造は、組み込みリスト型を使った実装で事足ります。とはいえ、時には組み込みリストとは違うパフォーマンス上のトレードオフを持つような実装が必要になこともあります。\n",
    "\n",
    "[array](https://docs.python.org/ja/3.9/library/array.html#module-array) (配列) モジュールでは、[array()](https://docs.python.org/ja/3.9/library/array.html#array.array) オブジェクトを提供しています。配列はリストに似ていますが、同じ形式のデータだけが保存でき、よりコンパクトに保存されます。以下の例では、通常 1 要素あたり 16 バイトを必要とする Python 整数型のリストの 代りに、2 バイトの符号無しの 2 進数 (タイプコード `\"H\"`) の配列を使っています:"
   ]
  },
  {
   "cell_type": "code",
   "execution_count": null,
   "metadata": {
    "deletable": false,
    "editable": false
   },
   "outputs": [],
   "source": [
    "from array import array\n",
    "a = array('H', [4000, 10, 700, 22222])\n",
    "sum(a)                  # 26932"
   ]
  },
  {
   "cell_type": "code",
   "execution_count": null,
   "metadata": {
    "deletable": false,
    "editable": false
   },
   "outputs": [],
   "source": [
    "a[1:3]"
   ]
  },
  {
   "cell_type": "markdown",
   "metadata": {
    "deletable": false,
    "editable": false,
    "run_control": {
     "frozen": true
    }
   },
   "source": [
    "[collections](https://docs.python.org/ja/3.9/library/collections.html#module-collections) モジュールでは、[deque()](https://docs.python.org/ja/3.9/library/collections.html#collections.deque) オブジェクトを提供しています。リスト型に似ていますが、データの追加と左端からの取り出しが速く、その一方で中間にある値の参照は遅くなります。こうしたオブジェクトはキューや木構造の幅優先探索の実装に向いています:"
   ]
  },
  {
   "cell_type": "code",
   "execution_count": null,
   "metadata": {
    "deletable": false,
    "editable": false
   },
   "outputs": [],
   "source": [
    "from collections import deque\n",
    "d = deque([\"task1\", \"task2\", \"task3\"])\n",
    "d.append(\"task4\")\n",
    "print(\"Handling\", d.popleft())       # Handling task1"
   ]
  },
  {
   "cell_type": "markdown",
   "metadata": {
    "deletable": false,
    "editable": false,
    "run_control": {
     "frozen": true
    }
   },
   "source": [
    "<span style=\"color: gray; \">［補足］このコードは実行させるには、追加関数が複数必要のためドキュメントのみとします</span>  \n",
    "***\n",
    "`unsearched = deque([starting_node])`  \n",
    "`def breadth_first_search(unsearched):`  \n",
    "`    node = unsearched.popleft()`  \n",
    "`    for m in gen_moves(node):`  \n",
    "`        if is_goal(m):`  \n",
    "`            return m`  \n",
    "`        unsearched.append(m)`  \n",
    "***"
   ]
  },
  {
   "cell_type": "markdown",
   "metadata": {
    "deletable": false,
    "editable": false,
    "run_control": {
     "frozen": true
    }
   },
   "source": [
    "リストの代わりの実装以外にも、標準ライブラリにはソート済みのリストを操作するための関数を備えた [bisect](https://docs.python.org/ja/3.9/library/bisect.html#module-bisect) のようなツールも提供しています:"
   ]
  },
  {
   "cell_type": "code",
   "execution_count": null,
   "metadata": {
    "deletable": false,
    "editable": false
   },
   "outputs": [],
   "source": [
    "import bisect\n",
    "scores = [(100, 'perl'), (200, 'tcl'), (400, 'lua'), (500, 'python')]\n",
    "bisect.insort(scores, (300, 'ruby'))\n",
    "scores"
   ]
  },
  {
   "cell_type": "markdown",
   "metadata": {
    "deletable": false,
    "editable": false,
    "run_control": {
     "frozen": true
    }
   },
   "source": [
    "[heapq](https://docs.python.org/ja/3.9/library/heapq.html#module-heapq) モジュールは、通常のリストでヒープを実装するための関数を提供しています。ヒープでは、最も低い値をもつエントリがつねにゼロの位置に配置されます。ヒープは、毎回リストをソートすることなく、最小の値をもつ要素に繰り返しアクセスするようなアプリケーションで便利です:"
   ]
  },
  {
   "cell_type": "code",
   "execution_count": null,
   "metadata": {
    "deletable": false,
    "editable": false
   },
   "outputs": [],
   "source": [
    "from heapq import heapify, heappop, heappush\n",
    "data = [1, 3, 5, 7, 9, 2, 4, 6, 8, 0]\n",
    "heapify(data)                      # rearrange the list into heap order\n",
    "heappush(data, -5)                 # add a new entry\n",
    "[heappop(data) for i in range(3)]  # fetch the three smallest entries, [-5, 0, 1]"
   ]
  },
  {
   "cell_type": "markdown",
   "metadata": {
    "deletable": false,
    "editable": false,
    "run_control": {
     "frozen": true
    }
   },
   "source": [
    "## <span style=\"color: blue; \">11.8. 10 進浮動小数演算</span>\n",
    "<span style=\"color: red; \">[<span style=\"color: red; \">decimal</span>](https://docs.python.org/ja/3.9/library/decimal.html#module-decimal) モジュールでは、 10 進浮動小数の算術演算をサポートする [<span style=\"color: red; \">Decimal</span>](https://docs.python.org/ja/3.9/library/decimal.html#decimal.Decimal) データ型を提供しています</span>。組み込みの 2 進浮動小数の実装である [float](https://docs.python.org/ja/3.9/library/functions.html#float) に比べて、このクラスがとりわけ便利なのは、以下の場合です\n",
    "\n",
    "財務アプリケーションやその他の正確な10進表記が必要なアプリケーション、\n",
    "精度の制御、\n",
    "法的または規制上の理由に基づく値丸めの制御、\n",
    "有効桁数の追跡が必要になる場合\n",
    "ユーザが手計算の結果と同じ演算結果を期待するようなアプリケーション。\n",
    "例えば、70 セントの電話代にかかる 5% の税金を計算しようとすると、10 進の浮動小数点値と 2 進の浮動小数点値では違う結果になってしまいます。計算結果を四捨五入してセント単位にしようとすると、以下のように違いがはっきり現れます:"
   ]
  },
  {
   "cell_type": "code",
   "execution_count": null,
   "metadata": {
    "deletable": false,
    "editable": false
   },
   "outputs": [],
   "source": [
    "from decimal import *\n",
    "round(Decimal('0.70') * Decimal('1.05'), 2)  # Decimal('0.74')"
   ]
  },
  {
   "cell_type": "code",
   "execution_count": null,
   "metadata": {
    "deletable": false,
    "editable": false
   },
   "outputs": [],
   "source": [
    "round(.70 * 1.05, 2)    # 0.73"
   ]
  },
  {
   "cell_type": "markdown",
   "metadata": {
    "deletable": false,
    "editable": false,
    "run_control": {
     "frozen": true
    }
   },
   "source": [
    "上の例で、[Decimal](https://docs.python.org/ja/3.9/library/decimal.html#decimal.Decimal) を使った計算では、末尾桁のゼロが保存されており、有効数字2桁の被乗数から自動的に有効数字を 4 桁と判断しています。[Decimal](https://docs.python.org/ja/3.9/library/decimal.html#decimal.Decimal) は手計算と 同じ方法で計算を行い、2 進浮動小数が 10 進小数成分を正確に表現できないことに よって起きる問題を回避しています。\n",
    "\n",
    "[Decimal](https://docs.python.org/ja/3.9/library/decimal.html#decimal.Decimal) クラスは厳密な値を表現できるため、2 進浮動小数点数では 期待通りに計算できないような剰余の計算や等値テストも実現できます:"
   ]
  },
  {
   "cell_type": "code",
   "execution_count": null,
   "metadata": {
    "deletable": false,
    "editable": false
   },
   "outputs": [],
   "source": [
    "Decimal('1.00') % Decimal('.10')   # Decimal('0.00')"
   ]
  },
  {
   "cell_type": "code",
   "execution_count": null,
   "metadata": {
    "deletable": false,
    "editable": false
   },
   "outputs": [],
   "source": [
    "1.00 % 0.10       # = 0.09999999999999995"
   ]
  },
  {
   "cell_type": "code",
   "execution_count": null,
   "metadata": {
    "deletable": false,
    "editable": false
   },
   "outputs": [],
   "source": [
    "sum([Decimal('0.1')]*10) == Decimal('1.0')  # True"
   ]
  },
  {
   "cell_type": "code",
   "execution_count": null,
   "metadata": {
    "deletable": false,
    "editable": false
   },
   "outputs": [],
   "source": [
    "sum([0.1]*10) == 1.0    # False"
   ]
  },
  {
   "cell_type": "markdown",
   "metadata": {
    "deletable": false,
    "editable": false,
    "run_control": {
     "frozen": true
    }
   },
   "source": [
    "[decimal](https://docs.python.org/ja/3.9/library/decimal.html#module-decimal) モジュールを使うと、必要なだけの精度で算術演算を行えます:"
   ]
  },
  {
   "cell_type": "code",
   "execution_count": null,
   "metadata": {
    "deletable": false,
    "editable": false
   },
   "outputs": [],
   "source": [
    "getcontext().prec = 36\n",
    "Decimal(1) / Decimal(7)"
   ]
  },
  {
   "cell_type": "markdown",
   "metadata": {
    "deletable": false,
    "editable": false,
    "run_control": {
     "frozen": true
    }
   },
   "source": [
    "# <span style=\"color: blue; \">12. 仮想環境とパッケージ<a id='anchor12'></span>\n",
    "## <span style=\"color: blue; \">12.1. はじめに</span>\n",
    "Python アプリケーションはよく標準ライブラリ以外のパッケージやモジュールを利用します。またアプリケーションがあるバグ修正を必要としていたり、過去のバージョンのインターフェイスに依存しているために、ライブラリの特定のバージョンを必要とすることもあります。\n",
    "\n",
    "そのため、1つのインストールされたPythonが全てのアプリケーションの要求に対応することは不可能です。もしアプリケーションAがあるモジュールのバージョン 1.0 を要求していて、別のアプリケーションBが同じモジュールのバージョン 2.0 を要求している場合、2つの要求は衝突していて、1.0 と 2.0 のどちらかのバージョンをインストールしても片方のアプリケーションが動きません。\n",
    "\n",
    "この問題の解決策は [仮想環境](https://docs.python.org/ja/3.9/glossary.html#term-virtual-environment) を作ることです。仮想環境とは、特定のバージョンの Python と幾つかの追加パッケージを含んだ Python インストールを構成するディレクトリです。\n",
    "\n",
    "別のアプリケーションはそれぞれ別の仮想環境を使うことができます。先の例にあった要求の衝突を解決する場合、アプリケーションAが固有の仮想環境を持ってそこにライブラリのバージョン 1.0 をインストールし、アプリケーションBが持つ別の仮想環境にライブラリのバージョン 2.0 をインストールすることができます。そしてアプリケーションBがライブラリのバージョンを 3.0 に更新することを要求する場合も、アプリケーションAに影響しません。"
   ]
  },
  {
   "cell_type": "markdown",
   "metadata": {
    "deletable": false,
    "editable": false,
    "run_control": {
     "frozen": true
    }
   },
   "source": [
    "## <span style=\"color: blue; \">12.2. 仮想環境の作成</span>\n",
    "仮想環境の作成と管理を行うためのモジュールが [venv](https://docs.python.org/ja/3.9/library/venv.html#module-venv) です。 [venv](https://docs.python.org/ja/3.9/library/venv.html#module-venv) は通常利用可能なもっとも新しいバージョンの Python をインストールします。複数のバージョンの Python がインストールされている場合、 `python3` のように利用したいバージョンを指定して実行することで Python バージョンを選択できます。\n",
    "\n",
    "仮想環境を作るには、仮想環境を置くディレクトリを決めて、 そのディレクトリのパスを指定して、 `venv` をスクリプトとして実行します:  \n",
    "***\n",
    "`python3 -m venv tutorial-env`\n",
    "***\n",
    "これは `tutorial-env` ディレクトリがなければ作成して、その中に Python インタプリタ、標準ライブラリ、その他関連するファイルを含むサブディレクトリを作ります。\n",
    "\n",
    "仮想環境の一般的なディレクトリの場所は `.venv` です。この名前は、通常はシェルで隠されているため、ディレクトリが存在する理由を説明する名前を付けても、邪魔にはなりません。また、一部のツールでサポートされている `.env` 環境変数定義ファイルによるクラッシュも防止します。"
   ]
  },
  {
   "cell_type": "markdown",
   "metadata": {
    "deletable": false,
    "editable": false,
    "run_control": {
     "frozen": true
    }
   },
   "source": [
    "仮想環境を作ったら、それを有効化する必要があります。\n",
    "\n",
    "Windows の場合:  \n",
    "***\n",
    "`tutorial-env\\Scripts\\activate.bat`  \n",
    "***\n",
    "Unix や Mac OS の場合:  \n",
    "`source tutorial-env/bin/activate`  \n",
    "***\n",
    "(このスクリプトは bash shell で書かれています。 **csh** や **fish** を利用している場合、代わりに利用できる `activate.csh` と `activate.fish` スクリプトがあります。)\n",
    "\n",
    "仮想環境を有効化すると、シェルのプロンプトに利用中の仮想環境が表示されるようになり、`python` を実行するとその仮想環境の Python を実行するようになります:  \n",
    "***\n",
    "`$ source ~/envs/tutorial-env/bin/activate`  \n",
    "`(tutorial-env) $ python`  \n",
    "`Python 3.5.1 (default, May  6 2016, 10:59:36)`  \n",
    "`  ...`  \n",
    "`>>> import sys`  \n",
    "`>>> sys.path`  \n",
    "`['', '/usr/local/lib/python35.zip', ...,`  \n",
    "`'~/envs/tutorial-env/lib/python3.5/site-packages']`  \n",
    "`>>>`  \n",
    "***"
   ]
  },
  {
   "cell_type": "markdown",
   "metadata": {
    "deletable": false,
    "editable": false,
    "run_control": {
     "frozen": true
    }
   },
   "source": [
    "## <span style=\"color: blue; \">12.3. pip を使ったパッケージ管理</span>\n",
    "**pip** と呼ばれるプログラムを使って、パッケージのインストール、アップグレード、削除ができます。デフォルトでは、`pip` は Python パッケージインデックス <[https://pypi.org](https://pypi.org)> からパッケージをインストールします。ウェブブラウザで Python パッケージインデックスを参照したり、`pip` の限定的な検索機能を使うことができます。\n",
    "***\n",
    "`(tutorial-env) \\$ pip search astronomy`  \n",
    "`skyfield               - Elegant astronomy for Python`  \n",
    "`gary                   - Galactic astronomy and gravitational dynamics.`  \n",
    "`novas                  - The United States Naval Observatory NOVAS astronomy library`  \n",
    "`astroobs               - Provides astronomy ephemeris to plan telescope observations`  \n",
    "`PyAstronomy            - A collection of astronomy related tools for Python.`  \n",
    "`...`  \n",
    "***"
   ]
  },
  {
   "cell_type": "markdown",
   "metadata": {},
   "source": [
    "`pip` は \"search\", \"install\", \"uninstall\", \"freeze\" など、いくつかのサブコマンドを持っています。 (`pip` の完全なドキュメントは [Python モジュールのインストール](https://docs.python.org/ja/3.9/installing/index.html#installing-index) ガイドを参照してください。)\n",
    "\n",
    "パッケージ名を指定してそのパッケージの最新版をインストールすることができます:  \n",
    "***\n",
    "`(tutorial-env) $ python -m pip install novas`  \n",
    "`Collecting novas`  \n",
    "`  Downloading novas-3.1.1.3.tar.gz (136kB)`  \n",
    "`Installing collected packages: novas`  \n",
    "`  Running setup.py install for novas`  \n",
    "`Successfully installed novas-3.1.1.3`  \n",
    "***\n",
    "パッケージ名のあとに `==` とバージョン番号を付けることで、特定のバージョンのパッケージをインストールすることもできます:  \n",
    "***\n",
    "`(tutorial-env) $ python -m pip install requests==2.6.0`  \n",
    "`Collecting requests==2.6.0`  \n",
    "`  Using cached requests-2.6.0-py2.py3-none-any.whl`  \n",
    "`Installing collected packages: requests`  \n",
    "`Successfully installed requests-2.6.0`  \n",
    "***"
   ]
  },
  {
   "cell_type": "markdown",
   "metadata": {
    "deletable": false,
    "editable": false,
    "run_control": {
     "frozen": true
    }
   },
   "source": [
    "同じコマンドを再び実行した場合、`pip` は要求されたバージョンがインストール済みだと表示して何もしません。別のバージョン番号を指定すればそのバージョンをインストールしますし、`pip install --upgrade` を実行すればそのパッケージを最新版に更新します:  \n",
    "***\n",
    "`(tutorial-env) $ python -m pip install --upgrade requests`  \n",
    "`Collecting requests`  \n",
    "`Installing collected packages: requests`  \n",
    "`  Found existing installation: requests 2.6.0`  \n",
    "`    Uninstalling requests-2.6.0:`  \n",
    "`      Successfully uninstalled requests-2.6.0`  \n",
    "`Successfully installed requests-2.7.0`  \n",
    "***\n",
    "`pip uninstall` コマンドに削除するパッケージ名を1つ以上指定します。  \n",
    "  \n",
    "`pip show` は指定されたパッケージの情報を表示します:  \n",
    "***\n",
    "`(tutorial-env) $ pip show requests`  \n",
    "`---`  \n",
    "`Metadata-Version: 2.0`  \n",
    "`Name: requests`  \n",
    "`Version: 2.7.0`  \n",
    "`Summary: Python HTTP for Humans.`  \n",
    "`Home-page: http://python-requests.org`  \n",
    "`Author: Kenneth Reitz`  \n",
    "`Author-email: me@kennethreitz.com`  \n",
    "`License: Apache 2.0`  \n",
    "`Location: /Users/akuchling/envs/tutorial-env/lib/python3.4/site-packages`  \n",
    "`Requires:`  \n",
    "***  "
   ]
  },
  {
   "cell_type": "markdown",
   "metadata": {
    "deletable": false,
    "editable": false,
    "run_control": {
     "frozen": true
    }
   },
   "source": [
    "`pip list` は仮想環境にインストールされた全てのパッケージを表示します:  \n",
    "***\n",
    "`(tutorial-env) $ pip list`  \n",
    "`novas (3.1.1.3)`  \n",
    "`numpy (1.9.2)`  \n",
    "`pip (7.0.3)`  \n",
    "`requests (2.7.0)`  \n",
    "`setuptools (16.0)`  \n",
    "***\n",
    "`pip freeze` はインストールされたパッケージ一覧を、`pip install` が解釈するフォーマットで生成します。一般的な慣習として、このリストを `requirements.txt` というファイルに保存します:  \n",
    "***\n",
    "`(tutorial-env) $ pip freeze > requirements.txt`  \n",
    "`(tutorial-env) $ cat requirements.txt`  \n",
    "`novas==3.1.1.3`  \n",
    "`numpy==1.9.2`  \n",
    "`requests==2.7.0`  \n",
    "***  \n",
    "`requirements.txt` をバージョン管理システムにコミットして、アプリケーションの一部として配布することができます。ユーザーは必要なパッケージを `install -r` でインストールできます:  \n",
    "***\n",
    "`(tutorial-env) $ python -m pip install -r requirements.txt`  \n",
    "`Collecting novas==3.1.1.3 (from -r requirements.txt (line 1))`  \n",
    "`  ...`  \n",
    "`Collecting numpy==1.9.2 (from -r requirements.txt (line 2))`  \n",
    "`  ...`  \n",
    "`Collecting requests==2.7.0 (from -r requirements.txt (line 3))`  \n",
    "`  ...`  \n",
    "`Installing collected packages: novas, numpy, requests`  \n",
    "`  Running setup.py install for novas`  \n",
    "`Successfully installed novas-3.1.1.3 numpy-1.9.2 requests-2.7.0`  \n",
    "***\n",
    "`pip` にはたくさんのオプションがあります。 `pip` の完全なドキュメントは [Python モジュールのインストール](https://docs.python.org/ja/3.9/installing/index.html#installing-index) を参照してください。パッケージを作成してそれを Python Package Index で公開したい場合、 [Python モジュールの配布](https://docs.python.org/ja/3.9/distributing/index.html#distributing-index) ガイドを参照してください。\n"
   ]
  },
  {
   "cell_type": "markdown",
   "metadata": {},
   "source": [
    "# <span style=\"color: blue; \">13. さあ何を？<a id='anchor13'></span>\n",
    "このチュートリアルを読んだことで、おそらく Python を使ってみようという関心はますます強くなったことでしょう --- 現実世界の問題を解決するために、Python を適用してみたくなったはずです。さて、それではどこで勉強をしたらよいのでしょうか？\n",
    "\n",
    "このチュートリアルは Python のドキュメンテーションセットの一部です。セットの中の他のドキュメンテーションをいくつか紹介します:\n",
    "\n",
    "+ [Python 標準ライブラリ](https://docs.python.org/ja/3.9/library/index.html#library-index):\n",
    "\n",
    "このマニュアルをざっと眺めておくと便利です。このマニュアルは型、関数、標準ライブラリのモジュールについての完全なリファレンスです。標準的なPython配布物は たくさんの 追加コードを含んでいます。Unix メールボックスの読み込み、HTTPによるドキュメント取得、乱数の生成、コマンドラインオプションの構文解析、CGIプログラムの作成、データ圧縮やその他たくさんのタスクのためのモジュールがあります。ライブラリリファレンスをざっと見ることで、何が利用できるかのイメージをつかむことができます。\n",
    "+ [Python モジュールのインストール](https://docs.python.org/ja/3.9/installing/index.html#installing-index) は、他のPythonユーザによって書かれた追加モジュールをどうやってインストールするかを説明しています。\n",
    "+ [Python 言語リファレンス](https://docs.python.org/ja/3.9/reference/index.html#reference-index): Pythonの文法とセマンティクスを詳しく説明しています。読むのは大変ですが、言語の完全なガイドとして有用です。  \n",
    "\n",
    "さらなる Python に関するリソース:\n",
    "\n",
    "+ [https://www.python.org](https://www.python.org): メインの Python Web サイト。このサイトには、コード、ドキュメント、そして Web のあちこちの Python に関連したページへのポインタがあります。この Web サイトは世界のあちこちのさまざまな場所、例えばヨーロッパ、日本、オーストラリアなどでミラーされています。地理的な位置によっては、メインのサイトよりミラーのほうが速いかもしれません。\n",
    "+ https://docs.python.org(https://docs.python.org/3/): Pythonドキュメントへの素早いアクセスを提供します。\n",
    "+ https://pypi.org(https://pypi.org): Python パッケージインデックス、以前は Cheese Shop [[1]](https://docs.python.org/ja/3.9/tutorial/whatnow.html#id2) という愛称でも呼ばれていました。これは、ユーザ作成のダウンロードできる Python モジュールの索引です。コードのリリースをしたら、ここに登録することで他の人が見つけられます。\n",
    "+ [https://code.activestate.com/recipes/langs/python/](https://code.activestate.com/recipes/langs/python/): Python クックブックはコード例、モジュール、実用的なスクリプトの巨大なコレクションです。主要なものは同名の本Python Cookbook (O'Reilly & Associates, ISBN 0-596-00797-3)に収録されています。\n",
    "+ [http://www.pyvideo.org](https://pyvideo.org) は学会やユーザグループの会合から Python 関連のビデオのリンクを集めています。\n",
    "+ [https://scipy.org](https://scipy.org): Scientific Python プロジェクトは配列の高速な計算・操作モジュールに加え、線形代数、フーリエ変換、非線形ソルバー、乱数分布、統計分析などの多くのパッケージを提供しています。 \n",
    "  \n",
    "Python 関連の質問や問題の報告については、ニュースグループ _comp.lang.python_ に投稿するか、またはメーリングリスト [python-list@python.org](mailto:python-list@python.org) に送ることができます。ニュースグループとメーリングリストはゲートウェイされます。したがって、片方に投稿されたメッセージは、もう片方へ自動的に転送されます。質問(と回答)、新しい機能の提案、新しいモジュールの発表などで、1日に数百通の投稿があります。メーリングリストのアーカイブは [https://mail.python.org/pipermail/](https://mail.python.org/pipermail/) で利用可能です。\n",
    "  \n",
    "投稿の前に、必ず よくある質問 (FAQとも呼ばれます) のリストをチェックしてください。 FAQ は繰り返し取り上げられる多くの質問に答えています。あなたの問題に対する解決が既に含まれているかもしれません。"
   ]
  },
  {
   "cell_type": "markdown",
   "metadata": {
    "deletable": false,
    "editable": false,
    "run_control": {
     "frozen": true
    }
   },
   "source": [
    "# <span style=\"color: blue; \">14. 対話入力編集と履歴置換<a id='anchor14'></span>\n",
    "いくつかのバージョンの Python インタプリタでは、Korn シェルや GNU Bash シェルに見られる機能に似た、現在の入力行に対する編集機能や履歴置換機能をサポートしています。この機能は様々な編集スタイルをサポートしている、[GNU Readline](https://tiswww.case.edu/php/chet/readline/rltop.html) ライブラリを使って実装されています。このライブラリには独自のドキュメントがあり、ここでそれを繰り返すつもりはありません。\n",
    "\n",
    "14.1. タブ補完と履歴編集\n",
    "変数とモジュール名の補完はインタプリタの起動時に [自動的に有効化されます](https://docs.python.org/ja/3.9/library/site.html#rlcompleter-config) 。 従って Tab キーは補完機能を呼び出し、Python の文の名前、現在のローカル変数、および利用可能なモジュール名を検索します。`string.a` のようなドットで区切られた式については、最後の `'.'` までの式を評価し、結果として得られたオブジェクトの属性から補完候補を示します。 [__getattr__()](https://docs.python.org/ja/3.9/reference/datamodel.html#object.__getattr__) メソッドを持ったオブジェクトが式に含まれている場合、 [__getattr__()](https://docs.python.org/ja/3.9/reference/datamodel.html#object.__getattr__) がアプリケーション定義のコードを実行するかもしれないので注意してください。デフォルトの設定ではあなたのユーザーディレクトリの `.python_history` という名前のファイルに履歴を保存します。 履歴は次の対話的なインタプリタのセッションで再び利用することができます。\n",
    "\n",
    "## <span style=\"color: blue; \">14.2. 対話的インタープリタの代替</span>\n",
    "この機能は、初期の版のインタープリタに比べれば大きな進歩です。とはいえ、まだいくつかの要望が残されています。例えば、行を継続するときに正しいインデントが提示されたら快適でしょう (パーサは次の行でインデントトークンが必要かどうかを知っています)。補完機構がインタープリタのシンボルテーブルを使ってもよいかもしれません。括弧やクォートなどの対応をチェックする (あるいは指示する) コマンドも有用でしょう。\n",
    "\n",
    "より優れた対話的インタープリタの代替の一つに [IPython](https://ipython.org) があります。このインタープリタは、様々なところで使われていて、タブ補完、オブジェクト探索や先進的な履歴管理といった機能を持っています。他のアプリケーションにカスタマイズされたり、組込まれこともあります。別の優れたインタラクティブ環境としては [bpython](https://www.bpython-interpreter.org) があります。"
   ]
  },
  {
   "cell_type": "markdown",
   "metadata": {
    "deletable": false,
    "editable": false,
    "run_control": {
     "frozen": true
    }
   },
   "source": [
    "# <span style=\"color: blue; \">15. 浮動小数点演算、その問題と制限<a id='anchor15'></span>\n",
    "浮動小数点数は、計算機ハードウェアの中では、基数を 2 とする (2進法の) 分数として表現されています。例えば、小数"
   ]
  },
  {
   "cell_type": "code",
   "execution_count": null,
   "metadata": {
    "deletable": false,
    "editable": false
   },
   "outputs": [],
   "source": [
    "0.125"
   ]
  },
  {
   "cell_type": "markdown",
   "metadata": {
    "deletable": false,
    "editable": false,
    "run_control": {
     "frozen": true
    }
   },
   "source": [
    "は、 1/10 + 2/100 + 5/1000 という値を持ちますが、これと同様に、2 進法の分数"
   ]
  },
  {
   "cell_type": "code",
   "execution_count": null,
   "metadata": {
    "deletable": false,
    "editable": false
   },
   "outputs": [],
   "source": [
    "0.001"
   ]
  },
  {
   "cell_type": "markdown",
   "metadata": {
    "deletable": false,
    "editable": false,
    "run_control": {
     "frozen": true
    }
   },
   "source": [
    "は 0/2 + 0/4 + 1/8 という値になります。これら二つの分数は同じ値を持っていますが、ただ一つ、最初の分数は基数 10 で記述されており、二番目の分数は基数 2 で記述されていることが違います。\n",
    "\n",
    "残念なことに、ほとんどの小数は 2 進法の分数として正確に表わすことができません。その結果、一般に、入力した 10 進の浮動小数点数は、 2 進法の浮動小数点数で近似された後、実際にマシンに記憶されます。\n",
    "\n",
    "最初は基数 10 を使うと問題を簡単に理解できます。分数 1/3 を考えてみましょう。分数 1/3 は、基数 10 の分数として、以下のように近似することができます:  \n",
    "***\n",
    "`0.3`\n",
    "***\n",
    "さらに正確な近似は、  \n",
    "***\n",
    "`0.33`\n",
    "***\n",
    "さらに正確な近似は、 \n",
    "***\n",
    "`0.333`\n",
    "***\n",
    "となり、以後同様です。何個桁数を増やして書こうが、結果は決して厳密な 1/3 にはなりません。しかし、少しづつ正確な近似にはなっていくでしょう。\n",
    "\n",
    "同様に、基数を 2 とした表現で何桁使おうとも、10 進数の 0.1 は基数を 2 とした小数で正確に表現することはできません。基数 2 では、1/10 は循環小数 (repeating fraction) となります  \n",
    "***\n",
    "`0.0001100110011001100110011001100110011001100110011...`\n",
    "***\n",
    "  \n",
    "どこか有限の桁で止めると、近似値を得ることになります。近年の殆どのコンピュータでは float 型は、最上位ビットから数えて最初の 53 ビットを分子、2 の冪乗を分母とした、二進小数で近似されます。1/10 の場合は、二進小数は `3602879701896397 / 2 ** 55` となります。これは、1/10 に近いですが、厳密に同じ値ではありません。\n",
    "\n",
    "値が表示される方法のために、ほとんどのユーザは、近似に気づきません。Python はマシンに格納されている二進近似値の10進小数での近似値を表示するので、格納されている値が元の10進小数の近似値でしか無いことを忘れがちです。ほとんどのマシンで、もし Python が2進数で近似された 0.1 の近似値をそのまま10進数で表示していたら、その結果は次のようになったでしょう  \n",
    "***\n",
    "`>>> 0.1`  \n",
    "`0.1000000000000000055511151231257827021181583404541015625`  \n",
    "***  \n",
    "これは、ほとんどの人が必要と感じるよりも多すぎる桁数です。なので、Python は丸めた値を表示することで、桁数を扱いやすい範囲にとどめます  "
   ]
  },
  {
   "cell_type": "code",
   "execution_count": null,
   "metadata": {
    "deletable": false,
    "editable": false
   },
   "outputs": [],
   "source": [
    "1 / 10"
   ]
  },
  {
   "cell_type": "markdown",
   "metadata": {
    "deletable": false,
    "editable": false,
    "run_control": {
     "frozen": true
    }
   },
   "source": [
    "表示された結果が正確に 1/10 であるように見えたとしても、実際に格納されている値は最も近く表現できる二進小数であるということだけは覚えておいてください。\n",
    "\n",
    "幾つかの異なる10進数の値が、同じ2進有理数の近似値を共有しています。例えば、`0.1` と `0.10000000000000001` と `0.1000000000000000055511151231257827021181583404541015625` はどれも `3602879701896397 / 2 ** 55` に近似されます。同じ近似値を共有しているので、どの10進数の値も `eval(repr(x)) == x` という条件を満たしたまま同じように表示されます。\n",
    "\n",
    "昔の Python は、プロンプトと [repr()](https://docs.python.org/ja/3.9/library/functions.html#repr) ビルトイン関数は 17 桁の有効数字を持つ `0.10000000000000001` のような10進数の値を選んで表示していました。 Python 3.1 からは、ほとんどの場面で `0.1` のような最も短い桁数の10進数の値を選ぶようになりました。\n",
    "\n",
    "この動作は2進数の浮動小数点にとってはごく自然なものです。これは Python のバグではありませんし、あなたのコードのバグでもありません。ハードウェアの浮動小数点演算をサポートしている全ての言語で同じ種類の問題を見つけることができます (いくつかの言語ではデフォルトの、あるいはどの出力モードを選んでも、この差を 表示 しないかもしれませんが)。\n",
    "\n",
    "よりよい出力のために、文字列フォーマットを利用して有効桁数を制限した10進数表現を得ることができます:"
   ]
  },
  {
   "cell_type": "code",
   "execution_count": null,
   "metadata": {
    "deletable": false,
    "editable": false
   },
   "outputs": [],
   "source": [
    "import math\n",
    "format(math.pi, '.12g')  # give 12 significant digits"
   ]
  },
  {
   "cell_type": "code",
   "execution_count": null,
   "metadata": {
    "deletable": false,
    "editable": false
   },
   "outputs": [],
   "source": [
    "format(math.pi, '.2f')   # give 2 digits after the point"
   ]
  },
  {
   "cell_type": "code",
   "execution_count": null,
   "metadata": {
    "deletable": false,
    "editable": false
   },
   "outputs": [],
   "source": [
    "repr(math.pi)"
   ]
  },
  {
   "cell_type": "markdown",
   "metadata": {
    "deletable": false,
    "editable": false,
    "run_control": {
     "frozen": true
    }
   },
   "source": [
    "これが、実際のコンピューター上の値の 表示 を丸めているだけの、いわば錯覚だということを認識しておいてください。\n",
    "\n",
    "もう一つの錯覚を紹介します。例えば、<span style=\"color: red; \">0.1 が正確には 1/10 ではないために、それを3回足した値もまた正確には 0.3 ではありません</span>:"
   ]
  },
  {
   "cell_type": "code",
   "execution_count": null,
   "metadata": {
    "deletable": false,
    "editable": false
   },
   "outputs": [],
   "source": [
    ".1 + .1 + .1 == .3      # false  0.1+0.1+0.1 = 0.30000000000000004"
   ]
  },
  {
   "cell_type": "markdown",
   "metadata": {
    "deletable": false,
    "editable": false,
    "run_control": {
     "frozen": true
    }
   },
   "source": [
    "0.1 はこれ以上 1/10 に近くなることができない値で、 0.3 もまた 3/10 に一番近い値なので、 [round()](https://docs.python.org/ja/3.9/library/functions.html#round) 関数を使って計算前に丸めを行なっても意味がありません:"
   ]
  },
  {
   "cell_type": "code",
   "execution_count": null,
   "metadata": {
    "deletable": false,
    "editable": false
   },
   "outputs": [],
   "source": [
    "round(.1, 1) + round(.1, 1) + round(.1, 1) == round(.3, 1) # False"
   ]
  },
  {
   "cell_type": "markdown",
   "metadata": {
    "deletable": false,
    "editable": false,
    "run_control": {
     "frozen": true
    }
   },
   "source": [
    "数字が正確な値に最も近い値になっているとはいえ、 [round()](https://docs.python.org/ja/3.9/library/functions.html#round) 関数を使って計算後の値を丸めることで、不正確な代わりに他の値と比較できるようになる事があります:"
   ]
  },
  {
   "cell_type": "code",
   "execution_count": null,
   "metadata": {
    "deletable": false,
    "editable": false
   },
   "outputs": [],
   "source": [
    "round(.1 + .1 + .1, 10) == round(.3, 10)  # True"
   ]
  },
  {
   "cell_type": "markdown",
   "metadata": {
    "deletable": false,
    "editable": false,
    "run_control": {
     "frozen": true
    }
   },
   "source": [
    "2 進の浮動小数点数に対する算術演算は、このような意外性をたくさん持っています。 \"0.1\" に関する問題は、以下の \"表現エラー\" の章で詳細に説明します。 2 進法の浮動小数点演算にともなうその他のよく知られた意外な事象に関しては [The Perils of Floating Point](http://www.lahey.com/float.htm) を参照してください。\n",
    "\n",
    "究極的にいうと、\"容易な答えはありません\"。ですが、浮動小数点数のことを過度に警戒しないでください！ Python の float 型操作におけるエラーは浮動小数点処理ハードウェアから受けついたものであり、ほとんどのマシン上では一つの演算あたり高々 2\\*\\*53 分の 1 です。この誤差はほとんどの作業で充分以上のものですが、浮動小数点演算は 10 進の演算ではなく、浮動小数点の演算を新たに行うと、新たな丸め誤差の影響を受けることを心にとどめておいてください。\n",
    "\n",
    "異常なケースが存在する一方で、普段の浮動小数点演算の利用では、単に最終的な結果の値を必要な 10 進の桁数に丸めて表示するのなら、最終的には期待通りの結果を得ることになるでしょう。たいては [str()](https://docs.python.org/ja/3.9/library/stdtypes.html#str) で十分ですが、きめ細かな制御をしたければ、 [書式指定文字列の文法](https://docs.python.org/ja/3.9/library/string.html#formatstrings) にある [str.format()](https://docs.python.org/ja/3.9/library/stdtypes.html#str.format) メソッドのフォーマット仕様を参照してください。\n",
    "\n",
    "正確な10進数表現が必要となるような場合には、 [decimal](https://docs.python.org/ja/3.9/library/decimal.html#module-decimal) モジュールを利用してみてください。このモジュールは会計アプリケーションや高精度の計算が求められるアプリケーションに適した、10進数の計算を実装しています。\n",
    "\n",
    "別の正確な計算方法として、 [fractions](https://docs.python.org/ja/3.9/library/fractions.html#module-fractions) モジュールが有理数に基づく計算を実装しています (1/3 のような数を正確に表すことができます)。\n",
    "\n",
    "あなたが浮動小数点演算のヘビーユーザーなら、SciPy プロジェクトが提供している Numerical Python パッケージやその他の数学用パッケージを調べてみるべきです。 <[https://scipy.org](https://scipy.org)> を参照してください。\n",
    "\n",
    "Python は _本当に_ float の正確な値が必要なレアケースに対応するためのツールを提供しています。 [float.as_integer_ratio()](https://docs.python.org/ja/3.9/library/stdtypes.html#float.as_integer_ratio) メソッドは float の値を有理数として表現します:"
   ]
  },
  {
   "cell_type": "code",
   "execution_count": null,
   "metadata": {
    "deletable": false,
    "editable": false
   },
   "outputs": [],
   "source": [
    "x = 3.14159\n",
    "x.as_integer_ratio()    # (3537115888337719, 1125899906842624)"
   ]
  },
  {
   "cell_type": "markdown",
   "metadata": {
    "deletable": false,
    "editable": false,
    "run_control": {
     "frozen": true
    }
   },
   "source": [
    "この分数は正確なので、元の値を完全に復元することができます:"
   ]
  },
  {
   "cell_type": "code",
   "execution_count": null,
   "metadata": {
    "deletable": false,
    "editable": false
   },
   "outputs": [],
   "source": [
    "x == 3537115888337719 / 1125899906842624   # True"
   ]
  },
  {
   "cell_type": "markdown",
   "metadata": {
    "deletable": false,
    "editable": false,
    "run_control": {
     "frozen": true
    }
   },
   "source": [
    "[float.hex()](https://docs.python.org/ja/3.9/library/stdtypes.html#float.hex) メソッドは float の値を16進数で表現します。この値もコンピューターが持っている正確な値を表現できます:"
   ]
  },
  {
   "cell_type": "code",
   "execution_count": null,
   "metadata": {
    "deletable": false,
    "editable": false
   },
   "outputs": [],
   "source": [
    "x.hex()        # '0x1.921f9f01b866ep+1'"
   ]
  },
  {
   "cell_type": "markdown",
   "metadata": {
    "deletable": false,
    "editable": false,
    "run_control": {
     "frozen": true
    }
   },
   "source": [
    "この正確な16進数表現はもとの float 値を正確に復元するために使うことができます:"
   ]
  },
  {
   "cell_type": "code",
   "execution_count": null,
   "metadata": {
    "deletable": false,
    "editable": false
   },
   "outputs": [],
   "source": [
    "x == float.fromhex('0x1.921f9f01b866ep+1')    #  True"
   ]
  },
  {
   "cell_type": "markdown",
   "metadata": {
    "deletable": false,
    "editable": false,
    "run_control": {
     "frozen": true
    }
   },
   "source": [
    "この16進数表現は正確なので、値を (プラットフォームにも依存せず) バージョンの異なるPython 間でやり取りしたり、他のこのフォーマットをサポートした言語 (Java や C99 など) と正確にやり取りするのに利用することができます。\n",
    "\n",
    "別の便利なツールとして、合計処理における精度のロスを緩和してくれる [math.fsum()](https://docs.python.org/ja/3.9/library/math.html#math.fsum) 関数があります。この関数は値を合計値に足し込みながら、 \"失われた桁\" を管理します。これにより、誤差が最終的な合計値に影響を与えるまで蓄積されなくなり、結果が改善されます:"
   ]
  },
  {
   "cell_type": "code",
   "execution_count": null,
   "metadata": {
    "deletable": false,
    "editable": false
   },
   "outputs": [],
   "source": [
    "sum([0.1] * 10) == 1.0     # False"
   ]
  },
  {
   "cell_type": "code",
   "execution_count": null,
   "metadata": {
    "deletable": false,
    "editable": false
   },
   "outputs": [],
   "source": [
    "math.fsum([0.1] * 10) == 1.0   # True"
   ]
  },
  {
   "cell_type": "markdown",
   "metadata": {
    "deletable": false,
    "editable": false,
    "run_control": {
     "frozen": true
    }
   },
   "source": [
    "## <span style=\"color: blue; \">15.1. 表現エラー</span>\n",
    "この章では、\"0.1\" の例について詳細に説明し、このようなケースに対してどのようにすれば正確な分析を自分で行えるかを示します。ここでは、 2 進法表現の浮動小数点数についての基礎的な知識があるものとして話を進めます。\n",
    "\n",
    "表現エラー(_Representation error_)は、いくつかの (実際にはほとんどの) 10 進の小数が 2 進法 (基数 2)の分数として表現できないという事実に関係しています。これは Python (あるいは Perl, C, C++, Java, Fortran. およびその他多く) が期待通りの正確な 10 進数を表示できない主要な理由です。\n",
    "\n",
    "なぜこうなるのでしょうか？ 1/10 は 2 進法の小数で厳密に表現することができません。今日 (2000年11月) のマシンは、ほとんどすべて IEEE-754 浮動小数点演算を使用しており、ほとんどすべてのプラットフォームでは Python の浮動小数点を IEEE-754 における \"倍精度(double precision)\" に対応付けます。754 の double には 53 ビットの精度を持つ数が入るので、計算機に入力を行おうとすると、可能な限り 0.1 を最も近い値の分数に変換し、_J/2\\*\\*N_ の形式にしようと努力します。_J_ はちょうど 53 ビットの精度の整数です\n",
    "  \n",
    "***\n",
    "`1 / 10 ~= J / (2**N)`\n",
    "***  \n",
    "を書き直すと\n",
    "***\n",
    "`J ~= 2**N / 10`\n",
    "***\n",
    "となります。 _J_ は厳密に 53 ビットの精度を持っている (`>= 2**52` だが `< 2**53` ) ことを思い出すと、 _N_ として最適な値は 56 になります:"
   ]
  },
  {
   "cell_type": "code",
   "execution_count": null,
   "metadata": {
    "deletable": false,
    "editable": false
   },
   "outputs": [],
   "source": [
    "2**52 <=  2**56 // 10  < 2**53    # True"
   ]
  },
  {
   "cell_type": "markdown",
   "metadata": {
    "deletable": false,
    "editable": false,
    "run_control": {
     "frozen": true
    }
   },
   "source": [
    "すなわち、56 は _J_ をちょうど 53 ビットの精度のままに保つ _N_ の唯一の値です。_J_ の取りえる値はその商を丸めたものです:"
   ]
  },
  {
   "cell_type": "code",
   "execution_count": null,
   "metadata": {
    "deletable": false,
    "editable": false
   },
   "outputs": [],
   "source": [
    "q, r = divmod(2**56, 10)\n",
    "r                          # = 6"
   ]
  },
  {
   "cell_type": "markdown",
   "metadata": {
    "deletable": false,
    "editable": false,
    "run_control": {
     "frozen": true
    }
   },
   "source": [
    "剰余が 10 の半分以上なので、最良の近似は切り上げて丸めたものになります。"
   ]
  },
  {
   "cell_type": "code",
   "execution_count": null,
   "metadata": {
    "deletable": false,
    "editable": false
   },
   "outputs": [],
   "source": [
    "q+1                        # 7205759403792794"
   ]
  },
  {
   "cell_type": "markdown",
   "metadata": {
    "deletable": false,
    "editable": false,
    "run_control": {
     "frozen": true
    }
   },
   "source": [
    "従って、754 倍精度における 1/10 の取りえる最良の近似は:"
   ]
  },
  {
   "cell_type": "code",
   "execution_count": null,
   "metadata": {
    "deletable": false,
    "editable": false
   },
   "outputs": [],
   "source": [
    "7205759403792794 / 2 ** 56"
   ]
  },
  {
   "cell_type": "markdown",
   "metadata": {
    "deletable": false,
    "editable": false,
    "run_control": {
     "frozen": true
    }
   },
   "source": [
    "分子と分母を2で割って分数を小さくします:"
   ]
  },
  {
   "cell_type": "code",
   "execution_count": null,
   "metadata": {
    "deletable": false,
    "editable": false
   },
   "outputs": [],
   "source": [
    "3602879701896397 / 2 ** 55"
   ]
  },
  {
   "cell_type": "markdown",
   "metadata": {
    "deletable": false,
    "editable": false,
    "run_control": {
     "frozen": true
    }
   },
   "source": [
    "丸めたときに切り上げたので、この値は実際には 1/10 より少し大きいことに注目してください。 もし切り捨てをした場合は、商は 1/10 よりもわずかに小さくなります。どちらにしろ _厳密な_ 1/10 ではありません！\n",
    "\n",
    "つまり、計算機は 1/10 を \"理解する\" ことは決してありません。計算機が理解できるのは、上記のような厳密な分数であり、 754 の倍精度浮動小数点数で得られるもっともよい近似は以下になります:"
   ]
  },
  {
   "cell_type": "code",
   "execution_count": null,
   "metadata": {
    "deletable": false,
    "editable": false
   },
   "outputs": [],
   "source": [
    "0.1 * 2 ** 55         # 3602879701896397.0"
   ]
  },
  {
   "cell_type": "markdown",
   "metadata": {
    "deletable": false,
    "editable": false,
    "run_control": {
     "frozen": true
    }
   },
   "source": [
    "この分数に 10\\*\\*55 を掛ければ、55 桁の十進数の値を見ることができます:"
   ]
  },
  {
   "cell_type": "code",
   "execution_count": null,
   "metadata": {
    "deletable": false,
    "editable": false
   },
   "outputs": [],
   "source": [
    "3602879701896397 * 10 ** 55 // 2 ** 55"
   ]
  },
  {
   "cell_type": "markdown",
   "metadata": {
    "deletable": false,
    "editable": false,
    "run_control": {
     "frozen": true
    }
   },
   "source": [
    "これは、計算機が記憶している正確な数値が、10 進数値 0.1000000000000000055511151231257827021181583404541015625 にほぼ等しいということです。多くの言語 (古いバージョンの Python を含む) では、完全な 10 進値を表示するのではなく、結果を有効数字 17 桁に丸めます:"
   ]
  },
  {
   "cell_type": "code",
   "execution_count": null,
   "metadata": {
    "deletable": false,
    "editable": false
   },
   "outputs": [],
   "source": [
    "format(0.1, '.17f')"
   ]
  },
  {
   "cell_type": "markdown",
   "metadata": {
    "deletable": false,
    "editable": false,
    "run_control": {
     "frozen": true
    }
   },
   "source": [
    "[fractions](https://docs.python.org/ja/3.9/library/fractions.html#module-fractions) モジュールと [decimal](https://docs.python.org/ja/3.9/library/decimal.html#module-decimal) モジュールを使うとこれらの計算を簡単に行えます:"
   ]
  },
  {
   "cell_type": "code",
   "execution_count": null,
   "metadata": {
    "deletable": false,
    "editable": false
   },
   "outputs": [],
   "source": [
    "from decimal import Decimal\n",
    "from fractions import Fraction\n",
    "\n",
    "Fraction.from_float(0.1)   # Fraction(3602879701896397, 36028797018963968)"
   ]
  },
  {
   "cell_type": "code",
   "execution_count": null,
   "metadata": {
    "deletable": false,
    "editable": false
   },
   "outputs": [],
   "source": [
    "(0.1).as_integer_ratio()   # (3602879701896397, 36028797018963968)"
   ]
  },
  {
   "cell_type": "code",
   "execution_count": null,
   "metadata": {
    "deletable": false,
    "editable": false
   },
   "outputs": [],
   "source": [
    "Decimal.from_float(0.1)"
   ]
  },
  {
   "cell_type": "code",
   "execution_count": null,
   "metadata": {
    "deletable": false,
    "editable": false
   },
   "outputs": [],
   "source": [
    "format(Decimal.from_float(0.1), '.17')   # '0.10000000000000001'"
   ]
  },
  {
   "cell_type": "markdown",
   "metadata": {
    "deletable": false,
    "editable": false,
    "run_control": {
     "frozen": true
    }
   },
   "source": [
    "# <span style=\"color: blue; \">16. 付録<a id='anchor16'></span>\n",
    "## <span style=\"color: blue; \">16.1. 対話モード</span>\n",
    "### <span style=\"color: blue; \">16.1.1. エラー処理</span>\n",
    "エラーが発生すると、インタプリタはエラーメッセージとスタックトレース (stack trace) を出力します。対話モードにいるときは、インタプリタは一次プロンプトに戻ります; スクリプトをファイルから実行しているときは、インタプリタはスタックトレースを出力した後、非ゼロの終了ステータスで終了します。 ([try](https://docs.python.org/ja/3.9/reference/compound_stmts.html#try) 文の [except](https://docs.python.org/ja/3.9/reference/compound_stmts.html#except) 節で処理された例外は、ここでいうエラーにはあたりません。) いくつかのエラーは常に致命的であり、非ゼロの終了ステータスとなるプログラムの終了を引き起こします。例えばインタプリタ内部の矛盾やある種のメモリ枯渇が当てはまります。エラーメッセージは全て標準エラー出力に書き込まれます; これに対して、通常は実行した命令から出力される内容は標準出力に書き込まれます。\n",
    "\n",
    "割り込み文字 (interrupt character、普通は Control-C か Delete) を一次または二次プロンプトに対してタイプすると、入力が取り消されて一次プロンプトに戻ります。 [[1]](https://docs.python.org/ja/3.9/tutorial/appendix.html#id2) コマンドの実行中に割り込み文字をタイプすると [KeyboardInterrupt](https://docs.python.org/ja/3.9/library/exceptions.html#KeyboardInterrupt) 例外が送出されます。この例外は [try](https://docs.python.org/ja/3.9/reference/compound_stmts.html#try) 文で処理できます。\n",
    "\n"
   ]
  },
  {
   "cell_type": "markdown",
   "metadata": {
    "deletable": false,
    "editable": false,
    "run_control": {
     "frozen": true
    }
   },
   "source": [
    "### <span style=\"color: blue; \">16.1.2. 実行可能な Python スクリプト</span>\n",
    "BSD 風の Unix システムでは、Python スクリプトはシェルスクリプトのように直接実行可能にできます。これを行うには、以下の行  \n",
    "***\n",
    "`#!/usr/bin/env python3.9`\n",
    "***\n",
    "(ここではインタプリタがユーザの PATH 上にあると仮定しています) をスクリプトの先頭に置き、スクリプトファイルに実行可能モードを設定します。 `#!` はファイルの最初の２文字でなければなりません。プラットフォームによっては、この最初の行を終端する改行文字が Windows 形式 (`'\\r\\n'`) ではなく、 Unix形式(`'\\n'`)でなければならないことがあります。ハッシュまたはポンド文字、すなわち `'#'` は、Python ではコメントを書き始めるために使われていることに注意してください。 \n",
    "  \n",
    "**chmod** コマンドを使えば、スクリプトに実行モードや実行権限を与えることができます。  \n",
    "***\n",
    "`$ chmod +x myscript.py`\n",
    "***\n",
    "Windows では、\"実行モード\" のような概念はありません。Python のインストーラーは自動的に `.py` ファイルを `python.exe` に関連付けるので、Python ファイルをダブルクリックするとそれをスクリプトとして実行します。`.pyw` 拡張子も(訳注: `pythonw.exe` に)関連付けられ、通常コンソールウィンドウを抑制して実行します。"
   ]
  },
  {
   "cell_type": "markdown",
   "metadata": {
    "deletable": false,
    "editable": false,
    "run_control": {
     "frozen": true
    }
   },
   "source": [
    "### <span style=\"color: blue; \">16.1.3. 対話モード用の起動時実行ファイル</span>\n",
    "Python を対話的に使うときには、インタプリタが起動する度に実行される何らかの標準的なコマンドがあると便利なことがよくあります。これを行うには、 [PYTHONSTARTUP](https://docs.python.org/ja/3.9/using/cmdline.html#envvar-PYTHONSTARTUP) と呼ばれる環境変数を、インタプリタ起動時に実行されるコマンドが入ったファイル名に設定します。この機能は Unix シェルの `.profile` に似ています。  \n",
    "  \n",
    "このファイルは対話セッションのときだけ読み出されます。 Python がコマンドをスクリプトから読み出しているときや、 `/dev/tty` がコマンドの入力元として明示的に指定されている(この場合対話的セッションのように動作します) わけではない 場合にはこのファイルは読み出されません。ファイル内のコマンドは、対話的コマンドが実行される名前空間と同じ名前空間内で実行されます。このため、ファイル内で定義されていたり import されたオブジェクトは、そのまま対話セッション内で使うことができます。また、このファイル内で `sys.ps1` や `sys.ps2` を変更して、プロンプトを変更することもできます。  \n",
    "  \n",
    "もし現在のディレクトリから追加でスタートアップファイルを読み出したいのなら、グローバルのスタートアップファイルの中に `if os.path.isfile('.pythonrc.py'): exec(open('.pythonrc.py').read())` のようなプログラムを書くことができます。スクリプト中でスタートアップファイルを使いたいのなら、以下のようにしてスクリプト中で明示的に実行しなければなりません:"
   ]
  },
  {
   "cell_type": "code",
   "execution_count": null,
   "metadata": {
    "deletable": false,
    "editable": false
   },
   "outputs": [],
   "source": [
    "import os\n",
    "filename = os.environ.get('PYTHONSTARTUP')\n",
    "if filename and os.path.isfile(filename):\n",
    "    with open(filename) as fobj:\n",
    "        startup_file = fobj.read()\n",
    "    exec(startup_file)"
   ]
  },
  {
   "cell_type": "markdown",
   "metadata": {
    "deletable": false,
    "editable": false,
    "run_control": {
     "frozen": true
    }
   },
   "source": [
    "### <span style=\"color: blue; \">16.1.4. カスタマイズ用モジュール</span>\n",
    "Python はユーザーが Python をカスタマイズするための2つのフック、 sitecustomize と usercustomize を提供しています。これがどのように動作しているかを知るには、まずはユーザーの site-packages ディレクトリの場所を見つける必要があります。Python を起動して次のコードを実行してください:"
   ]
  },
  {
   "cell_type": "code",
   "execution_count": null,
   "metadata": {
    "deletable": false,
    "editable": false
   },
   "outputs": [],
   "source": [
    "import site\n",
    "site.getusersitepackages()"
   ]
  },
  {
   "cell_type": "markdown",
   "metadata": {
    "deletable": false,
    "editable": false,
    "run_control": {
     "frozen": true
    }
   },
   "source": [
    "`usercustomize.py` をそのディレクトリに作成して、そこでやりたいことをすべて書くことができます。このファイルは自動インポートを無効にする [-s](https://docs.python.org/ja/3.9/using/cmdline.html#cmdoption-s) オプションを使わない限り、全ての Python の起動時に実行されます。\n",
    "\n",
    "sitecustomize モジュールも同じように動作しますが、一般的にコンピューターの管理者によって、グローバルの site-packages ディレクトリに作成され、 usercustomize より先にインポートされます。詳細は [site](https://docs.python.org/ja/3.9/library/site.html#module-site) モジュールのドキュメントを参照してください。"
   ]
  }
 ],
 "metadata": {
  "kernelspec": {
   "display_name": "Python 3",
   "language": "python",
   "name": "python3"
  },
  "language_info": {
   "codemirror_mode": {
    "name": "ipython",
    "version": 3
   },
   "file_extension": ".py",
   "mimetype": "text/x-python",
   "name": "python",
   "nbconvert_exporter": "python",
   "pygments_lexer": "ipython3",
   "version": "3.7.8"
  },
  "toc": {
   "base_numbering": 1,
   "nav_menu": {},
   "number_sections": true,
   "sideBar": true,
   "skip_h1_title": false,
   "title_cell": "Table of Contents",
   "title_sidebar": "Contents",
   "toc_cell": false,
   "toc_position": {},
   "toc_section_display": true,
   "toc_window_display": true
  }
 },
 "nbformat": 4,
 "nbformat_minor": 4
}
